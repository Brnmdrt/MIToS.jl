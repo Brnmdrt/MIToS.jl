{
 "cells": [
  {
   "outputs": [],
   "cell_type": "markdown",
   "source": [
    "# Change B-factors\n",
    "\n",
    "\n",
    "\n",
    "## Problem description\n",
    "\n",
    "It is a common practice to change the B-factors of a PDB to store information\n",
    "about atoms or residues to be used by other programs. In particular, values\n",
    "in the B-factor column can be easily used to colour residues with\n",
    "[PyMOL](https://pymolwiki.org/index.php/Color#B-Factors) or\n",
    "[Chimera](https://www.cgl.ucsf.edu/chimera/docs/UsersGuide/tutorials/bfactor.html).\n",
    "\n",
    "We cannot simply assign a new value to the `B` field of a `PDBAtom` because\n",
    "this type is immutable. However, we can make use of the `@set` macro of the\n",
    "[Setfield](https://github.com/jw3126/Setfield.jl) package to create a new\n",
    "`PDBAtom` with a different B-factor value.\n",
    "\n",
    "In a PDB file, B-factors are stored from the column 61 to 66. Therefore, new\n",
    "B-factors should be a `String` with 6 or fewer characters, normally using two\n",
    "characters for decimal values. We can use `fmt` and `FormatSpec` from the\n",
    "[Formatting](https://github.com/JuliaIO/Formatting.jl) package to create a\n",
    "proper B-factor string.\n",
    "\n",
    "## MIToS solution\n",
    "\n",
    "For this example we are going to use the small heat shock protein AgsA from\n",
    "*Salmonella typhimurium* (PDB code: *4ZJ9*) available in MIToS docs data:"
   ],
   "metadata": {}
  },
  {
   "outputs": [],
   "cell_type": "code",
   "source": [
    "using MIToS\n",
    "pdbfile = abspath(pathof(MIToS), \"..\", \"..\", \"docs\", \"data\", \"4zj9.pdb\")"
   ],
   "metadata": {},
   "execution_count": null
  },
  {
   "outputs": [],
   "cell_type": "markdown",
   "source": [
    "First, we need to read the PDB file using the `MIToS.PDB` module:"
   ],
   "metadata": {}
  },
  {
   "outputs": [],
   "cell_type": "code",
   "source": [
    "using MIToS.PDB\n",
    "residues = read(pdbfile, PDBFile)"
   ],
   "metadata": {},
   "execution_count": null
  },
  {
   "outputs": [],
   "cell_type": "markdown",
   "source": [
    "..."
   ],
   "metadata": {}
  },
  {
   "outputs": [],
   "cell_type": "markdown",
   "source": [
    "## Further details"
   ],
   "metadata": {}
  },
  {
   "outputs": [],
   "cell_type": "markdown",
   "source": [
    "*This notebook was generated using [Literate.jl](https://github.com/fredrikekre/Literate.jl).*"
   ],
   "metadata": {}
  }
 ],
 "nbformat_minor": 3,
 "metadata": {
  "language_info": {
   "file_extension": ".jl",
   "mimetype": "application/julia",
   "name": "julia",
   "version": "1.0.4"
  },
  "kernelspec": {
   "name": "julia-1.0",
   "display_name": "Julia 1.0.4",
   "language": "julia"
  }
 },
 "nbformat": 4
}
