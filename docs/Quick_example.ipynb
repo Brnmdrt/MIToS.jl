{
 "cells": [
  {
   "cell_type": "markdown",
   "metadata": {
    "collapsed": true
   },
   "source": [
    "# Quick Example"
   ]
  },
  {
   "cell_type": "code",
   "execution_count": null,
   "metadata": {
    "collapsed": true
   },
   "outputs": [],
   "source": []
  },
  {
   "cell_type": "code",
   "execution_count": 1,
   "metadata": {
    "collapsed": false
   },
   "outputs": [],
   "source": [
    "using MIToS.Pfam"
   ]
  },
  {
   "cell_type": "code",
   "execution_count": 2,
   "metadata": {
    "collapsed": false
   },
   "outputs": [
    {
     "name": "stderr",
     "output_type": "stream",
     "text": [
      "  % Total    % Received % Xferd  Average Speed   Time    Time     Time  Current\n",
      "                                 Dload  Upload   Total   Spent    Left  Speed\n",
      "100  6675  100  6675    0     0   7543      0 --:--:-- --:--:-- --:--:--  7550\n"
     ]
    },
    {
     "data": {
      "text/plain": [
       "\"PF10660.stockholm.gz\""
      ]
     },
     "execution_count": 2,
     "metadata": {},
     "output_type": "execute_result"
    }
   ],
   "source": [
    "pfam_file = downloadpfam(\"PF10660\")"
   ]
  },
  {
   "cell_type": "code",
   "execution_count": 3,
   "metadata": {
    "collapsed": false
   },
   "outputs": [
    {
     "data": {
      "text/plain": [
       "161x64 MIToS.MSA.AnnotatedMultipleSequenceAlignment:\n",
       " -  -  -  -  -  -  L  L  Q  D  G  V  A  …  L  G  Q  K  V  -  -  -  -  -  -  -\n",
       " -  -  -  -  -  -  -  -  -  -  -  -  -     A  Y  K  K  F  F  S  K  G  -  -  -\n",
       " -  -  -  -  -  -  -  -  -  -  -  -  -     A  V  R  P  F  L  P  K  K  K  Q  Q\n",
       " M  E  S  V  A  R  I  V  K  V  Q  L  P     A  V  R  P  F  L  P  K  K  K  Q  Q\n",
       " M  E  S  I  A  R  V  I  K  V  Q  L  P     A  I  R  P  F  L  P  K  K  K  Q  Q\n",
       " M  E  S  V  A  R  I  V  K  V  Q  L  P  …  A  V  R  P  F  F  P  K  K  K  Q  Q\n",
       " -  -  -  -  -  -  -  -  -  -  -  -  -     A  Y  K  S  L  C  C  K  D  K  C  -\n",
       " M  E  S  I  S  K  I  I  K  I  Q  L  P     T  I  R  P  F  L  P  K  K  K  K  Q\n",
       " M  E  A  I  A  K  L  I  K  V  Q  L  P     T  Y  K  F  F  Q  P  K  A  -  -  -\n",
       " M  N  V  L  Q  S  I  V  R  V  H  I  P     -  -  -  -  -  -  -  -  -  -  -  -\n",
       " M  E  P  I  A  H  L  V  K  V  S  V  P  …  S  Y  R  A  F  C  P  R  -  -  -  -\n",
       " -  -  -  -  -  -  -  -  -  -  -  -  -     A  Y  K  K  F  M  V  K  E  K  R  -\n",
       " -  -  -  -  -  -  -  -  -  -  -  -  -     A  Y  K  K  F  F  S  K  D  K  C  -\n",
       " ⋮              ⋮              ⋮        ⋱           ⋮              ⋮         \n",
       " M  E  T  L  S  G  L  V  K  T  T  L  P     -  -  -  -  -  -  -  -  -  -  -  -\n",
       " M  E  S  V  S  S  L  V  K  I  H  I  P  …  T  Y  R  T  I  K  P  K  Q  -  -  -\n",
       " -  -  -  -  -  -  -  -  -  -  -  -  -     A  Y  K  K  I  L  S  K  D  K  C  -\n",
       " M  Q  S  L  S  H  A  V  K  T  S  L  P     S  Y  Q  A  L  C  P  A  A  Q  R  -\n",
       " M  E  P  I  S  H  L  V  K  S  S  L  P     A  Y  L  A  Y  C  P  A  A  R  -  -\n",
       " -  -  S  I  S  A  I  L  S  L  S  L  P     A  I  R  P  F  L  P  K  K  K  Q  Q\n",
       " -  -  -  -  -  -  -  -  -  -  -  -  -  …  A  Y  K  K  F  I  S  K  D  K  C  -\n",
       " -  -  -  -  -  -  -  -  -  -  -  -  -     A  Y  K  K  F  Y  V  K  E  N  R  -\n",
       " -  -  -  -  -  -  -  -  -  -  -  -  -     A  Y  K  R  F  Y  V  K  D  H  R  -\n",
       " -  -  -  -  -  -  -  -  -  -  -  -  -     A  Y  K  K  F  Y  V  K  D  H  R  N\n",
       " M  Y  F  V  S  N  V  V  K  V  T  I  P     S  Y  Q  T  I  -  -  -  -  -  -  -\n",
       " M  E  P  I  S  H  L  V  K  S  S  L  P  …  A  Y  L  A  F  C  P  A  A  Q  C  -"
      ]
     },
     "execution_count": 3,
     "metadata": {},
     "output_type": "execute_result"
    }
   ],
   "source": [
    "msa = read(pfam_file, Stockholm, generatemapping=true, useidcoordinates=true)"
   ]
  },
  {
   "cell_type": "code",
   "execution_count": 4,
   "metadata": {
    "collapsed": true
   },
   "outputs": [],
   "source": [
    "using MIToS.Information"
   ]
  },
  {
   "cell_type": "code",
   "execution_count": 5,
   "metadata": {
    "collapsed": false
   },
   "outputs": [
    {
     "data": {
      "text/plain": [
       "64x64 PairwiseListMatrices.PairwiseListMatrix{Float64,false}:\n",
       " NaN            2.00202     0.370611   …   -0.949167    -0.19214     0.409587\n",
       "   2.00202    NaN           1.66692         0.944833     1.21099    -1.70194 \n",
       "   0.370611     1.66692   NaN               2.39856      1.51212    -3.45127 \n",
       "   0.787129    -0.293133    0.802537       -0.343933    -1.99601    -1.88131 \n",
       "   0.416167     2.08115     2.94079        -0.515293    -1.88983    -3.85155 \n",
       "  -1.37792     -1.05022     2.79428    …    1.5281      -0.606449   -5.2679  \n",
       "  -0.148853     1.74419    -0.227799       -1.17885     -0.105458   -2.59341 \n",
       "   1.0119       0.215756    1.68324        -3.24732     -1.38722    -2.16825 \n",
       "   1.91955      1.32067    -2.21439         2.34303      1.29836    -2.42536 \n",
       "  -0.490729    -1.04559     0.845312       -0.0712589    1.68655    -4.20322 \n",
       "  -1.03959      1.79098    -0.284931   …    1.69832     -0.482122   -4.53354 \n",
       "   0.89294      1.91281    -1.67676         2.98042      1.01977    -1.27777 \n",
       "   2.49994     -0.403646    0.3675         -1.97765     -1.32903    -0.316471\n",
       "   ⋮                                   ⋱                                     \n",
       "  -0.939813    -0.859723    2.35013         1.28741      0.387951   -0.491554\n",
       "  -0.267256    -1.66529    -2.6344         -0.551779     0.682498    3.64128 \n",
       "  -1.77724      1.10715     2.81503        -1.6705      -2.9869      0.660336\n",
       "  -1.1257      -1.14102     0.365021   …    0.375562     1.12448     1.72714 \n",
       "  -0.96671      0.594912    1.44333        -1.36861     -1.24083    -3.85358 \n",
       "  -1.42536     -1.94967     2.23393         0.591457    -0.618984    1.97936 \n",
       "  -0.763897    -1.38144    -3.15663         2.43046      3.33845     1.57306 \n",
       "   0.0457284    0.707656    0.0332229       2.4262      -0.966643   -2.14215 \n",
       "  -0.888536    -0.927638    0.113416   …   -1.01351     -1.77634    -0.504092\n",
       "  -0.949167     0.944833    2.39856       NaN           -2.64887     2.26415 \n",
       "  -0.19214      1.21099     1.51212        -2.64887    NaN          -0.64937 \n",
       "   0.409587    -1.70194    -3.45127         2.26415     -0.64937   NaN       "
      ]
     },
     "execution_count": 5,
     "metadata": {},
     "output_type": "execute_result"
    }
   ],
   "source": [
    "ZBLMIp, BLMIp = BLMI(msa)\n",
    "ZBLMIp"
   ]
  },
  {
   "cell_type": "code",
   "execution_count": 6,
   "metadata": {
    "collapsed": true
   },
   "outputs": [],
   "source": [
    "## ...scripts... shell console"
   ]
  },
  {
   "cell_type": "code",
   "execution_count": 7,
   "metadata": {
    "collapsed": false
   },
   "outputs": [],
   "source": [
    ";BLMI.jl -f PF14972.stockholm.gz"
   ]
  },
  {
   "cell_type": "code",
   "execution_count": 8,
   "metadata": {
    "collapsed": false
   },
   "outputs": [
    {
     "name": "stdout",
     "output_type": "stream",
     "text": [
      "# MIToS 0.1.1+ BLMI.jl 2016-02-26T02:21:07\n",
      "# used arguments:\n",
      "# \tlist\t\tnothing\n",
      "# \tformat\t\tstockholm\n",
      "# \tthreshold\t\t0.62\n",
      "# \tapc\t\ttrue\n",
      "# \tmaxgap\t\t0.5\n",
      "# \tsamples\t\t50\n",
      "# \tfile\t\tPF14972.stockholm.gz\n",
      "# \tfixedgaps\t\ttrue\n",
      "# \tbeta\t\t8.512\n",
      "i,j,ZBLMIp,BLMIp\n",
      "1,2,-.7004979287302624,-.10773158935175786\n",
      "1,3,-1.2705630050564432,-.14636730384499808\n",
      "1,4,.011154688282294722,-.004889231952564216\n",
      "1,5,-.2676871957834277,-.03250207598779911\n",
      "1,6,.7673531754724379,.041348234477362855\n",
      "1,7,-1.2539399615584093,-.14679683902400162\n",
      "1,8,.10805836461787835,-.022688091751868172\n",
      "1,9,-.46031183144933563,-.05100794737701467\n"
     ]
    }
   ],
   "source": [
    ";head -20 PF14972.stockholm.BLMI.csv"
   ]
  },
  {
   "cell_type": "code",
   "execution_count": null,
   "metadata": {
    "collapsed": true
   },
   "outputs": [],
   "source": []
  }
 ],
 "metadata": {
  "kernelspec": {
   "display_name": "Julia 0.4.2",
   "language": "julia",
   "name": "julia-0.4"
  },
  "language_info": {
   "file_extension": ".jl",
   "mimetype": "application/julia",
   "name": "julia",
   "version": "0.4.2"
  }
 },
 "nbformat": 4,
 "nbformat_minor": 0
}
