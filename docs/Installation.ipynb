{
 "cells": [
  {
   "cell_type": "markdown",
   "metadata": {},
   "source": [
    "# Installation\n",
    "\n",
    "The MIToS' stable version can be installed from the [Julia REPL <span class=\"fa fa-external-link\" aria-hidden=\"true\"></span>](http://docs.julialang.org/en/stable/manual/getting-started/) using the [Julia’s package manager <span class=\"fa fa-external-link\" aria-hidden=\"true\"></span>](http://docs.julialang.org/en/stable/manual/packages/#adding-and-removing-packages).  \n",
    "\n",
    "```julia\n",
    "Pkg.add(\"MIToS\")\n",
    "```\n",
    "\n",
    "If everything goes well with the installation, MIToS will be loaded without errors by typing on the Julia REPL:  \n",
    "\n",
    "```julia \n",
    "using MIToS\n",
    "``` \n",
    "\n",
    "You can do an exhaustive test of your installed version of MIToS with:  \n",
    "\n",
    "```julia\n",
    "Pkg.test(\"MIToS\")\n",
    "```"
   ]
  },
  {
   "cell_type": "markdown",
   "metadata": {},
   "source": [
    "## Location of scripts\n",
    "\n",
    "The scripts are located on the homonymous folder inside the MIToS’ folder. It’s possible to ask Julia for the location of the installed package using `Pkg.dir`  "
   ]
  },
  {
   "cell_type": "code",
   "execution_count": 1,
   "metadata": {
    "collapsed": false
   },
   "outputs": [
    {
     "data": {
      "text/plain": [
       "\"/home/dzea/.julia/v0.4/MIToS/scripts\""
      ]
     },
     "execution_count": 1,
     "metadata": {},
     "output_type": "execute_result"
    }
   ],
   "source": [
    "joinpath(Pkg.dir(\"MIToS\"), \"scripts\")"
   ]
  },
  {
   "cell_type": "markdown",
   "metadata": {},
   "source": [
    "You might want to add this folder into your `PATH` to easily access MIToS’ scripts.  \n",
    "\n",
    "### How to add the script folder to `PATH` in Bash?\n",
    "\n",
    "You can do it by adding the path of the MIToS script folder into the `~/.bashrc` file: "
   ]
  },
  {
   "cell_type": "code",
   "execution_count": 2,
   "metadata": {
    "collapsed": false
   },
   "outputs": [],
   "source": [
    "open(joinpath(homedir(), \".bashrc\"), \"r+\") do fh\n",
    "    path_to_scripts = joinpath(Pkg.dir(\"MIToS\"), \"scripts\")\n",
    "    if all(line -> !contains(line, path_to_scripts), eachline(fh))\n",
    "        println(fh, \"export PATH=\\\"\\$PATH:\", path_to_scripts, \"\\\"\")\n",
    "    end\n",
    "end"
   ]
  },
  {
   "cell_type": "code",
   "execution_count": 3,
   "metadata": {
    "collapsed": false
   },
   "outputs": [
    {
     "name": "stdout",
     "output_type": "stream",
     "text": [
      "export PATH=\"$PATH:/home/dzea/.julia/v0.4/MIToS/scripts\"\n"
     ]
    }
   ],
   "source": [
    ";tail -1 ~/.bashrc"
   ]
  }
 ],
 "metadata": {
  "kernelspec": {
   "display_name": "Julia 0.4.2",
   "language": "julia",
   "name": "julia-0.4"
  },
  "language_info": {
   "file_extension": ".jl",
   "mimetype": "application/julia",
   "name": "julia",
   "version": "0.4.2"
  }
 },
 "nbformat": 4,
 "nbformat_minor": 0
}
