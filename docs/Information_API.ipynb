{
 "cells": [
  {
   "cell_type": "markdown",
   "metadata": {},
   "source": [
    "# Information API\n",
    "\n",
    "- [Types](#Types)\n",
    "    - [Pseudocounts](#Pseudocounts)\n",
    "    - [Contingency tables](#Contingency-tables)\n",
    "    - [Information-measures](#Information-measures)\n",
    "    - [Imported from MIToS.MSA](#Imported-from-MIToS.MSA)\n",
    "- [Constants](#Constants)\n",
    "- [Methods](#Methods)\n",
    "    - [Working with Contingency tables](#Working-with-Contingency-tables)\n",
    "    - [Estimate](#Estimate)\n",
    "    - [Measures](#Measures)"
   ]
  },
  {
   "cell_type": "code",
   "execution_count": 6,
   "metadata": {
    "collapsed": true
   },
   "outputs": [],
   "source": [
    "using MIToS.Information"
   ]
  },
  {
   "cell_type": "code",
   "execution_count": 7,
   "metadata": {
    "collapsed": false
   },
   "outputs": [
    {
     "name": "stderr",
     "output_type": "stream",
     "text": [
      "WARNING: both DataArrays and StatsBase export \"autocor\"; uses of it in module DataFrames must be qualified\n",
      "WARNING: both DataArrays and StatsBase export \"inverse_rle\"; uses of it in module DataFrames must be qualified\n",
      "WARNING: both DataArrays and StatsBase export \"rle\"; uses of it in module DataFrames must be qualified\n"
     ]
    },
    {
     "data": {
      "text/latex": [
       "No documentation found.\n",
       "\\texttt{MIToS.Information} is of type \\texttt{Module}:\n",
       "\\textbf{Summary:}\n",
       "\\begin{verbatim}\n",
       "type Module <: Any\n",
       "\\end{verbatim}\n",
       "\\textbf{Fields:}\n",
       "\\begin{verbatim}\n",
       "name   :: Symbol\n",
       "parent :: Any\n",
       "\\end{verbatim}\n"
      ],
      "text/markdown": [
       "No documentation found.\n",
       "\n",
       "`MIToS.Information` is of type `Module`:\n",
       "\n",
       "**Summary:**\n",
       "\n",
       "```julia\n",
       "type Module <: Any\n",
       "```\n",
       "\n",
       "**Fields:**\n",
       "\n",
       "```julia\n",
       "name   :: Symbol\n",
       "parent :: Any\n",
       "```\n"
      ],
      "text/plain": [
       "No documentation found.\n",
       "\n",
       "`MIToS.Information` is of type `Module`:\n",
       "\n",
       "**Summary:**\n",
       "\n",
       "```julia\n",
       "type Module <: Any\n",
       "```\n",
       "\n",
       "**Fields:**\n",
       "\n",
       "```julia\n",
       "name   :: Symbol\n",
       "parent :: Any\n",
       "```\n"
      ]
     },
     "execution_count": 7,
     "metadata": {},
     "output_type": "execute_result"
    }
   ],
   "source": [
    "?MIToS.Information"
   ]
  },
  {
   "cell_type": "markdown",
   "metadata": {},
   "source": [
    "<div class=\"panel panel-info\">\n",
    "    <div class=\"panel-heading\">\n",
    "        <strong>Julia help mode</strong>\n",
    "    </div>\n",
    "    <div class=\"panel-body\">\n",
    "        <p>If you type <code>?</code> at the beginning of the Julia REPL line, you will enter in the Julia help mode. In this mode, Julia prints the help or <strong>documentation</strong> of the entered element. This is a nice way of getting information about MIToS functions, types, etc. from Julia.</p>\n",
    "    </div>\n",
    "</div>"
   ]
  },
  {
   "cell_type": "markdown",
   "metadata": {},
   "source": [
    "<a href=\"#\"><i class=\"fa fa-arrow-up\"></i></a>\n",
    "\n",
    "## Types"
   ]
  },
  {
   "cell_type": "code",
   "execution_count": 8,
   "metadata": {
    "collapsed": false
   },
   "outputs": [
    {
     "data": {
      "text/latex": [
       "No documentation found.\n",
       "\\texttt{MIToS.Information.SequenceWeights} is of type \\texttt{Union}:\n",
       "\\textbf{Summary:}\n",
       "\\begin{verbatim}\n",
       "immutable Union <: Type{T}\n",
       "\\end{verbatim}\n",
       "\\textbf{Fields:}\n",
       "\\begin{verbatim}\n",
       "types :: SimpleVector\n",
       "\\end{verbatim}\n"
      ],
      "text/markdown": [
       "No documentation found.\n",
       "\n",
       "`MIToS.Information.SequenceWeights` is of type `Union`:\n",
       "\n",
       "**Summary:**\n",
       "\n",
       "```julia\n",
       "immutable Union <: Type{T}\n",
       "```\n",
       "\n",
       "**Fields:**\n",
       "\n",
       "```julia\n",
       "types :: SimpleVector\n",
       "```\n"
      ],
      "text/plain": [
       "No documentation found.\n",
       "\n",
       "`MIToS.Information.SequenceWeights` is of type `Union`:\n",
       "\n",
       "**Summary:**\n",
       "\n",
       "```julia\n",
       "immutable Union <: Type{T}\n",
       "```\n",
       "\n",
       "**Fields:**\n",
       "\n",
       "```julia\n",
       "types :: SimpleVector\n",
       "```\n"
      ]
     },
     "execution_count": 8,
     "metadata": {},
     "output_type": "execute_result"
    }
   ],
   "source": [
    "?MIToS.Information.SequenceWeights"
   ]
  },
  {
   "cell_type": "markdown",
   "metadata": {},
   "source": [
    "<a href=\"#\"><i class=\"fa fa-arrow-up\"></i></a>\n",
    "\n",
    "### Pseudocounts"
   ]
  },
  {
   "cell_type": "code",
   "execution_count": 9,
   "metadata": {
    "collapsed": false
   },
   "outputs": [
    {
     "data": {
      "text/latex": [
       "No documentation found.\n",
       "\\textbf{Summary:}\n",
       "\\begin{verbatim}\n",
       "abstract MIToS.Information.Pseudocount{T<:Real} <: Any\n",
       "\\end{verbatim}\n",
       "\\textbf{Subtypes:}\n",
       "\\begin{verbatim}\n",
       "MIToS.Information.AdditiveSmoothing{T<:Real}\n",
       "\\end{verbatim}\n"
      ],
      "text/markdown": [
       "No documentation found.\n",
       "\n",
       "**Summary:**\n",
       "\n",
       "```julia\n",
       "abstract MIToS.Information.Pseudocount{T<:Real} <: Any\n",
       "```\n",
       "\n",
       "**Subtypes:**\n",
       "\n",
       "```julia\n",
       "MIToS.Information.AdditiveSmoothing{T<:Real}\n",
       "```\n"
      ],
      "text/plain": [
       "No documentation found.\n",
       "\n",
       "**Summary:**\n",
       "\n",
       "```julia\n",
       "abstract MIToS.Information.Pseudocount{T<:Real} <: Any\n",
       "```\n",
       "\n",
       "**Subtypes:**\n",
       "\n",
       "```julia\n",
       "MIToS.Information.AdditiveSmoothing{T<:Real}\n",
       "```\n"
      ]
     },
     "execution_count": 9,
     "metadata": {},
     "output_type": "execute_result"
    }
   ],
   "source": [
    "?MIToS.Information.Pseudocount"
   ]
  },
  {
   "cell_type": "code",
   "execution_count": 10,
   "metadata": {
    "collapsed": false
   },
   "outputs": [
    {
     "data": {
      "text/latex": [
       "\\textbf{Additive Smoothing} or fixed pseudocount  \\texttt{λ}  for \\texttt{ResidueCount} (in order to estimate probabilities when the number of samples is low).\n",
       "Common values of \\texttt{λ} are:\n",
       "\\begin{itemize}\n",
       "\\item \\texttt{0} :  No cell frequency prior, gives you the maximum likelihood estimator.\n",
       "\\item \\texttt{0.05} is the optimum value for \\texttt{λ} found in Buslje et. al. 2009, similar results was obtained for \\texttt{λ} in the range [0.025, 0.075].\n",
       "\\item \\texttt{1 / p} : Perks prior (Perks, 1947) where \\texttt{p} the number of parameters (i.e. residues, pairs of residues) to estimate. If \\texttt{p} is the number of residues (\\texttt{20} without counting gaps), this gives you \\texttt{0.05}.\n",
       "\\item \\texttt{sqrt(n) / p} : Minimax prior (Trybula, 1958) where \\texttt{n} is the number of samples and \\texttt{p} the number of parameters to estimate.  If the number of samples \\texttt{n} is 400 (minimum number of sequence clusters for achieve good performance in Buslje et. al. 2009) for estimating 400 parameters (pairs of residues without counting gaps) this gives you \\texttt{0.05}.\n",
       "\\item \\texttt{0.5} : Jeffreys prior (Jeffreys, 1946).\n",
       "\\item \\texttt{1} : Bayes-Laplace uniform prior, aka. Laplace smoothing.\n",
       "\\end{itemize}\n"
      ],
      "text/markdown": [
       "**Additive Smoothing** or fixed pseudocount  `λ`  for `ResidueCount` (in order to estimate probabilities when the number of samples is low).\n",
       "\n",
       "Common values of `λ` are:\n",
       "\n",
       "  * `0` :  No cell frequency prior, gives you the maximum likelihood estimator.\n",
       "  * `0.05` is the optimum value for `λ` found in Buslje et. al. 2009, similar results was obtained for `λ` in the range [0.025, 0.075].\n",
       "  * `1 / p` : Perks prior (Perks, 1947) where `p` the number of parameters (i.e. residues, pairs of residues) to estimate. If `p` is the number of residues (`20` without counting gaps), this gives you `0.05`.\n",
       "  * `sqrt(n) / p` : Minimax prior (Trybula, 1958) where `n` is the number of samples and `p` the number of parameters to estimate.  If the number of samples `n` is 400 (minimum number of sequence clusters for achieve good performance in Buslje et. al. 2009) for estimating 400 parameters (pairs of residues without counting gaps) this gives you `0.05`.\n",
       "  * `0.5` : Jeffreys prior (Jeffreys, 1946).\n",
       "  * `1` : Bayes-Laplace uniform prior, aka. Laplace smoothing.\n"
      ],
      "text/plain": [
       "**Additive Smoothing** or fixed pseudocount  `λ`  for `ResidueCount` (in order to estimate probabilities when the number of samples is low).\n",
       "\n",
       "Common values of `λ` are:\n",
       "\n",
       "  * `0` :  No cell frequency prior, gives you the maximum likelihood estimator.\n",
       "  * `0.05` is the optimum value for `λ` found in Buslje et. al. 2009, similar results was obtained for `λ` in the range [0.025, 0.075].\n",
       "  * `1 / p` : Perks prior (Perks, 1947) where `p` the number of parameters (i.e. residues, pairs of residues) to estimate. If `p` is the number of residues (`20` without counting gaps), this gives you `0.05`.\n",
       "  * `sqrt(n) / p` : Minimax prior (Trybula, 1958) where `n` is the number of samples and `p` the number of parameters to estimate.  If the number of samples `n` is 400 (minimum number of sequence clusters for achieve good performance in Buslje et. al. 2009) for estimating 400 parameters (pairs of residues without counting gaps) this gives you `0.05`.\n",
       "  * `0.5` : Jeffreys prior (Jeffreys, 1946).\n",
       "  * `1` : Bayes-Laplace uniform prior, aka. Laplace smoothing.\n"
      ]
     },
     "execution_count": 10,
     "metadata": {},
     "output_type": "execute_result"
    }
   ],
   "source": [
    "?MIToS.Information.AdditiveSmoothing"
   ]
  },
  {
   "cell_type": "markdown",
   "metadata": {},
   "source": [
    "<a href=\"#\"><i class=\"fa fa-arrow-up\"></i></a>\n",
    "\n",
    "### Contingency tables"
   ]
  },
  {
   "cell_type": "code",
   "execution_count": 11,
   "metadata": {
    "collapsed": false
   },
   "outputs": [
    {
     "data": {
      "text/latex": [
       "No documentation found.\n",
       "\\textbf{Summary:}\n",
       "\\begin{verbatim}\n",
       "abstract MIToS.Information.ResidueContingencyTables{T,N,UseGap} <: AbstractArray{T,N}\n",
       "\\end{verbatim}\n",
       "\\textbf{Subtypes:}\n",
       "\\begin{verbatim}\n",
       "MIToS.Information.ResidueCount{T,N,UseGap}\n",
       "MIToS.Information.ResidueProbability{T,N,UseGap}\n",
       "\\end{verbatim}\n"
      ],
      "text/markdown": [
       "No documentation found.\n",
       "\n",
       "**Summary:**\n",
       "\n",
       "```julia\n",
       "abstract MIToS.Information.ResidueContingencyTables{T,N,UseGap} <: AbstractArray{T,N}\n",
       "```\n",
       "\n",
       "**Subtypes:**\n",
       "\n",
       "```julia\n",
       "MIToS.Information.ResidueCount{T,N,UseGap}\n",
       "MIToS.Information.ResidueProbability{T,N,UseGap}\n",
       "```\n"
      ],
      "text/plain": [
       "No documentation found.\n",
       "\n",
       "**Summary:**\n",
       "\n",
       "```julia\n",
       "abstract MIToS.Information.ResidueContingencyTables{T,N,UseGap} <: AbstractArray{T,N}\n",
       "```\n",
       "\n",
       "**Subtypes:**\n",
       "\n",
       "```julia\n",
       "MIToS.Information.ResidueCount{T,N,UseGap}\n",
       "MIToS.Information.ResidueProbability{T,N,UseGap}\n",
       "```\n"
      ]
     },
     "execution_count": 11,
     "metadata": {},
     "output_type": "execute_result"
    }
   ],
   "source": [
    "?MIToS.Information.ResidueContingencyTables"
   ]
  },
  {
   "cell_type": "code",
   "execution_count": 12,
   "metadata": {
    "collapsed": false
   },
   "outputs": [
    {
     "data": {
      "text/latex": [
       "\\texttt{ResidueCount{T, N, UseGap}} is used for counting residues in columns (or sequences) of an MSA. \\texttt{N} is the dimensionality and should be an \\texttt{Int}, i.e. 2 if 2 columns are used for counting pairs. \\texttt{UseGap} is a \\texttt{Bool}, \\texttt{true} means that \\textbf{ResidueCount} counts gaps in the position 21.\n"
      ],
      "text/markdown": [
       "`ResidueCount{T, N, UseGap}` is used for counting residues in columns (or sequences) of an MSA. `N` is the dimensionality and should be an `Int`, i.e. 2 if 2 columns are used for counting pairs. `UseGap` is a `Bool`, `true` means that **ResidueCount** counts gaps in the position 21.\n"
      ],
      "text/plain": [
       "`ResidueCount{T, N, UseGap}` is used for counting residues in columns (or sequences) of an MSA. `N` is the dimensionality and should be an `Int`, i.e. 2 if 2 columns are used for counting pairs. `UseGap` is a `Bool`, `true` means that **ResidueCount** counts gaps in the position 21.\n"
      ]
     },
     "execution_count": 12,
     "metadata": {},
     "output_type": "execute_result"
    }
   ],
   "source": [
    "?MIToS.Information.ResidueCount"
   ]
  },
  {
   "cell_type": "code",
   "execution_count": 13,
   "metadata": {
    "collapsed": false
   },
   "outputs": [
    {
     "data": {
      "text/latex": [
       "No documentation found.\n",
       "\\textbf{Summary:}\n",
       "\\begin{verbatim}\n",
       "type MIToS.Information.ResidueProbability{T,N,UseGap} <: MIToS.Information.ResidueContingencyTables{T,N,UseGap}\n",
       "\\end{verbatim}\n",
       "\\textbf{Fields:}\n",
       "\\begin{verbatim}\n",
       "table     :: Array{T,N}\n",
       "marginals :: Array{T,2}\n",
       "\\end{verbatim}\n"
      ],
      "text/markdown": [
       "No documentation found.\n",
       "\n",
       "**Summary:**\n",
       "\n",
       "```julia\n",
       "type MIToS.Information.ResidueProbability{T,N,UseGap} <: MIToS.Information.ResidueContingencyTables{T,N,UseGap}\n",
       "```\n",
       "\n",
       "**Fields:**\n",
       "\n",
       "```julia\n",
       "table     :: Array{T,N}\n",
       "marginals :: Array{T,2}\n",
       "```\n"
      ],
      "text/plain": [
       "No documentation found.\n",
       "\n",
       "**Summary:**\n",
       "\n",
       "```julia\n",
       "type MIToS.Information.ResidueProbability{T,N,UseGap} <: MIToS.Information.ResidueContingencyTables{T,N,UseGap}\n",
       "```\n",
       "\n",
       "**Fields:**\n",
       "\n",
       "```julia\n",
       "table     :: Array{T,N}\n",
       "marginals :: Array{T,2}\n",
       "```\n"
      ]
     },
     "execution_count": 13,
     "metadata": {},
     "output_type": "execute_result"
    }
   ],
   "source": [
    "?MIToS.Information.ResidueProbability"
   ]
  },
  {
   "cell_type": "markdown",
   "metadata": {},
   "source": [
    "<a href=\"#\"><i class=\"fa fa-arrow-up\"></i></a>\n",
    "\n",
    "### Information measures"
   ]
  },
  {
   "cell_type": "code",
   "execution_count": 14,
   "metadata": {
    "collapsed": false
   },
   "outputs": [
    {
     "data": {
      "text/latex": [
       "No documentation found.\n",
       "\\textbf{Summary:}\n",
       "\\begin{verbatim}\n",
       "abstract MIToS.Information.InformationMeasure{T} <: Any\n",
       "\\end{verbatim}\n",
       "\\textbf{Subtypes:}\n",
       "\\begin{verbatim}\n",
       "MIToS.Information.SymmetricMeasure{T}\n",
       "\\end{verbatim}\n"
      ],
      "text/markdown": [
       "No documentation found.\n",
       "\n",
       "**Summary:**\n",
       "\n",
       "```julia\n",
       "abstract MIToS.Information.InformationMeasure{T} <: Any\n",
       "```\n",
       "\n",
       "**Subtypes:**\n",
       "\n",
       "```julia\n",
       "MIToS.Information.SymmetricMeasure{T}\n",
       "```\n"
      ],
      "text/plain": [
       "No documentation found.\n",
       "\n",
       "**Summary:**\n",
       "\n",
       "```julia\n",
       "abstract MIToS.Information.InformationMeasure{T} <: Any\n",
       "```\n",
       "\n",
       "**Subtypes:**\n",
       "\n",
       "```julia\n",
       "MIToS.Information.SymmetricMeasure{T}\n",
       "```\n"
      ]
     },
     "execution_count": 14,
     "metadata": {},
     "output_type": "execute_result"
    }
   ],
   "source": [
    "?MIToS.Information.InformationMeasure"
   ]
  },
  {
   "cell_type": "code",
   "execution_count": 15,
   "metadata": {
    "collapsed": false
   },
   "outputs": [
    {
     "data": {
      "text/latex": [
       "No documentation found.\n",
       "\\textbf{Summary:}\n",
       "\\begin{verbatim}\n",
       "abstract MIToS.Information.SymmetricMeasure{T} <: MIToS.Information.InformationMeasure{T}\n",
       "\\end{verbatim}\n",
       "\\textbf{Subtypes:}\n",
       "\\begin{verbatim}\n",
       "MIToS.Information.Entropy{T}\n",
       "MIToS.Information.GapIntersectionPercentage{T}\n",
       "MIToS.Information.GapUnionPercentage{T}\n",
       "MIToS.Information.MutualInformationOverEntropy{T}\n",
       "MIToS.Information.MutualInformation{T}\n",
       "\\end{verbatim}\n"
      ],
      "text/markdown": [
       "No documentation found.\n",
       "\n",
       "**Summary:**\n",
       "\n",
       "```julia\n",
       "abstract MIToS.Information.SymmetricMeasure{T} <: MIToS.Information.InformationMeasure{T}\n",
       "```\n",
       "\n",
       "**Subtypes:**\n",
       "\n",
       "```julia\n",
       "MIToS.Information.Entropy{T}\n",
       "MIToS.Information.GapIntersectionPercentage{T}\n",
       "MIToS.Information.GapUnionPercentage{T}\n",
       "MIToS.Information.MutualInformationOverEntropy{T}\n",
       "MIToS.Information.MutualInformation{T}\n",
       "```\n"
      ],
      "text/plain": [
       "No documentation found.\n",
       "\n",
       "**Summary:**\n",
       "\n",
       "```julia\n",
       "abstract MIToS.Information.SymmetricMeasure{T} <: MIToS.Information.InformationMeasure{T}\n",
       "```\n",
       "\n",
       "**Subtypes:**\n",
       "\n",
       "```julia\n",
       "MIToS.Information.Entropy{T}\n",
       "MIToS.Information.GapIntersectionPercentage{T}\n",
       "MIToS.Information.GapUnionPercentage{T}\n",
       "MIToS.Information.MutualInformationOverEntropy{T}\n",
       "MIToS.Information.MutualInformation{T}\n",
       "```\n"
      ]
     },
     "execution_count": 15,
     "metadata": {},
     "output_type": "execute_result"
    }
   ],
   "source": [
    "?MIToS.Information.SymmetricMeasure"
   ]
  },
  {
   "cell_type": "code",
   "execution_count": 16,
   "metadata": {
    "collapsed": false
   },
   "outputs": [
    {
     "data": {
      "text/latex": [
       "No documentation found.\n",
       "\\textbf{Summary:}\n",
       "\\begin{verbatim}\n",
       "immutable MIToS.Information.Entropy{T} <: MIToS.Information.SymmetricMeasure{T}\n",
       "\\end{verbatim}\n",
       "\\textbf{Fields:}\n",
       "\\begin{verbatim}\n",
       "base :: T\n",
       "\\end{verbatim}\n"
      ],
      "text/markdown": [
       "No documentation found.\n",
       "\n",
       "**Summary:**\n",
       "\n",
       "```julia\n",
       "immutable MIToS.Information.Entropy{T} <: MIToS.Information.SymmetricMeasure{T}\n",
       "```\n",
       "\n",
       "**Fields:**\n",
       "\n",
       "```julia\n",
       "base :: T\n",
       "```\n"
      ],
      "text/plain": [
       "No documentation found.\n",
       "\n",
       "**Summary:**\n",
       "\n",
       "```julia\n",
       "immutable MIToS.Information.Entropy{T} <: MIToS.Information.SymmetricMeasure{T}\n",
       "```\n",
       "\n",
       "**Fields:**\n",
       "\n",
       "```julia\n",
       "base :: T\n",
       "```\n"
      ]
     },
     "execution_count": 16,
     "metadata": {},
     "output_type": "execute_result"
    }
   ],
   "source": [
    "?MIToS.Information.Entropy"
   ]
  },
  {
   "cell_type": "code",
   "execution_count": 17,
   "metadata": {
    "collapsed": false
   },
   "outputs": [
    {
     "data": {
      "text/latex": [
       "No documentation found.\n",
       "\\textbf{Summary:}\n",
       "\\begin{verbatim}\n",
       "immutable MIToS.Information.MutualInformation{T} <: MIToS.Information.SymmetricMeasure{T}\n",
       "\\end{verbatim}\n",
       "\\textbf{Fields:}\n",
       "\\begin{verbatim}\n",
       "base :: T\n",
       "\\end{verbatim}\n"
      ],
      "text/markdown": [
       "No documentation found.\n",
       "\n",
       "**Summary:**\n",
       "\n",
       "```julia\n",
       "immutable MIToS.Information.MutualInformation{T} <: MIToS.Information.SymmetricMeasure{T}\n",
       "```\n",
       "\n",
       "**Fields:**\n",
       "\n",
       "```julia\n",
       "base :: T\n",
       "```\n"
      ],
      "text/plain": [
       "No documentation found.\n",
       "\n",
       "**Summary:**\n",
       "\n",
       "```julia\n",
       "immutable MIToS.Information.MutualInformation{T} <: MIToS.Information.SymmetricMeasure{T}\n",
       "```\n",
       "\n",
       "**Fields:**\n",
       "\n",
       "```julia\n",
       "base :: T\n",
       "```\n"
      ]
     },
     "execution_count": 17,
     "metadata": {},
     "output_type": "execute_result"
    }
   ],
   "source": [
    "?MIToS.Information.MutualInformation"
   ]
  },
  {
   "cell_type": "code",
   "execution_count": 18,
   "metadata": {
    "collapsed": false
   },
   "outputs": [
    {
     "data": {
      "text/latex": [
       "No documentation found.\n",
       "\\textbf{Summary:}\n",
       "\\begin{verbatim}\n",
       "immutable MIToS.Information.MutualInformationOverEntropy{T} <: MIToS.Information.SymmetricMeasure{T}\n",
       "\\end{verbatim}\n",
       "\\textbf{Fields:}\n",
       "\\begin{verbatim}\n",
       "base :: T\n",
       "\\end{verbatim}\n"
      ],
      "text/markdown": [
       "No documentation found.\n",
       "\n",
       "**Summary:**\n",
       "\n",
       "```julia\n",
       "immutable MIToS.Information.MutualInformationOverEntropy{T} <: MIToS.Information.SymmetricMeasure{T}\n",
       "```\n",
       "\n",
       "**Fields:**\n",
       "\n",
       "```julia\n",
       "base :: T\n",
       "```\n"
      ],
      "text/plain": [
       "No documentation found.\n",
       "\n",
       "**Summary:**\n",
       "\n",
       "```julia\n",
       "immutable MIToS.Information.MutualInformationOverEntropy{T} <: MIToS.Information.SymmetricMeasure{T}\n",
       "```\n",
       "\n",
       "**Fields:**\n",
       "\n",
       "```julia\n",
       "base :: T\n",
       "```\n"
      ]
     },
     "execution_count": 18,
     "metadata": {},
     "output_type": "execute_result"
    }
   ],
   "source": [
    "?MIToS.Information.MutualInformationOverEntropy"
   ]
  },
  {
   "cell_type": "code",
   "execution_count": 19,
   "metadata": {
    "collapsed": false
   },
   "outputs": [
    {
     "data": {
      "text/latex": [
       "No documentation found.\n",
       "\\textbf{Summary:}\n",
       "\\begin{verbatim}\n",
       "immutable MIToS.Information.GapUnionPercentage{T} <: MIToS.Information.SymmetricMeasure{T}\n",
       "\\end{verbatim}\n"
      ],
      "text/markdown": [
       "No documentation found.\n",
       "\n",
       "**Summary:**\n",
       "\n",
       "```julia\n",
       "immutable MIToS.Information.GapUnionPercentage{T} <: MIToS.Information.SymmetricMeasure{T}\n",
       "```\n"
      ],
      "text/plain": [
       "No documentation found.\n",
       "\n",
       "**Summary:**\n",
       "\n",
       "```julia\n",
       "immutable MIToS.Information.GapUnionPercentage{T} <: MIToS.Information.SymmetricMeasure{T}\n",
       "```\n"
      ]
     },
     "execution_count": 19,
     "metadata": {},
     "output_type": "execute_result"
    }
   ],
   "source": [
    "?MIToS.Information.GapUnionPercentage"
   ]
  },
  {
   "cell_type": "code",
   "execution_count": 20,
   "metadata": {
    "collapsed": false
   },
   "outputs": [
    {
     "data": {
      "text/latex": [
       "No documentation found.\n",
       "\\textbf{Summary:}\n",
       "\\begin{verbatim}\n",
       "immutable MIToS.Information.GapIntersectionPercentage{T} <: MIToS.Information.SymmetricMeasure{T}\n",
       "\\end{verbatim}\n"
      ],
      "text/markdown": [
       "No documentation found.\n",
       "\n",
       "**Summary:**\n",
       "\n",
       "```julia\n",
       "immutable MIToS.Information.GapIntersectionPercentage{T} <: MIToS.Information.SymmetricMeasure{T}\n",
       "```\n"
      ],
      "text/plain": [
       "No documentation found.\n",
       "\n",
       "**Summary:**\n",
       "\n",
       "```julia\n",
       "immutable MIToS.Information.GapIntersectionPercentage{T} <: MIToS.Information.SymmetricMeasure{T}\n",
       "```\n"
      ]
     },
     "execution_count": 20,
     "metadata": {},
     "output_type": "execute_result"
    }
   ],
   "source": [
    "?MIToS.Information.GapIntersectionPercentage"
   ]
  },
  {
   "cell_type": "markdown",
   "metadata": {},
   "source": [
    "<a href=\"#\"><i class=\"fa fa-arrow-up\"></i></a>\n",
    "\n",
    "### Imported from MIToS.MSA"
   ]
  },
  {
   "cell_type": "code",
   "execution_count": 21,
   "metadata": {
    "collapsed": false
   },
   "outputs": [
    {
     "data": {
      "text/latex": [
       "No documentation found.\n",
       "\\textbf{Summary:}\n",
       "\\begin{verbatim}\n",
       "immutable MIToS.MSA.Raw <: MIToS.Utils.Format\n",
       "\\end{verbatim}\n"
      ],
      "text/markdown": [
       "No documentation found.\n",
       "\n",
       "**Summary:**\n",
       "\n",
       "```julia\n",
       "immutable MIToS.MSA.Raw <: MIToS.Utils.Format\n",
       "```\n"
      ],
      "text/plain": [
       "No documentation found.\n",
       "\n",
       "**Summary:**\n",
       "\n",
       "```julia\n",
       "immutable MIToS.MSA.Raw <: MIToS.Utils.Format\n",
       "```\n"
      ]
     },
     "execution_count": 21,
     "metadata": {},
     "output_type": "execute_result"
    }
   ],
   "source": [
    "?MIToS.Information.Raw"
   ]
  },
  {
   "cell_type": "code",
   "execution_count": 22,
   "metadata": {
    "collapsed": false
   },
   "outputs": [
    {
     "data": {
      "text/latex": [
       "No documentation found.\n",
       "\\textbf{Summary:}\n",
       "\\begin{verbatim}\n",
       "immutable MIToS.MSA.Stockholm <: MIToS.Utils.Format\n",
       "\\end{verbatim}\n"
      ],
      "text/markdown": [
       "No documentation found.\n",
       "\n",
       "**Summary:**\n",
       "\n",
       "```julia\n",
       "immutable MIToS.MSA.Stockholm <: MIToS.Utils.Format\n",
       "```\n"
      ],
      "text/plain": [
       "No documentation found.\n",
       "\n",
       "**Summary:**\n",
       "\n",
       "```julia\n",
       "immutable MIToS.MSA.Stockholm <: MIToS.Utils.Format\n",
       "```\n"
      ]
     },
     "execution_count": 22,
     "metadata": {},
     "output_type": "execute_result"
    }
   ],
   "source": [
    "?MIToS.Information.Stockholm"
   ]
  },
  {
   "cell_type": "code",
   "execution_count": 23,
   "metadata": {
    "collapsed": false
   },
   "outputs": [
    {
     "data": {
      "text/latex": [
       "No documentation found.\n",
       "\\textbf{Summary:}\n",
       "\\begin{verbatim}\n",
       "immutable MIToS.MSA.FASTA <: MIToS.Utils.Format\n",
       "\\end{verbatim}\n"
      ],
      "text/markdown": [
       "No documentation found.\n",
       "\n",
       "**Summary:**\n",
       "\n",
       "```julia\n",
       "immutable MIToS.MSA.FASTA <: MIToS.Utils.Format\n",
       "```\n"
      ],
      "text/plain": [
       "No documentation found.\n",
       "\n",
       "**Summary:**\n",
       "\n",
       "```julia\n",
       "immutable MIToS.MSA.FASTA <: MIToS.Utils.Format\n",
       "```\n"
      ]
     },
     "execution_count": 23,
     "metadata": {},
     "output_type": "execute_result"
    }
   ],
   "source": [
    "?MIToS.Information.FASTA"
   ]
  },
  {
   "cell_type": "markdown",
   "metadata": {},
   "source": [
    "<a href=\"#\"><i class=\"fa fa-arrow-up\"></i></a>\n",
    "\n",
    "## Constants"
   ]
  },
  {
   "cell_type": "code",
   "execution_count": 26,
   "metadata": {
    "collapsed": false
   },
   "outputs": [
    {
     "data": {
      "text/latex": [
       "No documentation found.\n",
       "\\texttt{MIToS.Information.BLOSUM62_Pi} is of type \\texttt{Array{Float64,1}}:\n",
       "\\textbf{Summary:}\n",
       "\\begin{verbatim}\n",
       "type Array{Float64,1} <: DenseArray{Float64,1}\n",
       "\\end{verbatim}\n"
      ],
      "text/markdown": [
       "No documentation found.\n",
       "\n",
       "`MIToS.Information.BLOSUM62_Pi` is of type `Array{Float64,1}`:\n",
       "\n",
       "**Summary:**\n",
       "\n",
       "```julia\n",
       "type Array{Float64,1} <: DenseArray{Float64,1}\n",
       "```\n"
      ],
      "text/plain": [
       "No documentation found.\n",
       "\n",
       "`MIToS.Information.BLOSUM62_Pi` is of type `Array{Float64,1}`:\n",
       "\n",
       "**Summary:**\n",
       "\n",
       "```julia\n",
       "type Array{Float64,1} <: DenseArray{Float64,1}\n",
       "```\n"
      ]
     },
     "execution_count": 26,
     "metadata": {},
     "output_type": "execute_result"
    }
   ],
   "source": [
    "?MIToS.Information.BLOSUM62_Pi"
   ]
  },
  {
   "cell_type": "code",
   "execution_count": 27,
   "metadata": {
    "collapsed": false
   },
   "outputs": [
    {
     "data": {
      "text/latex": [
       "No documentation found.\n",
       "\\texttt{MIToS.Information.BLOSUM62_Pij} is of type \\texttt{Array{Float64,2}}:\n",
       "\\textbf{Summary:}\n",
       "\\begin{verbatim}\n",
       "type Array{Float64,2} <: DenseArray{Float64,2}\n",
       "\\end{verbatim}\n"
      ],
      "text/markdown": [
       "No documentation found.\n",
       "\n",
       "`MIToS.Information.BLOSUM62_Pij` is of type `Array{Float64,2}`:\n",
       "\n",
       "**Summary:**\n",
       "\n",
       "```julia\n",
       "type Array{Float64,2} <: DenseArray{Float64,2}\n",
       "```\n"
      ],
      "text/plain": [
       "No documentation found.\n",
       "\n",
       "`MIToS.Information.BLOSUM62_Pij` is of type `Array{Float64,2}`:\n",
       "\n",
       "**Summary:**\n",
       "\n",
       "```julia\n",
       "type Array{Float64,2} <: DenseArray{Float64,2}\n",
       "```\n"
      ]
     },
     "execution_count": 27,
     "metadata": {},
     "output_type": "execute_result"
    }
   ],
   "source": [
    "?MIToS.Information.BLOSUM62_Pij"
   ]
  },
  {
   "cell_type": "markdown",
   "metadata": {},
   "source": [
    "<a href=\"#\"><i class=\"fa fa-arrow-up\"></i></a>\n",
    "\n",
    "## Methods"
   ]
  },
  {
   "cell_type": "code",
   "execution_count": 28,
   "metadata": {
    "collapsed": false
   },
   "outputs": [
    {
     "data": {
      "text/latex": [
       "APC (Dunn et. al. 2008)\n"
      ],
      "text/markdown": [
       "APC (Dunn et. al. 2008)\n"
      ],
      "text/plain": [
       "APC (Dunn et. al. 2008)\n"
      ]
     },
     "execution_count": 28,
     "metadata": {},
     "output_type": "execute_result"
    }
   ],
   "source": [
    "?MIToS.Information.APC!"
   ]
  },
  {
   "cell_type": "markdown",
   "metadata": {},
   "source": [
    "<a href=\"#\"><i class=\"fa fa-arrow-up\"></i></a>\n",
    "\n",
    "### Working with Contingency tables"
   ]
  },
  {
   "cell_type": "code",
   "execution_count": 29,
   "metadata": {
    "collapsed": false
   },
   "outputs": [
    {
     "data": {
      "text/latex": [
       "This method use BLOSUM62 based pseudofrequencies\n",
       "\\texttt{probabilities(res::AbstractVector{Residue}...; usegap=false, weight=NoClustering())} \\texttt{probabilities(pseudocount::Pseudocount, res::AbstractVector{Residue}...; usegap=false, weight=NoClustering())}\n",
       "\\texttt{probabilities} creates a new ResidueProbability with the probabilities of residues, pairs of residues, etc. in the sequences/columns.\n"
      ],
      "text/markdown": [
       "This method use BLOSUM62 based pseudofrequencies\n",
       "\n",
       "`probabilities(res::AbstractVector{Residue}...; usegap=false, weight=NoClustering())` `probabilities(pseudocount::Pseudocount, res::AbstractVector{Residue}...; usegap=false, weight=NoClustering())`\n",
       "\n",
       "`probabilities` creates a new ResidueProbability with the probabilities of residues, pairs of residues, etc. in the sequences/columns.\n"
      ],
      "text/plain": [
       "This method use BLOSUM62 based pseudofrequencies\n",
       "\n",
       "`probabilities(res::AbstractVector{Residue}...; usegap=false, weight=NoClustering())` `probabilities(pseudocount::Pseudocount, res::AbstractVector{Residue}...; usegap=false, weight=NoClustering())`\n",
       "\n",
       "`probabilities` creates a new ResidueProbability with the probabilities of residues, pairs of residues, etc. in the sequences/columns.\n"
      ]
     },
     "execution_count": 29,
     "metadata": {},
     "output_type": "execute_result"
    }
   ],
   "source": [
    "?MIToS.Information.probabilities"
   ]
  },
  {
   "cell_type": "code",
   "execution_count": 30,
   "metadata": {
    "collapsed": false
   },
   "outputs": [
    {
     "data": {
      "text/latex": [
       "No documentation found.\n",
       "\\texttt{MIToS.Information.count!} is a generic \\texttt{Function}.\n",
       "\\begin{verbatim}\n",
       "# 10 methods for generic function \"count!\":\n",
       "count!{T}(n::MIToS.Information.ResidueCount{T,1,true}, res::AbstractArray{MIToS.MSA.Residue,1}) at /home/diego/.julia/v0.4/MIToS/src/Information/Probabilities.jl:224\n",
       "count!{T}(n::MIToS.Information.ResidueCount{T,1,true}, weights, res::AbstractArray{MIToS.MSA.Residue,1}) at /home/diego/.julia/v0.4/MIToS/src/Information/Probabilities.jl:216\n",
       "count!{T}(n::MIToS.Information.ResidueCount{T,1,false}, res::AbstractArray{MIToS.MSA.Residue,1}) at /home/diego/.julia/v0.4/MIToS/src/Information/Probabilities.jl:224\n",
       "count!{T}(n::MIToS.Information.ResidueCount{T,1,false}, weights, res::AbstractArray{MIToS.MSA.Residue,1}) at /home/diego/.julia/v0.4/MIToS/src/Information/Probabilities.jl:216\n",
       "count!{T}(n::MIToS.Information.ResidueCount{T,2,true}, res1::AbstractArray{MIToS.MSA.Residue,1}, res2::AbstractArray{MIToS.MSA.Residue,1}) at /home/diego/.julia/v0.4/MIToS/src/Information/Probabilities.jl:247\n",
       "count!{T}(n::MIToS.Information.ResidueCount{T,2,true}, weights, res1::AbstractArray{MIToS.MSA.Residue,1}, res2::AbstractArray{MIToS.MSA.Residue,1}) at /home/diego/.julia/v0.4/MIToS/src/Information/Probabilities.jl:230\n",
       "count!{T}(n::MIToS.Information.ResidueCount{T,2,false}, res1::AbstractArray{MIToS.MSA.Residue,1}, res2::AbstractArray{MIToS.MSA.Residue,1}) at /home/diego/.julia/v0.4/MIToS/src/Information/Probabilities.jl:248\n",
       "count!{T}(n::MIToS.Information.ResidueCount{T,2,false}, weights, res1::AbstractArray{MIToS.MSA.Residue,1}, res2::AbstractArray{MIToS.MSA.Residue,1}) at /home/diego/.julia/v0.4/MIToS/src/Information/Probabilities.jl:237\n",
       "count!{T,N,UseGap}(n::MIToS.Information.ResidueCount{T,N,UseGap}, res::AbstractArray{MIToS.MSA.Residue,1}...) at /home/diego/.julia/v0.4/MIToS/src/Information/Probabilities.jl:264\n",
       "count!{T,N,UseGap}(n::MIToS.Information.ResidueCount{T,N,UseGap}, weights, res::AbstractArray{MIToS.MSA.Residue,1}...) at /home/diego/.julia/v0.4/MIToS/src/Information/Probabilities.jl:251\n",
       "\\end{verbatim}\n"
      ],
      "text/markdown": [
       "No documentation found.\n",
       "\n",
       "`MIToS.Information.count!` is a generic `Function`.\n",
       "\n",
       "```julia\n",
       "# 10 methods for generic function \"count!\":\n",
       "count!{T}(n::MIToS.Information.ResidueCount{T,1,true}, res::AbstractArray{MIToS.MSA.Residue,1}) at /home/diego/.julia/v0.4/MIToS/src/Information/Probabilities.jl:224\n",
       "count!{T}(n::MIToS.Information.ResidueCount{T,1,true}, weights, res::AbstractArray{MIToS.MSA.Residue,1}) at /home/diego/.julia/v0.4/MIToS/src/Information/Probabilities.jl:216\n",
       "count!{T}(n::MIToS.Information.ResidueCount{T,1,false}, res::AbstractArray{MIToS.MSA.Residue,1}) at /home/diego/.julia/v0.4/MIToS/src/Information/Probabilities.jl:224\n",
       "count!{T}(n::MIToS.Information.ResidueCount{T,1,false}, weights, res::AbstractArray{MIToS.MSA.Residue,1}) at /home/diego/.julia/v0.4/MIToS/src/Information/Probabilities.jl:216\n",
       "count!{T}(n::MIToS.Information.ResidueCount{T,2,true}, res1::AbstractArray{MIToS.MSA.Residue,1}, res2::AbstractArray{MIToS.MSA.Residue,1}) at /home/diego/.julia/v0.4/MIToS/src/Information/Probabilities.jl:247\n",
       "count!{T}(n::MIToS.Information.ResidueCount{T,2,true}, weights, res1::AbstractArray{MIToS.MSA.Residue,1}, res2::AbstractArray{MIToS.MSA.Residue,1}) at /home/diego/.julia/v0.4/MIToS/src/Information/Probabilities.jl:230\n",
       "count!{T}(n::MIToS.Information.ResidueCount{T,2,false}, res1::AbstractArray{MIToS.MSA.Residue,1}, res2::AbstractArray{MIToS.MSA.Residue,1}) at /home/diego/.julia/v0.4/MIToS/src/Information/Probabilities.jl:248\n",
       "count!{T}(n::MIToS.Information.ResidueCount{T,2,false}, weights, res1::AbstractArray{MIToS.MSA.Residue,1}, res2::AbstractArray{MIToS.MSA.Residue,1}) at /home/diego/.julia/v0.4/MIToS/src/Information/Probabilities.jl:237\n",
       "count!{T,N,UseGap}(n::MIToS.Information.ResidueCount{T,N,UseGap}, res::AbstractArray{MIToS.MSA.Residue,1}...) at /home/diego/.julia/v0.4/MIToS/src/Information/Probabilities.jl:264\n",
       "count!{T,N,UseGap}(n::MIToS.Information.ResidueCount{T,N,UseGap}, weights, res::AbstractArray{MIToS.MSA.Residue,1}...) at /home/diego/.julia/v0.4/MIToS/src/Information/Probabilities.jl:251\n",
       "```\n"
      ],
      "text/plain": [
       "No documentation found.\n",
       "\n",
       "`MIToS.Information.count!` is a generic `Function`.\n",
       "\n",
       "```julia\n",
       "# 10 methods for generic function \"count!\":\n",
       "count!{T}(n::MIToS.Information.ResidueCount{T,1,true}, res::AbstractArray{MIToS.MSA.Residue,1}) at /home/diego/.julia/v0.4/MIToS/src/Information/Probabilities.jl:224\n",
       "count!{T}(n::MIToS.Information.ResidueCount{T,1,true}, weights, res::AbstractArray{MIToS.MSA.Residue,1}) at /home/diego/.julia/v0.4/MIToS/src/Information/Probabilities.jl:216\n",
       "count!{T}(n::MIToS.Information.ResidueCount{T,1,false}, res::AbstractArray{MIToS.MSA.Residue,1}) at /home/diego/.julia/v0.4/MIToS/src/Information/Probabilities.jl:224\n",
       "count!{T}(n::MIToS.Information.ResidueCount{T,1,false}, weights, res::AbstractArray{MIToS.MSA.Residue,1}) at /home/diego/.julia/v0.4/MIToS/src/Information/Probabilities.jl:216\n",
       "count!{T}(n::MIToS.Information.ResidueCount{T,2,true}, res1::AbstractArray{MIToS.MSA.Residue,1}, res2::AbstractArray{MIToS.MSA.Residue,1}) at /home/diego/.julia/v0.4/MIToS/src/Information/Probabilities.jl:247\n",
       "count!{T}(n::MIToS.Information.ResidueCount{T,2,true}, weights, res1::AbstractArray{MIToS.MSA.Residue,1}, res2::AbstractArray{MIToS.MSA.Residue,1}) at /home/diego/.julia/v0.4/MIToS/src/Information/Probabilities.jl:230\n",
       "count!{T}(n::MIToS.Information.ResidueCount{T,2,false}, res1::AbstractArray{MIToS.MSA.Residue,1}, res2::AbstractArray{MIToS.MSA.Residue,1}) at /home/diego/.julia/v0.4/MIToS/src/Information/Probabilities.jl:248\n",
       "count!{T}(n::MIToS.Information.ResidueCount{T,2,false}, weights, res1::AbstractArray{MIToS.MSA.Residue,1}, res2::AbstractArray{MIToS.MSA.Residue,1}) at /home/diego/.julia/v0.4/MIToS/src/Information/Probabilities.jl:237\n",
       "count!{T,N,UseGap}(n::MIToS.Information.ResidueCount{T,N,UseGap}, res::AbstractArray{MIToS.MSA.Residue,1}...) at /home/diego/.julia/v0.4/MIToS/src/Information/Probabilities.jl:264\n",
       "count!{T,N,UseGap}(n::MIToS.Information.ResidueCount{T,N,UseGap}, weights, res::AbstractArray{MIToS.MSA.Residue,1}...) at /home/diego/.julia/v0.4/MIToS/src/Information/Probabilities.jl:251\n",
       "```\n"
      ]
     },
     "execution_count": 30,
     "metadata": {},
     "output_type": "execute_result"
    }
   ],
   "source": [
    "?MIToS.Information.count!"
   ]
  },
  {
   "cell_type": "code",
   "execution_count": 31,
   "metadata": {
    "collapsed": false
   },
   "outputs": [
    {
     "data": {
      "text/latex": [
       "\\texttt{normalize!(p::ResidueProbability; updated::Bool=false)}\n",
       "This function makes the sum of the probabilities to be one. The sum is calculated using the \\texttt{probabilities} field by default (It is assumed that the marginal are not updated). The marginals are updated in the normalization.\n",
       "If the marginals are updated, you can use \\texttt{updated=true} for a faster normalization.\n"
      ],
      "text/markdown": [
       "`normalize!(p::ResidueProbability; updated::Bool=false)`\n",
       "\n",
       "This function makes the sum of the probabilities to be one. The sum is calculated using the `probabilities` field by default (It is assumed that the marginal are not updated). The marginals are updated in the normalization.\n",
       "\n",
       "If the marginals are updated, you can use `updated=true` for a faster normalization.\n"
      ],
      "text/plain": [
       "`normalize!(p::ResidueProbability; updated::Bool=false)`\n",
       "\n",
       "This function makes the sum of the probabilities to be one. The sum is calculated using the `probabilities` field by default (It is assumed that the marginal are not updated). The marginals are updated in the normalization.\n",
       "\n",
       "If the marginals are updated, you can use `updated=true` for a faster normalization.\n"
      ]
     },
     "execution_count": 31,
     "metadata": {},
     "output_type": "execute_result"
    }
   ],
   "source": [
    "?MIToS.Information.normalize!"
   ]
  },
  {
   "cell_type": "code",
   "execution_count": 32,
   "metadata": {
    "collapsed": false
   },
   "outputs": [
    {
     "data": {
      "text/latex": [
       "No documentation found.\n",
       "\\texttt{MIToS.Information.nresidues} is a generic \\texttt{Function}.\n",
       "\\begin{verbatim}\n",
       "# 2 methods for generic function \"nresidues\":\n",
       "nresidues{T,N}(n::MIToS.Information.ResidueContingencyTables{T,N,true}) at /home/diego/.julia/v0.4/MIToS/src/Information/Probabilities.jl:61\n",
       "nresidues{T,N}(n::MIToS.Information.ResidueContingencyTables{T,N,false}) at /home/diego/.julia/v0.4/MIToS/src/Information/Probabilities.jl:62\n",
       "\\end{verbatim}\n"
      ],
      "text/markdown": [
       "No documentation found.\n",
       "\n",
       "`MIToS.Information.nresidues` is a generic `Function`.\n",
       "\n",
       "```julia\n",
       "# 2 methods for generic function \"nresidues\":\n",
       "nresidues{T,N}(n::MIToS.Information.ResidueContingencyTables{T,N,true}) at /home/diego/.julia/v0.4/MIToS/src/Information/Probabilities.jl:61\n",
       "nresidues{T,N}(n::MIToS.Information.ResidueContingencyTables{T,N,false}) at /home/diego/.julia/v0.4/MIToS/src/Information/Probabilities.jl:62\n",
       "```\n"
      ],
      "text/plain": [
       "No documentation found.\n",
       "\n",
       "`MIToS.Information.nresidues` is a generic `Function`.\n",
       "\n",
       "```julia\n",
       "# 2 methods for generic function \"nresidues\":\n",
       "nresidues{T,N}(n::MIToS.Information.ResidueContingencyTables{T,N,true}) at /home/diego/.julia/v0.4/MIToS/src/Information/Probabilities.jl:61\n",
       "nresidues{T,N}(n::MIToS.Information.ResidueContingencyTables{T,N,false}) at /home/diego/.julia/v0.4/MIToS/src/Information/Probabilities.jl:62\n",
       "```\n"
      ]
     },
     "execution_count": 32,
     "metadata": {},
     "output_type": "execute_result"
    }
   ],
   "source": [
    "?MIToS.Information.nresidues"
   ]
  },
  {
   "cell_type": "code",
   "execution_count": 33,
   "metadata": {
    "collapsed": false
   },
   "outputs": [
    {
     "data": {
      "text/latex": [
       "No documentation found.\n",
       "\\texttt{MIToS.Information.update!} is a generic \\texttt{Function}.\n",
       "\\begin{verbatim}\n",
       "# 6 methods for generic function \"update!\":\n",
       "update!{T,UseGap}(n::MIToS.Information.ResidueCount{T,1,UseGap}) at /home/diego/.julia/v0.4/MIToS/src/Information/Probabilities.jl:131\n",
       "update!{T,UseGap}(n::MIToS.Information.ResidueCount{T,2,UseGap}) at /home/diego/.julia/v0.4/MIToS/src/Information/Probabilities.jl:137\n",
       "update!{T,N,UseGap}(n::MIToS.Information.ResidueCount{T,N,UseGap}) at /home/diego/.julia/v0.4/MIToS/src/Information/Probabilities.jl:144\n",
       "update!{T,UseGap}(p::MIToS.Information.ResidueProbability{T,1,UseGap}) at /home/diego/.julia/v0.4/MIToS/src/Information/Probabilities.jl:316\n",
       "update!{T,UseGap}(p::MIToS.Information.ResidueProbability{T,2,UseGap}) at /home/diego/.julia/v0.4/MIToS/src/Information/Probabilities.jl:321\n",
       "update!{T,N,UseGap}(p::MIToS.Information.ResidueProbability{T,N,UseGap}) at /home/diego/.julia/v0.4/MIToS/src/Information/Probabilities.jl:327\n",
       "\\end{verbatim}\n"
      ],
      "text/markdown": [
       "No documentation found.\n",
       "\n",
       "`MIToS.Information.update!` is a generic `Function`.\n",
       "\n",
       "```julia\n",
       "# 6 methods for generic function \"update!\":\n",
       "update!{T,UseGap}(n::MIToS.Information.ResidueCount{T,1,UseGap}) at /home/diego/.julia/v0.4/MIToS/src/Information/Probabilities.jl:131\n",
       "update!{T,UseGap}(n::MIToS.Information.ResidueCount{T,2,UseGap}) at /home/diego/.julia/v0.4/MIToS/src/Information/Probabilities.jl:137\n",
       "update!{T,N,UseGap}(n::MIToS.Information.ResidueCount{T,N,UseGap}) at /home/diego/.julia/v0.4/MIToS/src/Information/Probabilities.jl:144\n",
       "update!{T,UseGap}(p::MIToS.Information.ResidueProbability{T,1,UseGap}) at /home/diego/.julia/v0.4/MIToS/src/Information/Probabilities.jl:316\n",
       "update!{T,UseGap}(p::MIToS.Information.ResidueProbability{T,2,UseGap}) at /home/diego/.julia/v0.4/MIToS/src/Information/Probabilities.jl:321\n",
       "update!{T,N,UseGap}(p::MIToS.Information.ResidueProbability{T,N,UseGap}) at /home/diego/.julia/v0.4/MIToS/src/Information/Probabilities.jl:327\n",
       "```\n"
      ],
      "text/plain": [
       "No documentation found.\n",
       "\n",
       "`MIToS.Information.update!` is a generic `Function`.\n",
       "\n",
       "```julia\n",
       "# 6 methods for generic function \"update!\":\n",
       "update!{T,UseGap}(n::MIToS.Information.ResidueCount{T,1,UseGap}) at /home/diego/.julia/v0.4/MIToS/src/Information/Probabilities.jl:131\n",
       "update!{T,UseGap}(n::MIToS.Information.ResidueCount{T,2,UseGap}) at /home/diego/.julia/v0.4/MIToS/src/Information/Probabilities.jl:137\n",
       "update!{T,N,UseGap}(n::MIToS.Information.ResidueCount{T,N,UseGap}) at /home/diego/.julia/v0.4/MIToS/src/Information/Probabilities.jl:144\n",
       "update!{T,UseGap}(p::MIToS.Information.ResidueProbability{T,1,UseGap}) at /home/diego/.julia/v0.4/MIToS/src/Information/Probabilities.jl:316\n",
       "update!{T,UseGap}(p::MIToS.Information.ResidueProbability{T,2,UseGap}) at /home/diego/.julia/v0.4/MIToS/src/Information/Probabilities.jl:321\n",
       "update!{T,N,UseGap}(p::MIToS.Information.ResidueProbability{T,N,UseGap}) at /home/diego/.julia/v0.4/MIToS/src/Information/Probabilities.jl:327\n",
       "```\n"
      ]
     },
     "execution_count": 33,
     "metadata": {},
     "output_type": "execute_result"
    }
   ],
   "source": [
    "?MIToS.Information.update!"
   ]
  },
  {
   "cell_type": "code",
   "execution_count": 34,
   "metadata": {
    "collapsed": false
   },
   "outputs": [
    {
     "data": {
      "text/latex": [
       "No documentation found.\n",
       "\\texttt{MIToS.Information.apply_pseudocount!} is a generic \\texttt{Function}.\n",
       "\\begin{verbatim}\n",
       "# 5 methods for generic function \"apply_pseudocount!\":\n",
       "apply_pseudocount!{T}(n::MIToS.Information.ResidueCount{T,1,true}, pse::MIToS.Information.AdditiveSmoothing{T}) at /home/diego/.julia/v0.4/MIToS/src/Information/Probabilities.jl:168\n",
       "apply_pseudocount!{T}(n::MIToS.Information.ResidueCount{T,1,false}, pse::MIToS.Information.AdditiveSmoothing{T}) at /home/diego/.julia/v0.4/MIToS/src/Information/Probabilities.jl:168\n",
       "apply_pseudocount!{T}(n::MIToS.Information.ResidueCount{T,2,true}, pse::MIToS.Information.AdditiveSmoothing{T}) at /home/diego/.julia/v0.4/MIToS/src/Information/Probabilities.jl:168\n",
       "apply_pseudocount!{T}(n::MIToS.Information.ResidueCount{T,2,false}, pse::MIToS.Information.AdditiveSmoothing{T}) at /home/diego/.julia/v0.4/MIToS/src/Information/Probabilities.jl:168\n",
       "apply_pseudocount!{T,N,UseGap}(n::MIToS.Information.ResidueCount{T,N,UseGap}, pse::MIToS.Information.AdditiveSmoothing{T}) at /home/diego/.julia/v0.4/MIToS/src/Information/Probabilities.jl:190\n",
       "\\end{verbatim}\n"
      ],
      "text/markdown": [
       "No documentation found.\n",
       "\n",
       "`MIToS.Information.apply_pseudocount!` is a generic `Function`.\n",
       "\n",
       "```julia\n",
       "# 5 methods for generic function \"apply_pseudocount!\":\n",
       "apply_pseudocount!{T}(n::MIToS.Information.ResidueCount{T,1,true}, pse::MIToS.Information.AdditiveSmoothing{T}) at /home/diego/.julia/v0.4/MIToS/src/Information/Probabilities.jl:168\n",
       "apply_pseudocount!{T}(n::MIToS.Information.ResidueCount{T,1,false}, pse::MIToS.Information.AdditiveSmoothing{T}) at /home/diego/.julia/v0.4/MIToS/src/Information/Probabilities.jl:168\n",
       "apply_pseudocount!{T}(n::MIToS.Information.ResidueCount{T,2,true}, pse::MIToS.Information.AdditiveSmoothing{T}) at /home/diego/.julia/v0.4/MIToS/src/Information/Probabilities.jl:168\n",
       "apply_pseudocount!{T}(n::MIToS.Information.ResidueCount{T,2,false}, pse::MIToS.Information.AdditiveSmoothing{T}) at /home/diego/.julia/v0.4/MIToS/src/Information/Probabilities.jl:168\n",
       "apply_pseudocount!{T,N,UseGap}(n::MIToS.Information.ResidueCount{T,N,UseGap}, pse::MIToS.Information.AdditiveSmoothing{T}) at /home/diego/.julia/v0.4/MIToS/src/Information/Probabilities.jl:190\n",
       "```\n"
      ],
      "text/plain": [
       "No documentation found.\n",
       "\n",
       "`MIToS.Information.apply_pseudocount!` is a generic `Function`.\n",
       "\n",
       "```julia\n",
       "# 5 methods for generic function \"apply_pseudocount!\":\n",
       "apply_pseudocount!{T}(n::MIToS.Information.ResidueCount{T,1,true}, pse::MIToS.Information.AdditiveSmoothing{T}) at /home/diego/.julia/v0.4/MIToS/src/Information/Probabilities.jl:168\n",
       "apply_pseudocount!{T}(n::MIToS.Information.ResidueCount{T,1,false}, pse::MIToS.Information.AdditiveSmoothing{T}) at /home/diego/.julia/v0.4/MIToS/src/Information/Probabilities.jl:168\n",
       "apply_pseudocount!{T}(n::MIToS.Information.ResidueCount{T,2,true}, pse::MIToS.Information.AdditiveSmoothing{T}) at /home/diego/.julia/v0.4/MIToS/src/Information/Probabilities.jl:168\n",
       "apply_pseudocount!{T}(n::MIToS.Information.ResidueCount{T,2,false}, pse::MIToS.Information.AdditiveSmoothing{T}) at /home/diego/.julia/v0.4/MIToS/src/Information/Probabilities.jl:168\n",
       "apply_pseudocount!{T,N,UseGap}(n::MIToS.Information.ResidueCount{T,N,UseGap}, pse::MIToS.Information.AdditiveSmoothing{T}) at /home/diego/.julia/v0.4/MIToS/src/Information/Probabilities.jl:190\n",
       "```\n"
      ]
     },
     "execution_count": 34,
     "metadata": {},
     "output_type": "execute_result"
    }
   ],
   "source": [
    "?MIToS.Information.apply_pseudocount!"
   ]
  },
  {
   "cell_type": "code",
   "execution_count": 35,
   "metadata": {
    "collapsed": false
   },
   "outputs": [
    {
     "data": {
      "text/latex": [
       "No documentation found.\n",
       "\\texttt{MIToS.Information.blosum_pseudofrequencies!} is a generic \\texttt{Function}.\n",
       "\\begin{verbatim}\n",
       "# 1 method for generic function \"blosum_pseudofrequencies!\":\n",
       "blosum_pseudofrequencies!{T}(Gab::MIToS.Information.ResidueProbability{T,2,false}, Pab::MIToS.Information.ResidueProbability{T,2,false}) at /home/diego/.julia/v0.4/MIToS/src/Information/Probabilities.jl:393\n",
       "\\end{verbatim}\n"
      ],
      "text/markdown": [
       "No documentation found.\n",
       "\n",
       "`MIToS.Information.blosum_pseudofrequencies!` is a generic `Function`.\n",
       "\n",
       "```julia\n",
       "# 1 method for generic function \"blosum_pseudofrequencies!\":\n",
       "blosum_pseudofrequencies!{T}(Gab::MIToS.Information.ResidueProbability{T,2,false}, Pab::MIToS.Information.ResidueProbability{T,2,false}) at /home/diego/.julia/v0.4/MIToS/src/Information/Probabilities.jl:393\n",
       "```\n"
      ],
      "text/plain": [
       "No documentation found.\n",
       "\n",
       "`MIToS.Information.blosum_pseudofrequencies!` is a generic `Function`.\n",
       "\n",
       "```julia\n",
       "# 1 method for generic function \"blosum_pseudofrequencies!\":\n",
       "blosum_pseudofrequencies!{T}(Gab::MIToS.Information.ResidueProbability{T,2,false}, Pab::MIToS.Information.ResidueProbability{T,2,false}) at /home/diego/.julia/v0.4/MIToS/src/Information/Probabilities.jl:393\n",
       "```\n"
      ]
     },
     "execution_count": 35,
     "metadata": {},
     "output_type": "execute_result"
    }
   ],
   "source": [
    "?MIToS.Information.blosum_pseudofrequencies!"
   ]
  },
  {
   "cell_type": "code",
   "execution_count": 36,
   "metadata": {
    "collapsed": false
   },
   "outputs": [
    {
     "data": {
      "text/latex": [
       "No documentation found.\n",
       "\\texttt{MIToS.Information.apply_pseudofrequencies!} is a generic \\texttt{Function}.\n",
       "\\begin{verbatim}\n",
       "# 1 method for generic function \"apply_pseudofrequencies!\":\n",
       "apply_pseudofrequencies!{T}(Pab::MIToS.Information.ResidueProbability{T,2,false}, Gab::MIToS.Information.ResidueProbability{T,2,false}, α, β) at /home/diego/.julia/v0.4/MIToS/src/Information/Probabilities.jl:409\n",
       "\\end{verbatim}\n"
      ],
      "text/markdown": [
       "No documentation found.\n",
       "\n",
       "`MIToS.Information.apply_pseudofrequencies!` is a generic `Function`.\n",
       "\n",
       "```julia\n",
       "# 1 method for generic function \"apply_pseudofrequencies!\":\n",
       "apply_pseudofrequencies!{T}(Pab::MIToS.Information.ResidueProbability{T,2,false}, Gab::MIToS.Information.ResidueProbability{T,2,false}, α, β) at /home/diego/.julia/v0.4/MIToS/src/Information/Probabilities.jl:409\n",
       "```\n"
      ],
      "text/plain": [
       "No documentation found.\n",
       "\n",
       "`MIToS.Information.apply_pseudofrequencies!` is a generic `Function`.\n",
       "\n",
       "```julia\n",
       "# 1 method for generic function \"apply_pseudofrequencies!\":\n",
       "apply_pseudofrequencies!{T}(Pab::MIToS.Information.ResidueProbability{T,2,false}, Gab::MIToS.Information.ResidueProbability{T,2,false}, α, β) at /home/diego/.julia/v0.4/MIToS/src/Information/Probabilities.jl:409\n",
       "```\n"
      ]
     },
     "execution_count": 36,
     "metadata": {},
     "output_type": "execute_result"
    }
   ],
   "source": [
    "?MIToS.Information.apply_pseudofrequencies!"
   ]
  },
  {
   "cell_type": "code",
   "execution_count": 37,
   "metadata": {
    "collapsed": false
   },
   "outputs": [
    {
     "data": {
      "text/latex": [
       "```delete\\_dimensions!(out::ResidueContingencyTables, in::ResidueContingencyTables, dimensions::Int...)\n",
       "This function fills a ResidueContingencyTables with the counts/probabilities on \\texttt{in} after the deletion of \\texttt{dimensions}. i.e. This is useful for getting Pxy from Pxyz.\n"
      ],
      "text/markdown": [
       "```delete_dimensions!(out::ResidueContingencyTables, in::ResidueContingencyTables, dimensions::Int...)\n",
       "\n",
       "This function fills a ResidueContingencyTables with the counts/probabilities on `in` after the deletion of `dimensions`. i.e. This is useful for getting Pxy from Pxyz.\n"
      ],
      "text/plain": [
       "```delete_dimensions!(out::ResidueContingencyTables, in::ResidueContingencyTables, dimensions::Int...)\n",
       "\n",
       "This function fills a ResidueContingencyTables with the counts/probabilities on `in` after the deletion of `dimensions`. i.e. This is useful for getting Pxy from Pxyz.\n"
      ]
     },
     "execution_count": 37,
     "metadata": {},
     "output_type": "execute_result"
    }
   ],
   "source": [
    "?MIToS.Information.delete_dimensions!"
   ]
  },
  {
   "cell_type": "code",
   "execution_count": 38,
   "metadata": {
    "collapsed": false
   },
   "outputs": [
    {
     "data": {
      "text/latex": [
       "\\texttt{delete_dimensions(in::ResidueContingencyTables, dimensions::Int...)}\n",
       "This function creates a ResidueContingencyTables with the counts/probabilities on \\texttt{in} after the deletion of \\texttt{dimensions}. i.e. This is useful for getting Pxy from Pxyz.\n"
      ],
      "text/markdown": [
       "`delete_dimensions(in::ResidueContingencyTables, dimensions::Int...)`\n",
       "\n",
       "This function creates a ResidueContingencyTables with the counts/probabilities on `in` after the deletion of `dimensions`. i.e. This is useful for getting Pxy from Pxyz.\n"
      ],
      "text/plain": [
       "`delete_dimensions(in::ResidueContingencyTables, dimensions::Int...)`\n",
       "\n",
       "This function creates a ResidueContingencyTables with the counts/probabilities on `in` after the deletion of `dimensions`. i.e. This is useful for getting Pxy from Pxyz.\n"
      ]
     },
     "execution_count": 38,
     "metadata": {},
     "output_type": "execute_result"
    }
   ],
   "source": [
    "?MIToS.Information.delete_dimensions"
   ]
  },
  {
   "cell_type": "markdown",
   "metadata": {},
   "source": [
    "<a href=\"#\"><i class=\"fa fa-arrow-up\"></i></a>\n",
    "\n",
    "### Estimate"
   ]
  },
  {
   "cell_type": "code",
   "execution_count": 39,
   "metadata": {
    "collapsed": false
   },
   "outputs": [
    {
     "data": {
      "text/latex": [
       "\\texttt{estimate(MutualInformation(), pxy::ResidueCount [, base])}\n",
       "Calculate Mutual Information from \\texttt{ResidueCount}. The result type is determined by the \\texttt{base}. It's the fastest option (you don't spend time on probability calculations).\n",
       "\\texttt{estimate(MutualInformation(), pxy::ResidueProbability [, base])}\n",
       "Calculate Mutual Information from \\texttt{ResidueProbability}. The result type is determined by \\texttt{base}.\n",
       "\\texttt{estimate(Entropy(), n::ResidueCount [, base])}\n",
       "It's the fastest option (you don't spend time on probability calculations). The result type is determined by the \\texttt{base}.\n",
       "\\texttt{estimate(Entropy(base), p)}\n",
       "\\texttt{p} should be a \\texttt{ResidueProbability} table. The result type is determined by \\texttt{base}.\n"
      ],
      "text/markdown": [
       "`estimate(MutualInformation(), pxy::ResidueCount [, base])`\n",
       "\n",
       "Calculate Mutual Information from `ResidueCount`. The result type is determined by the `base`. It's the fastest option (you don't spend time on probability calculations).\n",
       "\n",
       "`estimate(MutualInformation(), pxy::ResidueProbability [, base])`\n",
       "\n",
       "Calculate Mutual Information from `ResidueProbability`. The result type is determined by `base`.\n",
       "\n",
       "`estimate(Entropy(), n::ResidueCount [, base])`\n",
       "\n",
       "It's the fastest option (you don't spend time on probability calculations). The result type is determined by the `base`.\n",
       "\n",
       "`estimate(Entropy(base), p)`\n",
       "\n",
       "`p` should be a `ResidueProbability` table. The result type is determined by `base`.\n"
      ],
      "text/plain": [
       "`estimate(MutualInformation(), pxy::ResidueCount [, base])`\n",
       "\n",
       "Calculate Mutual Information from `ResidueCount`. The result type is determined by the `base`. It's the fastest option (you don't spend time on probability calculations).\n",
       "\n",
       "`estimate(MutualInformation(), pxy::ResidueProbability [, base])`\n",
       "\n",
       "Calculate Mutual Information from `ResidueProbability`. The result type is determined by `base`.\n",
       "\n",
       "`estimate(Entropy(), n::ResidueCount [, base])`\n",
       "\n",
       "It's the fastest option (you don't spend time on probability calculations). The result type is determined by the `base`.\n",
       "\n",
       "`estimate(Entropy(base), p)`\n",
       "\n",
       "`p` should be a `ResidueProbability` table. The result type is determined by `base`.\n"
      ]
     },
     "execution_count": 39,
     "metadata": {},
     "output_type": "execute_result"
    }
   ],
   "source": [
    "?MIToS.Information.estimate"
   ]
  },
  {
   "cell_type": "code",
   "execution_count": 40,
   "metadata": {
    "collapsed": false
   },
   "outputs": [
    {
     "data": {
      "text/latex": [
       "\\texttt{estimate_on_marginal(Entropy(base), p, marginal)}\n",
       "This function estimate the entropy H(X) if marginal is 1, H(Y) for 2, etc. The result type is determined by \\texttt{base}.\n"
      ],
      "text/markdown": [
       "`estimate_on_marginal(Entropy(base), p, marginal)`\n",
       "\n",
       "This function estimate the entropy H(X) if marginal is 1, H(Y) for 2, etc. The result type is determined by `base`.\n"
      ],
      "text/plain": [
       "`estimate_on_marginal(Entropy(base), p, marginal)`\n",
       "\n",
       "This function estimate the entropy H(X) if marginal is 1, H(Y) for 2, etc. The result type is determined by `base`.\n"
      ]
     },
     "execution_count": 40,
     "metadata": {},
     "output_type": "execute_result"
    }
   ],
   "source": [
    "?MIToS.Information.estimate_on_marginal"
   ]
  },
  {
   "cell_type": "code",
   "execution_count": 41,
   "metadata": {
    "collapsed": false
   },
   "outputs": [
    {
     "data": {
      "text/latex": [
       "No documentation found.\n",
       "\\texttt{MIToS.Information.estimateinsequences} is a generic \\texttt{Function}.\n",
       "\\begin{verbatim}\n",
       "# 2 methods for generic function \"estimateinsequences\":\n",
       "estimateinsequences(aln::Array{MIToS.MSA.Residue,2}, args...) at /home/diego/.julia/v0.4/MIToS/src/Information/Iterations.jl:104\n",
       "estimateinsequences(aln::MIToS.MSA.AbstractMultipleSequenceAlignment, args...) at /home/diego/.julia/v0.4/MIToS/src/Information/Iterations.jl:105\n",
       "\\end{verbatim}\n"
      ],
      "text/markdown": [
       "No documentation found.\n",
       "\n",
       "`MIToS.Information.estimateinsequences` is a generic `Function`.\n",
       "\n",
       "```julia\n",
       "# 2 methods for generic function \"estimateinsequences\":\n",
       "estimateinsequences(aln::Array{MIToS.MSA.Residue,2}, args...) at /home/diego/.julia/v0.4/MIToS/src/Information/Iterations.jl:104\n",
       "estimateinsequences(aln::MIToS.MSA.AbstractMultipleSequenceAlignment, args...) at /home/diego/.julia/v0.4/MIToS/src/Information/Iterations.jl:105\n",
       "```\n"
      ],
      "text/plain": [
       "No documentation found.\n",
       "\n",
       "`MIToS.Information.estimateinsequences` is a generic `Function`.\n",
       "\n",
       "```julia\n",
       "# 2 methods for generic function \"estimateinsequences\":\n",
       "estimateinsequences(aln::Array{MIToS.MSA.Residue,2}, args...) at /home/diego/.julia/v0.4/MIToS/src/Information/Iterations.jl:104\n",
       "estimateinsequences(aln::MIToS.MSA.AbstractMultipleSequenceAlignment, args...) at /home/diego/.julia/v0.4/MIToS/src/Information/Iterations.jl:105\n",
       "```\n"
      ]
     },
     "execution_count": 41,
     "metadata": {},
     "output_type": "execute_result"
    }
   ],
   "source": [
    "?MIToS.Information.estimateinsequences"
   ]
  },
  {
   "cell_type": "code",
   "execution_count": 42,
   "metadata": {
    "collapsed": false
   },
   "outputs": [
    {
     "data": {
      "text/latex": [
       "No documentation found.\n",
       "\\texttt{MIToS.Information.estimateincolumns} is a generic \\texttt{Function}.\n",
       "\\begin{verbatim}\n",
       "# 22 methods for generic function \"estimateincolumns\":\n",
       "estimateincolumns{T,TP,UseGap}(aln::Array{MIToS.MSA.Residue,2}, use::Type{MIToS.Information.ResidueCount{T,1,UseGap}}, measure::MIToS.Information.InformationMeasure{TP}) at /home/diego/.julia/v0.4/MIToS/src/Information/Iterations.jl:7\n",
       "estimateincolumns{T,TP,UseGap}(aln::Array{MIToS.MSA.Residue,2}, use::Type{MIToS.Information.ResidueCount{T,1,UseGap}}, measure::MIToS.Information.InformationMeasure{TP}, pseudocount::MIToS.Information.Pseudocount{T}) at /home/diego/.julia/v0.4/MIToS/src/Information/Iterations.jl:7\n",
       "estimateincolumns{T,TP,UseGap}(aln::Array{MIToS.MSA.Residue,2}, use::Type{MIToS.Information.ResidueCount{T,1,UseGap}}, measure::MIToS.Information.InformationMeasure{TP}, pseudocount::MIToS.Information.Pseudocount{T}, weight::Union{AbstractArray{T,1},Clustering.ClusteringResult}) at /home/diego/.julia/v0.4/MIToS/src/Information/Iterations.jl:7\n",
       "estimateincolumns{T<:Real,TP,UseGap}(aln::Array{MIToS.MSA.Residue,2}, count::Type{T<:Real}, use::Type{MIToS.Information.ResidueProbability{TP,1,UseGap}}, measure::MIToS.Information.InformationMeasure{TP}) at /home/diego/.julia/v0.4/MIToS/src/Information/Iterations.jl:20\n",
       "estimateincolumns{T<:Real,TP,UseGap}(aln::Array{MIToS.MSA.Residue,2}, count::Type{T<:Real}, use::Type{MIToS.Information.ResidueProbability{TP,1,UseGap}}, measure::MIToS.Information.InformationMeasure{TP}, pseudocount::MIToS.Information.Pseudocount{T<:Real}) at /home/diego/.julia/v0.4/MIToS/src/Information/Iterations.jl:20\n",
       "estimateincolumns{T<:Real,TP,UseGap}(aln::Array{MIToS.MSA.Residue,2}, count::Type{T<:Real}, use::Type{MIToS.Information.ResidueProbability{TP,1,UseGap}}, measure::MIToS.Information.InformationMeasure{TP}, pseudocount::MIToS.Information.Pseudocount{T<:Real}, weight::Union{AbstractArray{T,1},Clustering.ClusteringResult}) at /home/diego/.julia/v0.4/MIToS/src/Information/Iterations.jl:20\n",
       "estimateincolumns{T,TP,UseGap}(aln::Array{MIToS.MSA.Residue,2}, use::Type{MIToS.Information.ResidueCount{T,2,UseGap}}, measure::MIToS.Information.SymmetricMeasure{TP}) at /home/diego/.julia/v0.4/MIToS/src/Information/Iterations.jl:35\n",
       "estimateincolumns{T,TP,UseGap}(aln::Array{MIToS.MSA.Residue,2}, use::Type{MIToS.Information.ResidueCount{T,2,UseGap}}, measure::MIToS.Information.SymmetricMeasure{TP}, pseudocount::MIToS.Information.Pseudocount{T}) at /home/diego/.julia/v0.4/MIToS/src/Information/Iterations.jl:35\n",
       "estimateincolumns{T,TP,UseGap}(aln::Array{MIToS.MSA.Residue,2}, use::Type{MIToS.Information.ResidueCount{T,2,UseGap}}, measure::MIToS.Information.SymmetricMeasure{TP}, pseudocount::MIToS.Information.Pseudocount{T}, weight::Union{AbstractArray{T,1},Clustering.ClusteringResult}) at /home/diego/.julia/v0.4/MIToS/src/Information/Iterations.jl:35\n",
       "estimateincolumns{T,TP,UseGap}(aln::Array{MIToS.MSA.Residue,2}, use::Type{MIToS.Information.ResidueCount{T,2,UseGap}}, measure::MIToS.Information.SymmetricMeasure{TP}, pseudocount::MIToS.Information.Pseudocount{T}, weight::Union{AbstractArray{T,1},Clustering.ClusteringResult}, usediagonal::Bool) at /home/diego/.julia/v0.4/MIToS/src/Information/Iterations.jl:35\n",
       "estimateincolumns{T,TP,UseGap}(aln::Array{MIToS.MSA.Residue,2}, use::Type{MIToS.Information.ResidueCount{T,2,UseGap}}, measure::MIToS.Information.SymmetricMeasure{TP}, pseudocount::MIToS.Information.Pseudocount{T}, weight::Union{AbstractArray{T,1},Clustering.ClusteringResult}, usediagonal::Bool, diagonalvalue::TP) at /home/diego/.julia/v0.4/MIToS/src/Information/Iterations.jl:35\n",
       "estimateincolumns{T<:Real,TP,UseGap}(aln::Array{MIToS.MSA.Residue,2}, count::Type{T<:Real}, use::Type{MIToS.Information.ResidueProbability{TP,2,UseGap}}, measure::MIToS.Information.SymmetricMeasure{TP}) at /home/diego/.julia/v0.4/MIToS/src/Information/Iterations.jl:56\n",
       "estimateincolumns{T<:Real,TP,UseGap}(aln::Array{MIToS.MSA.Residue,2}, count::Type{T<:Real}, use::Type{MIToS.Information.ResidueProbability{TP,2,UseGap}}, measure::MIToS.Information.SymmetricMeasure{TP}, pseudocount::MIToS.Information.Pseudocount{T<:Real}) at /home/diego/.julia/v0.4/MIToS/src/Information/Iterations.jl:56\n",
       "estimateincolumns{T<:Real,TP,UseGap}(aln::Array{MIToS.MSA.Residue,2}, count::Type{T<:Real}, use::Type{MIToS.Information.ResidueProbability{TP,2,UseGap}}, measure::MIToS.Information.SymmetricMeasure{TP}, pseudocount::MIToS.Information.Pseudocount{T<:Real}, weight::Union{AbstractArray{T,1},Clustering.ClusteringResult}) at /home/diego/.julia/v0.4/MIToS/src/Information/Iterations.jl:56\n",
       "estimateincolumns{T<:Real,TP,UseGap}(aln::Array{MIToS.MSA.Residue,2}, count::Type{T<:Real}, use::Type{MIToS.Information.ResidueProbability{TP,2,UseGap}}, measure::MIToS.Information.SymmetricMeasure{TP}, pseudocount::MIToS.Information.Pseudocount{T<:Real}, weight::Union{AbstractArray{T,1},Clustering.ClusteringResult}, usediagonal::Bool) at /home/diego/.julia/v0.4/MIToS/src/Information/Iterations.jl:56\n",
       "estimateincolumns{T<:Real,TP,UseGap}(aln::Array{MIToS.MSA.Residue,2}, count::Type{T<:Real}, use::Type{MIToS.Information.ResidueProbability{TP,2,UseGap}}, measure::MIToS.Information.SymmetricMeasure{TP}, pseudocount::MIToS.Information.Pseudocount{T<:Real}, weight::Union{AbstractArray{T,1},Clustering.ClusteringResult}, usediagonal::Bool, diagonalvalue::TP) at /home/diego/.julia/v0.4/MIToS/src/Information/Iterations.jl:56\n",
       "estimateincolumns{T<:Real,TP}(aln::Array{MIToS.MSA.Residue,2}, count::Type{T<:Real}, use::Type{MIToS.Information.ResidueProbability{TP,2,false}}, α, β, measure::MIToS.Information.SymmetricMeasure{TP}) at /home/diego/.julia/v0.4/MIToS/src/Information/Iterations.jl:79\n",
       "estimateincolumns{T<:Real,TP}(aln::Array{MIToS.MSA.Residue,2}, count::Type{T<:Real}, use::Type{MIToS.Information.ResidueProbability{TP,2,false}}, α, β, measure::MIToS.Information.SymmetricMeasure{TP}, pseudocount::MIToS.Information.Pseudocount{T<:Real}) at /home/diego/.julia/v0.4/MIToS/src/Information/Iterations.jl:79\n",
       "estimateincolumns{T<:Real,TP}(aln::Array{MIToS.MSA.Residue,2}, count::Type{T<:Real}, use::Type{MIToS.Information.ResidueProbability{TP,2,false}}, α, β, measure::MIToS.Information.SymmetricMeasure{TP}, pseudocount::MIToS.Information.Pseudocount{T<:Real}, weight::Union{AbstractArray{T,1},Clustering.ClusteringResult}) at /home/diego/.julia/v0.4/MIToS/src/Information/Iterations.jl:79\n",
       "estimateincolumns{T<:Real,TP}(aln::Array{MIToS.MSA.Residue,2}, count::Type{T<:Real}, use::Type{MIToS.Information.ResidueProbability{TP,2,false}}, α, β, measure::MIToS.Information.SymmetricMeasure{TP}, pseudocount::MIToS.Information.Pseudocount{T<:Real}, weight::Union{AbstractArray{T,1},Clustering.ClusteringResult}, usediagonal::Bool) at /home/diego/.julia/v0.4/MIToS/src/Information/Iterations.jl:79\n",
       "estimateincolumns{T<:Real,TP}(aln::Array{MIToS.MSA.Residue,2}, count::Type{T<:Real}, use::Type{MIToS.Information.ResidueProbability{TP,2,false}}, α, β, measure::MIToS.Information.SymmetricMeasure{TP}, pseudocount::MIToS.Information.Pseudocount{T<:Real}, weight::Union{AbstractArray{T,1},Clustering.ClusteringResult}, usediagonal::Bool, diagonalvalue::TP) at /home/diego/.julia/v0.4/MIToS/src/Information/Iterations.jl:79\n",
       "estimateincolumns(aln::MIToS.MSA.AbstractMultipleSequenceAlignment, args...) at /home/diego/.julia/v0.4/MIToS/src/Information/Iterations.jl:102\n",
       "\\end{verbatim}\n"
      ],
      "text/markdown": [
       "No documentation found.\n",
       "\n",
       "`MIToS.Information.estimateincolumns` is a generic `Function`.\n",
       "\n",
       "```julia\n",
       "# 22 methods for generic function \"estimateincolumns\":\n",
       "estimateincolumns{T,TP,UseGap}(aln::Array{MIToS.MSA.Residue,2}, use::Type{MIToS.Information.ResidueCount{T,1,UseGap}}, measure::MIToS.Information.InformationMeasure{TP}) at /home/diego/.julia/v0.4/MIToS/src/Information/Iterations.jl:7\n",
       "estimateincolumns{T,TP,UseGap}(aln::Array{MIToS.MSA.Residue,2}, use::Type{MIToS.Information.ResidueCount{T,1,UseGap}}, measure::MIToS.Information.InformationMeasure{TP}, pseudocount::MIToS.Information.Pseudocount{T}) at /home/diego/.julia/v0.4/MIToS/src/Information/Iterations.jl:7\n",
       "estimateincolumns{T,TP,UseGap}(aln::Array{MIToS.MSA.Residue,2}, use::Type{MIToS.Information.ResidueCount{T,1,UseGap}}, measure::MIToS.Information.InformationMeasure{TP}, pseudocount::MIToS.Information.Pseudocount{T}, weight::Union{AbstractArray{T,1},Clustering.ClusteringResult}) at /home/diego/.julia/v0.4/MIToS/src/Information/Iterations.jl:7\n",
       "estimateincolumns{T<:Real,TP,UseGap}(aln::Array{MIToS.MSA.Residue,2}, count::Type{T<:Real}, use::Type{MIToS.Information.ResidueProbability{TP,1,UseGap}}, measure::MIToS.Information.InformationMeasure{TP}) at /home/diego/.julia/v0.4/MIToS/src/Information/Iterations.jl:20\n",
       "estimateincolumns{T<:Real,TP,UseGap}(aln::Array{MIToS.MSA.Residue,2}, count::Type{T<:Real}, use::Type{MIToS.Information.ResidueProbability{TP,1,UseGap}}, measure::MIToS.Information.InformationMeasure{TP}, pseudocount::MIToS.Information.Pseudocount{T<:Real}) at /home/diego/.julia/v0.4/MIToS/src/Information/Iterations.jl:20\n",
       "estimateincolumns{T<:Real,TP,UseGap}(aln::Array{MIToS.MSA.Residue,2}, count::Type{T<:Real}, use::Type{MIToS.Information.ResidueProbability{TP,1,UseGap}}, measure::MIToS.Information.InformationMeasure{TP}, pseudocount::MIToS.Information.Pseudocount{T<:Real}, weight::Union{AbstractArray{T,1},Clustering.ClusteringResult}) at /home/diego/.julia/v0.4/MIToS/src/Information/Iterations.jl:20\n",
       "estimateincolumns{T,TP,UseGap}(aln::Array{MIToS.MSA.Residue,2}, use::Type{MIToS.Information.ResidueCount{T,2,UseGap}}, measure::MIToS.Information.SymmetricMeasure{TP}) at /home/diego/.julia/v0.4/MIToS/src/Information/Iterations.jl:35\n",
       "estimateincolumns{T,TP,UseGap}(aln::Array{MIToS.MSA.Residue,2}, use::Type{MIToS.Information.ResidueCount{T,2,UseGap}}, measure::MIToS.Information.SymmetricMeasure{TP}, pseudocount::MIToS.Information.Pseudocount{T}) at /home/diego/.julia/v0.4/MIToS/src/Information/Iterations.jl:35\n",
       "estimateincolumns{T,TP,UseGap}(aln::Array{MIToS.MSA.Residue,2}, use::Type{MIToS.Information.ResidueCount{T,2,UseGap}}, measure::MIToS.Information.SymmetricMeasure{TP}, pseudocount::MIToS.Information.Pseudocount{T}, weight::Union{AbstractArray{T,1},Clustering.ClusteringResult}) at /home/diego/.julia/v0.4/MIToS/src/Information/Iterations.jl:35\n",
       "estimateincolumns{T,TP,UseGap}(aln::Array{MIToS.MSA.Residue,2}, use::Type{MIToS.Information.ResidueCount{T,2,UseGap}}, measure::MIToS.Information.SymmetricMeasure{TP}, pseudocount::MIToS.Information.Pseudocount{T}, weight::Union{AbstractArray{T,1},Clustering.ClusteringResult}, usediagonal::Bool) at /home/diego/.julia/v0.4/MIToS/src/Information/Iterations.jl:35\n",
       "estimateincolumns{T,TP,UseGap}(aln::Array{MIToS.MSA.Residue,2}, use::Type{MIToS.Information.ResidueCount{T,2,UseGap}}, measure::MIToS.Information.SymmetricMeasure{TP}, pseudocount::MIToS.Information.Pseudocount{T}, weight::Union{AbstractArray{T,1},Clustering.ClusteringResult}, usediagonal::Bool, diagonalvalue::TP) at /home/diego/.julia/v0.4/MIToS/src/Information/Iterations.jl:35\n",
       "estimateincolumns{T<:Real,TP,UseGap}(aln::Array{MIToS.MSA.Residue,2}, count::Type{T<:Real}, use::Type{MIToS.Information.ResidueProbability{TP,2,UseGap}}, measure::MIToS.Information.SymmetricMeasure{TP}) at /home/diego/.julia/v0.4/MIToS/src/Information/Iterations.jl:56\n",
       "estimateincolumns{T<:Real,TP,UseGap}(aln::Array{MIToS.MSA.Residue,2}, count::Type{T<:Real}, use::Type{MIToS.Information.ResidueProbability{TP,2,UseGap}}, measure::MIToS.Information.SymmetricMeasure{TP}, pseudocount::MIToS.Information.Pseudocount{T<:Real}) at /home/diego/.julia/v0.4/MIToS/src/Information/Iterations.jl:56\n",
       "estimateincolumns{T<:Real,TP,UseGap}(aln::Array{MIToS.MSA.Residue,2}, count::Type{T<:Real}, use::Type{MIToS.Information.ResidueProbability{TP,2,UseGap}}, measure::MIToS.Information.SymmetricMeasure{TP}, pseudocount::MIToS.Information.Pseudocount{T<:Real}, weight::Union{AbstractArray{T,1},Clustering.ClusteringResult}) at /home/diego/.julia/v0.4/MIToS/src/Information/Iterations.jl:56\n",
       "estimateincolumns{T<:Real,TP,UseGap}(aln::Array{MIToS.MSA.Residue,2}, count::Type{T<:Real}, use::Type{MIToS.Information.ResidueProbability{TP,2,UseGap}}, measure::MIToS.Information.SymmetricMeasure{TP}, pseudocount::MIToS.Information.Pseudocount{T<:Real}, weight::Union{AbstractArray{T,1},Clustering.ClusteringResult}, usediagonal::Bool) at /home/diego/.julia/v0.4/MIToS/src/Information/Iterations.jl:56\n",
       "estimateincolumns{T<:Real,TP,UseGap}(aln::Array{MIToS.MSA.Residue,2}, count::Type{T<:Real}, use::Type{MIToS.Information.ResidueProbability{TP,2,UseGap}}, measure::MIToS.Information.SymmetricMeasure{TP}, pseudocount::MIToS.Information.Pseudocount{T<:Real}, weight::Union{AbstractArray{T,1},Clustering.ClusteringResult}, usediagonal::Bool, diagonalvalue::TP) at /home/diego/.julia/v0.4/MIToS/src/Information/Iterations.jl:56\n",
       "estimateincolumns{T<:Real,TP}(aln::Array{MIToS.MSA.Residue,2}, count::Type{T<:Real}, use::Type{MIToS.Information.ResidueProbability{TP,2,false}}, α, β, measure::MIToS.Information.SymmetricMeasure{TP}) at /home/diego/.julia/v0.4/MIToS/src/Information/Iterations.jl:79\n",
       "estimateincolumns{T<:Real,TP}(aln::Array{MIToS.MSA.Residue,2}, count::Type{T<:Real}, use::Type{MIToS.Information.ResidueProbability{TP,2,false}}, α, β, measure::MIToS.Information.SymmetricMeasure{TP}, pseudocount::MIToS.Information.Pseudocount{T<:Real}) at /home/diego/.julia/v0.4/MIToS/src/Information/Iterations.jl:79\n",
       "estimateincolumns{T<:Real,TP}(aln::Array{MIToS.MSA.Residue,2}, count::Type{T<:Real}, use::Type{MIToS.Information.ResidueProbability{TP,2,false}}, α, β, measure::MIToS.Information.SymmetricMeasure{TP}, pseudocount::MIToS.Information.Pseudocount{T<:Real}, weight::Union{AbstractArray{T,1},Clustering.ClusteringResult}) at /home/diego/.julia/v0.4/MIToS/src/Information/Iterations.jl:79\n",
       "estimateincolumns{T<:Real,TP}(aln::Array{MIToS.MSA.Residue,2}, count::Type{T<:Real}, use::Type{MIToS.Information.ResidueProbability{TP,2,false}}, α, β, measure::MIToS.Information.SymmetricMeasure{TP}, pseudocount::MIToS.Information.Pseudocount{T<:Real}, weight::Union{AbstractArray{T,1},Clustering.ClusteringResult}, usediagonal::Bool) at /home/diego/.julia/v0.4/MIToS/src/Information/Iterations.jl:79\n",
       "estimateincolumns{T<:Real,TP}(aln::Array{MIToS.MSA.Residue,2}, count::Type{T<:Real}, use::Type{MIToS.Information.ResidueProbability{TP,2,false}}, α, β, measure::MIToS.Information.SymmetricMeasure{TP}, pseudocount::MIToS.Information.Pseudocount{T<:Real}, weight::Union{AbstractArray{T,1},Clustering.ClusteringResult}, usediagonal::Bool, diagonalvalue::TP) at /home/diego/.julia/v0.4/MIToS/src/Information/Iterations.jl:79\n",
       "estimateincolumns(aln::MIToS.MSA.AbstractMultipleSequenceAlignment, args...) at /home/diego/.julia/v0.4/MIToS/src/Information/Iterations.jl:102\n",
       "```\n"
      ],
      "text/plain": [
       "No documentation found.\n",
       "\n",
       "`MIToS.Information.estimateincolumns` is a generic `Function`.\n",
       "\n",
       "```julia\n",
       "# 22 methods for generic function \"estimateincolumns\":\n",
       "estimateincolumns{T,TP,UseGap}(aln::Array{MIToS.MSA.Residue,2}, use::Type{MIToS.Information.ResidueCount{T,1,UseGap}}, measure::MIToS.Information.InformationMeasure{TP}) at /home/diego/.julia/v0.4/MIToS/src/Information/Iterations.jl:7\n",
       "estimateincolumns{T,TP,UseGap}(aln::Array{MIToS.MSA.Residue,2}, use::Type{MIToS.Information.ResidueCount{T,1,UseGap}}, measure::MIToS.Information.InformationMeasure{TP}, pseudocount::MIToS.Information.Pseudocount{T}) at /home/diego/.julia/v0.4/MIToS/src/Information/Iterations.jl:7\n",
       "estimateincolumns{T,TP,UseGap}(aln::Array{MIToS.MSA.Residue,2}, use::Type{MIToS.Information.ResidueCount{T,1,UseGap}}, measure::MIToS.Information.InformationMeasure{TP}, pseudocount::MIToS.Information.Pseudocount{T}, weight::Union{AbstractArray{T,1},Clustering.ClusteringResult}) at /home/diego/.julia/v0.4/MIToS/src/Information/Iterations.jl:7\n",
       "estimateincolumns{T<:Real,TP,UseGap}(aln::Array{MIToS.MSA.Residue,2}, count::Type{T<:Real}, use::Type{MIToS.Information.ResidueProbability{TP,1,UseGap}}, measure::MIToS.Information.InformationMeasure{TP}) at /home/diego/.julia/v0.4/MIToS/src/Information/Iterations.jl:20\n",
       "estimateincolumns{T<:Real,TP,UseGap}(aln::Array{MIToS.MSA.Residue,2}, count::Type{T<:Real}, use::Type{MIToS.Information.ResidueProbability{TP,1,UseGap}}, measure::MIToS.Information.InformationMeasure{TP}, pseudocount::MIToS.Information.Pseudocount{T<:Real}) at /home/diego/.julia/v0.4/MIToS/src/Information/Iterations.jl:20\n",
       "estimateincolumns{T<:Real,TP,UseGap}(aln::Array{MIToS.MSA.Residue,2}, count::Type{T<:Real}, use::Type{MIToS.Information.ResidueProbability{TP,1,UseGap}}, measure::MIToS.Information.InformationMeasure{TP}, pseudocount::MIToS.Information.Pseudocount{T<:Real}, weight::Union{AbstractArray{T,1},Clustering.ClusteringResult}) at /home/diego/.julia/v0.4/MIToS/src/Information/Iterations.jl:20\n",
       "estimateincolumns{T,TP,UseGap}(aln::Array{MIToS.MSA.Residue,2}, use::Type{MIToS.Information.ResidueCount{T,2,UseGap}}, measure::MIToS.Information.SymmetricMeasure{TP}) at /home/diego/.julia/v0.4/MIToS/src/Information/Iterations.jl:35\n",
       "estimateincolumns{T,TP,UseGap}(aln::Array{MIToS.MSA.Residue,2}, use::Type{MIToS.Information.ResidueCount{T,2,UseGap}}, measure::MIToS.Information.SymmetricMeasure{TP}, pseudocount::MIToS.Information.Pseudocount{T}) at /home/diego/.julia/v0.4/MIToS/src/Information/Iterations.jl:35\n",
       "estimateincolumns{T,TP,UseGap}(aln::Array{MIToS.MSA.Residue,2}, use::Type{MIToS.Information.ResidueCount{T,2,UseGap}}, measure::MIToS.Information.SymmetricMeasure{TP}, pseudocount::MIToS.Information.Pseudocount{T}, weight::Union{AbstractArray{T,1},Clustering.ClusteringResult}) at /home/diego/.julia/v0.4/MIToS/src/Information/Iterations.jl:35\n",
       "estimateincolumns{T,TP,UseGap}(aln::Array{MIToS.MSA.Residue,2}, use::Type{MIToS.Information.ResidueCount{T,2,UseGap}}, measure::MIToS.Information.SymmetricMeasure{TP}, pseudocount::MIToS.Information.Pseudocount{T}, weight::Union{AbstractArray{T,1},Clustering.ClusteringResult}, usediagonal::Bool) at /home/diego/.julia/v0.4/MIToS/src/Information/Iterations.jl:35\n",
       "estimateincolumns{T,TP,UseGap}(aln::Array{MIToS.MSA.Residue,2}, use::Type{MIToS.Information.ResidueCount{T,2,UseGap}}, measure::MIToS.Information.SymmetricMeasure{TP}, pseudocount::MIToS.Information.Pseudocount{T}, weight::Union{AbstractArray{T,1},Clustering.ClusteringResult}, usediagonal::Bool, diagonalvalue::TP) at /home/diego/.julia/v0.4/MIToS/src/Information/Iterations.jl:35\n",
       "estimateincolumns{T<:Real,TP,UseGap}(aln::Array{MIToS.MSA.Residue,2}, count::Type{T<:Real}, use::Type{MIToS.Information.ResidueProbability{TP,2,UseGap}}, measure::MIToS.Information.SymmetricMeasure{TP}) at /home/diego/.julia/v0.4/MIToS/src/Information/Iterations.jl:56\n",
       "estimateincolumns{T<:Real,TP,UseGap}(aln::Array{MIToS.MSA.Residue,2}, count::Type{T<:Real}, use::Type{MIToS.Information.ResidueProbability{TP,2,UseGap}}, measure::MIToS.Information.SymmetricMeasure{TP}, pseudocount::MIToS.Information.Pseudocount{T<:Real}) at /home/diego/.julia/v0.4/MIToS/src/Information/Iterations.jl:56\n",
       "estimateincolumns{T<:Real,TP,UseGap}(aln::Array{MIToS.MSA.Residue,2}, count::Type{T<:Real}, use::Type{MIToS.Information.ResidueProbability{TP,2,UseGap}}, measure::MIToS.Information.SymmetricMeasure{TP}, pseudocount::MIToS.Information.Pseudocount{T<:Real}, weight::Union{AbstractArray{T,1},Clustering.ClusteringResult}) at /home/diego/.julia/v0.4/MIToS/src/Information/Iterations.jl:56\n",
       "estimateincolumns{T<:Real,TP,UseGap}(aln::Array{MIToS.MSA.Residue,2}, count::Type{T<:Real}, use::Type{MIToS.Information.ResidueProbability{TP,2,UseGap}}, measure::MIToS.Information.SymmetricMeasure{TP}, pseudocount::MIToS.Information.Pseudocount{T<:Real}, weight::Union{AbstractArray{T,1},Clustering.ClusteringResult}, usediagonal::Bool) at /home/diego/.julia/v0.4/MIToS/src/Information/Iterations.jl:56\n",
       "estimateincolumns{T<:Real,TP,UseGap}(aln::Array{MIToS.MSA.Residue,2}, count::Type{T<:Real}, use::Type{MIToS.Information.ResidueProbability{TP,2,UseGap}}, measure::MIToS.Information.SymmetricMeasure{TP}, pseudocount::MIToS.Information.Pseudocount{T<:Real}, weight::Union{AbstractArray{T,1},Clustering.ClusteringResult}, usediagonal::Bool, diagonalvalue::TP) at /home/diego/.julia/v0.4/MIToS/src/Information/Iterations.jl:56\n",
       "estimateincolumns{T<:Real,TP}(aln::Array{MIToS.MSA.Residue,2}, count::Type{T<:Real}, use::Type{MIToS.Information.ResidueProbability{TP,2,false}}, α, β, measure::MIToS.Information.SymmetricMeasure{TP}) at /home/diego/.julia/v0.4/MIToS/src/Information/Iterations.jl:79\n",
       "estimateincolumns{T<:Real,TP}(aln::Array{MIToS.MSA.Residue,2}, count::Type{T<:Real}, use::Type{MIToS.Information.ResidueProbability{TP,2,false}}, α, β, measure::MIToS.Information.SymmetricMeasure{TP}, pseudocount::MIToS.Information.Pseudocount{T<:Real}) at /home/diego/.julia/v0.4/MIToS/src/Information/Iterations.jl:79\n",
       "estimateincolumns{T<:Real,TP}(aln::Array{MIToS.MSA.Residue,2}, count::Type{T<:Real}, use::Type{MIToS.Information.ResidueProbability{TP,2,false}}, α, β, measure::MIToS.Information.SymmetricMeasure{TP}, pseudocount::MIToS.Information.Pseudocount{T<:Real}, weight::Union{AbstractArray{T,1},Clustering.ClusteringResult}) at /home/diego/.julia/v0.4/MIToS/src/Information/Iterations.jl:79\n",
       "estimateincolumns{T<:Real,TP}(aln::Array{MIToS.MSA.Residue,2}, count::Type{T<:Real}, use::Type{MIToS.Information.ResidueProbability{TP,2,false}}, α, β, measure::MIToS.Information.SymmetricMeasure{TP}, pseudocount::MIToS.Information.Pseudocount{T<:Real}, weight::Union{AbstractArray{T,1},Clustering.ClusteringResult}, usediagonal::Bool) at /home/diego/.julia/v0.4/MIToS/src/Information/Iterations.jl:79\n",
       "estimateincolumns{T<:Real,TP}(aln::Array{MIToS.MSA.Residue,2}, count::Type{T<:Real}, use::Type{MIToS.Information.ResidueProbability{TP,2,false}}, α, β, measure::MIToS.Information.SymmetricMeasure{TP}, pseudocount::MIToS.Information.Pseudocount{T<:Real}, weight::Union{AbstractArray{T,1},Clustering.ClusteringResult}, usediagonal::Bool, diagonalvalue::TP) at /home/diego/.julia/v0.4/MIToS/src/Information/Iterations.jl:79\n",
       "estimateincolumns(aln::MIToS.MSA.AbstractMultipleSequenceAlignment, args...) at /home/diego/.julia/v0.4/MIToS/src/Information/Iterations.jl:102\n",
       "```\n"
      ]
     },
     "execution_count": 42,
     "metadata": {},
     "output_type": "execute_result"
    }
   ],
   "source": [
    "?MIToS.Information.estimateincolumns"
   ]
  },
  {
   "cell_type": "markdown",
   "metadata": {},
   "source": [
    "<a href=\"#\"><i class=\"fa fa-arrow-up\"></i></a>\n",
    "\n",
    "### Measures"
   ]
  },
  {
   "cell_type": "code",
   "execution_count": 43,
   "metadata": {
    "collapsed": false
   },
   "outputs": [
    {
     "data": {
      "text/latex": [
       "This function takes a MSA or a file and a \\texttt{Format} as first arguments. Calculates a Z score and a corrected MI/MIp as described on \\textbf{Busjle et. al. 2009}\n",
       "Argument, type, default value and descriptions:\n",
       "\\begin{itemize}\n",
       "\\item lambda      Float64   0.05    Low count value\n",
       "\\item clustering  Bool      true    Sequence clustering (Hobohm I)\n",
       "\\item threshold             62      Percent identity threshold for clustering\n",
       "\\item maxgap      Float64   0.5     Maximum fraction of gaps in positions included in calculation\n",
       "\\item apc         Bool      true    Use APC correction (MIp)\n",
       "\\item usegap      Bool      false   Use gaps on statistics\n",
       "\\item samples     Int       100     Number of samples for Z-score\n",
       "\\item fixedgaps   Bool      true    Fix gaps positions for the random samples\n",
       "\\end{itemize}\n",
       "This function returns:\n",
       "\\begin{itemize}\n",
       "\\item Z score\n",
       "\\item MI or MIp\n",
       "\\end{itemize}\n"
      ],
      "text/markdown": [
       "This function takes a MSA or a file and a `Format` as first arguments. Calculates a Z score and a corrected MI/MIp as described on **Busjle et. al. 2009**\n",
       "\n",
       "Argument, type, default value and descriptions:\n",
       "\n",
       "  * lambda      Float64   0.05    Low count value\n",
       "  * clustering  Bool      true    Sequence clustering (Hobohm I)\n",
       "  * threshold             62      Percent identity threshold for clustering\n",
       "  * maxgap      Float64   0.5     Maximum fraction of gaps in positions included in calculation\n",
       "  * apc         Bool      true    Use APC correction (MIp)\n",
       "  * usegap      Bool      false   Use gaps on statistics\n",
       "  * samples     Int       100     Number of samples for Z-score\n",
       "  * fixedgaps   Bool      true    Fix gaps positions for the random samples\n",
       "\n",
       "This function returns:\n",
       "\n",
       "  * Z score\n",
       "  * MI or MIp\n"
      ],
      "text/plain": [
       "This function takes a MSA or a file and a `Format` as first arguments. Calculates a Z score and a corrected MI/MIp as described on **Busjle et. al. 2009**\n",
       "\n",
       "Argument, type, default value and descriptions:\n",
       "\n",
       "  * lambda      Float64   0.05    Low count value\n",
       "  * clustering  Bool      true    Sequence clustering (Hobohm I)\n",
       "  * threshold             62      Percent identity threshold for clustering\n",
       "  * maxgap      Float64   0.5     Maximum fraction of gaps in positions included in calculation\n",
       "  * apc         Bool      true    Use APC correction (MIp)\n",
       "  * usegap      Bool      false   Use gaps on statistics\n",
       "  * samples     Int       100     Number of samples for Z-score\n",
       "  * fixedgaps   Bool      true    Fix gaps positions for the random samples\n",
       "\n",
       "This function returns:\n",
       "\n",
       "  * Z score\n",
       "  * MI or MIp\n"
      ]
     },
     "execution_count": 43,
     "metadata": {},
     "output_type": "execute_result"
    }
   ],
   "source": [
    "?MIToS.Information.buslje09"
   ]
  },
  {
   "cell_type": "code",
   "execution_count": 44,
   "metadata": {
    "collapsed": false
   },
   "outputs": [
    {
     "data": {
      "text/latex": [
       "This function takes a MSA or a file and a \\texttt{Format} as first arguments. Calculates a Z score (ZBLMI) and a corrected MI/MIp as described on \\textbf{Busjle et. al. 2009} but using using BLOSUM62 pseudo frequencies instead of a fixed pseudocount.\n",
       "Argument, type, default value and descriptions:\n",
       "\\begin{itemize}\n",
       "\\item beta        Float64   8.512   β for BLOSUM62 pseudo frequencies\n",
       "\\item lambda      Float64   0.0     Low count value\n",
       "\\item threshold             62      Percent identity threshold for sequence clustering (Hobohm I)\n",
       "\\item maxgap      Float64   0.5     Maximum fraction of gaps in positions included in calculation\n",
       "\\item apc         Bool      true    Use APC correction (MIp)\n",
       "\\item samples     Int       50      Number of samples for Z-score\n",
       "\\item fixedgaps   Bool      true    Fix gaps positions for the random samples\n",
       "\\end{itemize}\n",
       "This function returns:\n",
       "\\begin{itemize}\n",
       "\\item Z score (ZBLMI)\n",
       "\\item MI or MIp using BLOSUM62 pseudo frequencies (BLMI/BLMIp)\n",
       "\\end{itemize}\n"
      ],
      "text/markdown": [
       "This function takes a MSA or a file and a `Format` as first arguments. Calculates a Z score (ZBLMI) and a corrected MI/MIp as described on **Busjle et. al. 2009** but using using BLOSUM62 pseudo frequencies instead of a fixed pseudocount.\n",
       "\n",
       "Argument, type, default value and descriptions:\n",
       "\n",
       "  * beta        Float64   8.512   β for BLOSUM62 pseudo frequencies\n",
       "  * lambda      Float64   0.0     Low count value\n",
       "  * threshold             62      Percent identity threshold for sequence clustering (Hobohm I)\n",
       "  * maxgap      Float64   0.5     Maximum fraction of gaps in positions included in calculation\n",
       "  * apc         Bool      true    Use APC correction (MIp)\n",
       "  * samples     Int       50      Number of samples for Z-score\n",
       "  * fixedgaps   Bool      true    Fix gaps positions for the random samples\n",
       "\n",
       "This function returns:\n",
       "\n",
       "  * Z score (ZBLMI)\n",
       "  * MI or MIp using BLOSUM62 pseudo frequencies (BLMI/BLMIp)\n"
      ],
      "text/plain": [
       "This function takes a MSA or a file and a `Format` as first arguments. Calculates a Z score (ZBLMI) and a corrected MI/MIp as described on **Busjle et. al. 2009** but using using BLOSUM62 pseudo frequencies instead of a fixed pseudocount.\n",
       "\n",
       "Argument, type, default value and descriptions:\n",
       "\n",
       "  * beta        Float64   8.512   β for BLOSUM62 pseudo frequencies\n",
       "  * lambda      Float64   0.0     Low count value\n",
       "  * threshold             62      Percent identity threshold for sequence clustering (Hobohm I)\n",
       "  * maxgap      Float64   0.5     Maximum fraction of gaps in positions included in calculation\n",
       "  * apc         Bool      true    Use APC correction (MIp)\n",
       "  * samples     Int       50      Number of samples for Z-score\n",
       "  * fixedgaps   Bool      true    Fix gaps positions for the random samples\n",
       "\n",
       "This function returns:\n",
       "\n",
       "  * Z score (ZBLMI)\n",
       "  * MI or MIp using BLOSUM62 pseudo frequencies (BLMI/BLMIp)\n"
      ]
     },
     "execution_count": 44,
     "metadata": {},
     "output_type": "execute_result"
    }
   ],
   "source": [
    "?MIToS.Information.BLMI"
   ]
  },
  {
   "cell_type": "code",
   "execution_count": 45,
   "metadata": {
    "collapsed": false
   },
   "outputs": [
    {
     "data": {
      "text/latex": [
       "This function takes a MSA or a file and a \\texttt{Format} as first arguments. Calculates the percentage of gaps on columns pairs (union and intersection) using sequence clustering (Hobohm I).\n",
       "Argument, type, default value and descriptions:\n",
       "\\begin{itemize}\n",
       "\\item clustering  Bool      true    Sequence clustering (Hobohm I)\n",
       "\\item threshold             62      Percent identity threshold for sequence clustering (Hobohm I)\n",
       "\\end{itemize}\n",
       "This function returns:\n",
       "\\begin{itemize}\n",
       "\\item pairwise gap percentage (union)\n",
       "\\item pairwise gap percentage (intersection)\n",
       "\\end{itemize}\n"
      ],
      "text/markdown": [
       "This function takes a MSA or a file and a `Format` as first arguments. Calculates the percentage of gaps on columns pairs (union and intersection) using sequence clustering (Hobohm I).\n",
       "\n",
       "Argument, type, default value and descriptions:\n",
       "\n",
       "  * clustering  Bool      true    Sequence clustering (Hobohm I)\n",
       "  * threshold             62      Percent identity threshold for sequence clustering (Hobohm I)\n",
       "\n",
       "This function returns:\n",
       "\n",
       "  * pairwise gap percentage (union)\n",
       "  * pairwise gap percentage (intersection)\n"
      ],
      "text/plain": [
       "This function takes a MSA or a file and a `Format` as first arguments. Calculates the percentage of gaps on columns pairs (union and intersection) using sequence clustering (Hobohm I).\n",
       "\n",
       "Argument, type, default value and descriptions:\n",
       "\n",
       "  * clustering  Bool      true    Sequence clustering (Hobohm I)\n",
       "  * threshold             62      Percent identity threshold for sequence clustering (Hobohm I)\n",
       "\n",
       "This function returns:\n",
       "\n",
       "  * pairwise gap percentage (union)\n",
       "  * pairwise gap percentage (intersection)\n"
      ]
     },
     "execution_count": 45,
     "metadata": {},
     "output_type": "execute_result"
    }
   ],
   "source": [
    "?MIToS.Information.pairwisegapfraction"
   ]
  },
  {
   "cell_type": "markdown",
   "metadata": {},
   "source": [
    "<a href=\"#\"><i class=\"fa fa-arrow-up\"></i></a>"
   ]
  }
 ],
 "metadata": {
  "kernelspec": {
   "display_name": "Julia 0.4.1",
   "language": "julia",
   "name": "julia-0.4"
  },
  "language_info": {
   "file_extension": ".jl",
   "mimetype": "application/julia",
   "name": "julia",
   "version": "0.4.1"
  }
 },
 "nbformat": 4,
 "nbformat_minor": 0
}
