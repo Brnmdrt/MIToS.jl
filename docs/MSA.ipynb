{
 "cells": [
  {
   "cell_type": "markdown",
   "metadata": {},
   "source": [
    "# MSA"
   ]
  },
  {
   "cell_type": "markdown",
   "metadata": {
    "collapsed": false
   },
   "source": [
    "The MSA module of MIToS has utilities for working with Multiple Sequence Alignments of protein Sequences (MSA).\n",
    "\n",
    "## Features\n",
    "\n",
    "- [**Read**](#Reading-MSA-files) and [**write**](#Writing-MSA-files) MSAs in `Stockholm`, `FASTA` or `Raw` format\n",
    "- Handle MSA annotations\n",
    "- Edit the MSA, e.g. delete columns or sequences, change sequence order, shuffling...\n",
    "- Keep track of positions and annotations after modifications on the MSA\n",
    "- Describe a MSA, e.g. mean percent identity, sequence coverage, gap percentage..."
   ]
  },
  {
   "cell_type": "code",
   "execution_count": 1,
   "metadata": {
    "collapsed": false
   },
   "outputs": [
    {
     "name": "stderr",
     "output_type": "stream",
     "text": [
      "INFO: Recompiling stale cache file /home/dzea/.julia/lib/v0.4/MIToS.ji for module MIToS.\n"
     ]
    }
   ],
   "source": [
    "using MIToS.MSA"
   ]
  },
  {
   "cell_type": "markdown",
   "metadata": {},
   "source": [
    "## MSA IO"
   ]
  },
  {
   "cell_type": "markdown",
   "metadata": {},
   "source": [
    "### Reading MSA files"
   ]
  },
  {
   "cell_type": "markdown",
   "metadata": {},
   "source": [
    "The main function for reading files in MIToS is `read` and it is defined in the `Utils` module. This function takes a filename/path and lot of arguments, opens the file and uses the arguments to call the `parse` function. `read` decides how to open the file, using the prefixes and suffixes of the file name, while `parse` does the actual parsing of the file. You can `read` **gzipped files** if they have the `.gz` extension and also **files of the web**.  \n",
    "The second argument of `read` and `parse` is the file `Format`. The supported MSA formats at the moment are `Stockholm`, `FASTA` and `Raw`.  \n",
    "For example, reading in Julia the full Stockholm MSA of the family PF07388 using the Pfam RESTful interface will be:"
   ]
  },
  {
   "cell_type": "code",
   "execution_count": 8,
   "metadata": {
    "collapsed": false
   },
   "outputs": [
    {
     "name": "stderr",
     "output_type": "stream",
     "text": [
      "  % Total    % Received % Xferd  Average Speed   Time    Time     Time  Current\n",
      "                                 Dload  Upload   Total   Spent    Left  Speed\n",
      "100  4168  100  4168    0     0   6882      0 --:--:-- --:--:-- --:--:--  6889\n"
     ]
    },
    {
     "data": {
      "text/plain": [
       "4x458 MIToS.MSA.AnnotatedMultipleSequenceAlignment:\n",
       " -  -  -  -  -  -  -  -  -  -  -  -  -  …  -  -  -  -  -  -  -  -  -  -  -  -\n",
       " M  L  K  K  I  K  K  A  L  F  Q  P  K     -  -  -  -  -  -  -  -  -  -  -  -\n",
       " -  -  K  K  L  S  G  L  M  Q  D  I  K     D  F  Q  K  Y  R  I  K  Y  L  Q  L\n",
       " -  -  -  -  -  -  -  -  -  -  -  -  -     -  -  -  -  -  -  -  -  -  -  -  -"
      ]
     },
     "execution_count": 8,
     "metadata": {},
     "output_type": "execute_result"
    }
   ],
   "source": [
    "read(\"http://pfam.xfam.org/family/PF07388/alignment/full\", Stockholm)"
   ]
  },
  {
   "cell_type": "markdown",
   "metadata": {},
   "source": [
    "The third (and optional) argument of `read` and `parse` is the output MSA type:  \n",
    "  \n",
    "<p>\n",
    "    <dl>\n",
    "    \n",
    "        <dt><code>Matrix{Residue}</code></dt>\n",
    "        <dd>It is the default output format for a <code>Raw</code> file.</dd>\n",
    "        \n",
    "        <dt><code>MultipleSequenceAlignment</code></dt>\n",
    "        <dd>It contains the sequence names/identifiers.</dd>\n",
    "        \n",
    "        <dt><code>AnnotatedMultipleSequenceAlignment</code></dt>\n",
    "        <dd>The richest MSA format of MIToS and the default for <code>FASTA</code> and <code>Stockholm</code> files. It includes sequences names and MSA annotations.</dd>\n",
    "       \n",
    "    </dl>\n",
    "</p>\n"
   ]
  },
  {
   "cell_type": "code",
   "execution_count": 9,
   "metadata": {
    "collapsed": false
   },
   "outputs": [
    {
     "name": "stderr",
     "output_type": "stream",
     "text": [
      "  % Total    % Received % Xferd  Average Speed   Time    Time     Time  Current\n",
      "                                 Dload  Upload   Total   Spent    Left  Speed\n",
      "100  4168  100  4168    0     0   1138      0  0:00:03  0:00:03 --:--:--  1138"
     ]
    },
    {
     "data": {
      "text/plain": [
       "4x458 Array{MIToS.MSA.Residue,2}:\n",
       " -  -  -  -  -  -  -  -  -  -  -  -  -  …  -  -  -  -  -  -  -  -  -  -  -  -\n",
       " M  L  K  K  I  K  K  A  L  F  Q  P  K     -  -  -  -  -  -  -  -  -  -  -  -\n",
       " -  -  K  K  L  S  G  L  M  Q  D  I  K     D  F  Q  K  Y  R  I  K  Y  L  Q  L\n",
       " -  -  -  -  -  -  -  -  -  -  -  -  -     -  -  -  -  -  -  -  -  -  -  -  -"
      ]
     },
     "execution_count": 9,
     "metadata": {},
     "output_type": "execute_result"
    },
    {
     "name": "stderr",
     "output_type": "stream",
     "text": [
      "\r",
      "100  4168  100  4168    0     0   1138      0  0:00:03  0:00:03 --:--:--  1138\n"
     ]
    }
   ],
   "source": [
    "read(\"http://pfam.xfam.org/family/PF07388/alignment/full\", Stockholm, Matrix{Residue})"
   ]
  },
  {
   "cell_type": "markdown",
   "metadata": {},
   "source": [
    "Given that `read` call `parse`, you should look into the documentation of the last one to know the available keyword arguments. The optional keyword arguments using in MSA IO are:\n",
    "\n",
    "<p>\n",
    "<dl class=\"dl-horizontal\">\n",
    "\n",
    "<dt><code>generatemapping</code></dt>\n",
    "<dd>\n",
    "If <code>checkalphabet</code> is <code>true</code> (default to <code>false</code>), sequence and columns mapping are generated and saved in the MSA annotations. <span class=\"text-warning\">The default is <code>false</code> to not overwrite mappings by mistake when you read an annotated MSA file saved with MIToS.</span>\n",
    "</dd>\n",
    "\n",
    "<dt><code>useidcoordinates</code></dt>\n",
    "<dd>\n",
    "If <code>useidcoordinates</code> is <code>true</code> (default to <code>false</code>), MIToS uses the coordinates in the sequence names of the form <i>seqname/start-end</i> to generate sequence mappings. This is safe and useful with fresh downloaded Pfam MSAs. <span class=\"text-warning\">Please be careful if you are reading a MSA saved with MIToS. MIToS deletes unaligned insert columns, therefore the sequences would be disrupted if there were insert columns.</span>\n",
    "</dd>\n",
    "\n",
    "<dt><code>checkalphabet</code></dt>\n",
    "<dd>\n",
    "The <code>parse</code> function converts each character in sequence strings to a MIToS <code>Residue</code>. Lowercase characters, dots and degenerated or non standard residues are converted to gaps. If <code>checkalphabet</code> is <code>true</code> (<code>false</code> by default), <code>read</code> deletes all the sequences with non-standard residues. The 20 natural residues are A, R, N, D, C, Q, E, G, H, I, L, K, M, F, P, S, T, W, Y and V.\n",
    "</dd>\n",
    "\n",
    "<dt><code>deletefullgaps</code></dt>\n",
    "<dd>\n",
    "Given that lowercase characters and dots are converted to gaps, unaligned insert columns in a MSA derived from a HMM profile are converted into full gap columns. <code>deletefullgaps</code> is <code>true</code> by default, deleting full gaps columns and therefore insert columns.\n",
    "</dd>\n",
    "\n",
    "</dl>\n",
    "</p>\n",
    "\n",
    "<div class=\"panel panel-warning\">\n",
    "<div class=\"panel-heading\">\n",
    "\t\t<strong>If you are deriving scores from gaps...</strong>\n",
    "\t</div>\n",
    "\t<div class=\"panel-body\">\n",
    "\t\tIf you are using MIToS to derive information scores from gaps, you will want to set <code>checkalphabet</code> to <code>true</code>. This prevents counting non standard residues as gaps.\n",
    "\t</div>\n",
    "</div>"
   ]
  },
  {
   "cell_type": "markdown",
   "metadata": {},
   "source": [
    "When `read` returns an `AnnotatedMultipleSequenceAlignment`, it uses the MSA `Annotations` to inform about performed modifications on the MSA. To access this notes, use `printmodifications`:"
   ]
  },
  {
   "cell_type": "code",
   "execution_count": 16,
   "metadata": {
    "collapsed": false
   },
   "outputs": [
    {
     "name": "stderr",
     "output_type": "stream",
     "text": [
      "  % Total    % Received % Xferd  Average Speed   Time    Time     Time  Current\n",
      "                                 Dload  Upload   Total   Spent    Left  Speed\n",
      "100 10.0M  100 10.0M    0     0   891k      0  0:00:11  0:00:11 --:--:-- 1289k\n"
     ]
    },
    {
     "data": {
      "text/plain": [
       "12364x139 MIToS.MSA.AnnotatedMultipleSequenceAlignment:\n",
       " P  S  L  I  A  R  C  K  S  A  D  D  V  …  V  V  T  A  D  G  R  Q  L  -  -  -\n",
       " P  L  V  I  V  T  A  L  N  V  A  H  I     L  I  D  V  K  G  R  I  L  -  -  -\n",
       " -  -  -  -  -  -  -  -  -  -  -  -  -     L  V  L  A  D  G  S  L  V  R  C  S\n",
       " P  S  Y  V  V  K  A  T  N  V  A  Q  I     V  V  T  P  D  G  R  F  V  T  A  -\n",
       " P  R  A  A  V  R  C  A  T  A  E  A  V     L  F  E  G  T  G  V  V  E  W  V  -\n",
       " P  D  V  V  V  L  P  K  N  V  G  Q  V  …  V  V  L  P  N  G  D  V  L  -  -  -\n",
       " -  A  Y  Y  I  T  P  H  N  E  T  A  L     -  V  -  -  -  -  -  -  -  -  -  -\n",
       " P  L  C  I  V  T  P  R  N  A  S  H  V     M  V  D  A  N  G  N  L  L  -  -  -\n",
       " P  S  I  V  I  A  P  G  T  E  N  D  V     I  V  L  A  N  G  D  F  -  -  -  -\n",
       " P  A  A  V  L  R  P  R  S  A  Q  D  I     V  V  T  G  T  G  E  L  V  R  C  S\n",
       " -  -  -  -  -  -  -  -  -  -  -  -  -  …  V  C  D  G  D  -  -  -  -  -  -  -\n",
       " P  P  F  V  V  N  A  T  E  P  G  H  V     V  V  T  P  T  G  E  V  V  A  -  -\n",
       " -  -  L  I  L  L  P  K  S  T  D  K  V     V  V  L  P  N  G  E  V  I  -  -  -\n",
       " ⋮              ⋮              ⋮        ⋱           ⋮              ⋮         \n",
       " P  S  C  I  I  F  P  K  T  T  D  E  L     M  V  F  A  N  G  T  I  -  -  -  -\n",
       " -  K  L  V  L  K  P  A  S  T  E  E  V     A  V  L  P  D  G  T  V  V  D  -  -\n",
       " -  -  S  I  V  R  P  T  E  V  Q  H  V     V  V  S  D  S  G  E  A  -  -  -  -\n",
       " -  -  -  -  I  E  I  A  D  A  A  E  L  …  Y  L  S  P  -  -  -  -  -  -  -  -\n",
       " P  A  Y  V  V  N  V  T  K  A  E  D  I     M  V  T  P  S  G  K  I  L  T  I  -\n",
       " P  S  A  I  L  Q  P  N  S  V  D  E  I     V  I  T  G  T  G  E  I  V  R  C  S\n",
       " P  R  V  V  V  L  P  L  D  V  R  D  V     V  V  L  A  N  G  D  Y  V  H  V  -\n",
       " -  D  V  F  V  L  P  E  T  E  E  E  A     V  L  T  K  E  G  D  I  L  I  L  -\n",
       " P  D  A  V  V  F  V  E  T  I  S  Q  V  …  V  V  L  A  D  G  T  L  V  K  L  -\n",
       " P  A  C  V  F  V  P  E  S  A  S  D  V     I  V  L  A  D  G  E  L  T  T  V  -\n",
       " -  -  -  -  -  -  -  -  -  -  -  -  -     V  L  M  S  D  G  E  L  R  N  -  -\n",
       " -  -  -  -  -  -  -  -  -  -  -  -  -     V  V  S  G  R  G  E  A  F  K  -  -"
      ]
     },
     "execution_count": 16,
     "metadata": {},
     "output_type": "execute_result"
    }
   ],
   "source": [
    "msa = read(\"http://pfam.xfam.org/family/PF01565/alignment/full\", Stockholm, checkalphabet=true)"
   ]
  },
  {
   "cell_type": "code",
   "execution_count": 17,
   "metadata": {
    "collapsed": false
   },
   "outputs": [
    {
     "name": "stdout",
     "output_type": "stream",
     "text": [
      "-------------------\n",
      "2016-03-04T09:28:31\n",
      "\n",
      "deletenotalphabetsequences!  :  Deletes 21 sequences with ambiguous or not standard residues (Alphabet: ARNDCQEGHILKMFPSTWYV-. )\n",
      "filtersequences! : 21 sequences have been deleted.\n",
      "deletefullgaps!  :  Deletes 621 columns full of gaps (inserts generate full gap columns on MIToS because lowercase and dots are not allowed)\n",
      "filtercolumns! : 621 columns have been deleted.\n"
     ]
    }
   ],
   "source": [
    "printmodifications(msa)"
   ]
  },
  {
   "cell_type": "markdown",
   "metadata": {},
   "source": [
    "### Writing MSA files"
   ]
  },
  {
   "cell_type": "code",
   "execution_count": null,
   "metadata": {
    "collapsed": true
   },
   "outputs": [],
   "source": []
  },
  {
   "cell_type": "code",
   "execution_count": null,
   "metadata": {
    "collapsed": true
   },
   "outputs": [],
   "source": []
  },
  {
   "cell_type": "code",
   "execution_count": null,
   "metadata": {
    "collapsed": true
   },
   "outputs": [],
   "source": []
  },
  {
   "cell_type": "code",
   "execution_count": null,
   "metadata": {
    "collapsed": true
   },
   "outputs": [],
   "source": []
  },
  {
   "cell_type": "code",
   "execution_count": null,
   "metadata": {
    "collapsed": true
   },
   "outputs": [],
   "source": []
  },
  {
   "cell_type": "code",
   "execution_count": 6,
   "metadata": {
    "collapsed": false
   },
   "outputs": [
    {
     "name": "stderr",
     "output_type": "stream",
     "text": [
      "WARNING: names(v) is deprecated, use fieldnames(v) instead.\n"
     ]
    },
    {
     "data": {
      "text/plain": [
       "3-element Array{Symbol,1}:\n",
       " :id         \n",
       " :msa        \n",
       " :annotations"
      ]
     },
     "execution_count": 6,
     "metadata": {},
     "output_type": "execute_result"
    },
    {
     "name": "stderr",
     "output_type": "stream",
     "text": [
      " in depwarn at deprecated.jl:73\n",
      " in names at deprecated.jl:50\n",
      " in include_string at loading.jl:266\n",
      " in execute_request_0x535c5df2 at /home/dzea/.julia/v0.4/IJulia/src/execute_request.jl:177\n",
      " in eventloop at /home/dzea/.julia/v0.4/IJulia/src/IJulia.jl:141\n",
      " in anonymous at task.jl:447\n",
      "while loading In[6], in expression starting on line 1\n"
     ]
    }
   ],
   "source": [
    "names(msa)"
   ]
  },
  {
   "cell_type": "code",
   "execution_count": 4,
   "metadata": {
    "collapsed": false
   },
   "outputs": [
    {
     "name": "stderr",
     "output_type": "stream",
     "text": [
      "  % Total    % Received % Xferd  Average Speed   Time    Time     Time  Current\n",
      "                                 Dload  Upload   Total   Spent    Left  Speed\n",
      "100  4168  100  4168    0     0   7701      0 --:--:-- --:--:-- --:--:--  7690"
     ]
    },
    {
     "data": {
      "text/plain": [
       "4x458 MIToS.MSA.AnnotatedMultipleSequenceAlignment:\n",
       " -  -  -  -  -  -  -  -  -  -  -  -  -  …  -  -  -  -  -  -  -  -  -  -  -  -\n",
       " M  L  K  K  I  K  K  A  L  F  Q  P  K     -  -  -  -  -  -  -  -  -  -  -  -\n",
       " -  -  K  K  L  S  G  L  M  Q  D  I  K     D  F  Q  K  Y  R  I  K  Y  L  Q  L\n",
       " -  -  -  -  -  -  -  -  -  -  -  -  -     -  -  -  -  -  -  -  -  -  -  -  -"
      ]
     },
     "execution_count": 4,
     "metadata": {},
     "output_type": "execute_result"
    },
    {
     "name": "stderr",
     "output_type": "stream",
     "text": [
      "\r",
      "100  4168  100  4168    0     0   7700      0 --:--:-- --:--:-- --:--:--  7690\n"
     ]
    }
   ],
   "source": [
    "msa = read( \"http://pfam.xfam.org/family/PF07388/alignment/full\", \n",
    "            Stockholm, generatemapping=true, useidcoordinates=true, \n",
    "            checkalphabet=true)"
   ]
  },
  {
   "cell_type": "code",
   "execution_count": null,
   "metadata": {
    "collapsed": true
   },
   "outputs": [],
   "source": []
  },
  {
   "cell_type": "code",
   "execution_count": null,
   "metadata": {
    "collapsed": false
   },
   "outputs": [],
   "source": [
    "?MIToS.MSA.@res_str"
   ]
  },
  {
   "cell_type": "code",
   "execution_count": null,
   "metadata": {
    "collapsed": true
   },
   "outputs": [],
   "source": []
  },
  {
   "cell_type": "markdown",
   "metadata": {},
   "source": [
    "<div class=\"panel panel-info\">\n",
    "    <div class=\"panel-heading\">\n",
    "        <strong>Julia help mode</strong>\n",
    "    </div>\n",
    "    <div class=\"panel-body\">\n",
    "        <p>If you type <code>?</code> at the beginning of the Julia REPL line, you will enter in the Julia help mode. In this mode, Julia prints the help or <strong>documentation</strong> of the entered element. This is a nice way of getting information about MIToS functions, types, etc. from Julia.</p>\n",
    "    </div>\n",
    "</div>"
   ]
  },
  {
   "cell_type": "code",
   "execution_count": null,
   "metadata": {
    "collapsed": false
   },
   "outputs": [],
   "source": [
    "?MIToS.MSA.AbstractMultipleSequenceAlignment"
   ]
  },
  {
   "cell_type": "code",
   "execution_count": null,
   "metadata": {
    "collapsed": false
   },
   "outputs": [],
   "source": [
    "msa = read(msa_file, Stockholm, Matrix{Residue})"
   ]
  },
  {
   "cell_type": "code",
   "execution_count": null,
   "metadata": {
    "collapsed": false
   },
   "outputs": [],
   "source": [
    "?MIToS.MSA.MultipleSequenceAlignment"
   ]
  },
  {
   "cell_type": "code",
   "execution_count": null,
   "metadata": {
    "collapsed": false
   },
   "outputs": [],
   "source": [
    "msa = read(msa_file, Stockholm, MultipleSequenceAlignment)"
   ]
  },
  {
   "cell_type": "code",
   "execution_count": null,
   "metadata": {
    "collapsed": false
   },
   "outputs": [],
   "source": [
    "msa.id"
   ]
  },
  {
   "cell_type": "code",
   "execution_count": null,
   "metadata": {
    "collapsed": false
   },
   "outputs": [],
   "source": [
    "msa[\"F112_SSV1/3-112\"]"
   ]
  },
  {
   "cell_type": "markdown",
   "metadata": {},
   "source": [
    "Similar to this, MIToS defines an `AnnotatedMultipleSequenceAlignment` that also includes annotations."
   ]
  },
  {
   "cell_type": "code",
   "execution_count": null,
   "metadata": {
    "collapsed": false
   },
   "outputs": [],
   "source": [
    "fieldnames(AnnotatedMultipleSequenceAlignment)"
   ]
  },
  {
   "cell_type": "code",
   "execution_count": null,
   "metadata": {
    "collapsed": false
   },
   "outputs": [],
   "source": [
    "msa = read(msa_file, Stockholm, AnnotatedMultipleSequenceAlignment, generatemapping=true, useidcoordinates=true)"
   ]
  },
  {
   "cell_type": "code",
   "execution_count": null,
   "metadata": {
    "collapsed": false
   },
   "outputs": [],
   "source": [
    "msa.annotations"
   ]
  },
  {
   "cell_type": "markdown",
   "metadata": {},
   "source": [
    "## MSA annotations"
   ]
  },
  {
   "cell_type": "code",
   "execution_count": null,
   "metadata": {
    "collapsed": false
   },
   "outputs": [],
   "source": [
    "?MIToS.MSA.Annotations"
   ]
  },
  {
   "cell_type": "code",
   "execution_count": null,
   "metadata": {
    "collapsed": false
   },
   "outputs": [],
   "source": [
    "fieldnames(Annotations)"
   ]
  },
  {
   "cell_type": "markdown",
   "metadata": {},
   "source": [
    "MIToS uses MSA annotations to keep track of:  \n",
    "- **Modifications** of the MSA (`MIToS_...`) as deletion of sequences or columns.  \n",
    "- Positions numbers in the original MSA file (**column mapping:** `ColMap`)  \n",
    "- Position of the residues in the sequence (**sequence mapping:** `SeqMap`)  "
   ]
  },
  {
   "cell_type": "code",
   "execution_count": null,
   "metadata": {
    "collapsed": false
   },
   "outputs": [],
   "source": [
    "printmodifications(msa)"
   ]
  },
  {
   "cell_type": "code",
   "execution_count": null,
   "metadata": {
    "collapsed": false
   },
   "outputs": [],
   "source": [
    "getcolumnmapping(msa)"
   ]
  },
  {
   "cell_type": "code",
   "execution_count": null,
   "metadata": {
    "collapsed": false
   },
   "outputs": [],
   "source": [
    "getsequencemapping(msa,\"F112_SSV1/3-112\")"
   ]
  },
  {
   "cell_type": "code",
   "execution_count": null,
   "metadata": {
    "collapsed": true
   },
   "outputs": [],
   "source": []
  }
 ],
 "metadata": {
  "kernelspec": {
   "display_name": "Julia 0.4.2",
   "language": "julia",
   "name": "julia-0.4"
  },
  "language_info": {
   "file_extension": ".jl",
   "mimetype": "application/julia",
   "name": "julia",
   "version": "0.4.2"
  }
 },
 "nbformat": 4,
 "nbformat_minor": 0
}
