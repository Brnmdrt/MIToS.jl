{
 "cells": [
  {
   "cell_type": "code",
   "execution_count": 1,
   "metadata": {
    "collapsed": false
   },
   "outputs": [
    {
     "name": "stderr",
     "output_type": "stream",
     "text": [
      "INFO: Recompiling stale cache file /home/diego/.julia/lib/v0.4/MIToS.ji for module MIToS.\n"
     ]
    }
   ],
   "source": [
    "using MIToS.MSA"
   ]
  },
  {
   "cell_type": "code",
   "execution_count": 2,
   "metadata": {
    "collapsed": false
   },
   "outputs": [
    {
     "data": {
      "text/latex": [
       "\\subsection{MSA}\n",
       "The MSA module of MIToS has utilities for working with Multiple Sequence Alignments of protein Sequences (MSA).\n",
       "\\textbf{Features}\n",
       "\\begin{itemize}\n",
       "\\item Read and write MSAs in \\texttt{Stockholm}, \\texttt{FASTA} or \\texttt{Raw} format\n",
       "\\item Handle MSA annotations\n",
       "\\item Edit the MSA, e.g. delete columns or sequences, change sequence order, shuffling...\n",
       "\\item Keep track of positions and annotations after modifications on the MSA\n",
       "\\item Describe a MSA, e.g. mean percent identity, sequence coverage, gap percentage...\n",
       "\\end{itemize}\n",
       "\\begin{verbatim}\n",
       "\n",
       "using MIToS.MSA\n",
       "\\end{verbatim}\n"
      ],
      "text/markdown": [
       "## MSA\n",
       "\n",
       "The MSA module of MIToS has utilities for working with Multiple Sequence Alignments of protein Sequences (MSA).\n",
       "\n",
       "**Features**\n",
       "\n",
       "  * Read and write MSAs in `Stockholm`, `FASTA` or `Raw` format\n",
       "  * Handle MSA annotations\n",
       "  * Edit the MSA, e.g. delete columns or sequences, change sequence order, shuffling...\n",
       "  * Keep track of positions and annotations after modifications on the MSA\n",
       "  * Describe a MSA, e.g. mean percent identity, sequence coverage, gap percentage...\n",
       "\n",
       "```julia\n",
       "\n",
       "using MIToS.MSA\n",
       "```\n"
      ],
      "text/plain": [
       "## MSA\n",
       "\n",
       "The MSA module of MIToS has utilities for working with Multiple Sequence Alignments of protein Sequences (MSA).\n",
       "\n",
       "**Features**\n",
       "\n",
       "  * Read and write MSAs in `Stockholm`, `FASTA` or `Raw` format\n",
       "  * Handle MSA annotations\n",
       "  * Edit the MSA, e.g. delete columns or sequences, change sequence order, shuffling...\n",
       "  * Keep track of positions and annotations after modifications on the MSA\n",
       "  * Describe a MSA, e.g. mean percent identity, sequence coverage, gap percentage...\n",
       "\n",
       "```julia\n",
       "\n",
       "using MIToS.MSA\n",
       "```\n"
      ]
     },
     "execution_count": 2,
     "metadata": {},
     "output_type": "execute_result"
    }
   ],
   "source": [
    "?MIToS.MSA"
   ]
  },
  {
   "cell_type": "code",
   "execution_count": 3,
   "metadata": {
    "collapsed": false
   },
   "outputs": [
    {
     "data": {
      "text/latex": [
       "\\subsubsection{Residue}\n",
       "Most of the \\textbf{MIToS} design is created around the \\texttt{Residue} bitstype. It represents the 20 natural amino acids and a GAP value to represent insertion, deletion but also missing data: ambiguous residues and non natural amino acids. Each residue is encoded as an integer number, this allows fast indexing operation using Residues of probability or frequency matrices.\n",
       "\\textbf{Residue creation and conversion}\n",
       "Creation and \\texttt{convert}ion of \\texttt{Residue}s should be treated carefully. \\texttt{Residue} is encoded as an 8 bits type similar to \\texttt{Int8}, to get faster indexing using \\texttt{Int(x::Residue)}. In this way, \\texttt{Int}, \\texttt{Int8} and other signed integers returns the integer value encoded by the residue. Conversions to and from \\texttt{Char}s and \\texttt{Uint8} are different, to use the \\texttt{Char}acter representation in IO operations.\n",
       "\\begin{verbatim}\n",
       "\n",
       "julia> alanine = Residue('A')\n",
       "A\n",
       "\n",
       "julia> Int(alanine)\n",
       "1\n",
       "\n",
       "julia> Char(alanine)\n",
       "'A'\n",
       "\n",
       "julia> UInt8(alanine) # 0x41 == 65 == 'A'\n",
       "0x41\n",
       "\n",
       "julia> for residue in res\"ARNDCQEGHILKMFPSTWYV-\"\n",
       "           println(residue, \" \", Int(residue))\n",
       "       end\n",
       "A 1\n",
       "R 2\n",
       "N 3\n",
       "D 4\n",
       "C 5\n",
       "Q 6\n",
       "E 7\n",
       "G 8\n",
       "H 9\n",
       "I 10\n",
       "L 11\n",
       "K 12\n",
       "M 13\n",
       "F 14\n",
       "P 15\n",
       "S 16\n",
       "T 17\n",
       "W 18\n",
       "Y 19\n",
       "V 20\n",
       "- 21\n",
       "\n",
       "\\end{verbatim}\n"
      ],
      "text/markdown": [
       "### Residue\n",
       "\n",
       "Most of the **MIToS** design is created around the `Residue` bitstype. It represents the 20 natural amino acids and a GAP value to represent insertion, deletion but also missing data: ambiguous residues and non natural amino acids. Each residue is encoded as an integer number, this allows fast indexing operation using Residues of probability or frequency matrices.\n",
       "\n",
       "**Residue creation and conversion**\n",
       "\n",
       "Creation and `convert`ion of `Residue`s should be treated carefully. `Residue` is encoded as an 8 bits type similar to `Int8`, to get faster indexing using `Int(x::Residue)`. In this way, `Int`, `Int8` and other signed integers returns the integer value encoded by the residue. Conversions to and from `Char`s and `Uint8` are different, to use the `Char`acter representation in IO operations.\n",
       "\n",
       "```julia\n",
       "\n",
       "julia> alanine = Residue('A')\n",
       "A\n",
       "\n",
       "julia> Int(alanine)\n",
       "1\n",
       "\n",
       "julia> Char(alanine)\n",
       "'A'\n",
       "\n",
       "julia> UInt8(alanine) # 0x41 == 65 == 'A'\n",
       "0x41\n",
       "\n",
       "julia> for residue in res\"ARNDCQEGHILKMFPSTWYV-\"\n",
       "           println(residue, \" \", Int(residue))\n",
       "       end\n",
       "A 1\n",
       "R 2\n",
       "N 3\n",
       "D 4\n",
       "C 5\n",
       "Q 6\n",
       "E 7\n",
       "G 8\n",
       "H 9\n",
       "I 10\n",
       "L 11\n",
       "K 12\n",
       "M 13\n",
       "F 14\n",
       "P 15\n",
       "S 16\n",
       "T 17\n",
       "W 18\n",
       "Y 19\n",
       "V 20\n",
       "- 21\n",
       "\n",
       "```\n"
      ],
      "text/plain": [
       "### Residue\n",
       "\n",
       "Most of the **MIToS** design is created around the `Residue` bitstype. It represents the 20 natural amino acids and a GAP value to represent insertion, deletion but also missing data: ambiguous residues and non natural amino acids. Each residue is encoded as an integer number, this allows fast indexing operation using Residues of probability or frequency matrices.\n",
       "\n",
       "**Residue creation and conversion**\n",
       "\n",
       "Creation and `convert`ion of `Residue`s should be treated carefully. `Residue` is encoded as an 8 bits type similar to `Int8`, to get faster indexing using `Int(x::Residue)`. In this way, `Int`, `Int8` and other signed integers returns the integer value encoded by the residue. Conversions to and from `Char`s and `Uint8` are different, to use the `Char`acter representation in IO operations.\n",
       "\n",
       "```julia\n",
       "\n",
       "julia> alanine = Residue('A')\n",
       "A\n",
       "\n",
       "julia> Int(alanine)\n",
       "1\n",
       "\n",
       "julia> Char(alanine)\n",
       "'A'\n",
       "\n",
       "julia> UInt8(alanine) # 0x41 == 65 == 'A'\n",
       "0x41\n",
       "\n",
       "julia> for residue in res\"ARNDCQEGHILKMFPSTWYV-\"\n",
       "           println(residue, \" \", Int(residue))\n",
       "       end\n",
       "A 1\n",
       "R 2\n",
       "N 3\n",
       "D 4\n",
       "C 5\n",
       "Q 6\n",
       "E 7\n",
       "G 8\n",
       "H 9\n",
       "I 10\n",
       "L 11\n",
       "K 12\n",
       "M 13\n",
       "F 14\n",
       "P 15\n",
       "S 16\n",
       "T 17\n",
       "W 18\n",
       "Y 19\n",
       "V 20\n",
       "- 21\n",
       "\n",
       "```\n"
      ]
     },
     "execution_count": 3,
     "metadata": {},
     "output_type": "execute_result"
    }
   ],
   "source": [
    "?MIToS.MSA.Residue"
   ]
  },
  {
   "cell_type": "code",
   "execution_count": 4,
   "metadata": {
    "collapsed": false
   },
   "outputs": [
    {
     "data": {
      "text/latex": [
       "\\paragraph{res\"...\"}\n",
       "The MIToS macro \\texttt{@res_str} takes a string and returns a \\texttt{Vector} of \\texttt{Residues} (sequence).\n",
       "\\begin{verbatim}\n",
       "\n",
       "julia> res\"MIToS\"\n",
       "5-element Array{MIToS.MSA.Residue,1}:\n",
       " M\n",
       " I\n",
       " T\n",
       " -\n",
       " S\n",
       "\n",
       "\\end{verbatim}\n"
      ],
      "text/markdown": [
       "#### res\"...\"\n",
       "\n",
       "The MIToS macro `@res_str` takes a string and returns a `Vector` of `Residues` (sequence).\n",
       "\n",
       "```julia\n",
       "\n",
       "julia> res\"MIToS\"\n",
       "5-element Array{MIToS.MSA.Residue,1}:\n",
       " M\n",
       " I\n",
       " T\n",
       " -\n",
       " S\n",
       "\n",
       "```\n"
      ],
      "text/plain": [
       "#### res\"...\"\n",
       "\n",
       "The MIToS macro `@res_str` takes a string and returns a `Vector` of `Residues` (sequence).\n",
       "\n",
       "```julia\n",
       "\n",
       "julia> res\"MIToS\"\n",
       "5-element Array{MIToS.MSA.Residue,1}:\n",
       " M\n",
       " I\n",
       " T\n",
       " -\n",
       " S\n",
       "\n",
       "```\n"
      ]
     },
     "execution_count": 4,
     "metadata": {},
     "output_type": "execute_result"
    }
   ],
   "source": [
    "?MIToS.MSA.@res_str"
   ]
  },
  {
   "cell_type": "markdown",
   "metadata": {},
   "source": [
    "# Multiple Sequence Alignments"
   ]
  },
  {
   "cell_type": "code",
   "execution_count": 5,
   "metadata": {
    "collapsed": false
   },
   "outputs": [
    {
     "name": "stderr",
     "output_type": "stream",
     "text": [
      "  % Total    % Received % Xferd  Average Speed   Time    Time     Time  Current\n",
      "                                 Dload  Upload   Total   Spent    Left  Speed\n",
      "  0     0    0     0    0     0      0      0 --:--:--  0:00:02 --:--:--     0"
     ]
    },
    {
     "data": {
      "text/plain": [
       "\"PF09645.stockholm.gz\""
      ]
     },
     "execution_count": 5,
     "metadata": {},
     "output_type": "execute_result"
    },
    {
     "name": "stderr",
     "output_type": "stream",
     "text": [
      "\r",
      "100   647  100   647    0     0    280      0  0:00:02  0:00:02 --:--:--   280\n"
     ]
    }
   ],
   "source": [
    "msa_file = MIToS.Pfam.downloadpfam(\"PF09645\")"
   ]
  },
  {
   "cell_type": "code",
   "execution_count": 6,
   "metadata": {
    "collapsed": false
   },
   "outputs": [
    {
     "data": {
      "text/latex": [
       "\\subsubsection{AbstractMultipleSequenceAlignment}\n",
       "The most basic implementation of a MIToS MSA is a \\texttt{Matrix} of \\texttt{Residue}s.\n"
      ],
      "text/markdown": [
       "### AbstractMultipleSequenceAlignment\n",
       "\n",
       "The most basic implementation of a MIToS MSA is a `Matrix` of `Residue`s.\n"
      ],
      "text/plain": [
       "### AbstractMultipleSequenceAlignment\n",
       "\n",
       "The most basic implementation of a MIToS MSA is a `Matrix` of `Residue`s.\n"
      ]
     },
     "execution_count": 6,
     "metadata": {},
     "output_type": "execute_result"
    }
   ],
   "source": [
    "?MIToS.MSA.AbstractMultipleSequenceAlignment"
   ]
  },
  {
   "cell_type": "code",
   "execution_count": 7,
   "metadata": {
    "collapsed": false
   },
   "outputs": [
    {
     "data": {
      "text/plain": [
       "2x110 Array{MIToS.MSA.Residue,2}:\n",
       " -  -  -  -  -  -  -  V  A  Q  Q  L  F  …  -  -  -  -  -  -  -  -  -  -  -  -\n",
       " Q  T  L  N  S  Y  K  M  A  E  I  M  Y     E  Q  T  D  Q  G  F  I  K  A  K  Q"
      ]
     },
     "execution_count": 7,
     "metadata": {},
     "output_type": "execute_result"
    }
   ],
   "source": [
    "msa = read(msa_file, Stockholm, Matrix{Residue})"
   ]
  },
  {
   "cell_type": "code",
   "execution_count": 8,
   "metadata": {
    "collapsed": false
   },
   "outputs": [
    {
     "data": {
      "text/latex": [
       "\\subsubsection{MultipleSequenceAlignment}\n",
       "This MSA type include the \\texttt{Matrix} of \\texttt{Residue}s and the sequence names. To allow fast indexing of MSAs using \\textbf{sequence identifiers}, they are saved as an \\texttt{IndexedArray}.\n"
      ],
      "text/markdown": [
       "### MultipleSequenceAlignment\n",
       "\n",
       "This MSA type include the `Matrix` of `Residue`s and the sequence names. To allow fast indexing of MSAs using **sequence identifiers**, they are saved as an `IndexedArray`.\n"
      ],
      "text/plain": [
       "### MultipleSequenceAlignment\n",
       "\n",
       "This MSA type include the `Matrix` of `Residue`s and the sequence names. To allow fast indexing of MSAs using **sequence identifiers**, they are saved as an `IndexedArray`.\n"
      ]
     },
     "execution_count": 8,
     "metadata": {},
     "output_type": "execute_result"
    }
   ],
   "source": [
    "?MIToS.MSA.MultipleSequenceAlignment"
   ]
  },
  {
   "cell_type": "code",
   "execution_count": null,
   "metadata": {
    "collapsed": false
   },
   "outputs": [],
   "source": [
    "msa = read(msa_file, Stockholm, MultipleSequenceAlignment)"
   ]
  },
  {
   "cell_type": "code",
   "execution_count": null,
   "metadata": {
    "collapsed": false
   },
   "outputs": [],
   "source": [
    "msa.id"
   ]
  },
  {
   "cell_type": "code",
   "execution_count": null,
   "metadata": {
    "collapsed": false
   },
   "outputs": [],
   "source": [
    "msa[\"F112_SSV1/3-112\"]"
   ]
  },
  {
   "cell_type": "markdown",
   "metadata": {},
   "source": [
    "Similar to this, MIToS defines an `AnnotatedMultipleSequenceAlignment` that also includes annotations."
   ]
  },
  {
   "cell_type": "code",
   "execution_count": null,
   "metadata": {
    "collapsed": false
   },
   "outputs": [],
   "source": [
    "fieldnames(AnnotatedMultipleSequenceAlignment)"
   ]
  },
  {
   "cell_type": "code",
   "execution_count": null,
   "metadata": {
    "collapsed": false
   },
   "outputs": [],
   "source": [
    "msa = read(msa_file, Stockholm, AnnotatedMultipleSequenceAlignment, generatemapping=true, useidcoordinates=true)"
   ]
  },
  {
   "cell_type": "code",
   "execution_count": null,
   "metadata": {
    "collapsed": false
   },
   "outputs": [],
   "source": [
    "msa.annotations"
   ]
  },
  {
   "cell_type": "markdown",
   "metadata": {},
   "source": [
    "## MSA annotations"
   ]
  },
  {
   "cell_type": "code",
   "execution_count": null,
   "metadata": {
    "collapsed": false
   },
   "outputs": [],
   "source": [
    "?MIToS.MSA.Annotations"
   ]
  },
  {
   "cell_type": "code",
   "execution_count": null,
   "metadata": {
    "collapsed": false
   },
   "outputs": [],
   "source": [
    "fieldnames(Annotations)"
   ]
  },
  {
   "cell_type": "markdown",
   "metadata": {},
   "source": [
    "MIToS uses MSA annotations to keep track of:  \n",
    "- **Modifications** of the MSA (`MIToS_...`) as deletion of sequences or columns.  \n",
    "- Positions numbers in the original MSA file (**column mapping:** `ColMap`)  \n",
    "- Position of the residues in the sequence (**sequence mapping:** `SeqMap`)  "
   ]
  },
  {
   "cell_type": "code",
   "execution_count": null,
   "metadata": {
    "collapsed": false
   },
   "outputs": [],
   "source": [
    "printmodifications(msa)"
   ]
  },
  {
   "cell_type": "code",
   "execution_count": null,
   "metadata": {
    "collapsed": false
   },
   "outputs": [],
   "source": [
    "getcolumnmapping(msa)"
   ]
  },
  {
   "cell_type": "code",
   "execution_count": null,
   "metadata": {
    "collapsed": false
   },
   "outputs": [],
   "source": [
    "getsequencemapping(msa,\"F112_SSV1/3-112\")"
   ]
  },
  {
   "cell_type": "code",
   "execution_count": null,
   "metadata": {
    "collapsed": true
   },
   "outputs": [],
   "source": []
  }
 ],
 "metadata": {
  "kernelspec": {
   "display_name": "Julia 0.4.1",
   "language": "julia",
   "name": "julia-0.4"
  },
  "language_info": {
   "file_extension": ".jl",
   "mimetype": "application/julia",
   "name": "julia",
   "version": "0.4.1"
  }
 },
 "nbformat": 4,
 "nbformat_minor": 0
}
