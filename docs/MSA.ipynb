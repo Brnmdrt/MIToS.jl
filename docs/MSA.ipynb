{
 "cells": [
  {
   "cell_type": "markdown",
   "metadata": {},
   "source": [
    "# MSA"
   ]
  },
  {
   "cell_type": "markdown",
   "metadata": {
    "collapsed": false
   },
   "source": [
    "The MSA module of MIToS has utilities for working with Multiple Sequence Alignments of protein Sequences (MSA).\n",
    "\n",
    "## Features\n",
    "\n",
    "- [**Read**](#Reading-MSA-files) and [**write**](#Writing-MSA-files) MSAs in `Stockholm`, `FASTA` or `Raw` format\n",
    "- Handle [**MSA annotations**](#MSA-Annotations)\n",
    "- [**Edit the MSA**](#Editing-your-MSA), e.g. delete columns or sequences, change sequence order, shuffling...\n",
    "- [**Keep track of positions**](#Column-and-sequence-mappings) and annotations after modifications on the MSA\n",
    "- [**Describe an MSA**](#Describing-your-MSA), e.g. mean percent identity, sequence coverage, gap percentage...\n",
    "- [**Sequence clustering**](#Sequence-clustering) with Hobohm I "
   ]
  },
  {
   "cell_type": "code",
   "execution_count": 1,
   "metadata": {
    "collapsed": false
   },
   "outputs": [],
   "source": [
    "using MIToS.MSA"
   ]
  },
  {
   "cell_type": "markdown",
   "metadata": {},
   "source": [
    "## Contents"
   ]
  },
  {
   "cell_type": "markdown",
   "metadata": {},
   "source": [
    "- [MSA IO](#MSA-IO)\n",
    "    - [Reading MSA files](#Reading-MSA-files)\n",
    "    - [Writing MSA files](#Writing-MSA-files)\n",
    "- [MSA Annotations](#MSA-Annotations)\n",
    "- [Editing your MSA](#Editing-your-MSA)\n",
    "    - [Example: Deleting sequences](#Example:-Deleting-sequences)\n",
    "    - [Example: Exporting a MSA for freecontact (part I)](Example:-Exporting-a-MSA-for-freecontact-(part-I))\n",
    "- [Column and sequence mappings](#Column-and-sequence-mappings)\n",
    "    - [Example: Exporting a MSA for freecontact (part II)](#Example:-Exporting-a-MSA-for-freecontact-(part-II))\n",
    "- [Get sequences from a MSA](#Get-sequences-from-a-MSA)\n",
    "- [Describing your MSA](#Describing-your-MSA)\n",
    "    - [Example: Plotting gap percentage per column and coverage per sequence](#Example:-Plotting-gap-percentage-per-column-and-coverage-per-sequence)\n",
    "    - [Example: Filter sequences per coverage and columns per gap fraction](#Example:-Filter-sequences-per-coverage-and-columns-per-gap-fraction)\n",
    "    - [Example: Plotting the percentage of identity between sequences](#Example:-Plotting-the-percentage-of-identity-between-sequences)\n",
    "- [Sequence clustering](#Sequence-clustering)\n",
    "    - [Example: Reducing redundancy of a MSA](#Example:-Reducing-redundancy-of-a-MSA)"
   ]
  },
  {
   "cell_type": "code",
   "execution_count": 2,
   "metadata": {
    "collapsed": true
   },
   "outputs": [],
   "source": [
    "# Truncate IJulia outputs at:\n",
    "ENV[\"LINES\"]   = 15 \n",
    "ENV[\"COLUMNS\"] = 60;"
   ]
  },
  {
   "cell_type": "markdown",
   "metadata": {},
   "source": [
    "<a href=\"#\"><i class=\"fa fa-arrow-up\"></i></a>\n",
    "\n",
    "## MSA IO"
   ]
  },
  {
   "cell_type": "markdown",
   "metadata": {},
   "source": [
    "### Reading MSA files"
   ]
  },
  {
   "cell_type": "markdown",
   "metadata": {},
   "source": [
    "The main function for reading MSA files in MIToS is `read` and it is defined in the `Utils` module. This function takes a filename/path as a first argument followed by other arguments. It opens the file and uses the arguments to call the `parse` function. `read` decides how to open the file, using the prefixes and suffixes of the file name, while `parse` does the actual parsing of the file. You can `read` **gzipped files** if they have the `.gz` extension and also urls pointing to a **web file**.  \n",
    "The second argument of `read` and `parse` is the file `Format`. The supported MSA formats at the moment are `Stockholm`, `FASTA` and `Raw`.  \n",
    "For example, reading with MIToS the full Stockholm MSA of the family PF07388 using the Pfam RESTful interface will be:"
   ]
  },
  {
   "cell_type": "code",
   "execution_count": 3,
   "metadata": {
    "collapsed": false
   },
   "outputs": [
    {
     "name": "stderr",
     "output_type": "stream",
     "text": [
      "  % Total    % Received % Xferd  Average Speed   Time    Time     Time  Current\n",
      "                                 Dload  Upload   Total   Spent    Left  Speed\n",
      "100  4168  100  4168    0     0   5263      0 --:--:-- --:--:-- --:--:--  5262\n"
     ]
    },
    {
     "data": {
      "text/plain": [
       "4x458 MIToS.MSA.AnnotatedMultipleSequenceAlignment:\n",
       " -  -  -  -  -  -  -  -  -  …  -  -  -  -  -  -  -  -  -\n",
       " M  L  K  K  I  K  K  A  L     -  -  -  -  -  -  -  -  -\n",
       " -  -  K  K  L  S  G  L  M     K  Y  R  I  K  Y  L  Q  L\n",
       " -  -  -  -  -  -  -  -  -     -  -  -  -  -  -  -  -  -"
      ]
     },
     "execution_count": 3,
     "metadata": {},
     "output_type": "execute_result"
    }
   ],
   "source": [
    "read(\"http://pfam.xfam.org/family/PF07388/alignment/full\", Stockholm)"
   ]
  },
  {
   "cell_type": "markdown",
   "metadata": {},
   "source": [
    "The third (and optional) argument of `read` and `parse` is the output MSA type:  \n",
    "  \n",
    "<p>\n",
    "    <dl>\n",
    "    \n",
    "        <dt><code>Matrix{Residue}</code></dt>\n",
    "        <dd>It is the default output format when reading a <code>Raw</code> file. It contains the aligned sequences.</dd>\n",
    "        \n",
    "        <dt><code>MultipleSequenceAlignment</code></dt>\n",
    "        <dd>It contains the aligned sequences and their names/identifiers.</dd>\n",
    "        \n",
    "        <dt><code>AnnotatedMultipleSequenceAlignment</code></dt>\n",
    "        <dd>Is the richest MSA format of MIToS and the default option when the input was a <code>FASTA</code> or <code>Stockholm</code> file. It includes the aligned sequences, their names and the MSA annotations.</dd>\n",
    "       \n",
    "    </dl>\n",
    "</p>\n",
    "\n",
    "Example of `Matrix{Residue}` output using a `Stockholm` file as input:"
   ]
  },
  {
   "cell_type": "code",
   "execution_count": 4,
   "metadata": {
    "collapsed": false
   },
   "outputs": [
    {
     "name": "stderr",
     "output_type": "stream",
     "text": [
      "  % Total    % Received % Xferd  Average Speed   Time    Time     Time  Current\n",
      "                                 Dload  Upload   Total   Spent    Left  Speed\n",
      "100  4168  100  4168    0     0  14643      0 --:--:-- --:--:-- --:--:-- 14676\n"
     ]
    },
    {
     "data": {
      "text/plain": [
       "4x458 Array{MIToS.MSA.Residue,2}:\n",
       " -  -  -  -  -  -  -  -  -  …  -  -  -  -  -  -  -  -  -\n",
       " M  L  K  K  I  K  K  A  L     -  -  -  -  -  -  -  -  -\n",
       " -  -  K  K  L  S  G  L  M     K  Y  R  I  K  Y  L  Q  L\n",
       " -  -  -  -  -  -  -  -  -     -  -  -  -  -  -  -  -  -"
      ]
     },
     "execution_count": 4,
     "metadata": {},
     "output_type": "execute_result"
    }
   ],
   "source": [
    "read(\"http://pfam.xfam.org/family/PF07388/alignment/full\", Stockholm, Matrix{Residue})"
   ]
  },
  {
   "cell_type": "markdown",
   "metadata": {},
   "source": [
    "Given that `read` calls `parse`, you should look into the documentation of the last one to know the available keyword arguments. The optional keyword arguments of those functions are:\n",
    "\n",
    "<p>\n",
    "<dl class=\"dl-horizontal\">\n",
    "\n",
    "<dt><code>generatemapping</code></dt>\n",
    "<dd>\n",
    "If <code>generatemapping</code> is <code>true</code> (default: <code>false</code>), sequences and columns mappings are generated and saved in the MSA annotations. <span class=\"text-warning\">The default is <code>false</code> not to overwrite mappings by mistake when you read an annotated MSA file saved with MIToS.</span>\n",
    "</dd>\n",
    "\n",
    "<dt><code>useidcoordinates</code></dt>\n",
    "<dd>\n",
    "If <code>useidcoordinates</code> is <code>true</code> (default: <code>false</code>) and the names have the form <i>seqname/start-end</i>, MIToS uses this coordinates to generate sequence mappings. This is safe and useful with unmodified Pfam MSAs. <span class=\"text-warning\">Do not use when reading an MSA saved with MIToS. MIToS deletes unaligned insert columns, therefore disrupts sequences that have them.</span>\n",
    "</dd>\n",
    "\n",
    "<dt><code>checkalphabet</code></dt>\n",
    "<dd>\n",
    "The <code>parse</code> function converts each character in the sequence to a MIToS <code>Residue</code>. Lowercase characters, dots and degenerated or non standard residues are converted to gaps. If <code>checkalphabet</code> is <code>true</code> (<code>false</code> by default), <code>read</code> deletes all the sequences with non-standard residues. The 20 allowed residues are A, R, N, D, C, Q, E, G, H, I, L, K, M, F, P, S, T, W, Y and V.\n",
    "</dd>\n",
    "\n",
    "<dt><code>deletefullgaps</code></dt>\n",
    "<dd>\n",
    "Given that lowercase characters and dots are converted to gaps, unaligned insert columns in the MSA (derived from a HMM profile) are converted into full gap columns. <code>deletefullgaps</code> is <code>true</code> by default, deleting full gaps columns and therefore insert columns.\n",
    "</dd>\n",
    "\n",
    "</dl>\n",
    "</p>\n",
    "\n",
    "<div class=\"panel panel-warning\">\n",
    "<div class=\"panel-heading\">\n",
    "\t\t<strong>Reliable gaps</strong>\n",
    "\t</div>\n",
    "\t<div class=\"panel-body\">\n",
    "\t\tIf you are using MIToS to derive information scores where gaps matter (reliable gaps), you better use <code>checkalphabet=true</code>. This prevents counting non standard residues as gaps.\n",
    "\t</div>\n",
    "</div>\n",
    "\n",
    "<div class=\"panel panel-info\">\n",
    "<div class=\"panel-heading\">\n",
    "\t\t<strong>If you want to keep the insert columns...</strong>\n",
    "\t</div>\n",
    "\t<div class=\"panel-body\">\n",
    "\t\tUse the keyword argument <code>keepinserts</code> to <code>true</code> in <code>read<code>/</code>parse</code>. This only works with an <code>AnnotatedMultipleSequenceAlignment</code> output. A column annotation (<code>\"Aligned\"</code>) is stored, where the insert columns are marked with <code>0</code> and aligned columns with <code>1</code>.\n",
    "\t</div>\n",
    "</div>"
   ]
  },
  {
   "cell_type": "markdown",
   "metadata": {},
   "source": [
    "When `read` returns an `AnnotatedMultipleSequenceAlignment`, it uses the MSA `Annotations` to keep track of performed modifications. To access this notes, use `printmodifications`:"
   ]
  },
  {
   "cell_type": "code",
   "execution_count": 5,
   "metadata": {
    "collapsed": false
   },
   "outputs": [
    {
     "name": "stderr",
     "output_type": "stream",
     "text": [
      "  % Total    % Received % Xferd  Average Speed   Time    Time     Time  Current\n",
      "                                 Dload  Upload   Total   Spent    Left  Speed\n",
      "100 10.0M  100 10.0M    0     0   355k      0  0:00:28  0:00:28 --:--:--  512k\n"
     ]
    },
    {
     "name": "stdout",
     "output_type": "stream",
     "text": [
      "-------------------\n",
      "2016-03-29T10:50:36\n",
      "\n",
      "deletenotalphabetsequences!  :  Deletes 21 sequences with ambiguous or not standard residues (Alphabet: ARNDCQEGHILKMFPSTWYV-. )\n",
      "filtersequences! : 21 sequences have been deleted.\n",
      "deletefullgaps!  :  Deletes 621 columns full of gaps (inserts generate full gap columns on MIToS because lowercase and dots are not allowed)\n",
      "filtercolumns! : 621 columns have been deleted.\n"
     ]
    }
   ],
   "source": [
    "msa = read(\"http://pfam.xfam.org/family/PF01565/alignment/full\", Stockholm, checkalphabet=true)\n",
    "\n",
    "printmodifications(msa)"
   ]
  },
  {
   "cell_type": "markdown",
   "metadata": {},
   "source": [
    "<a href=\"#\"><i class=\"fa fa-arrow-up\"></i></a>\n",
    "\n",
    "### Writing MSA files"
   ]
  },
  {
   "cell_type": "markdown",
   "metadata": {},
   "source": [
    "Julia REPL shows MSAs as Matrices. If you want to print them in another format, you should use the `print` function with an MSA object as first argument and the `Format` `FASTA`,  `Stockholm` or `Raw` as second argument."
   ]
  },
  {
   "cell_type": "code",
   "execution_count": 6,
   "metadata": {
    "collapsed": false
   },
   "outputs": [
    {
     "name": "stderr",
     "output_type": "stream",
     "text": [
      "  % Total    % Received % Xferd  Average Speed   Time    Time     Time  Current\n",
      "                                 Dload  Upload   Total   Spent    Left  Speed\n",
      "100  1118  100  1118    0     0   1411      0 --:--:-- --:--:-- --:--:--  1413\n"
     ]
    },
    {
     "name": "stdout",
     "output_type": "stream",
     "text": [
      ">T0TY77_9STRE/5-60\n",
      "KKDLFYKEVEGRMESLKRRPAEKEKTTRSEKINVTFNVIIGLVILLGVIFTLF-RV\n",
      ">A8AWV6_STRGC/3-58\n",
      "KKDLFYKDIEGRLDELKHGRPKKEKASLGEKFNKAFVIALGLMILIGLIFTLIGV-\n"
     ]
    }
   ],
   "source": [
    "msa = read(\"http://pfam.xfam.org/family/PF16996/alignment/full\", Stockholm) # reads a Stockholm MSA file\n",
    "\n",
    "print(msa, FASTA) # prints msa in FASTA format"
   ]
  },
  {
   "cell_type": "markdown",
   "metadata": {},
   "source": [
    "To save an MSA object to a file, use the `write` function. This function takes a filename as a first argument. If the filename ends with `.gz`, the output will be a compressed (gzipped) file. The next two arguments of `write` are passed to `print`, so `write` behaves as `print`.   "
   ]
  },
  {
   "cell_type": "code",
   "execution_count": 7,
   "metadata": {
    "collapsed": false
   },
   "outputs": [],
   "source": [
    "write(\"msa.gz\", msa, FASTA) # writes msa in FASTA format in a gzipped file"
   ]
  },
  {
   "cell_type": "code",
   "execution_count": 8,
   "metadata": {
    "collapsed": false
   },
   "outputs": [
    {
     "name": "stdout",
     "output_type": "stream",
     "text": [
      ">T0TY77_9STRE/5-60\n",
      "KKDLFYKEVEGRMESLKRRPAEKEKTTRSEKINVTFNVIIGLVILLGVIFTLF-RV\n",
      ">A8AWV6_STRGC/3-58\n",
      "KKDLFYKDIEGRLDELKHGRPKKEKASLGEKFNKAFVIALGLMILIGLIFTLIGV-\n"
     ]
    }
   ],
   "source": [
    ";zcat msa.gz"
   ]
  },
  {
   "cell_type": "markdown",
   "metadata": {},
   "source": [
    "<div class=\"panel panel-info\">\n",
    "    <div class=\"panel-heading\">\n",
    "        <strong>Julia shell mode</strong>\n",
    "    </div>\n",
    "    <div class=\"panel-body\">\n",
    "        <p>A semicolon (<code>;</code>) next to the Julia prompt, at the beginning of the line, will enter the shell mode. This mode uses the system shell to execute system commands.</p>\n",
    "    </div>\n",
    "</div>"
   ]
  },
  {
   "cell_type": "markdown",
   "metadata": {},
   "source": [
    "<a href=\"#\"><i class=\"fa fa-arrow-up\"></i></a>\n",
    "\n",
    "## MSA Annotations "
   ]
  },
  {
   "cell_type": "markdown",
   "metadata": {},
   "source": [
    "MSA annotations are based on the Stockholm format mark-ups. There are four types of annotations stored as dictionaries. All the annotations have a feature name as part of the key, which should be a single “word” (without spaces) and less than 50 characters long.\n",
    "\n",
    "<p>\n",
    "\t<dl class=\"dl-horizontal\">\n",
    "\n",
    "\t\t<dt>File annotations</dt>\n",
    "\t\t<dd>\n",
    "\t\tThe annotations can contain either file or MSA information. They have feature names as keys and the values are strings (free text). Lines starting with <code>#=GF</code> in Stockholm format.\n",
    "\t\t</dd>\n",
    "\n",
    "\t\t<dt>Column annotations</dt>\n",
    "\t\t<dd>\n",
    "\t\tThey have feature names as keys and strings with exactly 1 char per column as values. Lines starting with <code>#=GC</code> in Stockholm format.\n",
    "</dd>\n",
    "\n",
    "\t\t<dt>Sequence annotations</dt>\n",
    "\t\t<dd>\n",
    "\t\tThe keys are tuples with the sequence name and the feature name. The values are free text (strings). Lines starting with <code>#=GS</code> in Stockholm format.\n",
    "\t\t</dd>\n",
    "\n",
    "\t\t<dt>Residue annotations</dt>\n",
    "\t\t<dd>\n",
    "\t\tThe keys are tuples with the sequence name and the feature name. The values are strings with exactly 1 char per column/residues. <code>#=GR</code> lines in Stockholm format.\n",
    "\t\t</dd>\n",
    "\n",
    "\t</dl>\n",
    "</p>"
   ]
  },
  {
   "cell_type": "markdown",
   "metadata": {},
   "source": [
    "Julia REPL shows the `Annotations` type as they are represented in the [Stockholm format<span class=\"fa fa-external-link\" aria-hidden=\"true\"></span>](https://en.wikipedia.org/wiki/Stockholm_format). You can get the `Annotations` inside an annotated MSA or sequence using the `annotations` function.\n"
   ]
  },
  {
   "cell_type": "code",
   "execution_count": 9,
   "metadata": {
    "collapsed": false
   },
   "outputs": [
    {
     "data": {
      "text/plain": [
       "#=GF ID   Asp4\n",
       "#=GF AC   PF16996.2\n",
       "#=GF DE   Accessory secretory protein Sec Asp4\n",
       "#=GF AU   Coggill P\n",
       "#=GF SE   Pfam-B_7603 (release 27.0)\n",
       "#=GF GA   25.70 25.70;\n",
       "#=GF TC   26.00 113.50;\n",
       "#=GF NC   22.10 19.80;\n",
       "#=GF BM   hmmbuild HMM.ann SEED.ann\n",
       "#=GF SM   hmmsearch -Z 11927849 -E 1000 --cpu 4 HMM pfamseq\n",
       "#=GF TP   Family\n",
       "#=GF RN   [1]\n",
       "#=GF RM   23000954\n",
       "#=GF RT   Emerging themes in SecA2-mediated protein export.\n",
       "#=GF RA   Feltcher ME, Braunstein M;\n",
       "#=GF RL   Nat Rev Microbiol. 2012;10:779-789.\n",
       "#=GF CC   Asp4 and Asp5 are putative accessory components of the SecY2\n",
       "#=GF CC   channel of the SecA2-SecY2 mediated export system, but they are\n",
       "#=GF CC   not present in all SecA2-SecY2 systems. This family of Asp4 is\n",
       "#=GF CC   found in Firmicutes [1].\n",
       "#=GF SQ   2\n",
       "#=GF MIToS_2016-03-29T11:28:12   deletefullgaps!  :  Deletes 1 columns full of gaps (inserts generate full gap columns on MIToS because lowercase and dots are not allowed)\n",
       "#=GF MIToS_2016-03-29T11:28:12   filtercolumns! : 1 columns have been deleted.\n",
       "#=GS T0TY77_9STRE/5-60\tAC T0TY77.1\n",
       "#=GS A8AWV6_STRGC/3-58\tAC A8AWV6.1\n",
       "#=GC seq_cons\t\t\tKKDLFYK-lEGRh-pLK+t.scKEKsohuEKhNhsFslhlGLhILlGlIFTLh.h.\n"
      ]
     },
     "execution_count": 9,
     "metadata": {},
     "output_type": "execute_result"
    }
   ],
   "source": [
    "annotations(msa)"
   ]
  },
  {
   "cell_type": "markdown",
   "metadata": {},
   "source": [
    "Particular annotations can be accessed using the functions `getannot...`. This functions take the MSA/sequence as first argument and the feature name of the desired annotation as the last. In the case of `getannotsequence` and `getannotresidue`, the second argument should be the sequence name."
   ]
  },
  {
   "cell_type": "code",
   "execution_count": 10,
   "metadata": {
    "collapsed": false
   },
   "outputs": [
    {
     "data": {
      "text/plain": [
       "\"A8AWV6.1\""
      ]
     },
     "execution_count": 10,
     "metadata": {},
     "output_type": "execute_result"
    }
   ],
   "source": [
    "getannotsequence(msa, \"A8AWV6_STRGC/3-58\", \"AC\") # (\"A8AWV6_STRGC/3-58\", \"AC\") is the key in the dictionary"
   ]
  },
  {
   "cell_type": "markdown",
   "metadata": {},
   "source": [
    "If you want to add new annotations, you should use  the `setannot…!` functions. This functions have the same arguments that `getannot...` functions but with an extra argument to indicate the new annotation."
   ]
  },
  {
   "cell_type": "code",
   "execution_count": 11,
   "metadata": {
    "collapsed": false
   },
   "outputs": [
    {
     "data": {
      "text/plain": [
       "\"New_Annotation\""
      ]
     },
     "execution_count": 11,
     "metadata": {},
     "output_type": "execute_result"
    }
   ],
   "source": [
    "setannotsequence!(msa, \"A8AWV6_STRGC/3-58\", \"New_Feature_Name\", \"New_Annotation\")"
   ]
  },
  {
   "cell_type": "markdown",
   "metadata": {},
   "source": [
    "A `getannot...` function without the key (last arguments), returns the particular annotation dictionary.  \n",
    "As you can see, the new sequence annotation is now part of our MSA annotations.  "
   ]
  },
  {
   "cell_type": "code",
   "execution_count": 12,
   "metadata": {
    "collapsed": false
   },
   "outputs": [
    {
     "data": {
      "text/plain": [
       "Dict{Tuple{ASCIIString,ASCIIString},ASCIIString} with 3 entries:\n",
       "  (\"A8AWV6_STRGC/3-… => \"New_Annotation\"\n",
       "  (\"T0TY77_9STRE/5-… => \"T0TY77.1\"\n",
       "  (\"A8AWV6_STRGC/3-… => \"A8AWV6.1\""
      ]
     },
     "execution_count": 12,
     "metadata": {},
     "output_type": "execute_result"
    }
   ],
   "source": [
    "getannotsequence(msa)"
   ]
  },
  {
   "cell_type": "markdown",
   "metadata": {},
   "source": [
    "<a href=\"#\"><i class=\"fa fa-arrow-up\"></i></a>\n",
    "\n",
    "## Editing your MSA"
   ]
  },
  {
   "cell_type": "markdown",
   "metadata": {},
   "source": [
    "MIToS offers functions to edit your MSA. Given that this functions modify the msa, their names end with a bang `!`, following the Julia convention. Some of these functions have an `annotate` keyword argument (in general it is `true` by default) to indicate if the modification should be recorded in the MSA/sequence annotations.  \n",
    "\n",
    "One common task is to delete sequences or columns of the MSA. This could be done using the functions `filtersequences!` and `filtercolumns!`. This functions take the MSA or sequence (if it’s possible) as first argument and a `BitVector` or `Vector{Bool}` mask as second argument, and delete all the sequences or columns where the mask is `false`. This functions are also defined for `Annotations`, this allows to automatically update (modify) the annotations (and therefore, sequence and column mappings) in the MSA.  \n",
    "\n",
    "This two deleting operations are used in the second and third mutating functions of the following list:  \n",
    "\n",
    "<p>\n",
    "\t<dl class=\"dl-horizontal\">\n",
    "\t\t<dt><code>setreference!</code></dt>\n",
    "\t\t<dd>Sets one of the sequences as the first sequence of the MSA (query or reference sequence)</dd>\n",
    "\n",
    "\t\t<dt><code>adjustreference!</code></dt>\n",
    "\t\t<dd>Deletes columns with gaps in the first sequence of the MSA (reference)</dd>\n",
    "\n",
    "\t\t<dt><code>gapstrip!</code></dt>\n",
    "\t\t<dd>This function first calls <code>adjustreference!</code>, then deletes sequences with low (user defined) MSA coverage and finally, columns with user defined % of gaps.</dd>\n",
    "\n",
    "\t</dl>\n",
    "</p>\n",
    "\n",
    "Also, there are several available funtions  `shuffle_…!`. These functions are useful to generate random alignments. The `Information` module of `MIToS` uses them to calculate the Z scores of MI values."
   ]
  },
  {
   "cell_type": "markdown",
   "metadata": {},
   "source": [
    "<a href=\"#\"><i class=\"fa fa-arrow-up\"></i></a>\n",
    "\n",
    "#### Example: Deleting sequences"
   ]
  },
  {
   "cell_type": "markdown",
   "metadata": {},
   "source": [
    "For example, if you want to keep only the proteins from *Actinobacteria* you can delete all the sequences that don’t have `_9ACTN` in their UniProt entry names:"
   ]
  },
  {
   "cell_type": "code",
   "execution_count": 13,
   "metadata": {
    "collapsed": false
   },
   "outputs": [
    {
     "name": "stderr",
     "output_type": "stream",
     "text": [
      "  % Total    % Received % Xferd  Average Speed   Time    Time     Time  Current\n",
      "                                 Dload  Upload   Total   Spent    Left  Speed\n",
      "100  4168  100  4168    0     0  14677      0 --:--:-- --:--:-- --:--:-- 14727\n"
     ]
    },
    {
     "data": {
      "text/plain": [
       "4-element IndexedArrays.IndexedArray{ASCIIString}:\n",
       " \"M5A3D2_9ACTN/208-402\"\n",
       " \"Q4W584_NEIMB/1-222\"  \n",
       " \"C5ZW53_9HELI/1-498\"  \n",
       " \"M5A3D2_9ACTN/2-157\"  "
      ]
     },
     "execution_count": 13,
     "metadata": {},
     "output_type": "execute_result"
    }
   ],
   "source": [
    "msa = read(\"http://pfam.xfam.org/family/PF07388/alignment/full\", Stockholm)\n",
    "\n",
    "names(msa) # the function names returns the sequence names in the MSA"
   ]
  },
  {
   "cell_type": "code",
   "execution_count": 14,
   "metadata": {
    "collapsed": false
   },
   "outputs": [
    {
     "data": {
      "text/plain": [
       "4-element Array{Bool,1}:\n",
       "  true\n",
       " false\n",
       " false\n",
       "  true"
      ]
     },
     "execution_count": 14,
     "metadata": {},
     "output_type": "execute_result"
    }
   ],
   "source": [
    "mask = map(x -> ismatch(r\"_9ACTN\", x), names(msa)) # an element of mask is true if \"_9ACTN\" is in the name"
   ]
  },
  {
   "cell_type": "code",
   "execution_count": 15,
   "metadata": {
    "collapsed": false
   },
   "outputs": [
    {
     "data": {
      "text/plain": [
       "2-element IndexedArrays.IndexedArray{ASCIIString}:\n",
       " \"M5A3D2_9ACTN/208-402\"\n",
       " \"M5A3D2_9ACTN/2-157\"  "
      ]
     },
     "execution_count": 15,
     "metadata": {},
     "output_type": "execute_result"
    }
   ],
   "source": [
    "filtersequences!(msa, mask) # deletes all the sequences where mask is false\n",
    "\n",
    "names(msa)"
   ]
  },
  {
   "cell_type": "markdown",
   "metadata": {},
   "source": [
    "<a href=\"#\"><i class=\"fa fa-arrow-up\"></i></a>\n",
    "\n",
    "#### Example: Exporting a MSA for freecontact (part I)"
   ]
  },
  {
   "cell_type": "markdown",
   "metadata": {},
   "source": [
    "The most simple input for the command line tool [freecontact<span class=\"fa fa-external-link\" aria-hidden=\"true\"></span>](#https://rostlab.org/owiki/index.php/FreeContact) (if you don’t want to set `--mincontsep`) is a `Raw` MSA file with a reference sequence without insertions or gaps. This is easy to get with MIToS using `read` (deletes the insert columns), `setreference!` (to choose a reference), `adjustreference!` (to delete columns with gaps in the reference) and `write` (to save it in `Raw` format) functions.  "
   ]
  },
  {
   "cell_type": "code",
   "execution_count": 16,
   "metadata": {
    "collapsed": false
   },
   "outputs": [
    {
     "name": "stderr",
     "output_type": "stream",
     "text": [
      "  % Total    % Received % Xferd  Average Speed   Time    Time     Time  Current\n",
      "                                 Dload  Upload   Total   Spent    Left  Speed\n",
      "  0     0    0     0    0     0      0      0 --:--:-- --:--:-- --:--:--     0"
     ]
    },
    {
     "data": {
      "text/plain": [
       "3x126 MIToS.MSA.AnnotatedMultipleSequenceAlignment:\n",
       " M  L  E  S  E  V  S  G  N  …  P  G  R  L  F  C  C  -  -\n",
       " L  L  H  Q  E  R  P  G  P     -  T  Q  R  P  C  F  T  C\n",
       " -  L  H  R  D  Q  P  S  P     -  V  R  R  P  C  C  A  C"
      ]
     },
     "execution_count": 16,
     "metadata": {},
     "output_type": "execute_result"
    },
    {
     "name": "stderr",
     "output_type": "stream",
     "text": [
      "\r",
      "100  1610  100  1610    0     0   5560      0 --:--:-- --:--:-- --:--:--  5551\n"
     ]
    }
   ],
   "source": [
    "msa = read(\"http://pfam.xfam.org/family/PF02476/alignment/full\", Stockholm)"
   ]
  },
  {
   "cell_type": "code",
   "execution_count": 17,
   "metadata": {
    "collapsed": false
   },
   "outputs": [
    {
     "data": {
      "text/plain": [
       "(0.9841269841269841,2)"
      ]
     },
     "execution_count": 17,
     "metadata": {},
     "output_type": "execute_result"
    }
   ],
   "source": [
    "maxcoverage, indice = findmax(coverage(msa)) # chooses the sequence with more coverage of the MSA"
   ]
  },
  {
   "cell_type": "code",
   "execution_count": 18,
   "metadata": {
    "collapsed": false
   },
   "outputs": [
    {
     "data": {
      "text/plain": [
       "3x126 MIToS.MSA.AnnotatedMultipleSequenceAlignment:\n",
       " L  L  H  Q  E  R  P  G  P  …  -  T  Q  R  P  C  F  T  C\n",
       " M  L  E  S  E  V  S  G  N     P  G  R  L  F  C  C  -  -\n",
       " -  L  H  R  D  Q  P  S  P     -  V  R  R  P  C  C  A  C"
      ]
     },
     "execution_count": 18,
     "metadata": {},
     "output_type": "execute_result"
    }
   ],
   "source": [
    "setreference!(msa, indice)"
   ]
  },
  {
   "cell_type": "code",
   "execution_count": 19,
   "metadata": {
    "collapsed": false
   },
   "outputs": [
    {
     "data": {
      "text/plain": [
       "3x124 MIToS.MSA.AnnotatedMultipleSequenceAlignment:\n",
       " L  L  H  Q  E  R  P  G  P  …  P  T  Q  R  P  C  F  T  C\n",
       " M  L  E  S  E  V  S  G  N     M  G  R  L  F  C  C  -  -\n",
       " -  L  H  R  D  Q  P  S  P     P  V  R  R  P  C  C  A  C"
      ]
     },
     "execution_count": 19,
     "metadata": {},
     "output_type": "execute_result"
    }
   ],
   "source": [
    "adjustreference!(msa)"
   ]
  },
  {
   "cell_type": "code",
   "execution_count": 20,
   "metadata": {
    "collapsed": true
   },
   "outputs": [],
   "source": [
    "write(\"tofreecontact.msa\", msa, Raw)"
   ]
  },
  {
   "cell_type": "code",
   "execution_count": 21,
   "metadata": {
    "collapsed": false
   },
   "outputs": [
    {
     "name": "stdout",
     "output_type": "stream",
     "text": [
      "LLHQERPGPRLYHLWVVGAADLCVPFFEYAQKTRRFIATKTNDAWVGEPWPLPDRFLPERTVSWTPFPAAPNHPLENLLSRYEYQYGVVVPRWLRSLVAPHKPRPASSRPHPATHPTQRPCFTC\n",
      "MLESEVSGNAPHSLWIVGAADICRIALECIPLPKRLLAIKVSGTWSGMPWAIPDNIQTLLTSTWEPKFDTPEDRAHFCDSDMVCVYKILGS----------PPNPLKPPEIEPPQMGRLFCC--\n",
      "-LHRDQPSPRLYHLWVVGAADLCVPFLEYAQKIRRFIAIKTPDAWVGEPWAVPTRFLPEWTVAWTPFPAAPNHPLETLLSRYEYQYGVVLPRWLRSLIALHKPHPATPGPLTTSHPVRRPCCAC\n"
     ]
    }
   ],
   "source": [
    ";cat tofreecontact.msa"
   ]
  },
  {
   "cell_type": "markdown",
   "metadata": {
    "collapsed": true
   },
   "source": [
    "<a href=\"#\"><i class=\"fa fa-arrow-up\"></i></a>\n",
    "\n",
    "## Column and sequence mappings\n",
    "\n",
    "Inserts in a Stockholm MSA allow to access the full fragment of the aligned sequences. Using this, combined with the sequence names with coordinates used in Pfam, you can know what is the UniProt residue number of each residue in the MSA.   \n",
    "\n",
    "```julia\n",
    "\"PROT_SPECI/3-15 .....insertALIGNED\"\n",
    "#                     3456789111111\n",
    "#                            012345\n",
    "```\n",
    "\n",
    "MIToS `read` and `parse` functions deletes the insert columns, but they  do the mapping of each residue to its residue number before deleting insert columns if `generatemapping` is `true`. If you don’t set `useidcoordinates` to `true`, the residue first `i` residue will be 1 instead of 3.  "
   ]
  },
  {
   "cell_type": "code",
   "execution_count": 22,
   "metadata": {
    "collapsed": false
   },
   "outputs": [
    {
     "data": {
      "text/plain": [
       "1x7 MIToS.MSA.AnnotatedMultipleSequenceAlignment:\n",
       " A  L  I  G  N  E  D"
      ]
     },
     "execution_count": 22,
     "metadata": {},
     "output_type": "execute_result"
    }
   ],
   "source": [
    "msa = parse(\"PROT_SPECI/3-15 .....insertALIGNED\", Stockholm, generatemapping=true, useidcoordinates=true)"
   ]
  },
  {
   "cell_type": "markdown",
   "metadata": {},
   "source": [
    "MIToS also keeps the column number of the input MSA and its total number of columns. All this data is stored in the MSA annotations using the `SeqMap`, `ColMap` and `NCol` feature names.  "
   ]
  },
  {
   "cell_type": "code",
   "execution_count": 23,
   "metadata": {
    "collapsed": false
   },
   "outputs": [
    {
     "data": {
      "text/plain": [
       "#=GF NCol   18\n",
       "#=GF ColMap   12,13,14,15,16,17,18\n",
       "#=GF MIToS_2016-03-29T11:28:32   deletefullgaps!  :  Deletes 11 columns full of gaps (inserts generate full gap columns on MIToS because lowercase and dots are not allowed)\n",
       "#=GF MIToS_2016-03-29T11:28:32   filtercolumns! : 11 columns have been deleted.\n",
       "#=GS PROT_SPECI/3-15\tSeqMap 9,10,11,12,13,14,15\n"
      ]
     },
     "execution_count": 23,
     "metadata": {},
     "output_type": "execute_result"
    }
   ],
   "source": [
    "annotations(msa)"
   ]
  },
  {
   "cell_type": "markdown",
   "metadata": {},
   "source": [
    "To have an easy access to mapping data, MIToS provides the `getsequencemapping` and `getsequencemapping` functions.  "
   ]
  },
  {
   "cell_type": "code",
   "execution_count": 24,
   "metadata": {
    "collapsed": false
   },
   "outputs": [
    {
     "data": {
      "text/plain": [
       "7-element Array{Int64,1}:\n",
       "  9\n",
       " 10\n",
       " 11\n",
       " 12\n",
       " 13\n",
       " 14\n",
       " 15"
      ]
     },
     "execution_count": 24,
     "metadata": {},
     "output_type": "execute_result"
    }
   ],
   "source": [
    "getsequencemapping(msa, \"PROT_SPECI/3-15\")"
   ]
  },
  {
   "cell_type": "code",
   "execution_count": 25,
   "metadata": {
    "collapsed": false
   },
   "outputs": [
    {
     "data": {
      "text/plain": [
       "7-element Array{Int64,1}:\n",
       " 12\n",
       " 13\n",
       " 14\n",
       " 15\n",
       " 16\n",
       " 17\n",
       " 18"
      ]
     },
     "execution_count": 25,
     "metadata": {},
     "output_type": "execute_result"
    }
   ],
   "source": [
    "getcolumnmapping(msa)"
   ]
  },
  {
   "cell_type": "markdown",
   "metadata": {},
   "source": [
    "<a href=\"#\"><i class=\"fa fa-arrow-up\"></i></a>\n",
    "\n",
    "#### Example: Exporting a MSA for freecontact (part II)"
   ]
  },
  {
   "cell_type": "markdown",
   "metadata": {},
   "source": [
    "If we want to use the `--mincontsep` argument of `freecontact` to calculate scores between distant residues, we will need to add a header to the MSA. This header should contains the residue number of the first residue of the sequence and the full fragment of that sequence (with the inserts). This data is used by FreeContact to calculate the residue number of each residue in the reference sequence.  \n",
    "We are going to use MIToS mapping data to create this header, so we read the MSA with `generatemapping` and `useidcoordinates` setted to `true`.  "
   ]
  },
  {
   "cell_type": "code",
   "execution_count": 26,
   "metadata": {
    "collapsed": false
   },
   "outputs": [
    {
     "name": "stderr",
     "output_type": "stream",
     "text": [
      "  % Total    % Received % Xferd  Average Speed   Time    Time     Time  Current\n",
      "                                 Dload  Upload   Total   Spent    Left  Speed\n",
      "  0     0    0     0    0     0      0      0 --:--:--  0:00:31 --:--:--     0"
     ]
    },
    {
     "data": {
      "text/plain": [
       "3x126 MIToS.MSA.AnnotatedMultipleSequenceAlignment:\n",
       " M  L  E  S  E  V  S  G  N  …  P  G  R  L  F  C  C  -  -\n",
       " L  L  H  Q  E  R  P  G  P     -  T  Q  R  P  C  F  T  C\n",
       " -  L  H  R  D  Q  P  S  P     -  V  R  R  P  C  C  A  C"
      ]
     },
     "execution_count": 26,
     "metadata": {},
     "output_type": "execute_result"
    },
    {
     "name": "stderr",
     "output_type": "stream",
     "text": [
      "\r",
      "100  1610  100  1610    0     0     51      0  0:00:31  0:00:31 --:--:--   400\n"
     ]
    }
   ],
   "source": [
    "msa = read( \"http://pfam.xfam.org/family/PF02476/alignment/full\", Stockholm,\n",
    "            generatemapping=true, useidcoordinates=true)"
   ]
  },
  {
   "cell_type": "markdown",
   "metadata": {},
   "source": [
    "Here, we are going to choose the sequence with more coverage of the MSA as our reference sequence.  "
   ]
  },
  {
   "cell_type": "code",
   "execution_count": 27,
   "metadata": {
    "collapsed": false
   },
   "outputs": [
    {
     "data": {
      "text/plain": [
       "3x124 MIToS.MSA.AnnotatedMultipleSequenceAlignment:\n",
       " L  L  H  Q  E  R  P  G  P  …  P  T  Q  R  P  C  F  T  C\n",
       " M  L  E  S  E  V  S  G  N     M  G  R  L  F  C  C  -  -\n",
       " -  L  H  R  D  Q  P  S  P     P  V  R  R  P  C  C  A  C"
      ]
     },
     "execution_count": 27,
     "metadata": {},
     "output_type": "execute_result"
    }
   ],
   "source": [
    "maxcoverage, indice = findmax(coverage(msa))\n",
    "setreference!(msa, indice)\n",
    "adjustreference!(msa)"
   ]
  },
  {
   "cell_type": "markdown",
   "metadata": {},
   "source": [
    "MIToS deletes the residues in insert columns, so we are going to use the sequence mapping to generate the whole fragment of the reference sequence (filling the missing regions with `'x'`).  "
   ]
  },
  {
   "cell_type": "code",
   "execution_count": 28,
   "metadata": {
    "collapsed": false
   },
   "outputs": [
    {
     "data": {
      "text/plain": [
       "\"LLHQERPGPxRLYHLWVVGAADLCVPFFEYAQKTRxxxRFIATKTNDAWVGEPWPLPDRFLPERTVSWTPFPAAPNHPLENLLSRYEYQYGVVVPxxxxxxxxRWLRSLVAPHxKPRPASSRPHPATHPTQRPCFTC\""
      ]
     },
     "execution_count": 28,
     "metadata": {},
     "output_type": "execute_result"
    }
   ],
   "source": [
    "seqmap = getsequencemapping(msa, 1) # seqmap will be a vector with the residue numbers of the first sequence (reference)\n",
    "\n",
    "seq = collect( asciisequence(msa, 1) ) # seq will be a Vector of Chars with the reference sequence\n",
    "\n",
    "sequence = map(seqmap[1]:seqmap[end]) do seqpos # for each position in the whole fragment\n",
    "    if seqpos in seqmap                         # if that position is in the MSA\n",
    "        shift!(seq)                             # the residue is taken from seq\n",
    "    else                                        # otherwise\n",
    "        'x'                                     # 'x' is included\n",
    "    end\n",
    "end\n",
    "\n",
    "sequence = join(sequence) # join the Chars on the Vector to create a string"
   ]
  },
  {
   "cell_type": "markdown",
   "metadata": {},
   "source": [
    "Once we have the whole fragment of the sequence, we create the file and write the header in the required format (as in the man page of freecontact).  \n"
   ]
  },
  {
   "cell_type": "code",
   "execution_count": 29,
   "metadata": {
    "collapsed": false
   },
   "outputs": [],
   "source": [
    "open(\"tofreecontact.msa\", \"w\") do fh\n",
    "    \n",
    "    println(fh, \"# querystart=\", seqmap[1])\n",
    "    \n",
    "    println(fh, \"# query=\", sequence )\n",
    "    \n",
    "end"
   ]
  },
  {
   "cell_type": "markdown",
   "metadata": {},
   "source": [
    "As last (optional) argument, `write` takes the mode in which is opened the file. We use `\"a\"` here to append the MSA to the header.  "
   ]
  },
  {
   "cell_type": "code",
   "execution_count": 30,
   "metadata": {
    "collapsed": true
   },
   "outputs": [],
   "source": [
    "write(\"tofreecontact.msa\", msa, Raw, \"a\")"
   ]
  },
  {
   "cell_type": "code",
   "execution_count": 31,
   "metadata": {
    "collapsed": false
   },
   "outputs": [
    {
     "name": "stdout",
     "output_type": "stream",
     "text": [
      "# querystart=110\n",
      "# query=LLHQERPGPxRLYHLWVVGAADLCVPFFEYAQKTRxxxRFIATKTNDAWVGEPWPLPDRFLPERTVSWTPFPAAPNHPLENLLSRYEYQYGVVVPxxxxxxxxRWLRSLVAPHxKPRPASSRPHPATHPTQRPCFTC\n",
      "LLHQERPGPRLYHLWVVGAADLCVPFFEYAQKTRRFIATKTNDAWVGEPWPLPDRFLPERTVSWTPFPAAPNHPLENLLSRYEYQYGVVVPRWLRSLVAPHKPRPASSRPHPATHPTQRPCFTC\n",
      "MLESEVSGNAPHSLWIVGAADICRIALECIPLPKRLLAIKVSGTWSGMPWAIPDNIQTLLTSTWEPKFDTPEDRAHFCDSDMVCVYKILGS----------PPNPLKPPEIEPPQMGRLFCC--\n",
      "-LHRDQPSPRLYHLWVVGAADLCVPFLEYAQKIRRFIAIKTPDAWVGEPWAVPTRFLPEWTVAWTPFPAAPNHPLETLLSRYEYQYGVVLPRWLRSLIALHKPHPATPGPLTTSHPVRRPCCAC\n"
     ]
    }
   ],
   "source": [
    ";cat tofreecontact.msa"
   ]
  },
  {
   "cell_type": "markdown",
   "metadata": {},
   "source": [
    "<a href=\"#\"><i class=\"fa fa-arrow-up\"></i></a>\n",
    "\n",
    "## Get sequences from a MSA\n",
    "\n",
    "It’s possible to index the MSA as any other matrix to get an aligned sequence. This will be return a `Array` of `Residue`s without annotations and without name/identifier."
   ]
  },
  {
   "cell_type": "code",
   "execution_count": 32,
   "metadata": {
    "collapsed": false
   },
   "outputs": [
    {
     "name": "stderr",
     "output_type": "stream",
     "text": [
      "  % Total    % Received % Xferd  Average Speed   Time    Time     Time  Current\n",
      "                                 Dload  Upload   Total   Spent    Left  Speed\n",
      "100  1118  100  1118    0     0   1405      0 --:--:-- --:--:-- --:--:--  1404\n"
     ]
    },
    {
     "data": {
      "text/plain": [
       "2x56 MIToS.MSA.AnnotatedMultipleSequenceAlignment:\n",
       " K  K  D  L  F  Y  K  E  V  …  V  I  F  T  L  F  -  R  V\n",
       " K  K  D  L  F  Y  K  D  I     L  I  F  T  L  I  G  V  -"
      ]
     },
     "execution_count": 32,
     "metadata": {},
     "output_type": "execute_result"
    }
   ],
   "source": [
    "msa = read( \"http://pfam.xfam.org/family/PF16996/alignment/full\", Stockholm,\n",
    "            generatemapping=true, useidcoordinates=true)"
   ]
  },
  {
   "cell_type": "code",
   "execution_count": 33,
   "metadata": {
    "collapsed": false
   },
   "outputs": [
    {
     "data": {
      "text/plain": [
       "1x56 Array{MIToS.MSA.Residue,2}:\n",
       " K  K  D  L  F  Y  K  D  I  …  L  I  F  T  L  I  G  V  -"
      ]
     },
     "execution_count": 33,
     "metadata": {},
     "output_type": "execute_result"
    }
   ],
   "source": [
    "msa[2,:] # second sequence of the MSA"
   ]
  },
  {
   "cell_type": "markdown",
   "metadata": {},
   "source": [
    "If you want to obtain the aligned sequence with its name and annotations (and therefore sequence and column mappings), you should use the function `getsequence`.  This function returns an `AlignedSequence` with the sequence name from a `MultipleSequenceAlignment` or an `AnnotatedAlignedSequence`, that also contains annotations, from an `AnnotatedMultipleSequenceAlignment`."
   ]
  },
  {
   "cell_type": "code",
   "execution_count": 34,
   "metadata": {
    "collapsed": false
   },
   "outputs": [
    {
     "data": {
      "text/plain": [
       "56-element MIToS.MSA.AnnotatedAlignedSequence:\n",
       " K\n",
       " K\n",
       " D\n",
       " L\n",
       " F\n",
       " ⋮\n",
       " L\n",
       " I\n",
       " G\n",
       " V\n",
       " -"
      ]
     },
     "execution_count": 34,
     "metadata": {},
     "output_type": "execute_result"
    }
   ],
   "source": [
    "secondsequence = getsequence(msa, 2)"
   ]
  },
  {
   "cell_type": "code",
   "execution_count": 35,
   "metadata": {
    "collapsed": false
   },
   "outputs": [
    {
     "data": {
      "text/plain": [
       "#=GF ID   Asp4\n",
       "#=GF AC   PF16996.2\n",
       "#=GF DE   Accessory secretory protein Sec Asp4\n",
       "#=GF AU   Coggill P\n",
       "#=GF SE   Pfam-B_7603 (release 27.0)\n",
       "#=GF GA   25.70 25.70;\n",
       "#=GF TC   26.00 113.50;\n",
       "#=GF NC   22.10 19.80;\n",
       "#=GF BM   hmmbuild HMM.ann SEED.ann\n",
       "#=GF SM   hmmsearch -Z 11927849 -E 1000 --cpu 4 HMM pfamseq\n",
       "#=GF TP   Family\n",
       "#=GF RN   [1]\n",
       "#=GF RM   23000954\n",
       "#=GF RT   Emerging themes in SecA2-mediated protein export.\n",
       "#=GF RA   Feltcher ME, Braunstein M;\n",
       "#=GF RL   Nat Rev Microbiol. 2012;10:779-789.\n",
       "#=GF CC   Asp4 and Asp5 are putative accessory components of the SecY2\n",
       "#=GF CC   channel of the SecA2-SecY2 mediated export system, but they are\n",
       "#=GF CC   not present in all SecA2-SecY2 systems. This family of Asp4 is\n",
       "#=GF CC   found in Firmicutes [1].\n",
       "#=GF SQ   2\n",
       "#=GF NCol   57\n",
       "#=GF ColMap   1,2,3,4,5,6,7,8,9,10,11,12,13,14,15,16,17,18,19,20,21,22,23,24,25,26,27,28,29,30,31,32,33,34,35,36,37,38,39,40,41,42,43,44,45,46,47,48,49,50,51,52,53,54,55,56\n",
       "#=GF MIToS_2016-03-29T11:32:14   deletefullgaps!  :  Deletes 1 columns full of gaps (inserts generate full gap columns on MIToS because lowercase and dots are not allowed)\n",
       "#=GF MIToS_2016-03-29T11:32:14   filtercolumns! : 1 columns have been deleted.\n",
       "#=GS A8AWV6_STRGC/3-58\tSeqMap 3,4,5,6,7,8,9,10,11,12,13,14,15,16,17,18,19,20,21,22,23,24,25,26,27,28,29,30,31,32,33,34,35,36,37,38,39,40,41,42,43,44,45,46,47,48,49,50,51,52,53,54,55,56,57,\n",
       "#=GS A8AWV6_STRGC/3-58\tAC A8AWV6.1\n",
       "#=GC seq_cons\t\t\tKKDLFYK-lEGRh-pLK+t.scKEKsohuEKhNhsFslhlGLhILlGlIFTLh.h.\n"
      ]
     },
     "execution_count": 35,
     "metadata": {},
     "output_type": "execute_result"
    }
   ],
   "source": [
    "annotations(secondsequence)"
   ]
  },
  {
   "cell_type": "markdown",
   "metadata": {},
   "source": [
    "Use `asciisequence` if you want to get the sequence as a string."
   ]
  },
  {
   "cell_type": "code",
   "execution_count": 36,
   "metadata": {
    "collapsed": false
   },
   "outputs": [
    {
     "data": {
      "text/plain": [
       "\"KKDLFYKDIEGRLDELKHGRPKKEKASLGEKFNKAFVIALGLMILIGLIFTLIGV-\""
      ]
     },
     "execution_count": 36,
     "metadata": {},
     "output_type": "execute_result"
    }
   ],
   "source": [
    "asciisequence(msa, 2)"
   ]
  },
  {
   "cell_type": "markdown",
   "metadata": {},
   "source": [
    "Given that matrices are stored columnwise in Julia, you will find useful the `getresiduesequences` function when you need to heavily operate over sequences. \n"
   ]
  },
  {
   "cell_type": "code",
   "execution_count": 37,
   "metadata": {
    "collapsed": false
   },
   "outputs": [
    {
     "data": {
      "text/plain": [
       "2-element Array{Array{MIToS.MSA.Residue,1},1}:\n",
       " [K,K,D,L,F,Y,K,E,V,E  …  G,V,I,F,T,L,F,-,R,V]\n",
       " [K,K,D,L,F,Y,K,D,I,E  …  G,L,I,F,T,L,I,G,V,-]"
      ]
     },
     "execution_count": 37,
     "metadata": {},
     "output_type": "execute_result"
    }
   ],
   "source": [
    "getresiduesequences(msa)"
   ]
  },
  {
   "cell_type": "markdown",
   "metadata": {
    "collapsed": true
   },
   "source": [
    "<a href=\"#\"><i class=\"fa fa-arrow-up\"></i></a>\n",
    "\n",
    "## Describing your MSA\n",
    "\n",
    "The MSA module has a number of functions to gain insight about your MSA. Using `MIToS.MSA`, one can easily ask for...  \n",
    "\n",
    "- The **number of columns and sequences** with the `ncolumns` and `nsequences` functions.  \n",
    "- The fraction of columns with residues (**coverage**) for each sequence making use of the `coverage` method.  \n",
    "- The **fraction or percentage of gaps/residues** using with the functions `gapfraction`, `residuefraction` and `columngapfraction`.  \n",
    "- The **percentage of identity** (PID) between each sequence of the MSA or its mean value with `percentidentity` and `meanpercentidentity`.  \n"
   ]
  },
  {
   "cell_type": "markdown",
   "metadata": {},
   "source": [
    "The percentage identity between two aligned sequences it’s a common measure of sequence similarity and it’s used by the `hobohmI` method to estimate and reduce MSA redundancy. <span class=\"text-warning\">MIToS functions to calculate percent identity don’t align the sequences, they need sequences already aligned.</span> Full gaps columns don’t count to the align length.  "
   ]
  },
  {
   "cell_type": "code",
   "execution_count": 38,
   "metadata": {
    "collapsed": false
   },
   "outputs": [
    {
     "data": {
      "text/plain": [
       "2x6 Array{MIToS.MSA.Residue,2}:\n",
       " -  -  G  G  G  -\n",
       " -  -  -  G  G  G"
      ]
     },
     "execution_count": 38,
     "metadata": {},
     "output_type": "execute_result"
    }
   ],
   "source": [
    "msa = vcat( transpose(res\"--GGG-\"),      # res\"...\" uses the @res_str macro to create a (column) Vector{Residue}\n",
    "            transpose(res\"---GGG\") )\n",
    "#              identities 000110 sum 2\n",
    "#        aligned residues 001111 sum 4"
   ]
  },
  {
   "cell_type": "code",
   "execution_count": 39,
   "metadata": {
    "collapsed": false
   },
   "outputs": [
    {
     "data": {
      "text/plain": [
       "50.0"
      ]
     },
     "execution_count": 39,
     "metadata": {},
     "output_type": "execute_result"
    }
   ],
   "source": [
    "percentidentity(msa[1,:], msa[2,:]) # 2 / 4"
   ]
  },
  {
   "cell_type": "markdown",
   "metadata": {},
   "source": [
    "To quickly calculate if the percentage of identity is greater than a determined value, use that threshold as third argument.  "
   ]
  },
  {
   "cell_type": "code",
   "execution_count": 40,
   "metadata": {
    "collapsed": false
   },
   "outputs": [
    {
     "data": {
      "text/plain": [
       "false"
      ]
     },
     "execution_count": 40,
     "metadata": {},
     "output_type": "execute_result"
    }
   ],
   "source": [
    "percentidentity(msa[1,:], msa[2,:], 62) # 50% >= 62%"
   ]
  },
  {
   "cell_type": "markdown",
   "metadata": {},
   "source": [
    "<a href=\"#\"><i class=\"fa fa-arrow-up\"></i></a>\n",
    "\n",
    "#### Example: Plotting gap percentage per column and coverage per sequence"
   ]
  },
  {
   "cell_type": "markdown",
   "metadata": {},
   "source": [
    "The `gapfraction` and `coverage` functions return a vector of number between `0.0` and `1.0` (fraction of...). Sometime it’s useful to plot this data to quickly understand the MSA structure. In this example, we are going to use the [Plots<span class=\"fa fa-external-link\" aria-hidden=\"true\"></span>](#http://plots.readthedocs.org/en/latest/) package for plotting, with a [PlotlyJS<span class=\"fa fa-external-link\" aria-hidden=\"true\"></span>](#http://spencerlyon.com/PlotlyJS.jl/) backend, but you are free to use any of the Julia plotting libraries.  \n"
   ]
  },
  {
   "cell_type": "code",
   "execution_count": 42,
   "metadata": {
    "collapsed": false
   },
   "outputs": [
    {
     "name": "stderr",
     "output_type": "stream",
     "text": [
      "  % Total    % Received % Xferd  Average Speed   Time    Time     Time  Current\n",
      "                                 Dload  Upload   Total   Spent    Left  Speed\n",
      "100 31151  100 31151    0     0  56277      0 --:--:-- --:--:-- --:--:-- 56330\n"
     ]
    },
    {
     "data": {
      "text/html": [
       "<script src=\"/home/diego/.julia/v0.4/Plots/deps/plotly-latest.min.js\"></script>  <div id=\"3e23bb28-a1ac-4944-a95c-c01d03cea75f\" style=\"width:600px;height:300px;\"></div>\n",
       "  <script>\n",
       "    PLOT = document.getElementById('3e23bb28-a1ac-4944-a95c-c01d03cea75f');\n",
       "    Plotly.plot(PLOT, [{\"y\":[78.8135593220339,66.10169491525424,63.559322033898304,62.71186440677966,61.016949152542374,57.6271186440678,57.6271186440678,56.779661016949156,54.23728813559322,51.69491525423729,50.847457627118644,49.152542372881356,45.76271186440678,45.76271186440678,39.83050847457627,38.13559322033898,34.74576271186441,34.74576271186441,32.20338983050847,29.66101694915254,24.576271186440678,18.64406779661017,14.40677966101695,9.322033898305085,7.627118644067797,7.627118644067797,6.779661016949152,6.779661016949152,6.779661016949152,6.779661016949152,6.779661016949152,6.779661016949152,6.779661016949152,6.779661016949152,7.627118644067797,6.779661016949152,6.779661016949152,6.779661016949152,5.932203389830509,6.779661016949152,6.779661016949152,5.084745762711865,5.084745762711865,5.084745762711865,5.084745762711865,5.084745762711865,5.084745762711865,5.084745762711865,5.084745762711865,5.084745762711865,5.084745762711865,5.084745762711865,5.084745762711865,5.084745762711865,5.084745762711865,5.932203389830509,5.932203389830509,5.084745762711865,5.084745762711865,5.084745762711865,5.084745762711865,5.084745762711865,5.084745762711865,5.084745762711865,2.5423728813559325,2.5423728813559325,1.694915254237288,1.694915254237288,1.694915254237288,2.5423728813559325,2.5423728813559325,2.5423728813559325,2.5423728813559325,2.5423728813559325,2.5423728813559325,2.5423728813559325,2.5423728813559325,2.5423728813559325,2.5423728813559325,2.5423728813559325,2.5423728813559325,2.5423728813559325,2.5423728813559325,2.5423728813559325,2.5423728813559325,2.5423728813559325,2.5423728813559325,40.67796610169492,38.983050847457626,5.084745762711865,4.23728813559322,4.23728813559322,4.23728813559322,4.23728813559322,28.8135593220339,9.322033898305085,6.779661016949152,4.23728813559322,4.23728813559322,4.23728813559322,7.627118644067797,7.627118644067797,6.779661016949152,6.779661016949152,4.23728813559322,4.23728813559322,4.23728813559322,4.23728813559322,5.084745762711865,5.084745762711865,6.779661016949152,7.627118644067797,8.47457627118644,11.016949152542372,14.40677966101695,27.11864406779661],\"name\":\"y1\",\"type\":\"scatter\",\"line\":{\"width\":1,\"dash\":\"solid\",\"color\":\"rgba(0, 154, 250, 1.000)\",\"shape\":\"linear\"},\"x\":[1,2,3,4,5,6,7,8,9,10,11,12,13,14,15,16,17,18,19,20,21,22,23,24,25,26,27,28,29,30,31,32,33,34,35,36,37,38,39,40,41,42,43,44,45,46,47,48,49,50,51,52,53,54,55,56,57,58,59,60,61,62,63,64,65,66,67,68,69,70,71,72,73,74,75,76,77,78,79,80,81,82,83,84,85,86,87,88,89,90,91,92,93,94,95,96,97,98,99,100,101,102,103,104,105,106,107,108,109,110,111,112,113,114,115,116],\"mode\":\"lines\"}], {\"yaxis\":{\"linecolor\":\"rgba(0, 0, 0, 1.000)\",\"type\":\"-\",\"titlefont\":{\"size\":15,\"color\":\"rgba(0, 0, 0, 1.000)\",\"family\":\"Helvetica\"},\"tickcolor\":\"rgba(0, 0, 0, 1.000)\",\"title\":\"gaps [%]\",\"showgrid\":true,\"zeroline\":false,\"tickfont\":{\"size\":11,\"color\":\"rgba(0, 0, 0, 1.000)\",\"family\":\"Helvetica\"}},\"plot_bgcolor\":\"rgba(255, 255, 255, 1.000)\",\"showlegend\":true,\"legend\":{\"bgcolor\":\"rgba(255, 255, 255, 1.000)\",\"font\":{\"size\":11,\"color\":\"rgb(0, 0, 0)\",\"family\":\"Helvetica\"},\"bordercolor\":\"rgba(0, 0, 0, 1.000)\"},\"titlefont\":{\"size\":15,\"color\":\"rgba(0, 0, 0, 1.000)\",\"family\":\"Helvetica\"},\"paper_bgcolor\":\"rgba(255, 255, 255, 1.000)\",\"xaxis\":{\"linecolor\":\"rgba(0, 0, 0, 1.000)\",\"type\":\"-\",\"titlefont\":{\"size\":15,\"color\":\"rgba(0, 0, 0, 1.000)\",\"family\":\"Helvetica\"},\"tickcolor\":\"rgba(0, 0, 0, 1.000)\",\"title\":\"columns\",\"showgrid\":true,\"zeroline\":false,\"tickfont\":{\"size\":11,\"color\":\"rgba(0, 0, 0, 1.000)\",\"family\":\"Helvetica\"}},\"title\":\"\",\"margin\":{\"r\":8,\"l\":35,\"b\":30,\"t\":20}});\n",
       "  </script>\n"
      ]
     },
     "execution_count": 42,
     "metadata": {},
     "output_type": "execute_result"
    }
   ],
   "source": [
    "msa = read(\"http://pfam.xfam.org/family/PF09776/alignment/full\", Stockholm)\n",
    "\n",
    "using Plots\n",
    "\n",
    "plotly(size=(600,300))\n",
    "\n",
    "plot(   x = 1:ncolumns(msa), # x is a range from 1 to the number of columns\n",
    "        y = columngapfraction(msa) .* 100.0, # y is a Vector{Float64} with the percentage of gaps of each column\n",
    "        linetype = :line, \n",
    "        ylabel = \"gaps [%]\",\n",
    "        xlabel = \"columns\"  )"
   ]
  },
  {
   "cell_type": "code",
   "execution_count": 43,
   "metadata": {
    "collapsed": false
   },
   "outputs": [
    {
     "data": {
      "text/html": [
       "<script src=\"/home/diego/.julia/v0.4/Plots/deps/plotly-latest.min.js\"></script>  <div id=\"4b01638f-a8db-47fe-b6f9-ea9550052c2d\" style=\"width:600px;height:300px;\"></div>\n",
       "  <script>\n",
       "    PLOT = document.getElementById('4b01638f-a8db-47fe-b6f9-ea9550052c2d');\n",
       "    Plotly.plot(PLOT, [{\"y\":[78.44827586206897,96.55172413793103,70.6896551724138,99.13793103448276,81.03448275862068,99.13793103448276,62.93103448275862,78.44827586206897,43.103448275862064,80.17241379310344,99.13793103448276,77.58620689655173,84.48275862068965,81.03448275862068,96.55172413793103,99.13793103448276,80.17241379310344,87.93103448275862,88.79310344827587,99.13793103448276,93.10344827586206,87.06896551724138,79.3103448275862,82.75862068965517,83.62068965517241,67.24137931034483,97.41379310344827,99.13793103448276,100.0,81.89655172413794,82.75862068965517,96.55172413793103,79.3103448275862,89.65517241379311,99.13793103448276,100.0,86.20689655172413,94.82758620689656,100.0,100.0,81.89655172413794,38.793103448275865,78.44827586206897,100.0,97.41379310344827,78.44827586206897,100.0,93.10344827586206,99.13793103448276,99.13793103448276,81.89655172413794,82.75862068965517,93.10344827586206,78.44827586206897,100.0,98.27586206896551,80.17241379310344,79.3103448275862,40.51724137931034,99.13793103448276,99.13793103448276,99.13793103448276,93.96551724137932,42.241379310344826,85.34482758620689,78.44827586206897,62.93103448275862,67.24137931034483,70.6896551724138,93.96551724137932,86.20689655172413,83.62068965517241,89.65517241379311,80.17241379310344,79.3103448275862,100.0,81.03448275862068,99.13793103448276,99.13793103448276,78.44827586206897,97.41379310344827,82.75862068965517,100.0,28.448275862068968,87.93103448275862,88.79310344827587,88.79310344827587,89.65517241379311,56.896551724137936,99.13793103448276,87.06896551724138,44.827586206896555,98.27586206896551,79.3103448275862,81.89655172413794,98.27586206896551,99.13793103448276,95.6896551724138,88.79310344827587,59.48275862068966,99.13793103448276,99.13793103448276,81.89655172413794,83.62068965517241,100.0,86.20689655172413,79.3103448275862,88.79310344827587,100.0,77.58620689655173,79.3103448275862,85.34482758620689,79.3103448275862,77.58620689655173,99.13793103448276,100.0,89.65517241379311,99.13793103448276],\"name\":\"y1\",\"type\":\"scatter\",\"line\":{\"width\":1,\"dash\":\"solid\",\"color\":\"rgba(0, 154, 250, 1.000)\",\"shape\":\"linear\"},\"x\":[1,2,3,4,5,6,7,8,9,10,11,12,13,14,15,16,17,18,19,20,21,22,23,24,25,26,27,28,29,30,31,32,33,34,35,36,37,38,39,40,41,42,43,44,45,46,47,48,49,50,51,52,53,54,55,56,57,58,59,60,61,62,63,64,65,66,67,68,69,70,71,72,73,74,75,76,77,78,79,80,81,82,83,84,85,86,87,88,89,90,91,92,93,94,95,96,97,98,99,100,101,102,103,104,105,106,107,108,109,110,111,112,113,114,115,116,117,118],\"mode\":\"lines\"}], {\"yaxis\":{\"linecolor\":\"rgba(0, 0, 0, 1.000)\",\"type\":\"-\",\"titlefont\":{\"size\":15,\"color\":\"rgba(0, 0, 0, 1.000)\",\"family\":\"Helvetica\"},\"tickcolor\":\"rgba(0, 0, 0, 1.000)\",\"title\":\"coverage [%]\",\"showgrid\":true,\"zeroline\":false,\"tickfont\":{\"size\":11,\"color\":\"rgba(0, 0, 0, 1.000)\",\"family\":\"Helvetica\"}},\"plot_bgcolor\":\"rgba(255, 255, 255, 1.000)\",\"showlegend\":true,\"legend\":{\"bgcolor\":\"rgba(255, 255, 255, 1.000)\",\"font\":{\"size\":11,\"color\":\"rgb(0, 0, 0)\",\"family\":\"Helvetica\"},\"bordercolor\":\"rgba(0, 0, 0, 1.000)\"},\"titlefont\":{\"size\":15,\"color\":\"rgba(0, 0, 0, 1.000)\",\"family\":\"Helvetica\"},\"paper_bgcolor\":\"rgba(255, 255, 255, 1.000)\",\"xaxis\":{\"linecolor\":\"rgba(0, 0, 0, 1.000)\",\"type\":\"-\",\"titlefont\":{\"size\":15,\"color\":\"rgba(0, 0, 0, 1.000)\",\"family\":\"Helvetica\"},\"tickcolor\":\"rgba(0, 0, 0, 1.000)\",\"title\":\"sequences\",\"showgrid\":true,\"zeroline\":false,\"tickfont\":{\"size\":11,\"color\":\"rgba(0, 0, 0, 1.000)\",\"family\":\"Helvetica\"}},\"title\":\"\",\"margin\":{\"r\":8,\"l\":35,\"b\":30,\"t\":20}});\n",
       "  </script>\n"
      ]
     },
     "execution_count": 43,
     "metadata": {},
     "output_type": "execute_result"
    }
   ],
   "source": [
    "plot(   x = 1:nsequences(msa), # x is a range from 1 to the number of sequences\n",
    "        y = coverage(msa) .* 100, # y is a Vector{Float64} with the coverage of each sequence\n",
    "        linetype = :line, \n",
    "        ylabel = \"coverage [%]\",\n",
    "        xlabel = \"sequences\" )"
   ]
  },
  {
   "cell_type": "markdown",
   "metadata": {},
   "source": [
    "<a href=\"#\"><i class=\"fa fa-arrow-up\"></i></a>\n",
    "\n",
    "#### Example: Filter sequences per coverage and columns per gap fraction"
   ]
  },
  {
   "cell_type": "markdown",
   "metadata": {
    "collapsed": true
   },
   "source": [
    "Taking advantage of the `filter...!` functions and the `coverage` and `columngapfraction` functions, it’s possible to delete short sequences or columns with a lot of gaps. \n"
   ]
  },
  {
   "cell_type": "code",
   "execution_count": 44,
   "metadata": {
    "collapsed": false
   },
   "outputs": [
    {
     "name": "stdout",
     "output_type": "stream",
     "text": [
      "\tsequences\tcolumns\n",
      "Before:\t118\t\t116\n",
      "After:\t48\t\t108\n"
     ]
    }
   ],
   "source": [
    "println(\"\\tsequences\\tcolumns\")\n",
    "\n",
    "println( \"Before:\\t\", nsequences(msa), \"\\t\\t\", ncolumns(msa)  )\n",
    "\n",
    "filtersequences!(msa, coverage(msa) .>= 0.9) # deletes sequences with less than 90% coverage of the MSA length \n",
    "\n",
    "filtercolumns!(msa, columngapfraction(msa) .<= 0.1) # deletes columns with more than 10% of gaps\n",
    "\n",
    "println( \"After:\\t\", nsequences(msa), \"\\t\\t\",  ncolumns(msa)  )"
   ]
  },
  {
   "cell_type": "code",
   "execution_count": 45,
   "metadata": {
    "collapsed": false
   },
   "outputs": [
    {
     "data": {
      "text/html": [
       "<script src=\"/home/diego/.julia/v0.4/Plots/deps/plotly-latest.min.js\"></script>  <div id=\"22323f9a-f42c-48ec-88a0-0ab56e4836fe\" style=\"width:600px;height:300px;\"></div>\n",
       "  <script>\n",
       "    PLOT = document.getElementById('22323f9a-f42c-48ec-88a0-0ab56e4836fe');\n",
       "    Plotly.plot(PLOT, [{\"nbinsx\":30,\"name\":\"y1\",\"type\":\"histogram\",\"line\":{\"width\":1,\"dash\":\"solid\",\"color\":\"rgba(0, 154, 250, 1.000)\",\"shape\":\"linear\"},\"x\":[0.020833333333333332,0.020833333333333332,0.0,0.0,0.0,0.0,0.020833333333333332,0.0,0.041666666666666664,0.0,0.0,0.0,0.0,0.0,0.0,0.0,0.0,0.0,0.0,0.0,0.0,0.0,0.0,0.0,0.0,0.0,0.0,0.0,0.0,0.0,0.0,0.0,0.0,0.0,0.020833333333333332,0.020833333333333332,0.0,0.0,0.0,0.0,0.0,0.0,0.0,0.0,0.0,0.0,0.0,0.0,0.0,0.0,0.020833333333333332,0.020833333333333332,0.0,0.0,0.0,0.0,0.0,0.0,0.0,0.0,0.0,0.0,0.0,0.0,0.0,0.0,0.0,0.0,0.0,0.0,0.0,0.0,0.0,0.0,0.0,0.0,0.0,0.0,0.0,0.0,0.0,0.0,0.08333333333333333,0.020833333333333332,0.0,0.0,0.0,0.0,0.020833333333333332,0.020833333333333332,0.0,0.0,0.0,0.0,0.0,0.0,0.0,0.0,0.0,0.0,0.0,0.0,0.0,0.0,0.0,0.0,0.0,0.0]}], {\"yaxis\":{\"linecolor\":\"rgba(0, 0, 0, 1.000)\",\"type\":\"-\",\"titlefont\":{\"size\":15,\"color\":\"rgba(0, 0, 0, 1.000)\",\"family\":\"Helvetica\"},\"tickcolor\":\"rgba(0, 0, 0, 1.000)\",\"title\":\"\",\"showgrid\":true,\"zeroline\":false,\"tickfont\":{\"size\":11,\"color\":\"rgba(0, 0, 0, 1.000)\",\"family\":\"Helvetica\"}},\"plot_bgcolor\":\"rgba(255, 255, 255, 1.000)\",\"showlegend\":true,\"legend\":{\"bgcolor\":\"rgba(255, 255, 255, 1.000)\",\"font\":{\"size\":11,\"color\":\"rgb(0, 0, 0)\",\"family\":\"Helvetica\"},\"bordercolor\":\"rgba(0, 0, 0, 1.000)\"},\"titlefont\":{\"size\":15,\"color\":\"rgba(0, 0, 0, 1.000)\",\"family\":\"Helvetica\"},\"paper_bgcolor\":\"rgba(255, 255, 255, 1.000)\",\"xaxis\":{\"linecolor\":\"rgba(0, 0, 0, 1.000)\",\"type\":\"-\",\"titlefont\":{\"size\":15,\"color\":\"rgba(0, 0, 0, 1.000)\",\"family\":\"Helvetica\"},\"tickcolor\":\"rgba(0, 0, 0, 1.000)\",\"title\":\"gap fraction ∈ [0,1]\",\"showgrid\":true,\"zeroline\":false,\"tickfont\":{\"size\":11,\"color\":\"rgba(0, 0, 0, 1.000)\",\"family\":\"Helvetica\"}},\"title\":\"\",\"margin\":{\"r\":8,\"l\":35,\"b\":30,\"t\":20}});\n",
       "  </script>\n"
      ]
     },
     "execution_count": 45,
     "metadata": {},
     "output_type": "execute_result"
    }
   ],
   "source": [
    "histogram(  columngapfraction(msa), # Vector{Float64} with the fraction of gaps of each column\n",
    "            xlabel = \"gap fraction ∈ [0,1]\" ) "
   ]
  },
  {
   "cell_type": "code",
   "execution_count": 46,
   "metadata": {
    "collapsed": false
   },
   "outputs": [
    {
     "data": {
      "text/html": [
       "<script src=\"/home/diego/.julia/v0.4/Plots/deps/plotly-latest.min.js\"></script>  <div id=\"5eb09586-fe17-415d-8e40-6045edd49bfb\" style=\"width:600px;height:300px;\"></div>\n",
       "  <script>\n",
       "    PLOT = document.getElementById('5eb09586-fe17-415d-8e40-6045edd49bfb');\n",
       "    Plotly.plot(PLOT, [{\"nbinsx\":30,\"name\":\"y1\",\"type\":\"histogram\",\"line\":{\"width\":1,\"dash\":\"solid\",\"color\":\"rgba(0, 154, 250, 1.000)\",\"shape\":\"linear\"},\"x\":[100.0,100.0,100.0,100.0,98.14814814814815,100.0,100.0,98.14814814814815,98.14814814814815,100.0,100.0,98.14814814814815,100.0,100.0,100.0,100.0,100.0,100.0,99.07407407407408,100.0,99.07407407407408,100.0,100.0,97.22222222222221,100.0,100.0,100.0,100.0,100.0,99.07407407407408,98.14814814814815,100.0,100.0,100.0,100.0,100.0,100.0,100.0,100.0,100.0,100.0,100.0,100.0,100.0,100.0,100.0,100.0,100.0]}], {\"yaxis\":{\"linecolor\":\"rgba(0, 0, 0, 1.000)\",\"type\":\"-\",\"titlefont\":{\"size\":15,\"color\":\"rgba(0, 0, 0, 1.000)\",\"family\":\"Helvetica\"},\"tickcolor\":\"rgba(0, 0, 0, 1.000)\",\"title\":\"\",\"showgrid\":true,\"zeroline\":false,\"tickfont\":{\"size\":11,\"color\":\"rgba(0, 0, 0, 1.000)\",\"family\":\"Helvetica\"}},\"plot_bgcolor\":\"rgba(255, 255, 255, 1.000)\",\"showlegend\":true,\"legend\":{\"bgcolor\":\"rgba(255, 255, 255, 1.000)\",\"font\":{\"size\":11,\"color\":\"rgb(0, 0, 0)\",\"family\":\"Helvetica\"},\"bordercolor\":\"rgba(0, 0, 0, 1.000)\"},\"titlefont\":{\"size\":15,\"color\":\"rgba(0, 0, 0, 1.000)\",\"family\":\"Helvetica\"},\"paper_bgcolor\":\"rgba(255, 255, 255, 1.000)\",\"xaxis\":{\"linecolor\":\"rgba(0, 0, 0, 1.000)\",\"type\":\"-\",\"titlefont\":{\"size\":15,\"color\":\"rgba(0, 0, 0, 1.000)\",\"family\":\"Helvetica\"},\"tickcolor\":\"rgba(0, 0, 0, 1.000)\",\"title\":\"coverage [%]\",\"showgrid\":true,\"zeroline\":false,\"tickfont\":{\"size\":11,\"color\":\"rgba(0, 0, 0, 1.000)\",\"family\":\"Helvetica\"}},\"title\":\"\",\"margin\":{\"r\":8,\"l\":35,\"b\":30,\"t\":20}});\n",
       "  </script>\n"
      ]
     },
     "execution_count": 46,
     "metadata": {},
     "output_type": "execute_result"
    }
   ],
   "source": [
    "histogram(  coverage(msa) .* 100.0, #  Vector{Float64} with the coverage of each sequence\n",
    "            xlabel = \"coverage [%]\" )"
   ]
  },
  {
   "cell_type": "markdown",
   "metadata": {},
   "source": [
    "<a href=\"#\"><i class=\"fa fa-arrow-up\"></i></a>\n",
    "\n",
    "#### Example: Plotting the percentage of identity between sequences"
   ]
  },
  {
   "cell_type": "markdown",
   "metadata": {},
   "source": [
    "The distribution of the percentage of identity between every pairs of sequences in a MSA, gives an idea of the MSA diversity. In this example, we are going to use `percentidentity` over a MSA to get that values.  "
   ]
  },
  {
   "cell_type": "code",
   "execution_count": 47,
   "metadata": {
    "collapsed": false
   },
   "outputs": [
    {
     "name": "stderr",
     "output_type": "stream",
     "text": [
      "  % Total    % Received % Xferd  Average Speed   Time    Time     Time  Current\n",
      "                                 Dload  Upload   Total   Spent    Left  Speed\n",
      "100 31151  100 31151    0     0  57714      0 --:--:-- --:--:-- --:--:-- 57794\n"
     ]
    },
    {
     "data": {
      "text/plain": [
       "118x118 PairwiseListMatrices.PairwiseListMatrix{Float64,false}:\n",
       " 100.0      39.2857   25.8065  …   38.0952   36.5217\n",
       "  39.2857  100.0      19.6429      32.1429   57.3913\n",
       "  25.8065   19.6429  100.0         19.6262   20.8696\n",
       "  33.0435   56.5217   22.6087      33.0435   72.1739\n",
       "  89.3617   40.1786   26.0417      38.0952   37.3913\n",
       "   ⋮                           ⋱                    \n",
       "  39.5833   29.4643   25.0         28.5714   24.3478\n",
       "  39.1304   80.0      20.8696      33.913    62.6087\n",
       "  33.6207   54.3103   20.6897  …   34.4828   70.6897\n",
       "  38.0952   32.1429   19.6262     100.0      33.0435\n",
       "  36.5217   57.3913   20.8696      33.0435  100.0   "
      ]
     },
     "execution_count": 47,
     "metadata": {},
     "output_type": "execute_result"
    }
   ],
   "source": [
    "msa = read(\"http://pfam.xfam.org/family/PF09776/alignment/full\", Stockholm)\n",
    "\n",
    "pid = percentidentity(msa)"
   ]
  },
  {
   "cell_type": "markdown",
   "metadata": {},
   "source": [
    "MIToS stores the matrix of percentage of identity between the aligned sequences as a PairwiseListMatrix\n",
    "from the [PairwiseListMatrices<span class=\"fa fa-external-link\" aria-hidden=\"true\"></span>](#http://diegozea.github.io/PairwiseListMatrices.jl/) package. This matrix type saves RAM, allowing the storage of  big matrices. In this example, we use the `to_table` function of *PairwiseListMatrices* to convert the matrix into a table with indices."
   ]
  },
  {
   "cell_type": "code",
   "execution_count": 48,
   "metadata": {
    "collapsed": false
   },
   "outputs": [
    {
     "data": {
      "text/plain": [
       "6903x3 Array{Any,2}:\n",
       "   1    2  39.2857\n",
       "   1    3  25.8065\n",
       "   1    4  33.0435\n",
       "   1    5  89.3617\n",
       "   1    6  33.0435\n",
       "   ⋮              \n",
       " 115  117  33.913 \n",
       " 115  118  62.6087\n",
       " 116  117  34.4828\n",
       " 116  118  70.6897\n",
       " 117  118  33.0435"
      ]
     },
     "execution_count": 48,
     "metadata": {},
     "output_type": "execute_result"
    }
   ],
   "source": [
    "pidtable = PairwiseListMatrices.to_table(pid, false)"
   ]
  },
  {
   "cell_type": "markdown",
   "metadata": {},
   "source": [
    "The function `quantile` gives a quick idea of the percentage identity distribution of the MSA.  "
   ]
  },
  {
   "cell_type": "code",
   "execution_count": 49,
   "metadata": {
    "collapsed": false
   },
   "outputs": [
    {
     "data": {
      "text/plain": [
       "5-element Array{Float64,1}:\n",
       "   0.0   \n",
       "  27.8261\n",
       "  33.0357\n",
       "  42.7083\n",
       " 100.0   "
      ]
     },
     "execution_count": 49,
     "metadata": {},
     "output_type": "execute_result"
    }
   ],
   "source": [
    "quantile(convert(Vector{Float64}, pidtable[:,3]), [0.00, 0.25, 0.50, 0.75, 1.00])"
   ]
  },
  {
   "cell_type": "markdown",
   "metadata": {},
   "source": [
    "The function `meanpercentidentity` gives the mean value of the percent identity distribution for MSA with less than 300 sequences, or a quick estimate (mean PID in a random sample of sequence pairs) otherwise unless you set `exact` to `true`.  "
   ]
  },
  {
   "cell_type": "code",
   "execution_count": 50,
   "metadata": {
    "collapsed": false
   },
   "outputs": [
    {
     "data": {
      "text/plain": [
       "37.175095094819326"
      ]
     },
     "execution_count": 50,
     "metadata": {},
     "output_type": "execute_result"
    }
   ],
   "source": [
    "meanpercentidentity(msa)"
   ]
  },
  {
   "cell_type": "markdown",
   "metadata": {},
   "source": [
    "One can easily plot that matrix and its distribution using the `heatmap` and `histogram` functions of the [Plots<span class=\"fa fa-external-link\" aria-hidden=\"true\"></span>](#https://github.com/tbreloff/Plots.jl) package.\n"
   ]
  },
  {
   "cell_type": "code",
   "execution_count": 51,
   "metadata": {
    "collapsed": false
   },
   "outputs": [
    {
     "data": {
      "text/html": [
       "<script src=\"/home/diego/.julia/v0.4/Plots/deps/plotly-latest.min.js\"></script>  <div id=\"717f5a27-e72b-4364-9aa3-e558daeb7a3d\" style=\"width:600px;height:300px;\"></div>\n",
       "  <script>\n",
       "    PLOT = document.getElementById('717f5a27-e72b-4364-9aa3-e558daeb7a3d');\n",
       "    Plotly.plot(PLOT, [{\"y\":[1,2,3,4,5,6,7,8,9,10,11,12,13,14,15,16,17,18,19,20,21,22,23,24,25,26,27,28,29,30,31,32,33,34,35,36,37,38,39,40,41,42,43,44,45,46,47,48,49,50,51,52,53,54,55,56,57,58,59,60,61,62,63,64,65,66,67,68,69,70,71,72,73,74,75,76,77,78,79,80,81,82,83,84,85,86,87,88,89,90,91,92,93,94,95,96,97,98,99,100,101,102,103,104,105,106,107,108,109,110,111,112,113,114,115,116,117,118],\"colorscale\":[[0.0,\"rgb(0, 0, 139)\"],[0.5,\"rgb(204, 217, 204)\"],[1.0,\"rgb(139, 0, 0)\"]],\"name\":\"y1\",\"type\":\"heatmap\",\"line\":{\"width\":1,\"dash\":\"solid\",\"color\":\"rgba(0, 154, 250, 1.000)\",\"shape\":\"linear\"},\"z\":[[100.0,39.285714285714285,25.806451612903224,33.04347826086956,89.36170212765957,33.04347826086956,57.142857142857146,95.6043956043956,21.978021978021978,44.21052631578947,32.17391304347826,37.634408602150536,52.04081632653061,38.297872340425535,27.43362831858407,32.758620689655174,63.44086021505376,42.15686274509804,28.037383177570092,32.17391304347826,41.44144144144144,38.23529411764706,50.0,46.93877551020408,35.23809523809524,33.333333333333336,26.724137931034484,39.130434782608695,31.03448275862069,36.8421052631579,44.791666666666664,34.21052631578947,92.3913043478261,28.703703703703702,34.48275862068966,34.48275862068966,43.13725490196079,35.13513513513514,30.17241379310345,35.3448275862069,66.3157894736842,15.053763440860216,93.4065934065934,34.48275862068966,35.96491228070175,93.4065934065934,32.758620689655174,28.440366972477065,36.52173913043478,31.304347826086957,36.458333333333336,42.2680412371134,38.53211009174312,47.31182795698925,34.48275862068966,36.206896551724135,47.916666666666664,31.914893617021278,20.87912087912088,33.62068965517241,35.3448275862069,33.62068965517241,40.36697247706422,17.582417582417584,57.57575757575758,95.6043956043956,33.0,30.107526881720432,22.22222222222222,28.181818181818183,47.0,59.183673469387756,27.77777777777778,43.75,61.95652173913044,34.48275862068966,37.254901960784316,32.758620689655174,31.304347826086957,63.73626373626374,38.05309734513274,38.541666666666664,31.896551724137932,2.6548672566371683,42.857142857142854,30.8411214953271,38.46153846153846,45.19230769230769,19.469026548672566,33.62068965517241,61.386138613861384,16.129032258064516,33.62068965517241,87.09677419354838,43.1578947368421,36.8421052631579,32.17391304347826,42.857142857142854,37.86407766990291,19.29824561403509,33.04347826086956,34.48275862068966,59.375,46.464646464646464,30.17241379310345,32.67326732673267,94.56521739130434,39.42307692307692,30.17241379310345,48.35164835164835,87.09677419354838,43.0,46.808510638297875,39.583333333333336,39.130434782608695,33.62068965517241,38.095238095238095,36.52173913043478],[39.285714285714285,100.0,19.642857142857142,56.52173913043478,40.17857142857143,56.52173913043478,28.571428571428573,37.5,15.178571428571429,50.0,55.65217391304348,32.142857142857146,33.92857142857143,31.25,31.03448275862069,56.89655172413793,39.285714285714285,31.25,32.142857142857146,57.391304347826086,47.32142857142857,39.285714285714285,28.571428571428573,28.571428571428573,26.785714285714285,36.607142857142854,40.51724137931034,80.0,56.89655172413793,35.714285714285715,29.464285714285715,56.14035087719298,41.07142857142857,33.035714285714285,59.48275862068966,50.86206896551724,29.464285714285715,49.107142857142854,56.89655172413793,56.89655172413793,36.607142857142854,14.285714285714286,38.392857142857146,52.58620689655172,56.52173913043478,38.392857142857146,54.310344827586206,31.25,54.78260869565217,54.78260869565217,35.714285714285715,55.357142857142854,52.67857142857143,43.75,52.58620689655172,53.44827586206897,27.678571428571427,26.785714285714285,12.5,57.758620689655174,56.03448275862069,53.44827586206897,34.82142857142857,12.5,36.607142857142854,37.5,32.142857142857146,19.642857142857142,25.892857142857142,30.088495575221238,36.607142857142854,37.5,31.25,39.285714285714285,35.714285714285715,61.206896551724135,30.357142857142858,59.48275862068966,54.78260869565217,33.92857142857143,46.49122807017544,53.57142857142857,56.89655172413793,11.304347826086957,46.42857142857143,28.571428571428573,43.75,36.607142857142854,33.91304347826087,56.89655172413793,41.964285714285715,25.0,52.58620689655172,39.285714285714285,33.035714285714285,50.0,58.26086956521739,45.535714285714285,58.035714285714285,32.758620689655174,56.52173913043478,59.48275862068966,35.714285714285715,28.571428571428573,58.62068965517241,31.25,37.5,44.642857142857146,56.89655172413793,33.035714285714285,38.392857142857146,46.42857142857143,28.571428571428573,29.464285714285715,80.0,54.310344827586206,32.142857142857146,57.391304347826086],[25.806451612903224,19.642857142857142,100.0,22.608695652173914,26.041666666666668,22.608695652173914,23.333333333333332,24.731182795698924,12.222222222222221,25.53191489361702,22.608695652173914,20.652173913043477,30.0,19.791666666666668,20.17543859649123,19.82758620689655,27.36842105263158,24.03846153846154,15.88785046728972,22.608695652173914,18.91891891891892,17.647058823529413,26.595744680851062,21.428571428571427,21.21212121212121,20.0,19.82758620689655,20.869565217391305,22.413793103448278,17.894736842105264,16.3265306122449,21.05263157894737,26.595744680851062,15.74074074074074,20.689655172413794,20.689655172413794,19.607843137254903,21.62162162162162,21.551724137931036,20.689655172413794,28.8659793814433,8.88888888888889,25.806451612903224,20.689655172413794,22.80701754385965,25.806451612903224,19.82758620689655,21.818181818181817,22.608695652173914,19.130434782608695,20.0,25.77319587628866,22.93577981651376,23.91304347826087,20.689655172413794,20.869565217391305,23.157894736842106,19.35483870967742,11.11111111111111,22.413793103448278,20.689655172413794,20.869565217391305,23.423423423423422,11.235955056179776,25.742574257425744,24.731182795698924,23.404255319148938,22.988505747126435,18.0,20.72072072072072,21.568627450980394,24.242424242424242,17.59259259259259,26.041666666666668,26.595744680851062,23.275862068965516,26.041666666666668,20.689655172413794,19.130434782608695,26.881720430107528,25.43859649122807,27.083333333333332,22.413793103448278,2.803738317757009,20.952380952380953,26.21359223300971,21.153846153846153,15.09433962264151,14.018691588785046,21.551724137931036,26.21359223300971,12.222222222222221,21.73913043478261,27.659574468085108,24.210526315789473,21.05263157894737,21.73913043478261,21.428571428571427,25.24271844660194,14.814814814814815,22.608695652173914,20.689655172413794,22.68041237113402,20.2020202020202,19.82758620689655,23.529411764705884,24.46808510638298,21.153846153846153,21.551724137931036,26.08695652173913,25.53191489361702,21.0,19.148936170212767,25.0,20.869565217391305,20.689655172413794,19.626168224299064,20.869565217391305],[33.04347826086956,56.52173913043478,22.608695652173914,100.0,33.91304347826087,96.52173913043478,21.73913043478261,33.04347826086956,13.91304347826087,63.47826086956522,96.52173913043478,32.17391304347826,28.695652173913043,32.17391304347826,28.448275862068964,67.24137931034483,32.17391304347826,31.304347826086957,28.695652173913043,96.52173913043478,39.130434782608695,40.0,22.608695652173914,29.565217391304348,25.217391304347824,33.04347826086956,56.89655172413793,59.130434782608695,87.93103448275862,31.304347826086957,25.217391304347824,72.17391304347827,34.78260869565217,28.695652173913043,68.10344827586206,73.27586206896552,26.08695652173913,47.82608695652174,87.06896551724138,70.6896551724138,29.565217391304348,12.173913043478262,32.17391304347826,73.27586206896552,73.04347826086956,32.17391304347826,72.41379310344827,28.695652173913043,73.04347826086956,83.47826086956522,31.304347826086957,66.08695652173913,45.21739130434783,43.47826086956522,73.27586206896552,71.55172413793103,26.956521739130434,21.73913043478261,11.304347826086957,67.24137931034483,72.41379310344827,73.27586206896552,31.304347826086957,13.043478260869565,29.565217391304348,33.04347826086956,33.91304347826087,20.0,25.217391304347824,31.304347826086957,31.304347826086957,34.78260869565217,27.82608695652174,35.65217391304348,32.17391304347826,84.48275862068965,29.565217391304348,73.27586206896552,83.47826086956522,29.565217391304348,40.0,75.65217391304348,88.79310344827586,26.956521739130434,42.608695652173914,28.695652173913043,42.608695652173914,33.04347826086956,54.78260869565217,68.10344827586206,37.391304347826086,44.34782608695652,69.82758620689656,33.04347826086956,28.695652173913043,47.82608695652174,94.78260869565217,41.73913043478261,71.30434782608695,38.793103448275865,96.52173913043478,68.10344827586206,30.434782608695652,28.695652173913043,72.41379310344827,31.304347826086957,33.04347826086956,39.130434782608695,87.06896551724138,30.434782608695652,32.17391304347826,43.47826086956522,29.565217391304348,23.47826086956522,59.130434782608695,73.27586206896552,33.04347826086956,72.17391304347827],[89.36170212765957,40.17857142857143,26.041666666666668,33.91304347826087,100.0,33.91304347826087,52.12765957446808,85.1063829787234,19.148936170212767,43.75,33.04347826086956,38.297872340425535,53.06122448979592,37.234042553191486,29.20353982300885,33.62068965517241,62.765957446808514,42.15686274509804,26.16822429906542,33.04347826086956,40.54054054054054,38.23529411764706,48.93617021276596,47.95918367346939,33.333333333333336,34.375,27.586206896551722,40.0,31.896551724137932,36.458333333333336,43.75,35.96491228070175,88.29787234042553,26.85185185185185,35.3448275862069,36.206896551724135,44.11764705882353,36.03603603603604,31.03448275862069,36.206896551724135,65.26315789473684,12.5,84.04255319148936,36.206896551724135,36.8421052631579,84.04255319148936,33.62068965517241,30.275229357798164,36.52173913043478,32.17391304347826,36.458333333333336,43.29896907216495,39.44954128440367,44.791666666666664,36.206896551724135,36.206896551724135,47.916666666666664,32.291666666666664,19.148936170212767,34.48275862068966,37.06896551724138,33.62068965517241,43.11926605504587,18.085106382978722,57.57575757575758,85.1063829787234,33.0,28.125,19.444444444444443,30.0,48.0,59.183673469387756,25.0,44.791666666666664,57.4468085106383,35.3448275862069,38.23529411764706,33.62068965517241,32.17391304347826,58.51063829787234,37.16814159292036,39.583333333333336,32.758620689655174,3.5398230088495577,41.904761904761905,32.71028037383178,37.5,42.30769230769231,20.353982300884955,34.48275862068966,62.37623762376238,15.625,35.3448275862069,85.1063829787234,43.75,35.96491228070175,33.04347826086956,44.642857142857146,38.83495145631068,20.17543859649123,33.91304347826087,35.3448275862069,58.333333333333336,47.474747474747474,31.03448275862069,34.65346534653465,85.1063829787234,39.42307692307692,31.03448275862069,45.744680851063826,82.97872340425532,43.0,47.87234042553192,39.583333333333336,40.0,34.48275862068966,38.095238095238095,37.391304347826086],[33.04347826086956,56.52173913043478,22.608695652173914,96.52173913043478,33.91304347826087,100.0,20.869565217391305,33.04347826086956,13.91304347826087,62.608695652173914,98.26086956521739,31.304347826086957,27.82608695652174,31.304347826086957,27.586206896551722,66.37931034482759,31.304347826086957,31.304347826086957,27.82608695652174,98.26086956521739,41.73913043478261,39.130434782608695,21.73913043478261,28.695652173913043,24.347826086956523,33.04347826086956,56.89655172413793,59.130434782608695,87.93103448275862,30.434782608695652,26.08695652173913,70.43478260869566,34.78260869565217,27.82608695652174,68.10344827586206,72.41379310344827,26.08695652173913,47.82608695652174,87.06896551724138,69.82758620689656,29.565217391304348,11.304347826086957,32.17391304347826,72.41379310344827,72.17391304347827,32.17391304347826,71.55172413793103,27.82608695652174,72.17391304347827,83.47826086956522,30.434782608695652,65.21739130434783,45.21739130434783,42.608695652173914,72.41379310344827,70.6896551724138,26.956521739130434,21.73913043478261,10.434782608695652,67.24137931034483,72.41379310344827,72.41379310344827,31.304347826086957,12.173913043478262,28.695652173913043,33.04347826086956,33.91304347826087,20.0,25.217391304347824,30.434782608695652,30.434782608695652,33.91304347826087,26.956521739130434,35.65217391304348,31.304347826086957,83.62068965517241,28.695652173913043,73.27586206896552,83.47826086956522,28.695652173913043,39.130434782608695,74.78260869565217,88.79310344827586,27.82608695652174,45.21739130434783,27.82608695652174,41.73913043478261,32.17391304347826,55.65217391304348,68.10344827586206,37.391304347826086,45.21739130434783,68.96551724137932,33.04347826086956,26.956521739130434,46.95652173913044,96.52173913043478,40.869565217391305,70.43478260869566,39.6551724137931,100.0,68.10344827586206,29.565217391304348,27.82608695652174,71.55172413793103,30.434782608695652,33.04347826086956,38.26086956521739,87.06896551724138,30.434782608695652,32.17391304347826,42.608695652173914,28.695652173913043,22.608695652173914,59.130434782608695,72.41379310344827,33.04347826086956,71.30434782608695],[57.142857142857146,28.571428571428573,23.333333333333332,21.73913043478261,52.12765957446808,20.869565217391305,100.0,54.94505494505494,28.767123287671232,27.36842105263158,20.869565217391305,34.40860215053763,44.89795918367347,35.1063829787234,23.008849557522122,25.0,48.38709677419355,35.294117647058826,19.626168224299064,20.869565217391305,25.225225225225227,25.49019607843137,42.391304347826086,39.795918367346935,26.666666666666668,30.76923076923077,17.54385964912281,27.82608695652174,21.551724137931036,31.57894736842105,44.791666666666664,23.68421052631579,56.52173913043478,20.37037037037037,25.862068965517242,23.275862068965516,38.23529411764706,28.82882882882883,21.551724137931036,22.413793103448278,55.78947368421053,17.333333333333332,53.84615384615385,23.275862068965516,24.56140350877193,53.84615384615385,23.275862068965516,23.853211009174313,23.47826086956522,20.869565217391305,31.25,28.8659793814433,28.440366972477065,34.78260869565217,23.275862068965516,22.413793103448278,40.625,29.78723404255319,26.027397260273972,25.862068965517242,23.275862068965516,23.275862068965516,40.36697247706422,21.91780821917808,44.44444444444444,54.94505494505494,20.0,33.333333333333336,13.88888888888889,24.545454545454547,38.0,47.95918367346939,18.51851851851852,29.166666666666668,55.43478260869565,23.275862068965516,31.372549019607842,22.413793103448278,20.869565217391305,53.84615384615385,30.088495575221238,26.041666666666668,21.551724137931036,0.0,25.714285714285715,25.233644859813083,27.884615384615383,39.42307692307692,9.734513274336283,25.0,47.524752475247524,17.333333333333332,22.413793103448278,55.913978494623656,30.526315789473685,29.82456140350877,20.869565217391305,32.142857142857146,26.21359223300971,10.526315789473685,20.869565217391305,25.862068965517242,48.958333333333336,39.39393939393939,20.689655172413794,29.702970297029704,54.34782608695652,32.69230769230769,21.551724137931036,42.22222222222222,53.763440860215056,31.0,39.361702127659576,32.291666666666664,27.82608695652174,23.275862068965516,31.428571428571427,23.47826086956522],[95.6043956043956,37.5,24.731182795698924,33.04347826086956,85.1063829787234,33.04347826086956,54.94505494505494,100.0,23.076923076923077,44.21052631578947,32.17391304347826,36.55913978494624,50.0,37.234042553191486,27.43362831858407,32.758620689655174,61.29032258064516,41.1764705882353,29.906542056074766,32.17391304347826,41.44144144144144,38.23529411764706,50.0,47.95918367346939,36.19047619047619,35.483870967741936,26.724137931034484,36.52173913043478,31.03448275862069,35.78947368421053,42.708333333333336,34.21052631578947,88.04347826086956,30.555555555555557,34.48275862068966,34.48275862068966,43.13725490196079,36.93693693693694,30.17241379310345,35.3448275862069,63.1578947368421,17.204301075268816,93.4065934065934,34.48275862068966,35.96491228070175,93.4065934065934,32.758620689655174,28.440366972477065,36.52173913043478,33.04347826086956,35.416666666666664,42.2680412371134,39.44954128440367,47.31182795698925,34.48275862068966,36.206896551724135,50.0,30.851063829787233,19.78021978021978,33.62068965517241,35.3448275862069,35.3448275862069,41.28440366972477,17.582417582417584,55.55555555555556,100.0,33.0,29.032258064516128,24.074074074074073,28.181818181818183,48.0,58.16326530612245,29.62962962962963,43.75,61.95652173913044,34.48275862068966,35.294117647058826,32.758620689655174,33.04347826086956,61.53846153846154,36.283185840707965,38.541666666666664,31.896551724137932,2.6548672566371683,42.857142857142854,29.906542056074766,37.5,46.15384615384615,19.469026548672566,33.62068965517241,57.42574257425743,16.129032258064516,33.62068965517241,84.94623655913979,42.10526315789474,36.8421052631579,32.17391304347826,41.07142857142857,37.86407766990291,19.29824561403509,33.04347826086956,34.48275862068966,57.291666666666664,47.474747474747474,30.17241379310345,34.65346534653465,98.91304347826087,37.5,30.17241379310345,47.252747252747255,83.87096774193549,42.0,45.744680851063826,37.5,36.52173913043478,33.62068965517241,38.095238095238095,36.52173913043478],[21.978021978021978,15.178571428571429,12.222222222222221,13.91304347826087,19.148936170212767,13.91304347826087,28.767123287671232,23.076923076923077,100.0,16.842105263157894,13.043478260869565,18.27956989247312,19.387755102040817,19.148936170212767,11.504424778761061,12.931034482758621,20.43010752688172,15.686274509803921,10.280373831775702,13.91304347826087,13.513513513513514,11.764705882352942,22.82608695652174,17.346938775510203,16.19047619047619,15.384615384615385,8.771929824561404,14.782608695652174,12.068965517241379,14.736842105263158,19.791666666666668,15.178571428571429,20.652173913043477,10.185185185185185,15.517241379310345,14.655172413793103,20.58823529411765,12.612612612612613,12.068965517241379,13.793103448275861,20.0,19.23076923076923,19.78021978021978,14.655172413793103,14.912280701754385,19.78021978021978,14.655172413793103,12.844036697247706,13.91304347826087,17.391304347826086,14.583333333333334,18.556701030927837,12.844036697247706,13.043478260869565,14.655172413793103,13.793103448275861,18.75,13.829787234042554,24.0,15.517241379310345,13.793103448275861,13.793103448275861,20.18348623853211,26.0,19.19191919191919,23.076923076923077,8.0,17.28395061728395,7.407407407407407,12.727272727272727,21.0,19.387755102040817,10.185185185185185,16.666666666666668,20.652173913043477,13.793103448275861,9.803921568627452,13.793103448275861,17.391304347826086,20.87912087912088,15.044247787610619,16.666666666666668,13.793103448275861,0.0,14.285714285714286,13.08411214953271,10.576923076923077,18.26923076923077,0.8849557522123894,15.517241379310345,20.792079207920793,30.76923076923077,11.206896551724139,20.43010752688172,18.94736842105263,16.666666666666668,13.043478260869565,11.607142857142858,16.50485436893204,0.0,13.91304347826087,15.517241379310345,21.875,17.171717171717173,14.655172413793103,17.821782178217823,22.82608695652174,10.576923076923077,12.068965517241379,21.11111111111111,20.43010752688172,12.0,17.02127659574468,14.583333333333334,14.782608695652174,14.655172413793103,11.428571428571429,15.652173913043478],[44.21052631578947,50.0,25.53191489361702,63.47826086956522,43.75,62.608695652173914,27.36842105263158,44.21052631578947,16.842105263157894,100.0,62.608695652173914,37.234042553191486,37.0,38.541666666666664,26.31578947368421,61.73913043478261,41.05263157894737,35.57692307692308,31.77570093457944,63.47826086956522,40.90909090909091,43.56435643564357,32.63157894736842,36.36363636363637,28.155339805825243,40.0,50.43478260869565,47.82608695652174,58.62068965517241,38.94736842105263,28.571428571428573,64.03508771929825,44.21052631578947,30.8411214953271,63.47826086956522,62.06896551724138,33.00970873786408,45.45454545454545,57.758620689655174,65.51724137931035,37.11340206185567,16.842105263157894,43.1578947368421,64.65517241379311,65.48672566371681,43.1578947368421,66.37931034482759,27.272727272727273,71.30434782608695,60.869565217391305,41.05263157894737,76.04166666666667,44.03669724770642,53.191489361702125,64.65517241379311,80.70175438596492,35.05154639175258,25.806451612903224,13.68421052631579,60.0,67.82608695652173,65.21739130434783,33.333333333333336,17.02127659574468,38.613861386138616,44.21052631578947,36.0,28.72340425531915,25.471698113207548,27.92792792792793,34.31372549019608,39.39393939393939,29.62962962962963,44.21052631578947,38.94736842105263,61.206896551724135,37.0,63.47826086956522,60.869565217391305,36.8421052631579,37.719298245614034,72.91666666666667,60.3448275862069,6.1946902654867255,42.30769230769231,29.245283018867923,43.689320388349515,34.905660377358494,34.51327433628319,60.869565217391305,35.922330097087375,38.94736842105263,65.78947368421052,42.5531914893617,40.0,39.473684210526315,62.608695652173914,43.24324324324324,71.84466019417475,28.94736842105263,62.608695652173914,63.47826086956522,34.02061855670103,35.0,62.06896551724138,34.31372549019608,44.21052631578947,41.74757281553398,57.758620689655174,40.0,42.5531914893617,47.474747474747474,37.89473684210526,32.63157894736842,47.82608695652174,65.51724137931035,30.18867924528302,67.82608695652173],[32.17391304347826,55.65217391304348,22.608695652173914,96.52173913043478,33.04347826086956,98.26086956521739,20.869565217391305,32.17391304347826,13.043478260869565,62.608695652173914,100.0,30.434782608695652,27.82608695652174,30.434782608695652,27.586206896551722,66.37931034482759,31.304347826086957,30.434782608695652,27.82608695652174,98.26086956521739,40.869565217391305,39.130434782608695,21.73913043478261,28.695652173913043,24.347826086956523,33.04347826086956,56.89655172413793,58.26086956521739,87.93103448275862,30.434782608695652,25.217391304347824,70.43478260869566,33.91304347826087,27.82608695652174,67.24137931034483,72.41379310344827,24.347826086956523,47.82608695652174,87.06896551724138,69.82758620689656,28.695652173913043,11.304347826086957,31.304347826086957,72.41379310344827,72.17391304347827,31.304347826086957,71.55172413793103,27.82608695652174,72.17391304347827,83.47826086956522,30.434782608695652,65.21739130434783,45.21739130434783,42.608695652173914,72.41379310344827,70.6896551724138,26.08695652173913,21.73913043478261,10.434782608695652,66.37931034482759,72.41379310344827,72.41379310344827,30.434782608695652,12.173913043478262,28.695652173913043,32.17391304347826,33.91304347826087,20.0,25.217391304347824,30.434782608695652,29.565217391304348,33.91304347826087,26.956521739130434,35.65217391304348,31.304347826086957,83.62068965517241,28.695652173913043,72.41379310344827,83.47826086956522,28.695652173913043,39.130434782608695,74.78260869565217,88.79310344827586,27.82608695652174,44.34782608695652,27.82608695652174,41.73913043478261,32.17391304347826,56.52173913043478,67.24137931034483,36.52173913043478,44.34782608695652,68.96551724137932,32.17391304347826,27.82608695652174,46.95652173913044,96.52173913043478,40.869565217391305,70.43478260869566,39.6551724137931,98.26086956521739,67.24137931034483,29.565217391304348,27.82608695652174,71.55172413793103,30.434782608695652,32.17391304347826,38.26086956521739,87.06896551724138,29.565217391304348,31.304347826086957,42.608695652173914,28.695652173913043,22.608695652173914,58.26086956521739,72.41379310344827,33.04347826086956,71.30434782608695],[37.634408602150536,32.142857142857146,20.652173913043477,32.17391304347826,38.297872340425535,31.304347826086957,34.40860215053763,36.55913978494624,18.27956989247312,37.234042553191486,30.434782608695652,100.0,34.69387755102041,61.702127659574465,31.25,31.896551724137932,32.25806451612903,31.372549019607842,28.037383177570092,31.304347826086957,29.72972972972973,30.392156862745097,32.25806451612903,35.416666666666664,28.431372549019606,27.36842105263158,22.413793103448278,33.04347826086956,30.17241379310345,50.526315789473685,35.416666666666664,31.57894736842105,37.634408602150536,29.62962962962963,32.758620689655174,31.896551724137932,35.0,26.126126126126128,30.17241379310345,31.896551724137932,37.89473684210526,9.473684210526315,36.55913978494624,31.03448275862069,31.57894736842105,36.55913978494624,31.896551724137932,32.407407407407405,31.304347826086957,31.304347826086957,53.68421052631579,38.144329896907216,30.275229357798164,32.63157894736842,31.03448275862069,30.434782608695652,38.70967741935484,28.72340425531915,13.978494623655914,31.896551724137932,32.758620689655174,31.304347826086957,29.357798165137616,17.391304347826086,31.31313131313131,36.55913978494624,27.835051546391753,20.652173913043477,24.761904761904763,33.027522935779814,40.0,43.29896907216495,25.925925925925927,34.375,35.483870967741936,32.758620689655174,37.37373737373738,33.62068965517241,31.304347826086957,34.40860215053763,28.31858407079646,36.458333333333336,30.17241379310345,3.6363636363636362,32.38095238095238,31.73076923076923,30.76923076923077,35.57692307692308,18.181818181818183,32.758620689655174,32.67326732673267,17.894736842105264,31.304347826086957,39.130434782608695,29.473684210526315,29.82456140350877,31.304347826086957,27.678571428571427,33.00970873786408,19.81981981981982,31.304347826086957,32.758620689655174,35.78947368421053,34.02061855670103,31.03448275862069,36.0,36.55913978494624,31.73076923076923,30.17241379310345,35.483870967741936,36.95652173913044,32.0,35.869565217391305,31.182795698924732,33.04347826086956,31.896551724137932,30.476190476190474,32.17391304347826],[52.04081632653061,33.92857142857143,30.0,28.695652173913043,53.06122448979592,27.82608695652174,44.89795918367347,50.0,19.387755102040817,37.0,27.82608695652174,34.69387755102041,100.0,32.6530612244898,30.088495575221238,30.17241379310345,53.06122448979592,41.1764705882353,24.299065420560748,27.82608695652174,29.72972972972973,32.35294117647059,44.89795918367347,43.87755102040816,32.38095238095238,28.0,24.137931034482758,33.04347826086956,26.724137931034484,33.0,44.89795918367347,31.57894736842105,52.04081632653061,25.0,32.758620689655174,31.03448275862069,40.19607843137255,31.53153153153153,25.862068965517242,30.17241379310345,57.142857142857146,13.0,51.02040816326531,31.896551724137932,32.45614035087719,51.02040816326531,30.17241379310345,31.192660550458715,33.04347826086956,27.82608695652174,33.0,37.0,32.11009174311926,35.0,31.896551724137932,32.758620689655174,43.87755102040816,33.0,18.367346938775512,32.758620689655174,32.758620689655174,30.17241379310345,39.44954128440367,17.346938775510203,51.515151515151516,50.0,27.0,34.0,17.59259259259259,31.818181818181817,43.0,55.10204081632653,22.22222222222222,36.0,47.95918367346939,31.896551724137932,38.23529411764706,28.448275862068964,27.82608695652174,47.95918367346939,30.97345132743363,31.0,27.586206896551722,2.6548672566371683,30.476190476190474,33.64485981308411,33.65384615384615,35.57692307692308,15.929203539823009,33.62068965517241,53.46534653465346,14.0,28.448275862068964,53.06122448979592,40.0,30.70175438596491,27.82608695652174,33.92857142857143,35.922330097087375,17.54385964912281,27.82608695652174,32.758620689655174,44.89795918367347,43.43434343434343,27.586206896551722,39.603960396039604,50.0,38.46153846153846,25.862068965517242,45.91836734693877,51.02040816326531,32.0,41.83673469387755,37.37373737373738,33.04347826086956,30.17241379310345,37.142857142857146,31.304347826086957],[38.297872340425535,31.25,19.791666666666668,32.17391304347826,37.234042553191486,31.304347826086957,35.1063829787234,37.234042553191486,19.148936170212767,38.541666666666664,30.434782608695652,61.702127659574465,32.6530612244898,100.0,32.743362831858406,31.896551724137932,36.170212765957444,34.31372549019608,28.97196261682243,31.304347826086957,28.82882882882883,31.372549019607842,34.04255319148936,34.69387755102041,23.80952380952381,32.291666666666664,26.724137931034484,33.04347826086956,30.17241379310345,46.875,37.5,33.333333333333336,37.234042553191486,30.555555555555557,33.62068965517241,31.896551724137932,34.31372549019608,31.53153153153153,30.17241379310345,33.62068965517241,35.78947368421053,10.416666666666666,37.234042553191486,31.896551724137932,32.45614035087719,37.234042553191486,34.48275862068966,33.944954128440365,33.91304347826087,32.17391304347826,48.958333333333336,40.20618556701031,33.944954128440365,35.416666666666664,31.896551724137932,31.896551724137932,37.5,27.083333333333332,17.02127659574468,31.896551724137932,33.62068965517241,32.758620689655174,30.275229357798164,18.085106382978722,35.35353535353536,37.234042553191486,30.0,19.791666666666668,23.14814814814815,33.63636363636363,39.0,41.83673469387755,26.85185185185185,38.541666666666664,35.1063829787234,31.896551724137932,33.333333333333336,33.62068965517241,32.17391304347826,35.1063829787234,29.20353982300885,36.458333333333336,30.17241379310345,4.424778761061947,29.523809523809526,31.77570093457944,33.65384615384615,36.53846153846154,18.58407079646018,33.62068965517241,30.693069306930692,17.708333333333332,33.62068965517241,37.234042553191486,31.25,30.70175438596491,31.304347826086957,30.357142857142858,33.980582524271846,17.54385964912281,31.304347826086957,33.62068965517241,31.25,33.333333333333336,32.758620689655174,33.663366336633665,37.234042553191486,34.61538461538461,30.17241379310345,38.297872340425535,35.1063829787234,36.0,35.1063829787234,27.083333333333332,33.04347826086956,34.48275862068966,33.333333333333336,33.91304347826087],[27.43362831858407,31.03448275862069,20.17543859649123,28.448275862068964,29.20353982300885,27.586206896551722,23.008849557522122,27.43362831858407,11.504424778761061,26.31578947368421,27.586206896551722,31.25,30.088495575221238,32.743362831858406,100.0,30.17241379310345,30.088495575221238,29.20353982300885,28.448275862068964,27.586206896551722,27.586206896551722,25.217391304347824,27.43362831858407,30.357142857142858,27.82608695652174,26.08695652173913,25.862068965517242,31.03448275862069,27.586206896551722,24.347826086956523,27.43362831858407,30.17241379310345,29.20353982300885,28.448275862068964,31.896551724137932,30.17241379310345,31.25,35.3448275862069,27.586206896551722,28.448275862068964,34.51327433628319,10.434782608695652,28.31858407079646,29.310344827586206,29.310344827586206,28.31858407079646,30.17241379310345,86.72566371681415,29.310344827586206,26.724137931034484,23.68421052631579,28.695652173913043,34.48275862068966,29.565217391304348,29.310344827586206,27.82608695652174,29.464285714285715,20.17543859649123,13.274336283185841,31.896551724137932,28.448275862068964,29.565217391304348,34.21052631578947,39.285714285714285,27.43362831858407,27.43362831858407,20.535714285714285,15.789473684210526,20.0,83.1858407079646,31.858407079646017,31.25,25.0,29.565217391304348,29.20353982300885,31.896551724137932,27.19298245614035,31.03448275862069,26.724137931034484,29.20353982300885,33.91304347826087,26.956521739130434,27.586206896551722,5.3097345132743365,25.862068965517242,47.82608695652174,27.586206896551722,27.19298245614035,15.929203539823009,31.896551724137932,32.743362831858406,12.173913043478262,28.695652173913043,29.464285714285715,21.73913043478261,31.03448275862069,28.448275862068964,33.62068965517241,29.565217391304348,16.8141592920354,27.586206896551722,31.896551724137932,26.785714285714285,30.357142857142858,29.310344827586206,43.75,27.43362831858407,27.82608695652174,27.586206896551722,26.548672566371682,27.678571428571427,26.08695652173913,28.571428571428573,26.548672566371682,31.03448275862069,31.03448275862069,38.59649122807018,29.310344827586206],[32.758620689655174,56.89655172413793,19.82758620689655,67.24137931034483,33.62068965517241,66.37931034482759,25.0,32.758620689655174,12.931034482758621,61.73913043478261,66.37931034482759,31.896551724137932,30.17241379310345,31.896551724137932,30.17241379310345,100.0,34.48275862068966,31.03448275862069,30.17241379310345,68.10344827586206,42.608695652173914,40.0,22.413793103448278,29.310344827586206,26.08695652173913,31.896551724137932,51.30434782608695,57.758620689655174,66.37931034482759,34.48275862068966,29.310344827586206,68.10344827586206,34.48275862068966,29.565217391304348,75.65217391304348,68.96551724137932,25.862068965517242,45.21739130434783,66.37931034482759,68.10344827586206,31.03448275862069,14.655172413793103,31.03448275862069,70.6896551724138,72.17391304347827,31.03448275862069,72.41379310344827,31.03448275862069,65.51724137931035,63.793103448275865,31.896551724137932,64.34782608695652,47.41379310344828,43.47826086956522,70.6896551724138,70.43478260869566,26.724137931034484,21.73913043478261,12.931034482758621,72.17391304347827,71.30434782608695,67.24137931034483,31.896551724137932,14.655172413793103,31.896551724137932,32.758620689655174,26.956521739130434,20.689655172413794,25.217391304347824,29.310344827586206,31.03448275862069,33.62068965517241,28.448275862068964,33.91304347826087,31.896551724137932,73.27586206896552,30.434782608695652,71.30434782608695,63.793103448275865,31.03448275862069,39.6551724137931,57.758620689655174,67.24137931034483,15.652173913043478,39.130434782608695,29.310344827586206,42.608695652173914,35.3448275862069,41.73913043478261,71.30434782608695,31.896551724137932,28.448275862068964,67.82608695652173,31.896551724137932,28.448275862068964,43.96551724137931,67.24137931034483,46.08695652173913,68.10344827586206,40.0,66.37931034482759,75.65217391304348,29.310344827586206,27.586206896551722,70.6896551724138,30.17241379310345,32.758620689655174,40.0,66.37931034482759,30.17241379310345,31.896551724137932,44.34782608695652,28.448275862068964,23.47826086956522,57.758620689655174,72.41379310344827,30.434782608695652,69.82758620689656],[63.44086021505376,39.285714285714285,27.36842105263158,32.17391304347826,62.765957446808514,31.304347826086957,48.38709677419355,61.29032258064516,20.43010752688172,41.05263157894737,31.304347826086957,32.25806451612903,53.06122448979592,36.170212765957444,30.088495575221238,34.48275862068966,100.0,46.07843137254902,28.97196261682243,31.304347826086957,35.13513513513514,37.254901960784316,51.61290322580645,51.02040816326531,31.428571428571427,30.526315789473685,25.862068965517242,38.26086956521739,29.310344827586206,36.8421052631579,42.708333333333336,33.333333333333336,65.59139784946237,28.703703703703702,36.206896551724135,31.896551724137932,47.05882352941177,38.73873873873874,28.448275862068964,32.758620689655174,63.1578947368421,13.68421052631579,62.365591397849464,32.758620689655174,35.08771929824562,62.365591397849464,33.62068965517241,31.192660550458715,33.91304347826087,30.434782608695652,35.416666666666664,40.20618556701031,41.28440366972477,40.0,32.758620689655174,33.62068965517241,52.083333333333336,37.89473684210526,17.204301075268816,37.06896551724138,31.896551724137932,32.758620689655174,46.788990825688074,18.27956989247312,74.74747474747475,61.29032258064516,32.0,28.42105263157895,23.14814814814815,30.90909090909091,46.0,59.183673469387756,27.77777777777778,42.708333333333336,61.29032258064516,32.758620689655174,41.1764705882353,31.896551724137932,30.434782608695652,60.215053763440864,37.16814159292036,37.5,31.03448275862069,3.5398230088495577,36.19047619047619,30.8411214953271,37.5,41.34615384615385,19.469026548672566,37.06896551724138,55.445544554455445,14.736842105263158,31.03448275862069,68.81720430107526,40.0,36.8421052631579,31.304347826086957,39.285714285714285,37.86407766990291,21.92982456140351,31.304347826086957,36.206896551724135,54.166666666666664,49.494949494949495,30.17241379310345,37.62376237623762,61.29032258064516,38.46153846153846,28.448275862068964,46.236559139784944,64.51612903225806,41.0,47.87234042553192,35.416666666666664,38.26086956521739,33.62068965517241,40.0,35.65217391304348],[42.15686274509804,31.25,24.03846153846154,31.304347826086957,42.15686274509804,31.304347826086957,35.294117647058826,41.1764705882353,15.686274509803921,35.57692307692308,30.434782608695652,31.372549019607842,41.1764705882353,34.31372549019608,29.20353982300885,31.03448275862069,46.07843137254902,100.0,25.233644859813083,30.434782608695652,35.13513513513514,32.69230769230769,36.27450980392157,40.19607843137255,35.23809523809524,30.76923076923077,25.862068965517242,33.91304347826087,29.310344827586206,30.76923076923077,40.19607843137255,32.45614035087719,43.13725490196079,25.925925925925927,33.62068965517241,33.62068965517241,38.23529411764706,36.93693693693694,30.17241379310345,32.758620689655174,47.05882352941177,10.576923076923077,42.15686274509804,32.758620689655174,36.52173913043478,42.15686274509804,31.896551724137932,29.357798165137616,31.304347826086957,34.78260869565217,30.76923076923077,38.46153846153846,36.69724770642202,31.73076923076923,32.758620689655174,31.896551724137932,40.19607843137255,30.76923076923077,15.686274509803921,35.3448275862069,30.17241379310345,31.03448275862069,39.44954128440367,14.705882352941176,43.13725490196079,41.1764705882353,33.333333333333336,23.076923076923077,19.444444444444443,29.72972972972973,35.294117647058826,49.01960784313726,25.0,40.38461538461539,41.1764705882353,30.17241379310345,29.807692307692307,32.758620689655174,34.78260869565217,40.19607843137255,34.51327433628319,33.65384615384615,30.17241379310345,4.424778761061947,36.19047619047619,30.8411214953271,33.333333333333336,44.23076923076923,19.469026548672566,33.62068965517241,41.1764705882353,13.461538461538462,29.310344827586206,42.15686274509804,33.65384615384615,33.333333333333336,31.304347826086957,37.5,36.53846153846154,19.29824561403509,31.304347826086957,33.62068965517241,37.254901960784316,40.19607843137255,33.62068965517241,41.1764705882353,41.1764705882353,33.65384615384615,30.17241379310345,38.23529411764706,41.1764705882353,30.76923076923077,37.254901960784316,34.95145631067961,33.91304347826087,31.03448275862069,33.333333333333336,34.78260869565217],[28.037383177570092,32.142857142857146,15.88785046728972,28.695652173913043,26.16822429906542,27.82608695652174,19.626168224299064,29.906542056074766,10.280373831775702,31.77570093457944,27.82608695652174,28.037383177570092,24.299065420560748,28.97196261682243,28.448275862068964,30.17241379310345,28.97196261682243,25.233644859813083,100.0,27.82608695652174,24.324324324324323,36.44859813084112,25.233644859813083,26.16822429906542,28.97196261682243,24.299065420560748,22.413793103448278,30.434782608695652,28.448275862068964,29.906542056074766,22.429906542056074,30.70175438596491,28.97196261682243,83.01886792452831,31.03448275862069,27.586206896551722,25.233644859813083,33.333333333333336,28.448275862068964,31.03448275862069,29.906542056074766,38.83495145631068,28.97196261682243,28.448275862068964,29.565217391304348,28.97196261682243,30.17241379310345,29.72972972972973,30.434782608695652,30.434782608695652,27.102803738317757,31.77570093457944,32.11009174311926,35.51401869158879,28.448275862068964,29.310344827586206,27.102803738317757,26.16822429906542,14.018691588785046,29.310344827586206,30.17241379310345,31.03448275862069,28.82882882882883,12.149532710280374,33.64485981308411,29.906542056074766,23.300970873786408,17.757009345794394,61.53846153846154,28.31858407079646,32.71028037383178,26.16822429906542,82.6923076923077,28.037383177570092,26.16822429906542,28.448275862068964,28.037383177570092,29.310344827586206,30.434782608695652,25.233644859813083,32.45614035087719,29.906542056074766,28.448275862068964,4.504504504504505,24.299065420560748,30.8411214953271,36.44859813084112,29.906542056074766,17.117117117117118,29.310344827586206,26.16822429906542,12.149532710280374,28.448275862068964,27.102803738317757,26.16822429906542,32.45614035087719,27.82608695652174,34.82142857142857,32.71028037383178,16.071428571428573,27.82608695652174,31.03448275862069,23.364485981308412,25.233644859813083,27.586206896551722,39.25233644859813,29.906542056074766,37.38317757009346,28.448275862068964,29.906542056074766,28.037383177570092,35.51401869158879,25.233644859813083,28.97196261682243,30.434782608695652,31.03448275862069,26.16822429906542,31.304347826086957],[32.17391304347826,57.391304347826086,22.608695652173914,96.52173913043478,33.04347826086956,98.26086956521739,20.869565217391305,32.17391304347826,13.91304347826087,63.47826086956522,98.26086956521739,31.304347826086957,27.82608695652174,31.304347826086957,27.586206896551722,68.10344827586206,31.304347826086957,30.434782608695652,27.82608695652174,100.0,41.73913043478261,39.130434782608695,21.73913043478261,28.695652173913043,24.347826086956523,33.04347826086956,56.03448275862069,60.0,89.65517241379311,30.434782608695652,25.217391304347824,72.17391304347827,33.91304347826087,27.82608695652174,68.96551724137932,73.27586206896552,25.217391304347824,48.69565217391305,88.79310344827586,71.55172413793103,28.695652173913043,11.304347826086957,31.304347826086957,73.27586206896552,73.91304347826087,31.304347826086957,73.27586206896552,27.82608695652174,73.91304347826087,85.21739130434783,30.434782608695652,66.08695652173913,46.08695652173913,42.608695652173914,73.27586206896552,72.41379310344827,26.08695652173913,21.73913043478261,10.434782608695652,68.10344827586206,74.13793103448276,74.13793103448276,30.434782608695652,12.173913043478262,28.695652173913043,32.17391304347826,33.04347826086956,20.0,25.217391304347824,30.434782608695652,30.434782608695652,33.91304347826087,26.956521739130434,35.65217391304348,31.304347826086957,85.34482758620689,28.695652173913043,74.13793103448276,85.21739130434783,28.695652173913043,39.130434782608695,75.65217391304348,90.51724137931035,28.695652173913043,45.21739130434783,28.695652173913043,41.73913043478261,32.17391304347826,57.391304347826086,68.96551724137932,36.52173913043478,45.21739130434783,69.82758620689656,32.17391304347826,27.82608695652174,46.95652173913044,96.52173913043478,40.869565217391305,72.17391304347827,40.51724137931034,98.26086956521739,68.96551724137932,30.434782608695652,27.82608695652174,72.41379310344827,30.434782608695652,32.17391304347826,39.130434782608695,88.79310344827586,29.565217391304348,31.304347826086957,43.47826086956522,28.695652173913043,22.608695652173914,60.0,74.13793103448276,32.17391304347826,73.04347826086956],[41.44144144144144,47.32142857142857,18.91891891891892,39.130434782608695,40.54054054054054,41.73913043478261,25.225225225225227,41.44144144144144,13.513513513513514,40.90909090909091,40.869565217391305,29.72972972972973,29.72972972972973,28.82882882882883,27.586206896551722,42.608695652173914,35.13513513513514,35.13513513513514,24.324324324324323,41.73913043478261,100.0,40.0,26.126126126126128,30.63063063063063,26.605504587155963,39.63963963963964,34.78260869565217,45.21739130434783,38.793103448275865,31.53153153153153,31.53153153153153,43.85964912280702,40.54054054054054,26.605504587155963,43.47826086956522,46.55172413793103,27.92792792792793,54.54545454545455,38.793103448275865,44.827586206896555,35.13513513513514,9.00900900900901,40.54054054054054,47.41379310344828,44.73684210526316,40.54054054054054,43.10344827586207,28.82882882882883,43.47826086956522,44.34782608695652,30.63063063063063,41.81818181818182,51.351351351351354,42.72727272727273,47.41379310344828,43.47826086956522,31.53153153153153,26.363636363636363,13.513513513513514,45.21739130434783,43.47826086956522,39.6551724137931,34.234234234234236,11.711711711711711,31.53153153153153,41.44144144144144,49.074074074074076,24.324324324324323,21.296296296296298,27.43362831858407,34.234234234234236,36.93693693693694,24.324324324324323,62.96296296296296,32.432432432432435,45.689655172413794,25.68807339449541,46.08695652173913,44.34782608695652,32.432432432432435,48.24561403508772,37.83783783783784,39.6551724137931,7.142857142857143,87.03703703703704,28.82882882882883,39.09090909090909,36.03603603603604,27.678571428571427,43.47826086956522,36.03603603603604,16.216216216216218,43.47826086956522,39.63963963963964,33.333333333333336,51.75438596491228,41.73913043478261,44.14414414414414,45.04504504504504,29.20353982300885,41.73913043478261,43.47826086956522,31.53153153153153,29.72972972972973,43.10344827586207,29.72972972972973,41.44144144144144,43.63636363636363,38.793103448275865,35.13513513513514,36.93693693693694,40.0,27.92792792792793,26.363636363636363,45.21739130434783,43.96551724137931,30.90909090909091,47.82608695652174],[38.23529411764706,39.285714285714285,17.647058823529413,40.0,38.23529411764706,39.130434782608695,25.49019607843137,38.23529411764706,11.764705882352942,43.56435643564357,39.130434782608695,30.392156862745097,32.35294117647059,31.372549019607842,25.217391304347824,40.0,37.254901960784316,32.69230769230769,36.44859813084112,39.130434782608695,40.0,100.0,26.470588235294116,28.431372549019606,27.884615384615383,39.21568627450981,28.695652173913043,40.869565217391305,39.6551724137931,42.15686274509804,32.35294117647059,37.719298245614034,39.21568627450981,36.44859813084112,40.0,37.06896551724138,25.0,50.0,39.6551724137931,42.241379310344826,31.372549019607842,17.647058823529413,35.294117647058826,37.93103448275862,43.36283185840708,35.294117647058826,37.06896551724138,25.225225225225227,38.26086956521739,43.47826086956522,36.27450980392157,42.57425742574257,44.03669724770642,70.29702970297029,37.93103448275862,40.0,28.431372549019606,29.702970297029704,16.666666666666668,39.130434782608695,38.26086956521739,36.206896551724135,27.027027027027028,11.764705882352942,38.23529411764706,38.23529411764706,35.64356435643565,23.529411764705884,28.037383177570092,26.785714285714285,31.372549019607842,39.21568627450981,34.25925925925926,41.584158415841586,34.31372549019608,41.37931034482759,29.702970297029704,40.869565217391305,43.47826086956522,35.294117647058826,51.75438596491228,44.11764705882353,39.6551724137931,5.2631578947368425,42.30769230769231,26.16822429906542,92.23300970873787,40.56603773584906,23.68421052631579,38.26086956521739,36.89320388349515,18.627450980392158,39.130434782608695,38.23529411764706,39.21568627450981,52.63157894736842,40.0,55.85585585585586,43.689320388349515,21.73913043478261,39.130434782608695,40.0,33.333333333333336,27.45098039215686,41.37931034482759,35.922330097087375,38.23529411764706,67.96116504854369,39.6551724137931,38.23529411764706,37.254901960784316,65.34653465346534,28.431372549019606,31.683168316831683,40.869565217391305,37.06896551724138,33.0188679245283,43.47826086956522],[50.0,28.571428571428573,26.595744680851062,22.608695652173914,48.93617021276596,21.73913043478261,42.391304347826086,50.0,22.82608695652174,32.63157894736842,21.73913043478261,32.25806451612903,44.89795918367347,34.04255319148936,27.43362831858407,22.413793103448278,51.61290322580645,36.27450980392157,25.233644859813083,21.73913043478261,26.126126126126128,26.470588235294116,100.0,44.89795918367347,28.571428571428573,24.46808510638298,18.96551724137931,26.956521739130434,21.551724137931036,29.473684210526315,33.333333333333336,25.43859649122807,46.73913043478261,25.0,25.862068965517242,25.0,38.23529411764706,27.92792792792793,20.689655172413794,25.0,52.63157894736842,10.638297872340425,50.0,25.0,27.19298245614035,50.0,25.0,28.440366972477065,26.956521739130434,24.347826086956523,31.25,30.927835051546392,30.275229357798164,27.659574468085108,25.0,26.724137931034484,42.708333333333336,27.659574468085108,15.217391304347826,26.724137931034484,25.0,25.862068965517242,40.36697247706422,15.217391304347826,48.484848484848484,50.0,21.0,28.72340425531915,16.666666666666668,28.181818181818183,37.0,46.93877551020408,22.22222222222222,32.291666666666664,50.0,24.137931034482758,35.294117647058826,24.137931034482758,24.347826086956523,50.0,25.663716814159294,26.041666666666668,21.551724137931036,2.6548672566371683,26.666666666666668,24.299065420560748,25.0,30.76923076923077,12.389380530973451,25.862068965517242,38.613861386138616,11.702127659574469,22.413793103448278,47.31182795698925,36.8421052631579,25.43859649122807,21.73913043478261,26.785714285714285,28.155339805825243,12.280701754385966,21.73913043478261,25.862068965517242,41.666666666666664,43.43434343434343,24.137931034482758,33.663366336633665,50.0,28.846153846153847,20.689655172413794,40.21739130434783,47.31182795698925,26.0,42.5531914893617,34.375,26.956521739130434,25.0,32.38095238095238,26.08695652173913],[46.93877551020408,28.571428571428573,21.428571428571427,29.565217391304348,47.95918367346939,28.695652173913043,39.795918367346935,47.95918367346939,17.346938775510203,36.36363636363637,28.695652173913043,35.416666666666664,43.87755102040816,34.69387755102041,30.357142857142858,29.310344827586206,51.02040816326531,40.19607843137255,26.16822429906542,28.695652173913043,30.63063063063063,28.431372549019606,44.89795918367347,100.0,30.097087378640776,27.0,23.275862068965516,29.565217391304348,26.724137931034484,31.0,36.734693877551024,28.94736842105263,46.93877551020408,25.925925925925927,31.03448275862069,30.17241379310345,72.0,30.63063063063063,25.862068965517242,28.448275862068964,50.0,10.0,46.93877551020408,31.03448275862069,30.70175438596491,46.93877551020408,29.310344827586206,31.48148148148148,31.304347826086957,28.695652173913043,30.303030303030305,35.0,30.275229357798164,31.0,31.03448275862069,31.304347826086957,84.375,31.31313131313131,13.26530612244898,31.03448275862069,29.310344827586206,32.17391304347826,52.293577981651374,18.556701030927837,51.515151515151516,47.95918367346939,27.551020408163264,25.510204081632654,21.69811320754717,31.192660550458715,47.0,52.577319587628864,22.22222222222222,36.0,48.97959183673469,29.310344827586206,51.0,28.448275862068964,28.695652173913043,48.97959183673469,30.97345132743363,31.0,26.724137931034484,1.8018018018018018,31.428571428571427,31.428571428571427,27.884615384615383,36.53846153846154,17.117117117117118,31.03448275862069,47.524752475247524,14.0,29.565217391304348,50.51546391752577,32.0,29.82456140350877,28.695652173913043,29.464285714285715,32.03883495145631,18.75,28.695652173913043,31.03448275862069,46.391752577319586,94.84536082474227,26.724137931034484,36.0,47.95918367346939,32.69230769230769,25.862068965517242,35.714285714285715,46.391752577319586,35.0,73.95833333333333,36.08247422680412,29.565217391304348,29.310344827586206,31.428571428571427,28.695652173913043],[35.23809523809524,26.785714285714285,21.21212121212121,25.217391304347824,33.333333333333336,24.347826086956523,26.666666666666668,36.19047619047619,16.19047619047619,28.155339805825243,24.347826086956523,28.431372549019606,32.38095238095238,23.80952380952381,27.82608695652174,26.08695652173913,31.428571428571427,35.23809523809524,28.97196261682243,24.347826086956523,26.605504587155963,27.884615384615383,28.571428571428573,30.097087378640776,100.0,19.047619047619047,21.73913043478261,26.08695652173913,23.275862068965516,28.571428571428573,30.476190476190474,25.43859649122807,36.19047619047619,29.245283018867923,26.956521739130434,25.862068965517242,31.067961165048544,30.0,23.275862068965516,23.275862068965516,37.142857142857146,13.333333333333334,32.38095238095238,25.0,26.31578947368421,32.38095238095238,25.862068965517242,29.09090909090909,26.08695652173913,26.08695652173913,29.807692307692307,25.96153846153846,27.522935779816514,27.884615384615383,25.0,26.31578947368421,31.372549019607842,24.271844660194176,10.476190476190476,27.82608695652174,23.47826086956522,26.08695652173913,24.324324324324323,11.538461538461538,34.285714285714285,36.19047619047619,23.711340206185568,20.58823529411765,29.0,27.678571428571427,35.23809523809524,37.5,27.77777777777778,25.24271844660194,32.38095238095238,25.862068965517242,25.77319587628866,26.08695652173913,26.08695652173913,31.428571428571427,27.19298245614035,26.666666666666668,25.0,4.672897196261682,29.12621359223301,28.155339805825243,25.96153846153846,33.0188679245283,15.88785046728972,27.82608695652174,38.095238095238095,10.476190476190476,25.43859649122807,33.65384615384615,26.666666666666668,29.82456140350877,24.347826086956523,28.82882882882883,31.428571428571427,17.59259259259259,24.347826086956523,26.956521739130434,29.807692307692307,30.097087378640776,25.862068965517242,34.61538461538461,36.19047619047619,27.884615384615383,23.275862068965516,28.571428571428573,34.61538461538461,26.923076923076923,30.097087378640776,51.515151515151516,26.08695652173913,25.862068965517242,29.245283018867923,25.217391304347824],[33.333333333333336,36.607142857142854,20.0,33.04347826086956,34.375,33.04347826086956,30.76923076923077,35.483870967741936,15.384615384615385,40.0,33.04347826086956,27.36842105263158,28.0,32.291666666666664,26.08695652173913,31.896551724137932,30.526315789473685,30.76923076923077,24.299065420560748,33.04347826086956,39.63963963963964,39.21568627450981,24.46808510638298,27.0,19.047619047619047,100.0,27.586206896551722,33.91304347826087,35.3448275862069,33.68421052631579,26.53061224489796,35.08771929824562,32.97872340425532,25.0,34.48275862068966,35.3448275862069,21.153846153846153,41.44144144144144,35.3448275862069,37.93103448275862,29.896907216494846,15.384615384615385,34.40860215053763,35.3448275862069,35.96491228070175,34.40860215053763,34.48275862068966,26.126126126126128,33.04347826086956,36.52173913043478,33.333333333333336,42.2680412371134,38.53211009174312,43.47826086956522,35.3448275862069,32.758620689655174,25.510204081632654,24.46808510638298,17.94871794871795,33.62068965517241,35.3448275862069,34.48275862068966,25.225225225225227,19.23076923076923,28.712871287128714,35.483870967741936,31.372549019607842,27.160493827160494,17.59259259259259,26.785714285714285,26.470588235294116,33.0,23.14814814814815,41.666666666666664,29.78723404255319,35.3448275862069,21.568627450980394,35.3448275862069,36.52173913043478,32.25806451612903,33.333333333333336,42.708333333333336,35.3448275862069,0.0,39.04761904761905,22.429906542056074,39.42307692307692,25.471698113207548,18.26086956521739,33.62068965517241,29.12621359223301,23.076923076923077,32.758620689655174,33.68421052631579,32.63157894736842,35.96491228070175,33.91304347826087,33.92857142857143,38.83495145631068,17.24137931034483,33.04347826086956,34.48275862068966,25.510204081632654,25.742574257425744,34.48275862068966,28.155339805825243,35.1063829787234,34.61538461538461,35.3448275862069,33.69565217391305,30.526315789473685,34.0,22.916666666666668,23.711340206185568,33.91304347826087,34.48275862068966,29.906542056074766,37.391304347826086],[26.724137931034484,40.51724137931034,19.82758620689655,56.89655172413793,27.586206896551722,56.89655172413793,17.54385964912281,26.724137931034484,8.771929824561404,50.43478260869565,56.89655172413793,22.413793103448278,24.137931034482758,26.724137931034484,25.862068965517242,51.30434782608695,25.862068965517242,25.862068965517242,22.413793103448278,56.03448275862069,34.78260869565217,28.695652173913043,18.96551724137931,23.275862068965516,21.73913043478261,27.586206896551722,100.0,42.241379310344826,57.758620689655174,20.689655172413794,19.82758620689655,55.172413793103445,27.586206896551722,22.608695652173914,53.04347826086956,53.44827586206897,21.551724137931036,40.0,57.758620689655174,55.172413793103445,23.275862068965516,11.403508771929825,25.862068965517242,56.03448275862069,49.56521739130435,25.862068965517242,56.89655172413793,25.0,59.48275862068966,52.58620689655172,26.724137931034484,48.69565217391305,34.48275862068966,30.434782608695652,56.03448275862069,59.130434782608695,22.413793103448278,15.652173913043478,11.403508771929825,52.17391304347826,60.869565217391305,57.758620689655174,24.137931034482758,10.526315789473685,23.275862068965516,26.724137931034484,25.217391304347824,21.551724137931036,19.130434782608695,25.0,25.862068965517242,26.724137931034484,22.413793103448278,27.82608695652174,23.275862068965516,56.89655172413793,25.217391304347824,59.130434782608695,52.58620689655172,22.413793103448278,28.448275862068964,50.0,58.62068965517241,15.044247787610619,34.78260869565217,23.275862068965516,30.434782608695652,23.275862068965516,33.91304347826087,53.91304347826087,25.862068965517242,24.56140350877193,72.17391304347827,26.724137931034484,24.137931034482758,35.3448275862069,56.03448275862069,31.304347826086957,51.724137931034484,30.434782608695652,56.89655172413793,53.04347826086956,19.82758620689655,22.413793103448278,51.724137931034484,23.275862068965516,26.724137931034484,29.565217391304348,57.758620689655174,24.137931034482758,25.862068965517242,32.17391304347826,22.413793103448278,21.73913043478261,42.241379310344826,57.758620689655174,26.08695652173913,52.58620689655172],[39.130434782608695,80.0,20.869565217391305,59.130434782608695,40.0,59.130434782608695,27.82608695652174,36.52173913043478,14.782608695652174,47.82608695652174,58.26086956521739,33.04347826086956,33.04347826086956,33.04347826086956,31.03448275862069,57.758620689655174,38.26086956521739,33.91304347826087,30.434782608695652,60.0,45.21739130434783,40.869565217391305,26.956521739130434,29.565217391304348,26.08695652173913,33.91304347826087,42.241379310344826,100.0,60.3448275862069,33.91304347826087,29.565217391304348,55.65217391304348,40.869565217391305,31.304347826086957,62.06896551724138,53.44827586206897,31.304347826086957,48.69565217391305,59.48275862068966,61.206896551724135,37.391304347826086,13.91304347826087,37.391304347826086,55.172413793103445,62.608695652173914,37.391304347826086,54.310344827586206,29.565217391304348,54.78260869565217,54.78260869565217,32.17391304347826,53.91304347826087,51.30434782608695,44.34782608695652,55.172413793103445,54.310344827586206,28.695652173913043,29.565217391304348,13.043478260869565,60.3448275862069,60.3448275862069,54.310344827586206,34.78260869565217,12.173913043478262,35.65217391304348,36.52173913043478,33.04347826086956,20.0,26.08695652173913,32.17391304347826,35.65217391304348,40.0,28.695652173913043,40.869565217391305,35.65217391304348,61.206896551724135,33.91304347826087,59.48275862068966,54.78260869565217,34.78260869565217,46.08695652173913,52.17391304347826,60.3448275862069,14.782608695652174,44.34782608695652,26.956521739130434,45.21739130434783,38.26086956521739,38.26086956521739,58.62068965517241,42.608695652173914,22.608695652173914,52.58620689655172,39.130434782608695,31.304347826086957,49.56521739130435,60.869565217391305,46.08695652173913,54.78260869565217,35.3448275862069,59.130434782608695,62.06896551724138,36.52173913043478,28.695652173913043,59.48275862068966,31.304347826086957,36.52173913043478,46.08695652173913,59.48275862068966,33.04347826086956,38.26086956521739,46.95652173913044,31.304347826086957,26.956521739130434,100.0,54.310344827586206,33.91304347826087,62.608695652173914],[31.03448275862069,56.89655172413793,22.413793103448278,87.93103448275862,31.896551724137932,87.93103448275862,21.551724137931036,31.03448275862069,12.068965517241379,58.62068965517241,87.93103448275862,30.17241379310345,26.724137931034484,30.17241379310345,27.586206896551722,66.37931034482759,29.310344827586206,29.310344827586206,28.448275862068964,89.65517241379311,38.793103448275865,39.6551724137931,21.551724137931036,26.724137931034484,23.275862068965516,35.3448275862069,57.758620689655174,60.3448275862069,100.0,30.17241379310345,23.275862068965516,68.96551724137932,32.758620689655174,28.448275862068964,67.24137931034483,70.6896551724138,25.0,48.275862068965516,99.13793103448276,73.27586206896552,27.586206896551722,12.068965517241379,31.03448275862069,71.55172413793103,69.82758620689656,31.03448275862069,70.6896551724138,27.586206896551722,69.82758620689656,80.17241379310344,30.17241379310345,62.93103448275862,45.689655172413794,42.241379310344826,71.55172413793103,68.96551724137932,25.0,24.137931034482758,11.206896551724139,65.51724137931035,72.41379310344827,74.13793103448276,29.310344827586206,12.931034482758621,26.724137931034484,31.03448275862069,31.03448275862069,19.82758620689655,25.0,30.17241379310345,31.03448275862069,31.896551724137932,27.586206896551722,33.62068965517241,30.17241379310345,82.75862068965517,28.448275862068964,72.41379310344827,80.17241379310344,28.448275862068964,39.6551724137931,79.3103448275862,97.41379310344827,25.0,41.37931034482759,29.310344827586206,43.10344827586207,30.17241379310345,53.44827586206897,68.10344827586206,35.3448275862069,38.793103448275865,69.82758620689656,31.896551724137932,28.448275862068964,45.689655172413794,89.65517241379311,42.241379310344826,68.96551724137932,39.6551724137931,87.93103448275862,67.24137931034483,29.310344827586206,25.862068965517242,70.6896551724138,29.310344827586206,31.03448275862069,40.51724137931034,99.13793103448276,29.310344827586206,31.03448275862069,43.96551724137931,25.862068965517242,22.413793103448278,60.3448275862069,71.55172413793103,31.03448275862069,69.82758620689656],[36.8421052631579,35.714285714285715,17.894736842105264,31.304347826086957,36.458333333333336,30.434782608695652,31.57894736842105,35.78947368421053,14.736842105263158,38.94736842105263,30.434782608695652,50.526315789473685,33.0,46.875,24.347826086956523,34.48275862068966,36.8421052631579,30.76923076923077,29.906542056074766,30.434782608695652,31.53153153153153,42.15686274509804,29.473684210526315,31.0,28.571428571428573,33.68421052631579,20.689655172413794,33.91304347826087,30.17241379310345,100.0,36.734693877551024,32.45614035087719,36.8421052631579,29.62962962962963,31.03448275862069,30.17241379310345,27.884615384615383,36.03603603603604,31.03448275862069,31.896551724137932,35.05154639175258,15.789473684210526,34.73684210526316,31.03448275862069,32.45614035087719,34.73684210526316,31.03448275862069,25.225225225225227,31.304347826086957,33.04347826086956,76.04166666666667,40.20618556701031,34.862385321100916,38.94736842105263,31.03448275862069,31.896551724137932,33.673469387755105,30.526315789473685,16.842105263157894,30.17241379310345,32.758620689655174,29.310344827586206,26.126126126126128,15.789473684210526,33.663366336633665,35.78947368421053,28.431372549019606,22.105263157894736,25.0,26.785714285714285,32.35294117647059,37.0,29.62962962962963,35.416666666666664,37.89473684210526,32.758620689655174,34.31372549019608,31.896551724137932,33.04347826086956,36.8421052631579,31.57894736842105,37.5,31.03448275862069,3.4782608695652173,32.38095238095238,25.233644859813083,41.34615384615385,37.735849056603776,19.130434782608695,31.03448275862069,33.980582524271846,14.736842105263158,30.17241379310345,36.8421052631579,31.57894736842105,34.21052631578947,30.434782608695652,33.92857142857143,34.95145631067961,17.24137931034483,30.434782608695652,31.03448275862069,36.734693877551024,29.702970297029704,32.758620689655174,32.03883495145631,36.8421052631579,38.46153846153846,31.03448275862069,41.05263157894737,34.73684210526316,39.0,32.291666666666664,27.835051546391753,33.91304347826087,31.03448275862069,29.906542056074766,33.04347826086956],[44.791666666666664,29.464285714285715,16.3265306122449,25.217391304347824,43.75,26.08695652173913,44.791666666666664,42.708333333333336,19.791666666666668,28.571428571428573,25.217391304347824,35.416666666666664,44.89795918367347,37.5,27.43362831858407,29.310344827586206,42.708333333333336,40.19607843137255,22.429906542056074,25.217391304347824,31.53153153153153,32.35294117647059,33.333333333333336,36.734693877551024,30.476190476190474,26.53061224489796,19.82758620689655,29.565217391304348,23.275862068965516,36.734693877551024,100.0,26.31578947368421,46.875,22.22222222222222,29.310344827586206,25.0,36.27450980392157,32.432432432432435,23.275862068965516,25.0,47.916666666666664,8.16326530612245,42.708333333333336,25.0,26.31578947368421,42.708333333333336,25.862068965517242,28.440366972477065,25.217391304347824,24.347826086956523,30.612244897959183,30.612244897959183,31.192660550458715,35.714285714285715,25.0,24.137931034482758,40.625,31.632653061224488,14.583333333333334,29.310344827586206,25.0,23.275862068965516,36.69724770642202,14.583333333333334,41.41414141414141,42.708333333333336,25.0,27.551020408163264,19.444444444444443,26.363636363636363,48.0,42.857142857142854,20.37037037037037,35.714285714285715,48.958333333333336,25.862068965517242,27.45098039215686,26.724137931034484,24.347826086956523,46.875,32.743362831858406,28.571428571428573,24.137931034482758,2.6548672566371683,33.333333333333336,28.97196261682243,32.69230769230769,44.23076923076923,15.929203539823009,30.17241379310345,45.54455445544554,11.224489795918368,24.137931034482758,44.791666666666664,26.53061224489796,35.96491228070175,25.217391304347824,38.392857142857146,28.155339805825243,15.789473684210526,26.08695652173913,29.310344827586206,45.833333333333336,36.36363636363637,25.862068965517242,33.663366336633665,42.708333333333336,35.57692307692308,23.275862068965516,40.625,43.75,35.0,36.458333333333336,35.05154639175258,29.565217391304348,25.862068965517242,32.38095238095238,26.956521739130434],[34.21052631578947,56.14035087719298,21.05263157894737,72.17391304347827,35.96491228070175,70.43478260869566,23.68421052631579,34.21052631578947,15.178571428571429,64.03508771929825,70.43478260869566,31.57894736842105,31.57894736842105,33.333333333333336,30.17241379310345,68.10344827586206,33.333333333333336,32.45614035087719,30.70175438596491,72.17391304347827,43.85964912280702,37.719298245614034,25.43859649122807,28.94736842105263,25.43859649122807,35.08771929824562,55.172413793103445,55.65217391304348,68.96551724137932,32.45614035087719,26.31578947368421,100.0,35.96491228070175,28.94736842105263,68.10344827586206,72.41379310344827,27.19298245614035,48.24561403508772,68.96551724137932,70.6896551724138,31.57894736842105,16.071428571428573,33.333333333333336,73.27586206896552,71.30434782608695,33.333333333333336,87.93103448275862,29.82456140350877,70.43478260869566,70.43478260869566,33.333333333333336,68.42105263157895,46.49122807017544,42.10526315789474,73.27586206896552,68.96551724137932,28.94736842105263,21.92982456140351,12.5,66.37931034482759,74.13793103448276,68.10344827586206,32.45614035087719,14.285714285714286,31.57894736842105,34.21052631578947,31.57894736842105,23.68421052631579,24.56140350877193,31.57894736842105,33.333333333333336,33.333333333333336,30.70175438596491,38.59649122807018,31.57894736842105,75.0,29.82456140350877,75.86206896551724,70.43478260869566,31.57894736842105,39.473684210526315,62.280701754385966,71.55172413793103,17.699115044247787,42.98245614035088,29.82456140350877,40.35087719298246,35.08771929824562,43.47826086956522,68.10344827586206,36.8421052631579,32.142857142857146,71.55172413793103,33.333333333333336,30.70175438596491,49.12280701754386,72.17391304347827,42.98245614035088,74.56140350877193,35.3448275862069,70.43478260869566,68.10344827586206,29.82456140350877,28.07017543859649,71.55172413793103,34.21052631578947,34.21052631578947,39.473684210526315,68.96551724137932,33.333333333333336,32.45614035087719,42.10526315789474,29.82456140350877,25.43859649122807,55.65217391304348,85.34482758620689,32.45614035087719,70.43478260869566],[92.3913043478261,41.07142857142857,26.595744680851062,34.78260869565217,88.29787234042553,34.78260869565217,56.52173913043478,88.04347826086956,20.652173913043477,44.21052631578947,33.91304347826087,37.634408602150536,52.04081632653061,37.234042553191486,29.20353982300885,34.48275862068966,65.59139784946237,43.13725490196079,28.97196261682243,33.91304347826087,40.54054054054054,39.21568627450981,46.73913043478261,46.93877551020408,36.19047619047619,32.97872340425532,27.586206896551722,40.869565217391305,32.758620689655174,36.8421052631579,46.875,35.96491228070175,100.0,28.703703703703702,35.3448275862069,36.206896551724135,44.11764705882353,36.03603603603604,31.896551724137932,36.206896551724135,65.26315789473684,14.893617021276595,85.8695652173913,36.206896551724135,36.8421052631579,85.8695652173913,34.48275862068966,30.275229357798164,36.52173913043478,32.17391304347826,36.458333333333336,43.29896907216495,38.53211009174312,46.808510638297875,36.206896551724135,36.206896551724135,46.875,34.04255319148936,21.73913043478261,35.3448275862069,36.206896551724135,33.62068965517241,43.11926605504587,18.47826086956522,56.56565656565657,88.04347826086956,35.0,29.78723404255319,22.22222222222222,30.0,47.0,59.183673469387756,27.77777777777778,45.833333333333336,61.95652173913044,35.3448275862069,36.27450980392157,34.48275862068966,32.17391304347826,63.04347826086956,38.05309734513274,40.625,33.62068965517241,4.424778761061947,41.904761904761905,30.8411214953271,39.42307692307692,46.15384615384615,20.353982300884955,35.3448275862069,65.34653465346534,17.02127659574468,35.3448275862069,91.39784946236558,43.1578947368421,38.59649122807018,33.91304347826087,42.857142857142854,39.80582524271845,20.17543859649123,34.78260869565217,35.3448275862069,59.375,46.464646464646464,31.896551724137932,34.65346534653465,88.04347826086956,41.34615384615385,31.896551724137932,47.82608695652174,92.47311827956989,43.0,46.808510638297875,40.625,40.869565217391305,35.3448275862069,39.04761904761905,38.26086956521739],[28.703703703703702,33.035714285714285,15.74074074074074,28.695652173913043,26.85185185185185,27.82608695652174,20.37037037037037,30.555555555555557,10.185185185185185,30.8411214953271,27.82608695652174,29.62962962962963,25.0,30.555555555555557,28.448275862068964,29.565217391304348,28.703703703703702,25.925925925925927,83.01886792452831,27.82608695652174,26.605504587155963,36.44859813084112,25.0,25.925925925925927,29.245283018867923,25.0,22.608695652173914,31.304347826086957,28.448275862068964,29.62962962962963,22.22222222222222,28.94736842105263,28.703703703703702,100.0,30.434782608695652,28.448275862068964,24.074074074074073,31.818181818181817,28.448275862068964,29.310344827586206,29.62962962962963,32.075471698113205,28.703703703703702,28.448275862068964,28.94736842105263,28.703703703703702,28.448275862068964,30.63063063063063,28.695652173913043,31.304347826086957,25.925925925925927,30.8411214953271,33.027522935779814,34.57943925233645,28.448275862068964,28.695652173913043,27.77777777777778,27.102803738317757,12.962962962962964,28.695652173913043,29.565217391304348,30.17241379310345,30.63063063063063,12.037037037037036,33.333333333333336,30.555555555555557,23.076923076923077,18.51851851851852,61.53846153846154,29.20353982300885,35.18518518518518,27.77777777777778,75.47169811320755,29.245283018867923,25.0,29.310344827586206,28.30188679245283,30.434782608695652,31.304347826086957,24.074074074074073,33.333333333333336,29.62962962962963,28.448275862068964,4.504504504504505,26.41509433962264,31.48148148148148,36.44859813084112,28.703703703703702,17.117117117117118,28.695652173913043,25.925925925925927,12.037037037037036,28.695652173913043,26.85185185185185,26.85185185185185,30.70175438596491,27.82608695652174,35.13513513513514,31.48148148148148,16.071428571428573,27.82608695652174,30.434782608695652,22.22222222222222,25.0,27.586206896551722,37.03703703703704,30.555555555555557,37.38317757009346,28.448275862068964,29.62962962962963,27.77777777777778,33.64485981308411,25.925925925925927,27.102803738317757,31.304347826086957,29.310344827586206,26.16822429906542,30.434782608695652],[34.48275862068966,59.48275862068966,20.689655172413794,68.10344827586206,35.3448275862069,68.10344827586206,25.862068965517242,34.48275862068966,15.517241379310345,63.47826086956522,67.24137931034483,32.758620689655174,32.758620689655174,33.62068965517241,31.896551724137932,75.65217391304348,36.206896551724135,33.62068965517241,31.03448275862069,68.96551724137932,43.47826086956522,40.0,25.862068965517242,31.03448275862069,26.956521739130434,34.48275862068966,53.04347826086956,62.06896551724138,67.24137931034483,31.03448275862069,29.310344827586206,68.10344827586206,35.3448275862069,30.434782608695652,100.0,73.27586206896552,30.17241379310345,46.95652173913044,66.37931034482759,81.03448275862068,33.62068965517241,14.655172413793103,32.758620689655174,74.13793103448276,78.26086956521739,32.758620689655174,74.13793103448276,30.17241379310345,67.24137931034483,63.793103448275865,30.17241379310345,68.69565217391305,47.41379310344828,44.34782608695652,74.13793103448276,71.30434782608695,29.310344827586206,23.47826086956522,12.068965517241379,86.95652173913044,72.17391304347827,68.96551724137932,34.48275862068966,15.517241379310345,34.48275862068966,34.48275862068966,31.304347826086957,25.0,26.08695652173913,32.758620689655174,34.48275862068966,35.3448275862069,29.310344827586206,39.130434782608695,33.62068965517241,68.96551724137932,33.91304347826087,81.73913043478261,63.793103448275865,31.896551724137932,40.51724137931034,58.62068965517241,68.10344827586206,15.652173913043478,42.608695652173914,30.17241379310345,42.608695652173914,38.793103448275865,42.608695652173914,85.21739130434783,37.06896551724138,28.448275862068964,68.69565217391305,32.758620689655174,31.03448275862069,44.827586206896555,69.82758620689656,44.34782608695652,67.24137931034483,49.56521739130435,68.10344827586206,100.0,31.03448275862069,30.17241379310345,75.0,31.896551724137932,34.48275862068966,40.869565217391305,66.37931034482759,32.758620689655174,32.758620689655174,42.608695652173914,31.896551724137932,26.956521739130434,62.06896551724138,74.13793103448276,33.04347826086956,78.44827586206897],[34.48275862068966,50.86206896551724,20.689655172413794,73.27586206896552,36.206896551724135,72.41379310344827,23.275862068965516,34.48275862068966,14.655172413793103,62.06896551724138,72.41379310344827,31.896551724137932,31.03448275862069,31.896551724137932,30.17241379310345,68.96551724137932,31.896551724137932,33.62068965517241,27.586206896551722,73.27586206896552,46.55172413793103,37.06896551724138,25.0,30.17241379310345,25.862068965517242,35.3448275862069,53.44827586206897,53.44827586206897,70.6896551724138,30.17241379310345,25.0,72.41379310344827,36.206896551724135,28.448275862068964,73.27586206896552,100.0,27.586206896551722,44.827586206896555,69.82758620689656,79.3103448275862,31.03448275862069,12.931034482758621,33.62068965517241,94.82758620689656,75.86206896551724,33.62068965517241,75.0,27.586206896551722,67.24137931034483,68.96551724137932,30.17241379310345,67.24137931034483,43.96551724137931,41.37931034482759,94.82758620689656,70.6896551724138,27.586206896551722,21.551724137931036,12.068965517241379,73.27586206896552,73.27586206896552,68.96551724137932,31.896551724137932,12.931034482758621,30.17241379310345,34.48275862068966,29.310344827586206,21.551724137931036,23.275862068965516,31.896551724137932,33.62068965517241,33.62068965517241,26.724137931034484,36.206896551724135,31.03448275862069,71.55172413793103,28.448275862068964,81.03448275862068,68.96551724137932,31.03448275862069,39.6551724137931,62.06896551724138,71.55172413793103,18.96551724137931,43.96551724137931,28.448275862068964,39.6551724137931,32.758620689655174,45.689655172413794,73.27586206896552,38.793103448275865,30.17241379310345,68.96551724137932,34.48275862068966,30.17241379310345,43.96551724137931,74.13793103448276,39.6551724137931,68.96551724137932,41.37931034482759,72.41379310344827,73.27586206896552,30.17241379310345,29.310344827586206,78.44827586206897,34.48275862068966,34.48275862068966,37.06896551724138,69.82758620689656,29.310344827586206,34.48275862068966,39.6551724137931,30.17241379310345,25.862068965517242,53.44827586206897,76.72413793103448,33.62068965517241,75.86206896551724],[43.13725490196079,29.464285714285715,19.607843137254903,26.08695652173913,44.11764705882353,26.08695652173913,38.23529411764706,43.13725490196079,20.58823529411765,33.00970873786408,24.347826086956523,35.0,40.19607843137255,34.31372549019608,31.25,25.862068965517242,47.05882352941177,38.23529411764706,25.233644859813083,25.217391304347824,27.92792792792793,25.0,38.23529411764706,72.0,31.067961165048544,21.153846153846153,21.551724137931036,31.304347826086957,25.0,27.884615384615383,36.27450980392157,27.19298245614035,44.11764705882353,24.074074074074073,30.17241379310345,27.586206896551722,100.0,29.72972972972973,24.137931034482758,27.586206896551722,46.07843137254902,9.615384615384615,42.15686274509804,28.448275862068964,28.695652173913043,42.15686274509804,27.586206896551722,30.555555555555557,30.434782608695652,25.217391304347824,27.184466019417474,30.76923076923077,26.605504587155963,28.846153846153847,28.448275862068964,30.434782608695652,74.0,29.12621359223301,9.803921568627452,30.17241379310345,29.310344827586206,31.304347826086957,51.37614678899082,17.821782178217823,48.03921568627451,43.13725490196079,23.0,23.529411764705884,20.754716981132077,30.90909090909091,49.01960784313726,46.53465346534654,21.296296296296298,30.76923076923077,44.11764705882353,26.724137931034484,47.05882352941177,25.862068965517242,25.217391304347824,44.11764705882353,30.088495575221238,27.884615384615383,25.0,1.8018018018018018,28.571428571428573,28.571428571428573,24.761904761904763,37.5,16.216216216216218,29.310344827586206,47.05882352941177,10.576923076923077,28.695652173913043,45.54455445544554,28.846153846153847,30.70175438596491,25.217391304347824,25.892857142857142,28.846153846153847,18.75,26.08695652173913,30.17241379310345,42.57425742574257,75.0,24.137931034482758,33.663366336633665,43.13725490196079,30.76923076923077,24.137931034482758,33.333333333333336,43.56435643564357,31.73076923076923,70.0,32.67326732673267,31.304347826086957,27.586206896551722,27.61904761904762,27.82608695652174],[35.13513513513514,49.107142857142854,21.62162162162162,47.82608695652174,36.03603603603604,47.82608695652174,28.82882882882883,36.93693693693694,12.612612612612613,45.45454545454545,47.82608695652174,26.126126126126128,31.53153153153153,31.53153153153153,35.3448275862069,45.21739130434783,38.73873873873874,36.93693693693694,33.333333333333336,48.69565217391305,54.54545454545455,50.0,27.92792792792793,30.63063063063063,30.0,41.44144144144144,40.0,48.69565217391305,48.275862068965516,36.03603603603604,32.432432432432435,48.24561403508772,36.03603603603604,31.818181818181817,46.95652173913044,44.827586206896555,29.72972972972973,100.0,48.275862068965516,50.0,36.93693693693694,15.315315315315315,36.03603603603604,46.55172413793103,51.75438596491228,36.03603603603604,47.41379310344828,36.03603603603604,48.69565217391305,48.69565217391305,35.13513513513514,46.36363636363637,67.56756756756756,53.63636363636363,46.55172413793103,50.43478260869565,30.63063063063063,28.181818181818183,12.612612612612613,47.82608695652174,50.43478260869565,45.689655172413794,35.13513513513514,15.315315315315315,36.03603603603604,36.93693693693694,36.36363636363637,21.62162162162162,26.363636363636363,36.283185840707965,34.234234234234236,38.73873873873874,31.53153153153153,47.27272727272727,36.93693693693694,53.44827586206897,30.0,48.69565217391305,48.69565217391305,36.93693693693694,55.26315789473684,45.945945945945944,49.13793103448276,9.649122807017545,53.63636363636363,32.432432432432435,50.0,38.73873873873874,30.70175438596491,46.08695652173913,38.73873873873874,19.81981981981982,49.56521739130435,35.13513513513514,34.234234234234236,56.14035087719298,46.95652173913044,54.95495495495496,50.450450450450454,27.82608695652174,47.82608695652174,46.95652173913044,35.13513513513514,29.72972972972973,47.41379310344828,36.93693693693694,36.93693693693694,52.72727272727273,48.275862068965516,33.333333333333336,32.432432432432435,51.81818181818182,29.72972972972973,28.181818181818183,48.69565217391305,47.41379310344828,34.54545454545455,52.17391304347826],[30.17241379310345,56.89655172413793,21.551724137931036,87.06896551724138,31.03448275862069,87.06896551724138,21.551724137931036,30.17241379310345,12.068965517241379,57.758620689655174,87.06896551724138,30.17241379310345,25.862068965517242,30.17241379310345,27.586206896551722,66.37931034482759,28.448275862068964,30.17241379310345,28.448275862068964,88.79310344827586,38.793103448275865,39.6551724137931,20.689655172413794,25.862068965517242,23.275862068965516,35.3448275862069,57.758620689655174,59.48275862068966,99.13793103448276,31.03448275862069,23.275862068965516,68.96551724137932,31.896551724137932,28.448275862068964,66.37931034482759,69.82758620689656,24.137931034482758,48.275862068965516,100.0,72.41379310344827,26.724137931034484,12.068965517241379,30.17241379310345,70.6896551724138,68.96551724137932,30.17241379310345,70.6896551724138,27.586206896551722,68.96551724137932,80.17241379310344,31.03448275862069,62.06896551724138,45.689655172413794,42.241379310344826,70.6896551724138,68.10344827586206,24.137931034482758,24.137931034482758,11.206896551724139,64.65517241379311,71.55172413793103,73.27586206896552,28.448275862068964,12.931034482758621,25.862068965517242,30.17241379310345,30.17241379310345,19.82758620689655,25.0,30.17241379310345,31.03448275862069,31.03448275862069,27.586206896551722,32.758620689655174,29.310344827586206,82.75862068965517,27.586206896551722,72.41379310344827,80.17241379310344,27.586206896551722,39.6551724137931,78.44827586206897,96.55172413793103,25.0,41.37931034482759,29.310344827586206,43.10344827586207,31.03448275862069,52.58620689655172,67.24137931034483,34.48275862068966,38.793103448275865,69.82758620689656,31.03448275862069,28.448275862068964,45.689655172413794,88.79310344827586,42.241379310344826,68.96551724137932,38.793103448275865,87.06896551724138,66.37931034482759,28.448275862068964,25.0,70.6896551724138,29.310344827586206,30.17241379310345,40.51724137931034,100.0,30.17241379310345,30.17241379310345,43.96551724137931,25.0,22.413793103448278,59.48275862068966,71.55172413793103,31.03448275862069,68.96551724137932],[35.3448275862069,56.89655172413793,20.689655172413794,70.6896551724138,36.206896551724135,69.82758620689656,22.413793103448278,35.3448275862069,13.793103448275861,65.51724137931035,69.82758620689656,31.896551724137932,30.17241379310345,33.62068965517241,28.448275862068964,68.10344827586206,32.758620689655174,32.758620689655174,31.03448275862069,71.55172413793103,44.827586206896555,42.241379310344826,25.0,28.448275862068964,23.275862068965516,37.93103448275862,55.172413793103445,61.206896551724135,73.27586206896552,31.896551724137932,25.0,70.6896551724138,36.206896551724135,29.310344827586206,81.03448275862068,79.3103448275862,27.586206896551722,50.0,72.41379310344827,100.0,32.758620689655174,15.517241379310345,34.48275862068966,81.89655172413794,81.89655172413794,34.48275862068966,74.13793103448276,26.724137931034484,72.41379310344827,66.37931034482759,32.758620689655174,70.6896551724138,49.13793103448276,44.827586206896555,81.89655172413794,73.27586206896552,26.724137931034484,24.137931034482758,12.068965517241379,75.86206896551724,74.13793103448276,70.6896551724138,31.896551724137932,13.793103448275861,31.896551724137932,35.3448275862069,30.17241379310345,23.275862068965516,25.862068965517242,31.03448275862069,31.03448275862069,36.206896551724135,30.17241379310345,37.93103448275862,31.896551724137932,72.41379310344827,31.896551724137932,82.75862068965517,66.37931034482759,31.896551724137932,43.10344827586207,62.93103448275862,73.27586206896552,16.379310344827587,43.10344827586207,27.586206896551722,44.827586206896555,35.3448275862069,43.96551724137931,77.58620689655173,35.3448275862069,29.310344827586206,70.6896551724138,33.62068965517241,33.62068965517241,46.55172413793103,72.41379310344827,44.827586206896555,71.55172413793103,42.241379310344826,69.82758620689656,81.03448275862068,30.17241379310345,27.586206896551722,78.44827586206897,29.310344827586206,35.3448275862069,42.241379310344826,72.41379310344827,30.17241379310345,33.62068965517241,43.96551724137931,29.310344827586206,25.0,61.206896551724135,73.27586206896552,32.758620689655174,84.48275862068965],[66.3157894736842,36.607142857142854,28.8659793814433,29.565217391304348,65.26315789473684,29.565217391304348,55.78947368421053,63.1578947368421,20.0,37.11340206185567,28.695652173913043,37.89473684210526,57.142857142857146,35.78947368421053,34.51327433628319,31.03448275862069,63.1578947368421,47.05882352941177,29.906542056074766,28.695652173913043,35.13513513513514,31.372549019607842,52.63157894736842,50.0,37.142857142857146,29.896907216494846,23.275862068965516,37.391304347826086,27.586206896551722,35.05154639175258,47.916666666666664,31.57894736842105,65.26315789473684,29.62962962962963,33.62068965517241,31.03448275862069,46.07843137254902,36.93693693693694,26.724137931034484,32.758620689655174,100.0,14.43298969072165,62.10526315789474,31.03448275862069,34.21052631578947,62.10526315789474,30.17241379310345,35.77981651376147,31.304347826086957,26.956521739130434,38.144329896907216,39.175257731958766,38.53211009174312,40.20618556701031,31.03448275862069,31.03448275862069,52.083333333333336,36.08247422680412,18.94736842105263,33.62068965517241,29.310344827586206,29.310344827586206,46.788990825688074,18.94736842105263,56.56565656565657,63.1578947368421,31.0,27.835051546391753,22.22222222222222,32.72727272727273,46.0,62.244897959183675,26.85185185185185,41.23711340206186,62.10526315789474,30.17241379310345,41.1764705882353,29.310344827586206,26.956521739130434,64.21052631578948,37.16814159292036,34.02061855670103,28.448275862068964,1.7699115044247788,36.19047619047619,33.64485981308411,32.69230769230769,38.46153846153846,15.929203539823009,34.48275862068966,62.37623762376238,15.463917525773196,28.448275862068964,65.26315789473684,38.144329896907216,34.21052631578947,28.695652173913043,41.07142857142857,35.922330097087375,17.54385964912281,29.565217391304348,33.62068965517241,56.25,48.484848484848484,30.17241379310345,38.613861386138616,63.1578947368421,38.46153846153846,26.724137931034484,45.26315789473684,63.1578947368421,38.0,47.36842105263158,42.708333333333336,37.391304347826086,30.17241379310345,42.857142857142854,33.04347826086956],[15.053763440860216,14.285714285714286,8.88888888888889,12.173913043478262,12.5,11.304347826086957,17.333333333333332,17.204301075268816,19.23076923076923,16.842105263157894,11.304347826086957,9.473684210526315,13.0,10.416666666666666,10.434782608695652,14.655172413793103,13.68421052631579,10.576923076923077,38.83495145631068,11.304347826086957,9.00900900900901,17.647058823529413,10.638297872340425,10.0,13.333333333333334,15.384615384615385,11.403508771929825,13.91304347826087,12.068965517241379,15.789473684210526,8.16326530612245,16.071428571428573,14.893617021276595,32.075471698113205,14.655172413793103,12.931034482758621,9.615384615384615,15.315315315315315,12.068965517241379,15.517241379310345,14.43298969072165,100.0,16.129032258064516,13.793103448275861,14.035087719298245,16.129032258064516,14.655172413793103,10.81081081081081,14.782608695652174,13.043478260869565,12.5,16.49484536082474,13.761467889908257,20.652173913043477,13.793103448275861,13.793103448275861,12.244897959183673,10.638297872340425,28.0,13.793103448275861,14.655172413793103,15.517241379310345,12.612612612612613,23.076923076923077,13.861386138613861,17.204301075268816,5.1020408163265305,11.11111111111111,22.115384615384617,11.607142857142858,10.784313725490197,12.0,41.34615384615385,11.458333333333334,13.829787234042554,12.931034482758621,12.745098039215685,12.931034482758621,13.043478260869565,13.978494623655914,15.789473684210526,14.583333333333334,12.068965517241379,0.0,8.571428571428571,11.214953271028037,17.307692307692307,14.150943396226415,0.0,13.793103448275861,11.650485436893204,25.0,12.931034482758621,12.631578947368421,12.631578947368421,16.666666666666668,11.304347826086957,16.071428571428573,17.475728155339805,0.0,11.304347826086957,14.655172413793103,12.244897959183673,9.900990099009901,12.068965517241379,14.563106796116505,17.02127659574468,19.23076923076923,12.068965517241379,13.043478260869565,13.68421052631579,19.0,10.416666666666666,13.402061855670103,13.91304347826087,14.655172413793103,10.280373831775702,14.782608695652174],[93.4065934065934,38.392857142857146,25.806451612903224,32.17391304347826,84.04255319148936,32.17391304347826,53.84615384615385,93.4065934065934,19.78021978021978,43.1578947368421,31.304347826086957,36.55913978494624,51.02040816326531,37.234042553191486,28.31858407079646,31.03448275862069,62.365591397849464,42.15686274509804,28.97196261682243,31.304347826086957,40.54054054054054,35.294117647058826,50.0,46.93877551020408,32.38095238095238,34.40860215053763,25.862068965517242,37.391304347826086,31.03448275862069,34.73684210526316,42.708333333333336,33.333333333333336,85.8695652173913,28.703703703703702,32.758620689655174,33.62068965517241,42.15686274509804,36.03603603603604,30.17241379310345,34.48275862068966,62.10526315789474,16.129032258064516,100.0,33.62068965517241,34.21052631578947,100.0,31.896551724137932,29.357798165137616,35.65217391304348,30.434782608695652,34.375,40.20618556701031,38.53211009174312,44.086021505376344,33.62068965517241,35.3448275862069,48.958333333333336,32.97872340425532,18.681318681318682,31.896551724137932,35.3448275862069,33.62068965517241,42.20183486238532,18.681318681318682,55.55555555555556,93.4065934065934,32.0,26.881720430107528,22.22222222222222,29.09090909090909,46.0,55.10204081632653,28.703703703703702,42.708333333333336,61.95652173913044,33.62068965517241,36.27450980392157,31.896551724137932,30.434782608695652,61.53846153846154,35.39823008849557,37.5,31.03448275862069,2.6548672566371683,41.904761904761905,31.77570093457944,36.53846153846154,43.26923076923077,19.469026548672566,32.758620689655174,56.43564356435643,15.053763440860216,32.758620689655174,84.94623655913979,43.1578947368421,34.21052631578947,31.304347826086957,43.75,36.89320388349515,19.29824561403509,32.17391304347826,32.758620689655174,58.333333333333336,46.464646464646464,29.310344827586206,33.663366336633665,92.3913043478261,36.53846153846154,30.17241379310345,46.15384615384615,83.87096774193549,41.0,43.61702127659574,38.541666666666664,37.391304347826086,32.758620689655174,37.142857142857146,34.78260869565217],[34.48275862068966,52.58620689655172,20.689655172413794,73.27586206896552,36.206896551724135,72.41379310344827,23.275862068965516,34.48275862068966,14.655172413793103,64.65517241379311,72.41379310344827,31.03448275862069,31.896551724137932,31.896551724137932,29.310344827586206,70.6896551724138,32.758620689655174,32.758620689655174,28.448275862068964,73.27586206896552,47.41379310344828,37.93103448275862,25.0,31.03448275862069,25.0,35.3448275862069,56.03448275862069,55.172413793103445,71.55172413793103,31.03448275862069,25.0,73.27586206896552,36.206896551724135,28.448275862068964,74.13793103448276,94.82758620689656,28.448275862068964,46.55172413793103,70.6896551724138,81.89655172413794,31.03448275862069,13.793103448275861,33.62068965517241,100.0,76.72413793103448,33.62068965517241,75.0,26.724137931034484,70.6896551724138,68.96551724137932,31.896551724137932,69.82758620689656,44.827586206896555,42.241379310344826,100.0,73.27586206896552,28.448275862068964,22.413793103448278,12.068965517241379,73.27586206896552,75.86206896551724,71.55172413793103,32.758620689655174,12.931034482758621,31.03448275862069,34.48275862068966,29.310344827586206,22.413793103448278,23.275862068965516,31.03448275862069,33.62068965517241,33.62068965517241,27.586206896551722,36.206896551724135,31.03448275862069,73.27586206896552,29.310344827586206,81.03448275862068,68.96551724137932,31.03448275862069,43.10344827586207,63.793103448275865,72.41379310344827,17.24137931034483,43.96551724137931,28.448275862068964,40.51724137931034,32.758620689655174,44.827586206896555,73.27586206896552,38.793103448275865,31.03448275862069,71.55172413793103,34.48275862068966,30.17241379310345,43.96551724137931,74.13793103448276,41.37931034482759,71.55172413793103,40.51724137931034,72.41379310344827,74.13793103448276,30.17241379310345,30.17241379310345,79.3103448275862,32.758620689655174,34.48275862068966,37.93103448275862,70.6896551724138,30.17241379310345,34.48275862068966,40.51724137931034,31.03448275862069,25.0,55.172413793103445,76.72413793103448,31.896551724137932,77.58620689655173],[35.96491228070175,56.52173913043478,22.80701754385965,73.04347826086956,36.8421052631579,72.17391304347827,24.56140350877193,35.96491228070175,14.912280701754385,65.48672566371681,72.17391304347827,31.57894736842105,32.45614035087719,32.45614035087719,29.310344827586206,72.17391304347827,35.08771929824562,36.52173913043478,29.565217391304348,73.91304347826087,44.73684210526316,43.36283185840708,27.19298245614035,30.70175438596491,26.31578947368421,35.96491228070175,49.56521739130435,62.608695652173914,69.82758620689656,32.45614035087719,26.31578947368421,71.30434782608695,36.8421052631579,28.94736842105263,78.26086956521739,75.86206896551724,28.695652173913043,51.75438596491228,68.96551724137932,81.89655172413794,34.21052631578947,14.035087719298245,34.21052631578947,76.72413793103448,100.0,34.21052631578947,72.41379310344827,27.82608695652174,68.69565217391305,67.82608695652173,33.333333333333336,73.45132743362832,49.56521739130435,47.78761061946903,76.72413793103448,70.43478260869566,28.94736842105263,23.893805309734514,12.280701754385966,77.3913043478261,73.04347826086956,65.51724137931035,32.17391304347826,13.157894736842104,33.333333333333336,35.96491228070175,30.97345132743363,23.68421052631579,23.68421052631579,30.70175438596491,31.57894736842105,37.719298245614034,28.695652173913043,38.93805309734513,34.21052631578947,72.41379310344827,32.743362831858406,76.52173913043478,67.82608695652173,33.333333333333336,43.47826086956522,63.1578947368421,70.6896551724138,18.42105263157895,43.85964912280702,26.956521739130434,46.017699115044245,38.26086956521739,45.6140350877193,73.91304347826087,37.391304347826086,29.82456140350877,66.08695652173913,34.21052631578947,33.333333333333336,46.95652173913044,73.04347826086956,45.6140350877193,74.78260869565217,41.73913043478261,72.17391304347827,78.26086956521739,32.45614035087719,29.82456140350877,78.44827586206897,32.17391304347826,35.96491228070175,43.85964912280702,68.96551724137932,32.45614035087719,34.21052631578947,46.902654867256636,31.57894736842105,25.663716814159294,62.608695652173914,72.41379310344827,32.45614035087719,84.34782608695652],[93.4065934065934,38.392857142857146,25.806451612903224,32.17391304347826,84.04255319148936,32.17391304347826,53.84615384615385,93.4065934065934,19.78021978021978,43.1578947368421,31.304347826086957,36.55913978494624,51.02040816326531,37.234042553191486,28.31858407079646,31.03448275862069,62.365591397849464,42.15686274509804,28.97196261682243,31.304347826086957,40.54054054054054,35.294117647058826,50.0,46.93877551020408,32.38095238095238,34.40860215053763,25.862068965517242,37.391304347826086,31.03448275862069,34.73684210526316,42.708333333333336,33.333333333333336,85.8695652173913,28.703703703703702,32.758620689655174,33.62068965517241,42.15686274509804,36.03603603603604,30.17241379310345,34.48275862068966,62.10526315789474,16.129032258064516,100.0,33.62068965517241,34.21052631578947,100.0,31.896551724137932,29.357798165137616,35.65217391304348,30.434782608695652,34.375,40.20618556701031,38.53211009174312,44.086021505376344,33.62068965517241,35.3448275862069,48.958333333333336,32.97872340425532,18.681318681318682,31.896551724137932,35.3448275862069,33.62068965517241,42.20183486238532,18.681318681318682,55.55555555555556,93.4065934065934,32.0,26.881720430107528,22.22222222222222,29.09090909090909,46.0,55.10204081632653,28.703703703703702,42.708333333333336,61.95652173913044,33.62068965517241,36.27450980392157,31.896551724137932,30.434782608695652,61.53846153846154,35.39823008849557,37.5,31.03448275862069,2.6548672566371683,41.904761904761905,31.77570093457944,36.53846153846154,43.26923076923077,19.469026548672566,32.758620689655174,56.43564356435643,15.053763440860216,32.758620689655174,84.94623655913979,43.1578947368421,34.21052631578947,31.304347826086957,43.75,36.89320388349515,19.29824561403509,32.17391304347826,32.758620689655174,58.333333333333336,46.464646464646464,29.310344827586206,33.663366336633665,92.3913043478261,36.53846153846154,30.17241379310345,46.15384615384615,83.87096774193549,41.0,43.61702127659574,38.541666666666664,37.391304347826086,32.758620689655174,37.142857142857146,34.78260869565217],[32.758620689655174,54.310344827586206,19.82758620689655,72.41379310344827,33.62068965517241,71.55172413793103,23.275862068965516,32.758620689655174,14.655172413793103,66.37931034482759,71.55172413793103,31.896551724137932,30.17241379310345,34.48275862068966,30.17241379310345,72.41379310344827,33.62068965517241,31.896551724137932,30.17241379310345,73.27586206896552,43.10344827586207,37.06896551724138,25.0,29.310344827586206,25.862068965517242,34.48275862068966,56.89655172413793,54.310344827586206,70.6896551724138,31.03448275862069,25.862068965517242,87.93103448275862,34.48275862068966,28.448275862068964,74.13793103448276,75.0,27.586206896551722,47.41379310344828,70.6896551724138,74.13793103448276,30.17241379310345,14.655172413793103,31.896551724137932,75.0,72.41379310344827,31.896551724137932,100.0,29.310344827586206,73.27586206896552,70.6896551724138,32.758620689655174,64.65517241379311,45.689655172413794,40.51724137931034,75.0,75.0,29.310344827586206,20.689655172413794,12.068965517241379,71.55172413793103,76.72413793103448,73.27586206896552,31.03448275862069,13.793103448275861,32.758620689655174,32.758620689655174,30.17241379310345,24.137931034482758,24.137931034482758,31.03448275862069,31.896551724137932,31.896551724137932,29.310344827586206,37.06896551724138,31.03448275862069,76.72413793103448,30.17241379310345,79.3103448275862,70.6896551724138,30.17241379310345,38.793103448275865,61.206896551724135,72.41379310344827,18.103448275862068,43.96551724137931,29.310344827586206,39.6551724137931,35.3448275862069,45.689655172413794,73.27586206896552,33.62068965517241,30.17241379310345,73.27586206896552,31.896551724137932,31.03448275862069,49.13793103448276,73.27586206896552,42.241379310344826,73.27586206896552,40.51724137931034,71.55172413793103,74.13793103448276,28.448275862068964,28.448275862068964,73.27586206896552,32.758620689655174,32.758620689655174,38.793103448275865,70.6896551724138,31.896551724137932,31.896551724137932,41.37931034482759,30.17241379310345,25.0,54.310344827586206,95.6896551724138,32.758620689655174,71.55172413793103],[28.440366972477065,31.25,21.818181818181817,28.695652173913043,30.275229357798164,27.82608695652174,23.853211009174313,28.440366972477065,12.844036697247706,27.272727272727273,27.82608695652174,32.407407407407405,31.192660550458715,33.944954128440365,86.72566371681415,31.03448275862069,31.192660550458715,29.357798165137616,29.72972972972973,27.82608695652174,28.82882882882883,25.225225225225227,28.440366972477065,31.48148148148148,29.09090909090909,26.126126126126128,25.0,29.565217391304348,27.586206896551722,25.225225225225227,28.440366972477065,29.82456140350877,30.275229357798164,30.63063063063063,30.17241379310345,27.586206896551722,30.555555555555557,36.03603603603604,27.586206896551722,26.724137931034484,35.77981651376147,10.81081081081081,29.357798165137616,26.724137931034484,27.82608695652174,29.357798165137616,29.310344827586206,100.0,28.695652173913043,27.82608695652174,24.545454545454547,28.82882882882883,36.03603603603604,29.72972972972973,26.724137931034484,26.956521739130434,30.555555555555557,20.0,14.678899082568808,30.17241379310345,27.586206896551722,28.695652173913043,35.77981651376147,41.666666666666664,29.357798165137616,28.440366972477065,22.22222222222222,16.363636363636363,22.727272727272727,83.63636363636364,33.027522935779814,32.407407407407405,26.126126126126128,31.53153153153153,30.275229357798164,31.896551724137932,28.181818181818183,29.310344827586206,27.82608695652174,30.275229357798164,33.6283185840708,28.82882882882883,27.586206896551722,4.464285714285714,27.92792792792793,51.81818181818182,27.92792792792793,28.440366972477065,15.178571428571429,31.03448275862069,32.11009174311926,13.513513513513514,27.82608695652174,30.555555555555557,21.62162162162162,31.57894736842105,26.956521739130434,35.714285714285715,31.53153153153153,15.929203539823009,27.82608695652174,30.17241379310345,28.703703703703702,31.48148148148148,27.586206896551722,43.51851851851852,28.440366972477065,27.92792792792793,27.586206896551722,27.522935779816514,28.703703703703702,27.92792792792793,29.62962962962963,26.605504587155963,29.565217391304348,30.17241379310345,38.53211009174312,29.565217391304348],[36.52173913043478,54.78260869565217,22.608695652173914,73.04347826086956,36.52173913043478,72.17391304347827,23.47826086956522,36.52173913043478,13.91304347826087,71.30434782608695,72.17391304347827,31.304347826086957,33.04347826086956,33.91304347826087,29.310344827586206,65.51724137931035,33.91304347826087,31.304347826086957,30.434782608695652,73.91304347826087,43.47826086956522,38.26086956521739,26.956521739130434,31.304347826086957,26.08695652173913,33.04347826086956,59.48275862068966,54.78260869565217,69.82758620689656,31.304347826086957,25.217391304347824,70.43478260869566,36.52173913043478,28.695652173913043,67.24137931034483,67.24137931034483,30.434782608695652,48.69565217391305,68.96551724137932,72.41379310344827,31.304347826086957,14.782608695652174,35.65217391304348,70.6896551724138,68.69565217391305,35.65217391304348,73.27586206896552,28.695652173913043,100.0,68.69565217391305,33.91304347826087,62.608695652173914,46.95652173913044,40.0,70.6896551724138,85.34482758620689,29.565217391304348,21.73913043478261,11.304347826086957,64.65517241379311,75.86206896551724,80.17241379310344,33.04347826086956,14.782608695652174,33.91304347826087,36.52173913043478,31.304347826086957,23.47826086956522,25.217391304347824,30.434782608695652,31.304347826086957,34.78260869565217,28.695652173913043,36.52173913043478,32.17391304347826,73.27586206896552,33.04347826086956,67.24137931034483,68.69565217391305,29.565217391304348,38.26086956521739,63.47826086956522,71.55172413793103,15.652173913043478,44.34782608695652,29.565217391304348,40.0,32.17391304347826,41.73913043478261,66.37931034482759,33.04347826086956,34.78260869565217,71.55172413793103,34.78260869565217,33.04347826086956,43.47826086956522,72.17391304347827,42.608695652173914,70.43478260869566,34.48275862068966,72.17391304347827,67.24137931034483,29.565217391304348,30.434782608695652,64.65517241379311,31.304347826086957,36.52173913043478,38.26086956521739,68.96551724137932,32.17391304347826,33.91304347826087,39.130434782608695,30.434782608695652,27.82608695652174,54.78260869565217,71.55172413793103,30.434782608695652,70.43478260869566],[31.304347826086957,54.78260869565217,19.130434782608695,83.47826086956522,32.17391304347826,83.47826086956522,20.869565217391305,33.04347826086956,17.391304347826086,60.869565217391305,83.47826086956522,31.304347826086957,27.82608695652174,32.17391304347826,26.724137931034484,63.793103448275865,30.434782608695652,34.78260869565217,30.434782608695652,85.21739130434783,44.34782608695652,43.47826086956522,24.347826086956523,28.695652173913043,26.08695652173913,36.52173913043478,52.58620689655172,54.78260869565217,80.17241379310344,33.04347826086956,24.347826086956523,70.43478260869566,32.17391304347826,31.304347826086957,63.793103448275865,68.96551724137932,25.217391304347824,48.69565217391305,80.17241379310344,66.37931034482759,26.956521739130434,13.043478260869565,30.434782608695652,68.96551724137932,67.82608695652173,30.434782608695652,70.6896551724138,27.82608695652174,68.69565217391305,100.0,31.304347826086957,64.34782608695652,46.08695652173913,43.47826086956522,68.96551724137932,68.96551724137932,26.956521739130434,23.47826086956522,11.304347826086957,62.93103448275862,72.41379310344827,74.13793103448276,30.434782608695652,13.043478260869565,27.82608695652174,33.04347826086956,33.91304347826087,19.130434782608695,24.347826086956523,29.565217391304348,33.04347826086956,34.78260869565217,27.82608695652174,39.130434782608695,27.82608695652174,81.03448275862068,26.956521739130434,71.55172413793103,100.0,26.956521739130434,40.0,68.69565217391305,81.03448275862068,23.47826086956522,46.95652173913044,28.695652173913043,43.47826086956522,35.65217391304348,50.43478260869565,64.65517241379311,35.65217391304348,37.391304347826086,68.10344827586206,29.565217391304348,31.304347826086957,47.82608695652174,82.6086956521739,40.869565217391305,71.30434782608695,35.3448275862069,83.47826086956522,63.793103448275865,27.82608695652174,27.82608695652174,68.96551724137932,32.17391304347826,33.04347826086956,40.869565217391305,80.17241379310344,32.17391304347826,28.695652173913043,42.608695652173914,28.695652173913043,24.347826086956523,54.78260869565217,71.55172413793103,31.304347826086957,67.82608695652173],[36.458333333333336,35.714285714285715,20.0,31.304347826086957,36.458333333333336,30.434782608695652,31.25,35.416666666666664,14.583333333333334,41.05263157894737,30.434782608695652,53.68421052631579,33.0,48.958333333333336,23.68421052631579,31.896551724137932,35.416666666666664,30.76923076923077,27.102803738317757,30.434782608695652,30.63063063063063,36.27450980392157,31.25,30.303030303030305,29.807692307692307,33.333333333333336,26.724137931034484,32.17391304347826,30.17241379310345,76.04166666666667,30.612244897959183,33.333333333333336,36.458333333333336,25.925925925925927,30.17241379310345,30.17241379310345,27.184466019417474,35.13513513513514,31.03448275862069,32.758620689655174,38.144329896907216,12.5,34.375,31.896551724137932,33.333333333333336,34.375,32.758620689655174,24.545454545454547,33.91304347826087,31.304347826086957,100.0,40.20618556701031,33.944954128440365,35.416666666666664,31.896551724137932,33.91304347826087,32.98969072164948,32.63157894736842,16.666666666666668,30.17241379310345,33.62068965517241,31.304347826086957,29.72972972972973,14.736842105263158,32.67326732673267,35.416666666666664,29.702970297029704,24.210526315789473,22.429906542056074,26.126126126126128,30.392156862745097,37.37373737373738,28.703703703703702,34.375,35.416666666666664,31.896551724137932,34.65346534653465,31.896551724137932,31.304347826086957,36.458333333333336,30.70175438596491,36.458333333333336,30.17241379310345,4.385964912280702,30.476190476190474,24.528301886792452,36.53846153846154,34.905660377358494,19.29824561403509,31.896551724137932,33.00970873786408,14.583333333333334,33.91304347826087,37.89473684210526,33.333333333333336,33.333333333333336,30.434782608695652,32.142857142857146,35.922330097087375,17.391304347826086,30.434782608695652,30.17241379310345,31.95876288659794,29.0,31.896551724137932,32.35294117647059,35.416666666666664,33.65384615384615,31.03448275862069,36.458333333333336,35.78947368421053,35.0,31.57894736842105,30.208333333333332,32.17391304347826,32.758620689655174,29.906542056074766,33.04347826086956],[42.2680412371134,55.357142857142854,25.77319587628866,66.08695652173913,43.29896907216495,65.21739130434783,28.8659793814433,42.2680412371134,18.556701030927837,76.04166666666667,65.21739130434783,38.144329896907216,37.0,40.20618556701031,28.695652173913043,64.34782608695652,40.20618556701031,38.46153846153846,31.77570093457944,66.08695652173913,41.81818181818182,42.57425742574257,30.927835051546392,35.0,25.96153846153846,42.2680412371134,48.69565217391305,53.91304347826087,62.93103448275862,40.20618556701031,30.612244897959183,68.42105263157895,43.29896907216495,30.8411214953271,68.69565217391305,67.24137931034483,30.76923076923077,46.36363636363637,62.06896551724138,70.6896551724138,39.175257731958766,16.49484536082474,40.20618556701031,69.82758620689656,73.45132743362832,40.20618556701031,64.65517241379311,28.82882882882883,62.608695652173914,64.34782608695652,40.20618556701031,100.0,46.788990825688074,52.083333333333336,69.82758620689656,64.34782608695652,33.673469387755105,28.125,14.43298969072165,66.08695652173913,68.69565217391305,63.793103448275865,34.234234234234236,16.49484536082474,35.64356435643565,42.2680412371134,33.663366336633665,26.804123711340207,25.233644859813083,31.25,35.294117647058826,40.0,30.555555555555557,43.75,38.144329896907216,64.65517241379311,35.64356435643565,68.69565217391305,64.34782608695652,37.11340206185567,38.59649122807018,74.22680412371135,65.51724137931035,11.403508771929825,42.30769230769231,29.906542056074766,43.689320388349515,37.735849056603776,38.59649122807018,66.08695652173913,40.77669902912621,35.05154639175258,64.34782608695652,40.20618556701031,36.08247422680412,42.98245614035088,66.95652173913044,44.14414414414414,75.72815533980582,33.04347826086956,65.21739130434783,68.69565217391305,35.714285714285715,33.663366336633665,67.24137931034483,36.89320388349515,42.2680412371134,41.74757281553398,62.06896551724138,36.08247422680412,39.175257731958766,47.474747474747474,36.08247422680412,29.166666666666668,53.91304347826087,65.51724137931035,33.9622641509434,73.04347826086956],[38.53211009174312,52.67857142857143,22.93577981651376,45.21739130434783,39.44954128440367,45.21739130434783,28.440366972477065,39.44954128440367,12.844036697247706,44.03669724770642,45.21739130434783,30.275229357798164,32.11009174311926,33.944954128440365,34.48275862068966,47.41379310344828,41.28440366972477,36.69724770642202,32.11009174311926,46.08695652173913,51.351351351351354,44.03669724770642,30.275229357798164,30.275229357798164,27.522935779816514,38.53211009174312,34.48275862068966,51.30434782608695,45.689655172413794,34.862385321100916,31.192660550458715,46.49122807017544,38.53211009174312,33.027522935779814,47.41379310344828,43.96551724137931,26.605504587155963,67.56756756756756,45.689655172413794,49.13793103448276,38.53211009174312,13.761467889908257,38.53211009174312,44.827586206896555,49.56521739130435,38.53211009174312,45.689655172413794,36.03603603603604,46.95652173913044,46.08695652173913,33.944954128440365,46.788990825688074,100.0,46.788990825688074,44.827586206896555,45.689655172413794,28.440366972477065,26.605504587155963,13.88888888888889,48.275862068965516,47.41379310344828,43.10344827586207,33.333333333333336,15.596330275229358,36.69724770642202,39.44954128440367,35.18518518518518,20.18348623853211,25.68807339449541,33.6283185840708,34.862385321100916,38.53211009174312,31.192660550458715,44.03669724770642,35.77981651376147,50.86206896551724,30.275229357798164,48.275862068965516,46.08695652173913,33.944954128440365,55.26315789473684,45.87155963302752,47.41379310344828,7.894736842105263,49.54128440366973,31.192660550458715,45.87155963302752,38.53211009174312,28.07017543859649,46.55172413793103,37.61467889908257,20.18348623853211,44.827586206896555,37.61467889908257,33.027522935779814,54.3859649122807,45.21739130434783,53.57142857142857,49.54128440366973,29.565217391304348,45.21739130434783,47.41379310344828,34.862385321100916,29.357798165137616,45.689655172413794,33.027522935779814,39.44954128440367,47.706422018348626,45.689655172413794,34.862385321100916,34.862385321100916,48.62385321100918,26.605504587155963,26.605504587155963,51.30434782608695,45.689655172413794,33.944954128440365,50.43478260869565],[47.31182795698925,43.75,23.91304347826087,43.47826086956522,44.791666666666664,42.608695652173914,34.78260869565217,47.31182795698925,13.043478260869565,53.191489361702125,42.608695652173914,32.63157894736842,35.0,35.416666666666664,29.565217391304348,43.47826086956522,40.0,31.73076923076923,35.51401869158879,42.608695652173914,42.72727272727273,70.29702970297029,27.659574468085108,31.0,27.884615384615383,43.47826086956522,30.434782608695652,44.34782608695652,42.241379310344826,38.94736842105263,35.714285714285715,42.10526315789474,46.808510638297875,34.57943925233645,44.34782608695652,41.37931034482759,28.846153846153847,53.63636363636363,42.241379310344826,44.827586206896555,40.20618556701031,20.652173913043477,44.086021505376344,42.241379310344826,47.78761061946903,44.086021505376344,40.51724137931034,29.72972972972973,40.0,43.47826086956522,35.416666666666664,52.083333333333336,46.788990825688074,100.0,42.241379310344826,43.47826086956522,31.632653061224488,29.032258064516128,19.565217391304348,44.34782608695652,42.608695652173914,38.793103448275865,29.72972972972973,17.391304347826086,37.62376237623762,47.31182795698925,37.62376237623762,29.347826086956523,26.16822429906542,31.25,36.27450980392157,43.0,31.48148148148148,50.526315789473685,42.5531914893617,45.689655172413794,34.65346534653465,44.34782608695652,43.47826086956522,43.01075268817204,56.14035087719298,52.083333333333336,42.241379310344826,3.508771929824561,44.23076923076923,28.97196261682243,68.93203883495146,42.45283018867924,22.80701754385965,42.608695652173914,40.77669902912621,26.08695652173913,41.73913043478261,44.21052631578947,37.89473684210526,52.63157894736842,43.47826086956522,54.054054054054056,48.54368932038835,21.73913043478261,42.608695652173914,44.34782608695652,36.734693877551024,29.702970297029704,44.827586206896555,36.89320388349515,46.808510638297875,67.96116504854369,42.241379310344826,45.65217391304348,43.1578947368421,70.70707070707071,33.333333333333336,34.375,44.34782608695652,41.37931034482759,34.905660377358494,46.08695652173913],[34.48275862068966,52.58620689655172,20.689655172413794,73.27586206896552,36.206896551724135,72.41379310344827,23.275862068965516,34.48275862068966,14.655172413793103,64.65517241379311,72.41379310344827,31.03448275862069,31.896551724137932,31.896551724137932,29.310344827586206,70.6896551724138,32.758620689655174,32.758620689655174,28.448275862068964,73.27586206896552,47.41379310344828,37.93103448275862,25.0,31.03448275862069,25.0,35.3448275862069,56.03448275862069,55.172413793103445,71.55172413793103,31.03448275862069,25.0,73.27586206896552,36.206896551724135,28.448275862068964,74.13793103448276,94.82758620689656,28.448275862068964,46.55172413793103,70.6896551724138,81.89655172413794,31.03448275862069,13.793103448275861,33.62068965517241,100.0,76.72413793103448,33.62068965517241,75.0,26.724137931034484,70.6896551724138,68.96551724137932,31.896551724137932,69.82758620689656,44.827586206896555,42.241379310344826,100.0,73.27586206896552,28.448275862068964,22.413793103448278,12.068965517241379,73.27586206896552,75.86206896551724,71.55172413793103,32.758620689655174,12.931034482758621,31.03448275862069,34.48275862068966,29.310344827586206,22.413793103448278,23.275862068965516,31.03448275862069,33.62068965517241,33.62068965517241,27.586206896551722,36.206896551724135,31.03448275862069,73.27586206896552,29.310344827586206,81.03448275862068,68.96551724137932,31.03448275862069,43.10344827586207,63.793103448275865,72.41379310344827,17.24137931034483,43.96551724137931,28.448275862068964,40.51724137931034,32.758620689655174,44.827586206896555,73.27586206896552,38.793103448275865,31.03448275862069,71.55172413793103,34.48275862068966,30.17241379310345,43.96551724137931,74.13793103448276,41.37931034482759,71.55172413793103,40.51724137931034,72.41379310344827,74.13793103448276,30.17241379310345,30.17241379310345,79.3103448275862,32.758620689655174,34.48275862068966,37.93103448275862,70.6896551724138,30.17241379310345,34.48275862068966,40.51724137931034,31.03448275862069,25.0,55.172413793103445,76.72413793103448,31.896551724137932,77.58620689655173],[36.206896551724135,53.44827586206897,20.869565217391305,71.55172413793103,36.206896551724135,70.6896551724138,22.413793103448278,36.206896551724135,13.793103448275861,80.70175438596492,70.6896551724138,30.434782608695652,32.758620689655174,31.896551724137932,27.82608695652174,70.43478260869566,33.62068965517241,31.896551724137932,29.310344827586206,72.41379310344827,43.47826086956522,40.0,26.724137931034484,31.304347826086957,26.31578947368421,32.758620689655174,59.130434782608695,54.310344827586206,68.96551724137932,31.896551724137932,24.137931034482758,68.96551724137932,36.206896551724135,28.695652173913043,71.30434782608695,70.6896551724138,30.434782608695652,50.43478260869565,68.10344827586206,73.27586206896552,31.03448275862069,13.793103448275861,35.3448275862069,73.27586206896552,70.43478260869566,35.3448275862069,75.0,26.956521739130434,85.34482758620689,68.96551724137932,33.91304347826087,64.34782608695652,45.689655172413794,43.47826086956522,73.27586206896552,100.0,29.565217391304348,21.05263157894737,11.206896551724139,66.95652173913044,79.1304347826087,78.26086956521739,32.758620689655174,13.91304347826087,33.62068965517241,36.206896551724135,31.57894736842105,23.47826086956522,24.56140350877193,29.565217391304348,30.17241379310345,34.78260869565217,27.586206896551722,36.52173913043478,31.896551724137932,73.27586206896552,32.45614035087719,71.30434782608695,68.96551724137932,30.17241379310345,37.93103448275862,60.3448275862069,70.6896551724138,15.789473684210526,43.47826086956522,28.695652173913043,40.869565217391305,32.758620689655174,43.85964912280702,67.82608695652173,32.758620689655174,31.896551724137932,74.56140350877193,34.78260869565217,32.758620689655174,42.241379310344826,70.6896551724138,42.608695652173914,68.96551724137932,35.96491228070175,70.6896551724138,71.30434782608695,29.565217391304348,30.434782608695652,68.96551724137932,31.304347826086957,36.206896551724135,40.0,68.10344827586206,32.758620689655174,34.78260869565217,42.608695652173914,31.304347826086957,28.07017543859649,54.310344827586206,74.13793103448276,29.565217391304348,73.27586206896552],[47.916666666666664,27.678571428571427,23.157894736842106,26.956521739130434,47.916666666666664,26.956521739130434,40.625,50.0,18.75,35.05154639175258,26.08695652173913,38.70967741935484,43.87755102040816,37.5,29.464285714285715,26.724137931034484,52.083333333333336,40.19607843137255,27.102803738317757,26.08695652173913,31.53153153153153,28.431372549019606,42.708333333333336,84.375,31.372549019607842,25.510204081632654,22.413793103448278,28.695652173913043,25.0,33.673469387755105,40.625,28.94736842105263,46.875,27.77777777777778,29.310344827586206,27.586206896551722,74.0,30.63063063063063,24.137931034482758,26.724137931034484,52.083333333333336,12.244897959183673,48.958333333333336,28.448275862068964,28.94736842105263,48.958333333333336,29.310344827586206,30.555555555555557,29.565217391304348,26.956521739130434,32.98969072164948,33.673469387755105,28.440366972477065,31.632653061224488,28.448275862068964,29.565217391304348,100.0,31.95876288659794,15.625,29.310344827586206,28.448275862068964,30.434782608695652,55.96330275229358,17.894736842105264,52.525252525252526,50.0,28.8659793814433,27.36842105263158,21.904761904761905,30.275229357798164,45.0,53.608247422680414,24.074074074074073,37.755102040816325,50.0,28.448275862068964,52.525252525252526,26.724137931034484,26.956521739130434,48.958333333333336,30.088495575221238,29.591836734693878,25.0,1.8181818181818181,32.38095238095238,30.76923076923077,27.884615384615383,37.5,17.272727272727273,29.310344827586206,46.53465346534654,11.224489795918368,26.956521739130434,51.578947368421055,33.673469387755105,28.94736842105263,26.08695652173913,28.571428571428573,30.097087378640776,18.91891891891892,26.956521739130434,29.310344827586206,45.26315789473684,81.44329896907216,25.0,36.0,50.0,33.65384615384615,24.137931034482758,40.625,47.36842105263158,35.0,75.53191489361703,36.170212765957444,28.695652173913043,29.310344827586206,32.38095238095238,26.956521739130434],[31.914893617021278,26.785714285714285,19.35483870967742,21.73913043478261,32.291666666666664,21.73913043478261,29.78723404255319,30.851063829787233,13.829787234042554,25.806451612903224,21.73913043478261,28.72340425531915,33.0,27.083333333333332,20.17543859649123,21.73913043478261,37.89473684210526,30.76923076923077,26.16822429906542,21.73913043478261,26.363636363636363,29.702970297029704,27.659574468085108,31.31313131313131,24.271844660194176,24.46808510638298,15.652173913043478,29.565217391304348,24.137931034482758,30.526315789473685,31.632653061224488,21.92982456140351,34.04255319148936,27.102803738317757,23.47826086956522,21.551724137931036,29.12621359223301,28.181818181818183,24.137931034482758,24.137931034482758,36.08247422680412,10.638297872340425,32.97872340425532,22.413793103448278,23.893805309734514,32.97872340425532,20.689655172413794,20.0,21.73913043478261,23.47826086956522,32.63157894736842,28.125,26.605504587155963,29.032258064516128,22.413793103448278,21.05263157894737,31.95876288659794,100.0,8.51063829787234,24.347826086956523,21.73913043478261,22.608695652173914,30.63063063063063,9.67741935483871,32.67326732673267,30.851063829787233,24.0,20.43010752688172,23.58490566037736,23.423423423423422,37.254901960784316,34.343434343434346,23.14814814814815,31.57894736842105,34.04255319148936,22.413793103448278,25.0,22.608695652173914,23.47826086956522,35.1063829787234,24.56140350877193,27.083333333333332,22.413793103448278,3.5398230088495577,26.923076923076923,27.358490566037737,29.12621359223301,30.18867924528302,15.929203539823009,24.347826086956523,31.067961165048544,7.446808510638298,21.92982456140351,34.04255319148936,28.42105263157895,31.57894736842105,22.608695652173914,29.72972972972973,24.271844660194176,17.54385964912281,21.73913043478261,23.47826086956522,31.95876288659794,31.0,23.275862068965516,29.41176470588235,30.851063829787233,28.155339805825243,24.137931034482758,30.851063829787233,31.914893617021278,26.262626262626263,31.57894736842105,29.473684210526315,29.565217391304348,20.689655172413794,29.245283018867923,23.47826086956522],[20.87912087912088,12.5,11.11111111111111,11.304347826086957,19.148936170212767,10.434782608695652,26.027397260273972,19.78021978021978,24.0,13.68421052631579,10.434782608695652,13.978494623655914,18.367346938775512,17.02127659574468,13.274336283185841,12.931034482758621,17.204301075268816,15.686274509803921,14.018691588785046,10.434782608695652,13.513513513513514,16.666666666666668,15.217391304347826,13.26530612244898,10.476190476190476,17.94871794871795,11.403508771929825,13.043478260869565,11.206896551724139,16.842105263157894,14.583333333333334,12.5,21.73913043478261,12.962962962962964,12.068965517241379,12.068965517241379,9.803921568627452,12.612612612612613,11.206896551724139,12.068965517241379,18.94736842105263,28.0,18.681318681318682,12.068965517241379,12.280701754385966,18.681318681318682,12.068965517241379,14.678899082568808,11.304347826086957,11.304347826086957,16.666666666666668,14.43298969072165,13.88888888888889,19.565217391304348,12.068965517241379,11.206896551724139,15.625,8.51063829787234,100.0,12.068965517241379,12.068965517241379,10.344827586206897,15.596330275229358,32.0,16.161616161616163,19.78021978021978,9.090909090909092,19.753086419753085,4.62962962962963,13.636363636363637,13.0,18.367346938775512,12.962962962962964,15.625,23.91304347826087,12.068965517241379,11.764705882352942,12.068965517241379,11.304347826086957,25.274725274725274,15.929203539823009,13.541666666666666,11.206896551724139,0.0,14.285714285714286,14.018691588785046,18.26923076923077,14.423076923076923,0.0,12.068965517241379,19.801980198019802,23.076923076923077,12.068965517241379,21.50537634408602,16.842105263157894,14.035087719298245,9.565217391304348,14.285714285714286,14.563106796116505,0.0,10.434782608695652,12.068965517241379,16.666666666666668,13.131313131313131,11.206896551724139,19.801980198019802,19.565217391304348,18.26923076923077,11.206896551724139,23.333333333333332,21.50537634408602,19.0,12.76595744680851,15.625,13.043478260869565,12.931034482758621,20.0,12.173913043478262],[33.62068965517241,57.758620689655174,22.413793103448278,67.24137931034483,34.48275862068966,67.24137931034483,25.862068965517242,33.62068965517241,15.517241379310345,60.0,66.37931034482759,31.896551724137932,32.758620689655174,31.896551724137932,31.896551724137932,72.17391304347827,37.06896551724138,35.3448275862069,29.310344827586206,68.10344827586206,45.21739130434783,39.130434782608695,26.724137931034484,31.03448275862069,27.82608695652174,33.62068965517241,52.17391304347826,60.3448275862069,65.51724137931035,30.17241379310345,29.310344827586206,66.37931034482759,35.3448275862069,28.695652173913043,86.95652173913044,73.27586206896552,30.17241379310345,47.82608695652174,64.65517241379311,75.86206896551724,33.62068965517241,13.793103448275861,31.896551724137932,73.27586206896552,77.3913043478261,31.896551724137932,71.55172413793103,30.17241379310345,64.65517241379311,62.93103448275862,30.17241379310345,66.08695652173913,48.275862068965516,44.34782608695652,73.27586206896552,66.95652173913044,29.310344827586206,24.347826086956523,12.068965517241379,100.0,72.17391304347827,66.37931034482759,32.758620689655174,13.793103448275861,34.48275862068966,33.62068965517241,31.304347826086957,25.862068965517242,24.347826086956523,31.896551724137932,34.48275862068966,37.06896551724138,28.448275862068964,38.26086956521739,34.48275862068966,68.10344827586206,33.91304347826087,80.0,62.93103448275862,32.758620689655174,42.241379310344826,58.62068965517241,66.37931034482759,16.52173913043478,43.47826086956522,28.448275862068964,41.73913043478261,37.93103448275862,40.869565217391305,92.17391304347827,38.793103448275865,28.448275862068964,67.82608695652173,32.758620689655174,30.17241379310345,46.55172413793103,68.10344827586206,43.47826086956522,67.24137931034483,58.26086956521739,67.24137931034483,86.95652173913044,31.896551724137932,30.17241379310345,73.27586206896552,33.62068965517241,33.62068965517241,40.869565217391305,64.65517241379311,31.896551724137932,32.758620689655174,41.73913043478261,31.896551724137932,26.956521739130434,60.3448275862069,73.27586206896552,33.91304347826087,76.72413793103448],[35.3448275862069,56.03448275862069,20.689655172413794,72.41379310344827,37.06896551724138,72.41379310344827,23.275862068965516,35.3448275862069,13.793103448275861,67.82608695652173,72.41379310344827,32.758620689655174,32.758620689655174,33.62068965517241,28.448275862068964,71.30434782608695,31.896551724137932,30.17241379310345,30.17241379310345,74.13793103448276,43.47826086956522,38.26086956521739,25.0,29.310344827586206,23.47826086956522,35.3448275862069,60.869565217391305,60.3448275862069,72.41379310344827,32.758620689655174,25.0,74.13793103448276,36.206896551724135,29.565217391304348,72.17391304347827,73.27586206896552,29.310344827586206,50.43478260869565,71.55172413793103,74.13793103448276,29.310344827586206,14.655172413793103,35.3448275862069,75.86206896551724,73.04347826086956,35.3448275862069,76.72413793103448,27.586206896551722,75.86206896551724,72.41379310344827,33.62068965517241,68.69565217391305,47.41379310344828,42.608695652173914,75.86206896551724,79.1304347826087,28.448275862068964,21.73913043478261,12.068965517241379,72.17391304347827,100.0,78.44827586206897,32.758620689655174,12.931034482758621,31.896551724137932,35.3448275862069,30.434782608695652,22.413793103448278,25.217391304347824,27.586206896551722,31.03448275862069,33.62068965517241,29.310344827586206,36.52173913043478,31.03448275862069,75.0,32.17391304347826,75.65217391304348,72.41379310344827,30.17241379310345,39.6551724137931,62.06896551724138,73.27586206896552,18.26086956521739,41.73913043478261,28.448275862068964,41.73913043478261,32.758620689655174,46.08695652173913,73.04347826086956,34.48275862068966,30.17241379310345,78.26086956521739,34.48275862068966,31.03448275862069,46.55172413793103,72.41379310344827,44.34782608695652,70.6896551724138,40.869565217391305,72.41379310344827,72.17391304347827,28.448275862068964,28.448275862068964,69.82758620689656,31.896551724137932,35.3448275862069,40.0,71.55172413793103,31.896551724137932,34.48275862068966,41.73913043478261,30.17241379310345,25.217391304347824,60.3448275862069,76.72413793103448,30.434782608695652,74.13793103448276],[33.62068965517241,53.44827586206897,20.869565217391305,73.27586206896552,33.62068965517241,72.41379310344827,23.275862068965516,35.3448275862069,13.793103448275861,65.21739130434783,72.41379310344827,31.304347826086957,30.17241379310345,32.758620689655174,29.565217391304348,67.24137931034483,32.758620689655174,31.03448275862069,31.03448275862069,74.13793103448276,39.6551724137931,36.206896551724135,25.862068965517242,32.17391304347826,26.08695652173913,34.48275862068966,57.758620689655174,54.310344827586206,74.13793103448276,29.310344827586206,23.275862068965516,68.10344827586206,33.62068965517241,30.17241379310345,68.96551724137932,68.96551724137932,31.304347826086957,45.689655172413794,73.27586206896552,70.6896551724138,29.310344827586206,15.517241379310345,33.62068965517241,71.55172413793103,65.51724137931035,33.62068965517241,73.27586206896552,28.695652173913043,80.17241379310344,74.13793103448276,31.304347826086957,63.793103448275865,43.10344827586207,38.793103448275865,71.55172413793103,78.26086956521739,30.434782608695652,22.608695652173914,10.344827586206897,66.37931034482759,78.44827586206897,100.0,34.48275862068966,13.043478260869565,31.896551724137932,35.3448275862069,30.434782608695652,20.869565217391305,25.217391304347824,30.434782608695652,31.03448275862069,33.04347826086956,29.310344827586206,35.3448275862069,30.17241379310345,72.41379310344827,33.04347826086956,68.96551724137932,74.13793103448276,28.448275862068964,37.06896551724138,64.65517241379311,74.13793103448276,16.52173913043478,42.241379310344826,30.434782608695652,37.93103448275862,31.896551724137932,44.34782608695652,68.96551724137932,31.896551724137932,32.758620689655174,69.56521739130434,33.04347826086956,29.310344827586206,43.96551724137931,72.41379310344827,41.37931034482759,67.24137931034483,38.26086956521739,72.41379310344827,68.96551724137932,28.695652173913043,31.304347826086957,64.65517241379311,33.04347826086956,35.3448275862069,36.206896551724135,73.27586206896552,30.17241379310345,32.17391304347826,37.93103448275862,30.434782608695652,23.47826086956522,54.310344827586206,74.13793103448276,30.17241379310345,68.10344827586206],[40.36697247706422,34.82142857142857,23.423423423423422,31.304347826086957,43.11926605504587,31.304347826086957,40.36697247706422,41.28440366972477,20.18348623853211,33.333333333333336,30.434782608695652,29.357798165137616,39.44954128440367,30.275229357798164,34.21052631578947,31.896551724137932,46.788990825688074,39.44954128440367,28.82882882882883,30.434782608695652,34.234234234234236,27.027027027027028,40.36697247706422,52.293577981651374,24.324324324324323,25.225225225225227,24.137931034482758,34.78260869565217,29.310344827586206,26.126126126126128,36.69724770642202,32.45614035087719,43.11926605504587,30.63063063063063,34.48275862068966,31.896551724137932,51.37614678899082,35.13513513513514,28.448275862068964,31.896551724137932,46.788990825688074,12.612612612612613,42.20183486238532,32.758620689655174,32.17391304347826,42.20183486238532,31.03448275862069,35.77981651376147,33.04347826086956,30.434782608695652,29.72972972972973,34.234234234234236,33.333333333333336,29.72972972972973,32.758620689655174,32.758620689655174,55.96330275229358,30.63063063063063,15.596330275229358,32.758620689655174,32.758620689655174,34.48275862068966,100.0,18.34862385321101,44.95412844036697,41.28440366972477,25.68807339449541,21.62162162162162,24.324324324324323,36.93693693693694,41.28440366972477,43.11926605504587,27.027027027027028,32.432432432432435,44.03669724770642,32.758620689655174,44.14414414414414,32.758620689655174,30.434782608695652,44.03669724770642,35.39823008849557,28.82882882882883,29.310344827586206,3.5398230088495577,33.333333333333336,28.82882882882883,28.82882882882883,35.77981651376147,16.8141592920354,32.758620689655174,43.11926605504587,14.414414414414415,30.17241379310345,44.03669724770642,28.82882882882883,35.96491228070175,30.434782608695652,37.5,31.53153153153153,16.666666666666668,31.304347826086957,34.48275862068966,38.53211009174312,50.45871559633027,29.310344827586206,33.944954128440365,41.28440366972477,31.53153153153153,28.448275862068964,38.53211009174312,41.28440366972477,30.63063063063063,50.45871559633027,25.454545454545453,34.78260869565217,32.758620689655174,31.192660550458715,32.17391304347826],[17.582417582417584,12.5,11.235955056179776,13.043478260869565,18.085106382978722,12.173913043478262,21.91780821917808,17.582417582417584,26.0,17.02127659574468,12.173913043478262,17.391304347826086,17.346938775510203,18.085106382978722,39.285714285714285,14.655172413793103,18.27956989247312,14.705882352941176,12.149532710280374,12.173913043478262,11.711711711711711,11.764705882352942,15.217391304347826,18.556701030927837,11.538461538461538,19.23076923076923,10.526315789473685,12.173913043478262,12.931034482758621,15.789473684210526,14.583333333333334,14.285714285714286,18.47826086956522,12.037037037037036,15.517241379310345,12.931034482758621,17.821782178217823,15.315315315315315,12.931034482758621,13.793103448275861,18.94736842105263,23.076923076923077,18.681318681318682,12.931034482758621,13.157894736842104,18.681318681318682,13.793103448275861,41.666666666666664,14.782608695652174,13.043478260869565,14.736842105263158,16.49484536082474,15.596330275229358,17.391304347826086,12.931034482758621,13.91304347826087,17.894736842105264,9.67741935483871,32.0,13.793103448275861,12.931034482758621,13.043478260869565,18.34862385321101,100.0,16.161616161616163,17.582417582417584,7.070707070707071,13.75,6.542056074766355,39.44954128440367,11.0,18.556701030927837,11.11111111111111,15.625,18.47826086956522,13.793103448275861,12.871287128712872,13.793103448275861,13.043478260869565,18.681318681318682,13.274336283185841,15.625,12.931034482758621,0.0,11.428571428571429,27.358490566037737,12.5,15.384615384615385,0.0,14.655172413793103,16.831683168316832,26.923076923076923,13.91304347826087,18.47826086956522,11.578947368421053,12.280701754385966,11.304347826086957,15.178571428571429,15.533980582524272,0.0,12.173913043478262,15.517241379310345,16.842105263157894,18.367346938775512,12.068965517241379,25.0,17.391304347826086,12.5,12.931034482758621,18.88888888888889,16.304347826086957,14.0,16.129032258064516,12.631578947368421,12.173913043478262,12.931034482758621,17.142857142857142,13.91304347826087],[57.57575757575758,36.607142857142854,25.742574257425744,29.565217391304348,57.57575757575758,28.695652173913043,44.44444444444444,55.55555555555556,19.19191919191919,38.613861386138616,28.695652173913043,31.31313131313131,51.515151515151516,35.35353535353536,27.43362831858407,31.896551724137932,74.74747474747475,43.13725490196079,33.64485981308411,28.695652173913043,31.53153153153153,38.23529411764706,48.484848484848484,51.515151515151516,34.285714285714285,28.712871287128714,23.275862068965516,35.65217391304348,26.724137931034484,33.663366336633665,41.41414141414141,31.57894736842105,56.56565656565657,33.333333333333336,34.48275862068966,30.17241379310345,48.03921568627451,36.03603603603604,25.862068965517242,31.896551724137932,56.56565656565657,13.861386138613861,55.55555555555556,31.03448275862069,33.333333333333336,55.55555555555556,32.758620689655174,29.357798165137616,33.91304347826087,27.82608695652174,32.67326732673267,35.64356435643565,36.69724770642202,37.62376237623762,31.03448275862069,33.62068965517241,52.525252525252526,32.67326732673267,16.161616161616163,34.48275862068966,31.896551724137932,31.896551724137932,44.95412844036697,16.161616161616163,100.0,55.55555555555556,31.0,31.683168316831683,25.925925925925927,29.09090909090909,43.0,59.5959595959596,29.62962962962963,39.603960396039604,55.55555555555556,31.03448275862069,42.15686274509804,30.17241379310345,27.82608695652174,54.54545454545455,35.39823008849557,32.67326732673267,28.448275862068964,2.6548672566371683,32.38095238095238,30.8411214953271,38.46153846153846,40.38461538461539,17.699115044247787,35.3448275862069,50.495049504950494,12.871287128712872,28.448275862068964,59.5959595959596,40.59405940594059,34.21052631578947,28.695652173913043,36.607142857142854,35.922330097087375,20.17543859649123,28.695652173913043,34.48275862068966,49.494949494949495,50.505050505050505,29.310344827586206,34.65346534653465,55.55555555555556,40.38461538461539,25.862068965517242,44.44444444444444,56.56565656565657,39.603960396039604,47.474747474747474,36.0,35.65217391304348,32.758620689655174,37.142857142857146,33.04347826086956],[95.6043956043956,37.5,24.731182795698924,33.04347826086956,85.1063829787234,33.04347826086956,54.94505494505494,100.0,23.076923076923077,44.21052631578947,32.17391304347826,36.55913978494624,50.0,37.234042553191486,27.43362831858407,32.758620689655174,61.29032258064516,41.1764705882353,29.906542056074766,32.17391304347826,41.44144144144144,38.23529411764706,50.0,47.95918367346939,36.19047619047619,35.483870967741936,26.724137931034484,36.52173913043478,31.03448275862069,35.78947368421053,42.708333333333336,34.21052631578947,88.04347826086956,30.555555555555557,34.48275862068966,34.48275862068966,43.13725490196079,36.93693693693694,30.17241379310345,35.3448275862069,63.1578947368421,17.204301075268816,93.4065934065934,34.48275862068966,35.96491228070175,93.4065934065934,32.758620689655174,28.440366972477065,36.52173913043478,33.04347826086956,35.416666666666664,42.2680412371134,39.44954128440367,47.31182795698925,34.48275862068966,36.206896551724135,50.0,30.851063829787233,19.78021978021978,33.62068965517241,35.3448275862069,35.3448275862069,41.28440366972477,17.582417582417584,55.55555555555556,100.0,33.0,29.032258064516128,24.074074074074073,28.181818181818183,48.0,58.16326530612245,29.62962962962963,43.75,61.95652173913044,34.48275862068966,35.294117647058826,32.758620689655174,33.04347826086956,61.53846153846154,36.283185840707965,38.541666666666664,31.896551724137932,2.6548672566371683,42.857142857142854,29.906542056074766,37.5,46.15384615384615,19.469026548672566,33.62068965517241,57.42574257425743,16.129032258064516,33.62068965517241,84.94623655913979,42.10526315789474,36.8421052631579,32.17391304347826,41.07142857142857,37.86407766990291,19.29824561403509,33.04347826086956,34.48275862068966,57.291666666666664,47.474747474747474,30.17241379310345,34.65346534653465,98.91304347826087,37.5,30.17241379310345,47.252747252747255,83.87096774193549,42.0,45.744680851063826,37.5,36.52173913043478,33.62068965517241,38.095238095238095,36.52173913043478],[33.0,32.142857142857146,23.404255319148938,33.91304347826087,33.0,33.91304347826087,20.0,33.0,8.0,36.0,33.91304347826087,27.835051546391753,27.0,30.0,20.535714285714285,26.956521739130434,32.0,33.333333333333336,23.300970873786408,33.04347826086956,49.074074074074076,35.64356435643565,21.0,27.551020408163264,23.711340206185568,31.372549019607842,25.217391304347824,33.04347826086956,31.03448275862069,28.431372549019606,25.0,31.57894736842105,35.0,23.076923076923077,31.304347826086957,29.310344827586206,23.0,36.36363636363637,30.17241379310345,30.17241379310345,31.0,5.1020408163265305,32.0,29.310344827586206,30.97345132743363,32.0,30.17241379310345,22.22222222222222,31.304347826086957,33.91304347826087,29.702970297029704,33.663366336633665,35.18518518518518,37.62376237623762,29.310344827586206,31.57894736842105,28.8659793814433,24.0,9.090909090909092,31.304347826086957,30.434782608695652,30.434782608695652,25.68807339449541,7.070707070707071,31.0,33.0,100.0,20.2020202020202,28.048780487804876,21.10091743119266,29.0,34.343434343434346,21.153846153846153,67.67676767676768,32.0,31.03448275862069,27.659574468085108,30.434782608695652,33.91304347826087,33.0,35.39823008849557,35.294117647058826,31.896551724137932,8.13953488372093,52.94117647058823,24.271844660194176,33.980582524271846,29.807692307692307,32.55813953488372,31.304347826086957,34.65346534653465,10.784313725490197,31.57894736842105,36.36363636363637,31.372549019607842,36.8421052631579,33.91304347826087,32.432432432432435,33.00970873786408,32.18390804597701,33.91304347826087,31.304347826086957,28.282828282828284,26.53061224489796,29.310344827586206,26.0,33.0,35.922330097087375,30.17241379310345,33.0,33.333333333333336,33.663366336633665,24.489795918367346,27.36842105263158,33.04347826086956,31.03448275862069,27.884615384615383,31.304347826086957],[30.107526881720432,19.642857142857142,22.988505747126435,20.0,28.125,20.0,33.333333333333336,29.032258064516128,17.28395061728395,28.72340425531915,20.0,20.652173913043477,34.0,19.791666666666668,15.789473684210526,20.689655172413794,28.42105263157895,23.076923076923077,17.757009345794394,20.0,24.324324324324323,23.529411764705884,28.72340425531915,25.510204081632654,20.58823529411765,27.160493827160494,21.551724137931036,20.0,19.82758620689655,22.105263157894736,27.551020408163264,23.68421052631579,29.78723404255319,18.51851851851852,25.0,21.551724137931036,23.529411764705884,21.62162162162162,19.82758620689655,23.275862068965516,27.835051546391753,11.11111111111111,26.881720430107528,22.413793103448278,23.68421052631579,26.881720430107528,24.137931034482758,16.363636363636363,23.47826086956522,19.130434782608695,24.210526315789473,26.804123711340207,20.18348623853211,29.347826086956523,22.413793103448278,23.47826086956522,27.36842105263158,20.43010752688172,19.753086419753085,25.862068965517242,22.413793103448278,20.869565217391305,21.62162162162162,13.75,31.683168316831683,29.032258064516128,20.2020202020202,100.0,15.238095238095237,17.117117117117118,22.54901960784314,31.31313131313131,17.59259259259259,29.166666666666668,29.78723404255319,22.413793103448278,25.252525252525253,22.413793103448278,19.130434782608695,30.107526881720432,23.68421052631579,25.0,20.689655172413794,0.0,24.761904761904763,20.192307692307693,24.03846153846154,24.528301886792452,10.714285714285714,25.0,26.21359223300971,13.580246913580247,23.47826086956522,29.78723404255319,31.57894736842105,24.56140350877193,20.0,20.535714285714285,25.24271844660194,12.389380530973451,20.0,25.0,22.68041237113402,26.262626262626263,21.551724137931036,21.568627450980394,28.72340425531915,25.96153846153846,19.82758620689655,32.608695652173914,28.72340425531915,24.0,26.595744680851062,28.72340425531915,20.0,24.137931034482758,24.299065420560748,23.47826086956522],[22.22222222222222,25.892857142857142,18.0,25.217391304347824,19.444444444444443,25.217391304347824,13.88888888888889,24.074074074074073,7.407407407407407,25.471698113207548,25.217391304347824,24.761904761904763,17.59259259259259,23.14814814814815,20.0,25.217391304347824,23.14814814814815,19.444444444444443,61.53846153846154,25.217391304347824,21.296296296296298,28.037383177570092,16.666666666666668,21.69811320754717,29.0,17.59259259259259,19.130434782608695,26.08695652173913,25.0,25.0,19.444444444444443,24.56140350877193,22.22222222222222,61.53846153846154,26.08695652173913,23.275862068965516,20.754716981132077,26.363636363636363,25.0,25.862068965517242,22.22222222222222,22.115384615384617,22.22222222222222,23.275862068965516,23.68421052631579,22.22222222222222,24.137931034482758,22.727272727272727,25.217391304347824,24.347826086956523,22.429906542056074,25.233644859813083,25.68807339449541,26.16822429906542,23.275862068965516,24.56140350877193,21.904761904761905,23.58490566037736,4.62962962962963,24.347826086956523,25.217391304347824,25.217391304347824,24.324324324324323,6.542056074766355,25.925925925925927,24.074074074074073,28.048780487804876,15.238095238095237,100.0,21.428571428571427,27.77777777777778,19.626168224299064,70.1923076923077,22.857142857142858,18.51851851851852,25.0,25.0,25.217391304347824,24.347826086956523,17.59259259259259,25.43859649122807,25.925925925925927,25.0,3.3707865168539324,22.857142857142858,25.96153846153846,28.037383177570092,21.296296296296298,20.224719101123597,24.347826086956523,21.296296296296298,10.185185185185185,25.43859649122807,21.49532710280374,19.444444444444443,25.43859649122807,25.217391304347824,27.92792792792793,25.0,20.0,25.217391304347824,26.08695652173913,15.88785046728972,20.754716981132077,24.137931034482758,28.037383177570092,24.074074074074073,25.233644859813083,25.0,20.37037037037037,22.429906542056074,27.102803738317757,21.69811320754717,24.50980392156863,26.08695652173913,25.0,20.560747663551403,25.217391304347824],[28.181818181818183,30.088495575221238,20.72072072072072,31.304347826086957,30.0,30.434782608695652,24.545454545454547,28.181818181818183,12.727272727272727,27.92792792792793,30.434782608695652,33.027522935779814,31.818181818181817,33.63636363636363,83.1858407079646,29.310344827586206,30.90909090909091,29.72972972972973,28.31858407079646,30.434782608695652,27.43362831858407,26.785714285714285,28.181818181818183,31.192660550458715,27.678571428571427,26.785714285714285,25.0,32.17391304347826,30.17241379310345,26.785714285714285,26.363636363636363,31.57894736842105,30.0,29.20353982300885,32.758620689655174,31.896551724137932,30.90909090909091,36.283185840707965,30.17241379310345,31.03448275862069,32.72727272727273,11.607142857142858,29.09090909090909,31.03448275862069,30.70175438596491,29.09090909090909,31.03448275862069,83.63636363636364,30.434782608695652,29.565217391304348,26.126126126126128,31.25,33.6283185840708,31.25,31.03448275862069,29.565217391304348,30.275229357798164,23.423423423423422,13.636363636363637,31.896551724137932,27.586206896551722,30.434782608695652,36.93693693693694,39.44954128440367,29.09090909090909,28.181818181818183,21.10091743119266,17.117117117117118,21.428571428571427,100.0,31.818181818181817,33.944954128440365,24.778761061946902,30.357142857142858,30.0,32.758620689655174,29.72972972972973,32.758620689655174,29.565217391304348,30.0,33.6283185840708,29.464285714285715,30.17241379310345,7.142857142857143,26.548672566371682,50.0,28.571428571428573,28.82882882882883,17.857142857142858,31.896551724137932,31.53153153153153,13.392857142857142,28.695652173913043,30.275229357798164,23.214285714285715,30.70175438596491,31.304347826086957,33.6283185840708,30.97345132743363,15.929203539823009,30.434782608695652,32.758620689655174,27.522935779816514,31.192660550458715,31.03448275862069,43.63636363636363,28.181818181818183,29.20353982300885,30.17241379310345,28.181818181818183,28.440366972477065,27.678571428571427,31.192660550458715,26.363636363636363,32.17391304347826,31.896551724137932,39.63963963963964,31.304347826086957],[47.0,36.607142857142854,21.568627450980394,31.304347826086957,48.0,30.434782608695652,38.0,48.0,21.0,34.31372549019608,29.565217391304348,40.0,43.0,39.0,31.858407079646017,31.03448275862069,46.0,35.294117647058826,32.71028037383178,30.434782608695652,34.234234234234236,31.372549019607842,37.0,47.0,35.23809523809524,26.470588235294116,25.862068965517242,35.65217391304348,31.03448275862069,32.35294117647059,48.0,33.333333333333336,47.0,35.18518518518518,34.48275862068966,33.62068965517241,49.01960784313726,34.234234234234236,31.03448275862069,31.03448275862069,46.0,10.784313725490197,46.0,33.62068965517241,31.57894736842105,46.0,31.896551724137932,33.027522935779814,31.304347826086957,33.04347826086956,30.392156862745097,35.294117647058826,34.862385321100916,36.27450980392157,33.62068965517241,30.17241379310345,45.0,37.254901960784316,13.0,34.48275862068966,31.03448275862069,31.03448275862069,41.28440366972477,11.0,43.0,48.0,29.0,22.54901960784314,27.77777777777778,31.818181818181817,100.0,42.0,29.62962962962963,37.254901960784316,42.0,31.896551724137932,34.31372549019608,35.3448275862069,33.04347826086956,44.0,36.283185840707965,34.31372549019608,31.03448275862069,5.3097345132743365,36.19047619047619,31.77570093457944,31.73076923076923,40.38461538461539,21.238938053097346,35.3448275862069,47.524752475247524,10.784313725490197,34.48275862068966,45.0,34.31372549019608,36.8421052631579,30.434782608695652,36.607142857142854,35.922330097087375,21.92982456140351,30.434782608695652,34.48275862068966,41.0,47.0,31.896551724137932,36.633663366336634,48.0,37.5,31.03448275862069,39.0,44.0,38.23529411764706,44.0,38.613861386138616,35.65217391304348,32.758620689655174,33.333333333333336,32.17391304347826],[59.183673469387756,37.5,24.242424242424242,34.78260869565217,59.183673469387756,33.91304347826087,47.95918367346939,58.16326530612245,19.387755102040817,39.39393939393939,33.91304347826087,43.29896907216495,55.10204081632653,41.83673469387755,31.25,33.62068965517241,59.183673469387756,49.01960784313726,26.16822429906542,33.91304347826087,36.93693693693694,39.21568627450981,46.93877551020408,52.577319587628864,37.5,33.0,26.724137931034484,40.0,31.896551724137932,37.0,42.857142857142854,33.333333333333336,59.183673469387756,27.77777777777778,35.3448275862069,33.62068965517241,46.53465346534654,38.73873873873874,31.03448275862069,36.206896551724135,62.244897959183675,12.0,55.10204081632653,33.62068965517241,37.719298245614034,55.10204081632653,31.896551724137932,32.407407407407405,34.78260869565217,34.78260869565217,37.37373737373738,40.0,38.53211009174312,43.0,33.62068965517241,34.78260869565217,53.608247422680414,34.343434343434346,18.367346938775512,37.06896551724138,33.62068965517241,33.04347826086956,43.11926605504587,18.556701030927837,59.5959595959596,58.16326530612245,34.343434343434346,31.31313131313131,19.626168224299064,33.944954128440365,42.0,100.0,22.22222222222222,42.0,59.183673469387756,36.206896551724135,45.54455445544554,32.758620689655174,34.78260869565217,58.16326530612245,34.51327433628319,38.0,33.62068965517241,5.357142857142857,39.04761904761905,33.0188679245283,40.38461538461539,46.15384615384615,20.535714285714285,37.06896551724138,59.40594059405941,16.0,33.04347826086956,62.88659793814433,41.0,34.21052631578947,33.91304347826087,38.392857142857146,39.80582524271845,20.353982300884955,33.91304347826087,35.3448275862069,54.63917525773196,52.04081632653061,34.48275862068966,39.0,59.183673469387756,44.23076923076923,31.03448275862069,46.93877551020408,59.79381443298969,40.0,51.54639175257732,36.734693877551024,40.0,31.896551724137932,44.76190476190476,39.130434782608695],[27.77777777777778,31.25,17.59259259259259,27.82608695652174,25.0,26.956521739130434,18.51851851851852,29.62962962962963,10.185185185185185,29.62962962962963,26.956521739130434,25.925925925925927,22.22222222222222,26.85185185185185,25.0,28.448275862068964,27.77777777777778,25.0,82.6923076923077,26.956521739130434,24.324324324324323,34.25925925925926,22.22222222222222,22.22222222222222,27.77777777777778,23.14814814814815,22.413793103448278,28.695652173913043,27.586206896551722,29.62962962962963,20.37037037037037,30.70175438596491,27.77777777777778,75.47169811320755,29.310344827586206,26.724137931034484,21.296296296296298,31.53153153153153,27.586206896551722,30.17241379310345,26.85185185185185,41.34615384615385,28.703703703703702,27.586206896551722,28.695652173913043,28.703703703703702,29.310344827586206,26.126126126126128,28.695652173913043,27.82608695652174,28.703703703703702,30.555555555555557,31.192660550458715,31.48148148148148,27.586206896551722,27.586206896551722,24.074074074074073,23.14814814814815,12.962962962962964,28.448275862068964,29.310344827586206,29.310344827586206,27.027027027027028,11.11111111111111,29.62962962962963,29.62962962962963,21.153846153846153,17.59259259259259,70.1923076923077,24.778761061946902,29.62962962962963,22.22222222222222,100.0,25.0,24.074074074074073,27.586206896551722,25.0,28.448275862068964,27.82608695652174,23.14814814814815,32.45614035087719,28.703703703703702,27.586206896551722,2.7027027027027026,24.074074074074073,27.77777777777778,34.25925925925926,25.925925925925927,16.216216216216218,28.448275862068964,25.925925925925927,12.037037037037036,28.448275862068964,25.925925925925927,25.0,30.70175438596491,26.956521739130434,34.82142857142857,31.48148148148148,15.178571428571429,26.956521739130434,29.310344827586206,21.296296296296298,21.296296296296298,26.724137931034484,35.18518518518518,29.62962962962963,31.48148148148148,27.586206896551722,23.14814814814815,26.85185185185185,33.333333333333336,22.22222222222222,26.85185185185185,28.695652173913043,30.17241379310345,25.925925925925927,30.434782608695652],[43.75,39.285714285714285,26.041666666666668,35.65217391304348,44.791666666666664,35.65217391304348,29.166666666666668,43.75,16.666666666666668,44.21052631578947,35.65217391304348,34.375,36.0,38.541666666666664,29.565217391304348,33.91304347826087,42.708333333333336,40.38461538461539,28.037383177570092,35.65217391304348,62.96296296296296,41.584158415841586,32.291666666666664,36.0,25.24271844660194,41.666666666666664,27.82608695652174,40.869565217391305,33.62068965517241,35.416666666666664,35.714285714285715,38.59649122807018,45.833333333333336,29.245283018867923,39.130434782608695,36.206896551724135,30.76923076923077,47.27272727272727,32.758620689655174,37.93103448275862,41.23711340206186,11.458333333333334,42.708333333333336,36.206896551724135,38.93805309734513,42.708333333333336,37.06896551724138,31.53153153153153,36.52173913043478,39.130434782608695,34.375,43.75,44.03669724770642,50.526315789473685,36.206896551724135,36.52173913043478,37.755102040816325,31.57894736842105,15.625,38.26086956521739,36.52173913043478,35.3448275862069,32.432432432432435,15.625,39.603960396039604,43.75,67.67676767676768,29.166666666666668,22.857142857142858,30.357142857142858,37.254901960784316,42.0,25.0,100.0,40.625,37.06896551724138,31.0,36.52173913043478,39.130434782608695,42.708333333333336,43.85964912280702,41.666666666666664,34.48275862068966,5.357142857142857,66.66666666666667,30.8411214953271,39.80582524271845,40.56603773584906,24.107142857142858,38.26086956521739,40.77669902912621,15.625,35.65217391304348,44.791666666666664,39.583333333333336,45.6140350877193,35.65217391304348,41.44144144144144,40.77669902912621,23.893805309734514,35.65217391304348,39.130434782608695,36.734693877551024,34.65346534653465,34.48275862068966,32.03883495145631,43.75,41.74757281553398,32.758620689655174,43.75,41.666666666666664,43.43434343434343,34.375,32.291666666666664,40.869565217391305,37.06896551724138,32.075471698113205,38.26086956521739],[61.95652173913044,35.714285714285715,26.595744680851062,32.17391304347826,57.4468085106383,31.304347826086957,55.43478260869565,61.95652173913044,20.652173913043477,38.94736842105263,31.304347826086957,35.483870967741936,47.95918367346939,35.1063829787234,29.20353982300885,31.896551724137932,61.29032258064516,41.1764705882353,26.16822429906542,31.304347826086957,32.432432432432435,34.31372549019608,50.0,48.97959183673469,32.38095238095238,29.78723404255319,23.275862068965516,35.65217391304348,30.17241379310345,37.89473684210526,48.958333333333336,31.57894736842105,61.95652173913044,25.0,33.62068965517241,31.03448275862069,44.11764705882353,36.93693693693694,29.310344827586206,31.896551724137932,62.10526315789474,13.829787234042554,61.95652173913044,31.03448275862069,34.21052631578947,61.95652173913044,31.03448275862069,30.275229357798164,32.17391304347826,27.82608695652174,35.416666666666664,38.144329896907216,35.77981651376147,42.5531914893617,31.03448275862069,31.896551724137932,50.0,34.04255319148936,23.91304347826087,34.48275862068966,31.03448275862069,30.17241379310345,44.03669724770642,18.47826086956522,55.55555555555556,61.95652173913044,32.0,29.78723404255319,18.51851851851852,30.0,42.0,59.183673469387756,24.074074074074073,40.625,100.0,31.03448275862069,38.23529411764706,30.17241379310345,27.82608695652174,91.30434782608695,36.283185840707965,38.541666666666664,31.896551724137932,2.6548672566371683,34.285714285714285,28.037383177570092,35.57692307692308,40.38461538461539,18.58407079646018,35.3448275862069,67.32673267326733,15.957446808510639,29.310344827586206,63.44086021505376,33.68421052631579,35.96491228070175,31.304347826086957,37.5,35.922330097087375,19.29824561403509,31.304347826086957,33.62068965517241,73.95833333333333,48.484848484848484,30.17241379310345,35.64356435643565,63.04347826086956,40.38461538461539,29.310344827586206,44.56521739130435,62.365591397849464,41.0,48.93617021276596,41.666666666666664,35.65217391304348,31.896551724137932,40.0,33.04347826086956],[34.48275862068966,61.206896551724135,23.275862068965516,84.48275862068965,35.3448275862069,83.62068965517241,23.275862068965516,34.48275862068966,13.793103448275861,61.206896551724135,83.62068965517241,32.758620689655174,31.896551724137932,31.896551724137932,31.896551724137932,73.27586206896552,32.758620689655174,30.17241379310345,28.448275862068964,85.34482758620689,45.689655172413794,41.37931034482759,24.137931034482758,29.310344827586206,25.862068965517242,35.3448275862069,56.89655172413793,61.206896551724135,82.75862068965517,32.758620689655174,25.862068965517242,75.0,35.3448275862069,29.310344827586206,68.96551724137932,71.55172413793103,26.724137931034484,53.44827586206897,82.75862068965517,72.41379310344827,30.17241379310345,12.931034482758621,33.62068965517241,73.27586206896552,72.41379310344827,33.62068965517241,76.72413793103448,31.896551724137932,73.27586206896552,81.03448275862068,31.896551724137932,64.65517241379311,50.86206896551724,45.689655172413794,73.27586206896552,73.27586206896552,28.448275862068964,22.413793103448278,12.068965517241379,68.10344827586206,75.0,72.41379310344827,32.758620689655174,13.793103448275861,31.03448275862069,34.48275862068966,31.03448275862069,22.413793103448278,25.0,32.758620689655174,31.896551724137932,36.206896551724135,27.586206896551722,37.06896551724138,31.03448275862069,100.0,31.03448275862069,75.86206896551724,81.03448275862068,30.17241379310345,42.241379310344826,69.82758620689656,83.62068965517241,23.275862068965516,48.275862068965516,31.03448275862069,44.827586206896555,35.3448275862069,49.13793103448276,68.10344827586206,37.06896551724138,37.93103448275862,72.41379310344827,32.758620689655174,31.896551724137932,49.13793103448276,83.62068965517241,43.10344827586207,75.0,39.6551724137931,83.62068965517241,68.96551724137932,31.03448275862069,28.448275862068964,73.27586206896552,32.758620689655174,34.48275862068966,42.241379310344826,82.75862068965517,32.758620689655174,31.896551724137932,45.689655172413794,30.17241379310345,24.137931034482758,61.206896551724135,77.58620689655173,33.62068965517241,69.82758620689656],[37.254901960784316,30.357142857142858,26.041666666666668,29.565217391304348,38.23529411764706,28.695652173913043,31.372549019607842,35.294117647058826,9.803921568627452,37.0,28.695652173913043,37.37373737373738,38.23529411764706,33.333333333333336,27.19298245614035,30.434782608695652,41.1764705882353,29.807692307692307,28.037383177570092,28.695652173913043,25.68807339449541,29.702970297029704,35.294117647058826,51.0,25.77319587628866,21.568627450980394,25.217391304347824,33.91304347826087,28.448275862068964,34.31372549019608,27.45098039215686,29.82456140350877,36.27450980392157,28.30188679245283,33.91304347826087,28.448275862068964,47.05882352941177,30.0,27.586206896551722,31.896551724137932,41.1764705882353,12.745098039215685,36.27450980392157,29.310344827586206,32.743362831858406,36.27450980392157,30.17241379310345,28.181818181818183,33.04347826086956,26.956521739130434,34.65346534653465,35.64356435643565,30.275229357798164,34.65346534653465,29.310344827586206,32.45614035087719,52.525252525252526,25.0,11.764705882352942,33.91304347826087,32.17391304347826,33.04347826086956,44.14414414414414,12.871287128712872,42.15686274509804,35.294117647058826,27.659574468085108,25.252525252525253,25.0,29.72972972972973,34.31372549019608,45.54455445544554,25.0,31.0,38.23529411764706,31.03448275862069,100.0,29.565217391304348,26.956521739130434,39.21568627450981,30.70175438596491,32.35294117647059,28.448275862068964,1.8691588785046729,27.184466019417474,28.155339805825243,31.067961165048544,33.9622641509434,17.757009345794394,33.04347826086956,39.80582524271845,13.72549019607843,29.82456140350877,39.603960396039604,30.392156862745097,28.07017543859649,28.695652173913043,29.72972972972973,32.03883495145631,19.444444444444443,28.695652173913043,33.91304347826087,37.62376237623762,49.0,27.586206896551722,31.372549019607842,35.294117647058826,36.89320388349515,27.586206896551722,32.35294117647059,36.633663366336634,35.64356435643565,50.0,28.125,33.91304347826087,30.17241379310345,31.132075471698112,31.304347826086957],[32.758620689655174,59.48275862068966,20.689655172413794,73.27586206896552,33.62068965517241,73.27586206896552,22.413793103448278,32.758620689655174,13.793103448275861,63.47826086956522,72.41379310344827,33.62068965517241,28.448275862068964,33.62068965517241,31.03448275862069,71.30434782608695,31.896551724137932,32.758620689655174,29.310344827586206,74.13793103448276,46.08695652173913,40.869565217391305,24.137931034482758,28.448275862068964,26.08695652173913,35.3448275862069,59.130434782608695,59.48275862068966,72.41379310344827,31.896551724137932,26.724137931034484,75.86206896551724,34.48275862068966,30.434782608695652,81.73913043478261,81.03448275862068,25.862068965517242,48.69565217391305,72.41379310344827,82.75862068965517,29.310344827586206,12.931034482758621,31.896551724137932,81.03448275862068,76.52173913043478,31.896551724137932,79.3103448275862,29.310344827586206,67.24137931034483,71.55172413793103,31.896551724137932,68.69565217391305,48.275862068965516,44.34782608695652,81.03448275862068,71.30434782608695,26.724137931034484,22.608695652173914,12.068965517241379,80.0,75.65217391304348,68.96551724137932,32.758620689655174,13.793103448275861,30.17241379310345,32.758620689655174,30.434782608695652,22.413793103448278,25.217391304347824,32.758620689655174,35.3448275862069,32.758620689655174,28.448275862068964,36.52173913043478,30.17241379310345,75.86206896551724,29.565217391304348,100.0,71.55172413793103,30.17241379310345,40.51724137931034,62.06896551724138,72.41379310344827,20.0,45.21739130434783,28.448275862068964,44.34782608695652,35.3448275862069,46.08695652173913,79.1304347826087,35.3448275862069,30.17241379310345,76.52173913043478,31.896551724137932,31.896551724137932,45.689655172413794,75.0,42.608695652173914,70.6896551724138,45.21739130434783,73.27586206896552,81.73913043478261,28.448275862068964,27.586206896551722,80.17241379310344,31.896551724137932,32.758620689655174,41.73913043478261,72.41379310344827,30.17241379310345,31.896551724137932,43.47826086956522,29.310344827586206,26.956521739130434,59.48275862068966,80.17241379310344,33.91304347826087,76.72413793103448],[31.304347826086957,54.78260869565217,19.130434782608695,83.47826086956522,32.17391304347826,83.47826086956522,20.869565217391305,33.04347826086956,17.391304347826086,60.869565217391305,83.47826086956522,31.304347826086957,27.82608695652174,32.17391304347826,26.724137931034484,63.793103448275865,30.434782608695652,34.78260869565217,30.434782608695652,85.21739130434783,44.34782608695652,43.47826086956522,24.347826086956523,28.695652173913043,26.08695652173913,36.52173913043478,52.58620689655172,54.78260869565217,80.17241379310344,33.04347826086956,24.347826086956523,70.43478260869566,32.17391304347826,31.304347826086957,63.793103448275865,68.96551724137932,25.217391304347824,48.69565217391305,80.17241379310344,66.37931034482759,26.956521739130434,13.043478260869565,30.434782608695652,68.96551724137932,67.82608695652173,30.434782608695652,70.6896551724138,27.82608695652174,68.69565217391305,100.0,31.304347826086957,64.34782608695652,46.08695652173913,43.47826086956522,68.96551724137932,68.96551724137932,26.956521739130434,23.47826086956522,11.304347826086957,62.93103448275862,72.41379310344827,74.13793103448276,30.434782608695652,13.043478260869565,27.82608695652174,33.04347826086956,33.91304347826087,19.130434782608695,24.347826086956523,29.565217391304348,33.04347826086956,34.78260869565217,27.82608695652174,39.130434782608695,27.82608695652174,81.03448275862068,26.956521739130434,71.55172413793103,100.0,26.956521739130434,40.0,68.69565217391305,81.03448275862068,23.47826086956522,46.95652173913044,28.695652173913043,43.47826086956522,35.65217391304348,50.43478260869565,64.65517241379311,35.65217391304348,37.391304347826086,68.10344827586206,29.565217391304348,31.304347826086957,47.82608695652174,82.6086956521739,40.869565217391305,71.30434782608695,35.3448275862069,83.47826086956522,63.793103448275865,27.82608695652174,27.82608695652174,68.96551724137932,32.17391304347826,33.04347826086956,40.869565217391305,80.17241379310344,32.17391304347826,28.695652173913043,42.608695652173914,28.695652173913043,24.347826086956523,54.78260869565217,71.55172413793103,31.304347826086957,67.82608695652173],[63.73626373626374,33.92857142857143,26.881720430107528,29.565217391304348,58.51063829787234,28.695652173913043,53.84615384615385,61.53846153846154,20.87912087912088,36.8421052631579,28.695652173913043,34.40860215053763,47.95918367346939,35.1063829787234,29.20353982300885,31.03448275862069,60.215053763440864,40.19607843137255,25.233644859813083,28.695652173913043,32.432432432432435,35.294117647058826,50.0,48.97959183673469,31.428571428571427,32.25806451612903,22.413793103448278,34.78260869565217,28.448275862068964,36.8421052631579,46.875,31.57894736842105,63.04347826086956,24.074074074074073,31.896551724137932,31.03448275862069,44.11764705882353,36.93693693693694,27.586206896551722,31.896551724137932,64.21052631578948,13.978494623655914,61.53846153846154,31.03448275862069,33.333333333333336,61.53846153846154,30.17241379310345,30.275229357798164,29.565217391304348,26.956521739130434,36.458333333333336,37.11340206185567,33.944954128440365,43.01075268817204,31.03448275862069,30.17241379310345,48.958333333333336,35.1063829787234,25.274725274725274,32.758620689655174,30.17241379310345,28.448275862068964,44.03669724770642,18.681318681318682,54.54545454545455,61.53846153846154,33.0,30.107526881720432,17.59259259259259,30.0,44.0,58.16326530612245,23.14814814814815,42.708333333333336,91.30434782608695,30.17241379310345,39.21568627450981,30.17241379310345,26.956521739130434,100.0,36.283185840707965,35.416666666666664,29.310344827586206,2.6548672566371683,34.285714285714285,28.037383177570092,36.53846153846154,39.42307692307692,17.699115044247787,33.62068965517241,69.3069306930693,13.978494623655914,29.310344827586206,63.44086021505376,33.68421052631579,35.96491228070175,28.695652173913043,37.5,35.922330097087375,18.42105263157895,28.695652173913043,31.896551724137932,73.95833333333333,48.484848484848484,29.310344827586206,33.663366336633665,60.869565217391305,41.34615384615385,27.586206896551722,46.15384615384615,62.365591397849464,40.0,50.0,42.708333333333336,34.78260869565217,31.03448275862069,41.904761904761905,32.17391304347826],[38.05309734513274,46.49122807017544,25.43859649122807,40.0,37.16814159292036,39.130434782608695,30.088495575221238,36.283185840707965,15.044247787610619,37.719298245614034,39.130434782608695,28.31858407079646,30.97345132743363,29.20353982300885,33.91304347826087,39.6551724137931,37.16814159292036,34.51327433628319,32.45614035087719,39.130434782608695,48.24561403508772,51.75438596491228,25.663716814159294,30.97345132743363,27.19298245614035,33.333333333333336,28.448275862068964,46.08695652173913,39.6551724137931,31.57894736842105,32.743362831858406,39.473684210526315,38.05309734513274,33.333333333333336,40.51724137931034,39.6551724137931,30.088495575221238,55.26315789473684,39.6551724137931,43.10344827586207,37.16814159292036,15.789473684210526,35.39823008849557,43.10344827586207,43.47826086956522,35.39823008849557,38.793103448275865,33.6283185840708,38.26086956521739,40.0,30.70175438596491,38.59649122807018,55.26315789473684,56.14035087719298,43.10344827586207,37.93103448275862,30.088495575221238,24.56140350877193,15.929203539823009,42.241379310344826,39.6551724137931,37.06896551724138,35.39823008849557,13.274336283185841,35.39823008849557,36.283185840707965,35.39823008849557,23.68421052631579,25.43859649122807,33.6283185840708,36.283185840707965,34.51327433628319,32.45614035087719,43.85964912280702,36.283185840707965,42.241379310344826,30.70175438596491,40.51724137931034,40.0,36.283185840707965,100.0,39.473684210526315,39.6551724137931,5.2631578947368425,44.73684210526316,28.94736842105263,51.75438596491228,38.05309734513274,22.80701754385965,40.51724137931034,38.93805309734513,16.666666666666668,38.793103448275865,36.283185840707965,35.08771929824562,64.03508771929825,40.0,67.54385964912281,41.228070175438596,21.73913043478261,39.130434782608695,40.51724137931034,33.6283185840708,30.088495575221238,41.37931034482759,32.743362831858406,36.283185840707965,56.14035087719298,39.6551724137931,35.39823008849557,35.39823008849557,53.50877192982456,30.088495575221238,27.43362831858407,46.08695652173913,38.793103448275865,30.088495575221238,45.21739130434783],[38.541666666666664,53.57142857142857,27.083333333333332,75.65217391304348,39.583333333333336,74.78260869565217,26.041666666666668,38.541666666666664,16.666666666666668,72.91666666666667,74.78260869565217,36.458333333333336,31.0,36.458333333333336,26.956521739130434,57.758620689655174,37.5,33.65384615384615,29.906542056074766,75.65217391304348,37.83783783783784,44.11764705882353,26.041666666666668,31.0,26.666666666666668,42.708333333333336,50.0,52.17391304347826,79.3103448275862,37.5,28.571428571428573,62.280701754385966,40.625,29.62962962962963,58.62068965517241,62.06896551724138,27.884615384615383,45.945945945945944,78.44827586206897,62.93103448275862,34.02061855670103,14.583333333333334,37.5,63.793103448275865,63.1578947368421,37.5,61.206896551724135,28.82882882882883,63.47826086956522,68.69565217391305,36.458333333333336,74.22680412371135,45.87155963302752,52.083333333333336,63.793103448275865,60.3448275862069,29.591836734693878,27.083333333333332,13.541666666666666,58.62068965517241,62.06896551724138,64.65517241379311,28.82882882882883,15.625,32.67326732673267,38.541666666666664,35.294117647058826,25.0,25.925925925925927,29.464285714285715,34.31372549019608,38.0,28.703703703703702,41.666666666666664,38.541666666666664,69.82758620689656,32.35294117647059,62.06896551724138,68.69565217391305,35.416666666666664,39.473684210526315,100.0,80.17241379310344,8.695652173913043,42.857142857142854,29.906542056074766,45.19230769230769,34.905660377358494,37.391304347826086,60.3448275862069,38.83495145631068,48.958333333333336,62.93103448275862,38.541666666666664,34.375,41.228070175438596,75.65217391304348,41.964285714285715,73.7864077669903,31.03448275862069,74.78260869565217,58.62068965517241,35.714285714285715,29.702970297029704,62.06896551724138,33.980582524271846,38.541666666666664,43.26923076923077,78.44827586206897,37.5,37.5,51.0,31.25,26.804123711340207,52.17391304347826,62.06896551724138,33.64485981308411,65.21739130434783],[31.896551724137932,56.89655172413793,22.413793103448278,88.79310344827586,32.758620689655174,88.79310344827586,21.551724137931036,31.896551724137932,13.793103448275861,60.3448275862069,88.79310344827586,30.17241379310345,27.586206896551722,30.17241379310345,27.586206896551722,67.24137931034483,31.03448275862069,30.17241379310345,28.448275862068964,90.51724137931035,39.6551724137931,39.6551724137931,21.551724137931036,26.724137931034484,25.0,35.3448275862069,58.62068965517241,60.3448275862069,97.41379310344827,31.03448275862069,24.137931034482758,71.55172413793103,33.62068965517241,28.448275862068964,68.10344827586206,71.55172413793103,25.0,49.13793103448276,96.55172413793103,73.27586206896552,28.448275862068964,12.068965517241379,31.03448275862069,72.41379310344827,70.6896551724138,31.03448275862069,72.41379310344827,27.586206896551722,71.55172413793103,81.03448275862068,30.17241379310345,65.51724137931035,47.41379310344828,42.241379310344826,72.41379310344827,70.6896551724138,25.0,22.413793103448278,11.206896551724139,66.37931034482759,73.27586206896552,74.13793103448276,29.310344827586206,12.931034482758621,28.448275862068964,31.896551724137932,31.896551724137932,20.689655172413794,25.0,30.17241379310345,31.03448275862069,33.62068965517241,27.586206896551722,34.48275862068966,31.896551724137932,83.62068965517241,28.448275862068964,72.41379310344827,81.03448275862068,29.310344827586206,39.6551724137931,80.17241379310344,100.0,25.0,42.241379310344826,28.448275862068964,42.241379310344826,31.03448275862069,53.44827586206897,68.96551724137932,37.06896551724138,39.6551724137931,69.82758620689656,31.896551724137932,28.448275862068964,46.55172413793103,90.51724137931035,42.241379310344826,70.6896551724138,39.6551724137931,88.79310344827586,68.10344827586206,31.03448275862069,25.862068965517242,71.55172413793103,31.03448275862069,31.896551724137932,39.6551724137931,96.55172413793103,30.17241379310345,31.03448275862069,43.96551724137931,26.724137931034484,22.413793103448278,60.3448275862069,73.27586206896552,31.03448275862069,72.41379310344827],[2.6548672566371683,11.304347826086957,2.803738317757009,26.956521739130434,3.5398230088495577,27.82608695652174,0.0,2.6548672566371683,0.0,6.1946902654867255,27.82608695652174,3.6363636363636362,2.6548672566371683,4.424778761061947,5.3097345132743365,15.652173913043478,3.5398230088495577,4.424778761061947,4.504504504504505,28.695652173913043,7.142857142857143,5.2631578947368425,2.6548672566371683,1.8018018018018018,4.672897196261682,0.0,15.044247787610619,14.782608695652174,25.0,3.4782608695652173,2.6548672566371683,17.699115044247787,4.424778761061947,4.504504504504505,15.652173913043478,18.96551724137931,1.8018018018018018,9.649122807017545,25.0,16.379310344827587,1.7699115044247788,0.0,2.6548672566371683,17.24137931034483,18.42105263157895,2.6548672566371683,18.103448275862068,4.464285714285714,15.652173913043478,23.47826086956522,4.385964912280702,11.403508771929825,7.894736842105263,3.508771929824561,17.24137931034483,15.789473684210526,1.8181818181818181,3.5398230088495577,0.0,16.52173913043478,18.26086956521739,16.52173913043478,3.5398230088495577,0.0,2.6548672566371683,2.6548672566371683,8.13953488372093,0.0,3.3707865168539324,7.142857142857143,5.3097345132743365,5.357142857142857,2.7027027027027026,5.357142857142857,2.6548672566371683,23.275862068965516,1.8691588785046729,20.0,23.47826086956522,2.6548672566371683,5.2631578947368425,8.695652173913043,25.0,100.0,8.035714285714286,4.504504504504505,7.017543859649122,4.424778761061947,50.0,16.52173913043478,6.1946902654867255,0.0,14.912280701754385,4.464285714285714,3.4782608695652173,9.565217391304348,26.956521739130434,6.140350877192983,13.91304347826087,27.536231884057973,27.82608695652174,15.652173913043478,3.5714285714285716,1.8018018018018018,17.24137931034483,2.6785714285714284,2.6548672566371683,6.140350877192983,25.0,2.6548672566371683,4.464285714285714,5.2631578947368425,2.7027027027027026,2.7777777777777777,14.782608695652174,18.103448275862068,5.357142857142857,16.52173913043478],[42.857142857142854,46.42857142857143,20.952380952380953,42.608695652173914,41.904761904761905,45.21739130434783,25.714285714285715,42.857142857142854,14.285714285714286,42.30769230769231,44.34782608695652,32.38095238095238,30.476190476190474,29.523809523809526,25.862068965517242,39.130434782608695,36.19047619047619,36.19047619047619,24.299065420560748,45.21739130434783,87.03703703703704,42.30769230769231,26.666666666666668,31.428571428571427,29.12621359223301,39.04761904761905,34.78260869565217,44.34782608695652,41.37931034482759,32.38095238095238,33.333333333333336,42.98245614035088,41.904761904761905,26.41509433962264,42.608695652173914,43.96551724137931,28.571428571428573,53.63636363636363,41.37931034482759,43.10344827586207,36.19047619047619,8.571428571428571,41.904761904761905,43.96551724137931,43.85964912280702,41.904761904761905,43.96551724137931,27.92792792792793,44.34782608695652,46.95652173913044,30.476190476190474,42.30769230769231,49.54128440366973,44.23076923076923,43.96551724137931,43.47826086956522,32.38095238095238,26.923076923076923,14.285714285714286,43.47826086956522,41.73913043478261,42.241379310344826,33.333333333333336,11.428571428571429,32.38095238095238,42.857142857142854,52.94117647058823,24.761904761904763,22.857142857142858,26.548672566371682,36.19047619047619,39.04761904761905,24.074074074074073,66.66666666666667,34.285714285714285,48.275862068965516,27.184466019417474,45.21739130434783,46.95652173913044,34.285714285714285,44.73684210526316,42.857142857142854,42.241379310344826,8.035714285714286,100.0,28.97196261682243,41.34615384615385,37.735849056603776,28.571428571428573,42.608695652173914,39.04761904761905,20.0,41.73913043478261,40.95238095238095,35.23809523809524,52.63157894736842,44.34782608695652,42.34234234234234,48.57142857142857,28.31858407079646,45.21739130434783,42.608695652173914,33.333333333333336,30.476190476190474,42.241379310344826,30.476190476190474,42.857142857142854,45.19230769230769,41.37931034482759,37.142857142857146,38.095238095238095,43.26923076923077,28.571428571428573,28.846153846153847,44.34782608695652,45.689655172413794,31.132075471698112,44.34782608695652],[30.8411214953271,28.571428571428573,26.21359223300971,28.695652173913043,32.71028037383178,27.82608695652174,25.233644859813083,29.906542056074766,13.08411214953271,29.245283018867923,27.82608695652174,31.73076923076923,33.64485981308411,31.77570093457944,47.82608695652174,29.310344827586206,30.8411214953271,30.8411214953271,30.8411214953271,28.695652173913043,28.82882882882883,26.16822429906542,24.299065420560748,31.428571428571427,28.155339805825243,22.429906542056074,23.275862068965516,26.956521739130434,29.310344827586206,25.233644859813083,28.97196261682243,29.82456140350877,30.8411214953271,31.48148148148148,30.17241379310345,28.448275862068964,28.571428571428573,32.432432432432435,29.310344827586206,27.586206896551722,33.64485981308411,11.214953271028037,31.77570093457944,28.448275862068964,26.956521739130434,31.77570093457944,29.310344827586206,51.81818181818182,29.565217391304348,28.695652173913043,24.528301886792452,29.906542056074766,31.192660550458715,28.97196261682243,28.448275862068964,28.695652173913043,30.76923076923077,27.358490566037737,14.018691588785046,28.448275862068964,28.448275862068964,30.434782608695652,28.82882882882883,27.358490566037737,30.8411214953271,29.906542056074766,24.271844660194176,20.192307692307693,25.96153846153846,50.0,31.77570093457944,33.0188679245283,27.77777777777778,30.8411214953271,28.037383177570092,31.03448275862069,28.155339805825243,28.448275862068964,28.695652173913043,28.037383177570092,28.94736842105263,29.906542056074766,28.448275862068964,4.504504504504505,28.97196261682243,100.0,28.037383177570092,28.037383177570092,17.117117117117118,28.448275862068964,31.77570093457944,14.018691588785046,28.695652173913043,32.075471698113205,22.429906542056074,28.94736842105263,26.956521739130434,33.035714285714285,33.64485981308411,16.071428571428573,27.82608695652174,30.17241379310345,28.30188679245283,30.476190476190474,25.0,40.56603773584906,29.906542056074766,30.8411214953271,29.310344827586206,28.037383177570092,30.18867924528302,28.97196261682243,27.61904761904762,29.12621359223301,26.956521739130434,30.17241379310345,33.64485981308411,28.695652173913043],[38.46153846153846,43.75,21.153846153846153,42.608695652173914,37.5,41.73913043478261,27.884615384615383,37.5,10.576923076923077,43.689320388349515,41.73913043478261,30.76923076923077,33.65384615384615,33.65384615384615,27.586206896551722,42.608695652173914,37.5,33.333333333333336,36.44859813084112,41.73913043478261,39.09090909090909,92.23300970873787,25.0,27.884615384615383,25.96153846153846,39.42307692307692,30.434782608695652,45.21739130434783,43.10344827586207,41.34615384615385,32.69230769230769,40.35087719298246,39.42307692307692,36.44859813084112,42.608695652173914,39.6551724137931,24.761904761904763,50.0,43.10344827586207,44.827586206896555,32.69230769230769,17.307692307692307,36.53846153846154,40.51724137931034,46.017699115044245,36.53846153846154,39.6551724137931,27.92792792792793,40.0,43.47826086956522,36.53846153846154,43.689320388349515,45.87155963302752,68.93203883495146,40.51724137931034,40.869565217391305,27.884615384615383,29.12621359223301,18.26923076923077,41.73913043478261,41.73913043478261,37.93103448275862,28.82882882882883,12.5,38.46153846153846,37.5,33.980582524271846,24.03846153846154,28.037383177570092,28.571428571428573,31.73076923076923,40.38461538461539,34.25925925925926,39.80582524271845,35.57692307692308,44.827586206896555,31.067961165048544,44.34782608695652,43.47826086956522,36.53846153846154,51.75438596491228,45.19230769230769,42.241379310344826,7.017543859649122,41.34615384615385,28.037383177570092,100.0,39.62264150943396,26.31578947368421,40.869565217391305,38.095238095238095,18.26923076923077,41.73913043478261,40.38461538461539,38.46153846153846,53.50877192982456,42.608695652173914,55.85585585585586,44.76190476190476,24.347826086956523,41.73913043478261,42.608695652173914,32.69230769230769,26.923076923076923,43.96551724137931,36.19047619047619,37.5,68.26923076923077,43.10344827586207,38.46153846153846,39.42307692307692,63.10679611650485,26.923076923076923,31.067961165048544,45.21739130434783,40.51724137931034,37.735849056603776,45.21739130434783],[45.19230769230769,36.607142857142854,15.09433962264151,33.04347826086956,42.30769230769231,32.17391304347826,39.42307692307692,46.15384615384615,18.26923076923077,34.905660377358494,32.17391304347826,35.57692307692308,35.57692307692308,36.53846153846154,27.19298245614035,35.3448275862069,41.34615384615385,44.23076923076923,29.906542056074766,32.17391304347826,36.03603603603604,40.56603773584906,30.76923076923077,36.53846153846154,33.0188679245283,25.471698113207548,23.275862068965516,38.26086956521739,30.17241379310345,37.735849056603776,44.23076923076923,35.08771929824562,46.15384615384615,28.703703703703702,38.793103448275865,32.758620689655174,37.5,38.73873873873874,31.03448275862069,35.3448275862069,38.46153846153846,14.150943396226415,43.26923076923077,32.758620689655174,38.26086956521739,43.26923076923077,35.3448275862069,28.440366972477065,32.17391304347826,35.65217391304348,34.905660377358494,37.735849056603776,38.53211009174312,42.45283018867924,32.758620689655174,32.758620689655174,37.5,30.18867924528302,14.423076923076923,37.93103448275862,32.758620689655174,31.896551724137932,35.77981651376147,15.384615384615385,40.38461538461539,46.15384615384615,29.807692307692307,24.528301886792452,21.296296296296298,28.82882882882883,40.38461538461539,46.15384615384615,25.925925925925927,40.56603773584906,40.38461538461539,35.3448275862069,33.9622641509434,35.3448275862069,35.65217391304348,39.42307692307692,38.05309734513274,34.905660377358494,31.03448275862069,4.424778761061947,37.735849056603776,28.037383177570092,39.62264150943396,100.0,18.58407079646018,37.06896551724138,41.34615384615385,15.09433962264151,32.758620689655174,43.26923076923077,33.0188679245283,44.73684210526316,33.04347826086956,39.285714285714285,37.735849056603776,18.42105263157895,32.17391304347826,38.793103448275865,44.23076923076923,35.57692307692308,34.48275862068966,36.53846153846154,46.15384615384615,41.509433962264154,31.03448275862069,42.30769230769231,43.26923076923077,42.45283018867924,37.5,30.476190476190474,38.26086956521739,34.48275862068966,33.333333333333336,37.391304347826086],[19.469026548672566,33.91304347826087,14.018691588785046,54.78260869565217,20.353982300884955,55.65217391304348,9.734513274336283,19.469026548672566,0.8849557522123894,34.51327433628319,56.52173913043478,18.181818181818183,15.929203539823009,18.58407079646018,15.929203539823009,41.73913043478261,19.469026548672566,19.469026548672566,17.117117117117118,57.391304347826086,27.678571428571427,23.68421052631579,12.389380530973451,17.117117117117118,15.88785046728972,18.26086956521739,33.91304347826087,38.26086956521739,53.44827586206897,19.130434782608695,15.929203539823009,43.47826086956522,20.353982300884955,17.117117117117118,42.608695652173914,45.689655172413794,16.216216216216218,30.70175438596491,52.58620689655172,43.96551724137931,15.929203539823009,0.0,19.469026548672566,44.827586206896555,45.6140350877193,19.469026548672566,45.689655172413794,15.178571428571429,41.73913043478261,50.43478260869565,19.29824561403509,38.59649122807018,28.07017543859649,22.80701754385965,44.827586206896555,43.85964912280702,17.272727272727273,15.929203539823009,0.0,40.869565217391305,46.08695652173913,44.34782608695652,16.8141592920354,0.0,17.699115044247787,19.469026548672566,32.55813953488372,10.714285714285714,20.224719101123597,17.857142857142858,21.238938053097346,20.535714285714285,16.216216216216218,24.107142857142858,18.58407079646018,49.13793103448276,17.757009345794394,46.08695652173913,50.43478260869565,17.699115044247787,22.80701754385965,37.391304347826086,53.44827586206897,50.0,28.571428571428573,17.117117117117118,26.31578947368421,18.58407079646018,100.0,41.73913043478261,22.123893805309734,2.608695652173913,42.10526315789474,20.535714285714285,18.26086956521739,27.82608695652174,55.65217391304348,24.56140350877193,39.130434782608695,68.1159420289855,55.65217391304348,42.608695652173914,18.75,16.216216216216218,43.10344827586207,15.178571428571429,19.469026548672566,23.68421052631579,52.58620689655172,15.044247787610619,20.535714285714285,24.56140350877193,18.01801801801802,13.88888888888889,38.26086956521739,45.689655172413794,19.642857142857142,44.34782608695652],[33.62068965517241,56.89655172413793,21.551724137931036,68.10344827586206,34.48275862068966,68.10344827586206,25.0,33.62068965517241,15.517241379310345,60.869565217391305,67.24137931034483,32.758620689655174,33.62068965517241,33.62068965517241,31.896551724137932,71.30434782608695,37.06896551724138,33.62068965517241,29.310344827586206,68.96551724137932,43.47826086956522,38.26086956521739,25.862068965517242,31.03448275862069,27.82608695652174,33.62068965517241,53.91304347826087,58.62068965517241,68.10344827586206,31.03448275862069,30.17241379310345,68.10344827586206,35.3448275862069,28.695652173913043,85.21739130434783,73.27586206896552,29.310344827586206,46.08695652173913,67.24137931034483,77.58620689655173,34.48275862068966,13.793103448275861,32.758620689655174,73.27586206896552,73.91304347826087,32.758620689655174,73.27586206896552,31.03448275862069,66.37931034482759,64.65517241379311,31.896551724137932,66.08695652173913,46.55172413793103,42.608695652173914,73.27586206896552,67.82608695652173,29.310344827586206,24.347826086956523,12.068965517241379,92.17391304347827,73.04347826086956,68.96551724137932,32.758620689655174,14.655172413793103,35.3448275862069,33.62068965517241,31.304347826086957,25.0,24.347826086956523,31.896551724137932,35.3448275862069,37.06896551724138,28.448275862068964,38.26086956521739,35.3448275862069,68.10344827586206,33.04347826086956,79.1304347826087,64.65517241379311,33.62068965517241,40.51724137931034,60.3448275862069,68.96551724137932,16.52173913043478,42.608695652173914,28.448275862068964,40.869565217391305,37.06896551724138,41.73913043478261,100.0,39.6551724137931,29.310344827586206,68.69565217391305,32.758620689655174,28.448275862068964,45.689655172413794,68.96551724137932,42.608695652173914,66.37931034482759,53.91304347826087,68.10344827586206,85.21739130434783,31.896551724137932,30.17241379310345,74.13793103448276,32.758620689655174,33.62068965517241,39.130434782608695,67.24137931034483,31.896551724137932,32.758620689655174,40.869565217391305,31.896551724137932,27.82608695652174,58.62068965517241,75.0,33.91304347826087,75.0],[61.386138613861384,41.964285714285715,26.21359223300971,37.391304347826086,62.37623762376238,37.391304347826086,47.524752475247524,57.42574257425743,20.792079207920793,35.922330097087375,36.52173913043478,32.67326732673267,53.46534653465346,30.693069306930692,32.743362831858406,31.896551724137932,55.445544554455445,41.1764705882353,26.16822429906542,36.52173913043478,36.03603603603604,36.89320388349515,38.613861386138616,47.524752475247524,38.095238095238095,29.12621359223301,25.862068965517242,42.608695652173914,35.3448275862069,33.980582524271846,45.54455445544554,36.8421052631579,65.34653465346534,25.925925925925927,37.06896551724138,38.793103448275865,47.05882352941177,38.73873873873874,34.48275862068966,35.3448275862069,62.37623762376238,11.650485436893204,56.43564356435643,38.793103448275865,37.391304347826086,56.43564356435643,33.62068965517241,32.11009174311926,33.04347826086956,35.65217391304348,33.00970873786408,40.77669902912621,37.61467889908257,40.77669902912621,38.793103448275865,32.758620689655174,46.53465346534654,31.067961165048544,19.801980198019802,38.793103448275865,34.48275862068966,31.896551724137932,43.11926605504587,16.831683168316832,50.495049504950494,57.42574257425743,34.65346534653465,26.21359223300971,21.296296296296298,31.53153153153153,47.524752475247524,59.40594059405941,25.925925925925927,40.77669902912621,67.32673267326733,37.06896551724138,39.80582524271845,35.3448275862069,35.65217391304348,69.3069306930693,38.93805309734513,38.83495145631068,37.06896551724138,6.1946902654867255,39.04761904761905,31.77570093457944,38.095238095238095,41.34615384615385,22.123893805309734,39.6551724137931,100.0,16.50485436893204,33.62068965517241,64.35643564356435,36.89320388349515,39.473684210526315,36.52173913043478,39.285714285714285,41.74757281553398,22.80701754385965,37.391304347826086,37.06896551724138,69.3069306930693,47.524752475247524,36.206896551724135,36.633663366336634,57.42574257425743,41.34615384615385,34.48275862068966,42.57425742574257,62.37623762376238,42.71844660194175,45.54455445544554,41.1764705882353,42.608695652173914,35.3448275862069,40.0,37.391304347826086],[16.129032258064516,25.0,12.222222222222221,44.34782608695652,15.625,45.21739130434783,17.333333333333332,16.129032258064516,30.76923076923077,38.94736842105263,44.34782608695652,17.894736842105264,14.0,17.708333333333332,12.173913043478262,28.448275862068964,14.736842105263158,13.461538461538462,12.149532710280374,45.21739130434783,16.216216216216218,18.627450980392158,11.702127659574469,14.0,10.476190476190476,23.076923076923077,24.56140350877193,22.608695652173914,38.793103448275865,14.736842105263158,11.224489795918368,32.142857142857146,17.02127659574468,12.037037037037036,28.448275862068964,30.17241379310345,10.576923076923077,19.81981981981982,38.793103448275865,29.310344827586206,15.463917525773196,25.0,15.053763440860216,31.03448275862069,29.82456140350877,15.053763440860216,30.17241379310345,13.513513513513514,34.78260869565217,37.391304347826086,14.583333333333334,35.05154639175258,20.18348623853211,26.08695652173913,31.03448275862069,31.896551724137932,11.224489795918368,7.446808510638298,23.076923076923077,28.448275862068964,30.17241379310345,32.758620689655174,14.414414414414415,26.923076923076923,12.871287128712872,16.129032258064516,10.784313725490197,13.580246913580247,10.185185185185185,13.392857142857142,10.784313725490197,16.0,12.037037037037036,15.625,15.957446808510639,37.93103448275862,13.72549019607843,30.17241379310345,37.391304347826086,13.978494623655914,16.666666666666668,48.958333333333336,39.6551724137931,0.0,20.0,14.018691588785046,18.26923076923077,15.09433962264151,2.608695652173913,29.310344827586206,16.50485436893204,100.0,30.17241379310345,14.736842105263158,11.578947368421053,20.17543859649123,43.47826086956522,16.964285714285715,38.83495145631068,0.8620689655172413,45.21739130434783,28.448275862068964,14.285714285714286,13.861386138613861,31.03448275862069,17.475728155339805,15.957446808510639,17.307692307692307,38.793103448275865,18.47826086956522,13.68421052631579,23.0,13.541666666666666,11.34020618556701,22.608695652173914,31.03448275862069,14.018691588785046,30.434782608695652],[33.62068965517241,52.58620689655172,21.73913043478261,69.82758620689656,35.3448275862069,68.96551724137932,22.413793103448278,33.62068965517241,11.206896551724139,65.78947368421052,68.96551724137932,31.304347826086957,28.448275862068964,33.62068965517241,28.695652173913043,67.82608695652173,31.03448275862069,29.310344827586206,28.448275862068964,69.82758620689656,43.47826086956522,39.130434782608695,22.413793103448278,29.565217391304348,25.43859649122807,32.758620689655174,72.17391304347827,52.58620689655172,69.82758620689656,30.17241379310345,24.137931034482758,71.55172413793103,35.3448275862069,28.695652173913043,68.69565217391305,68.96551724137932,28.695652173913043,49.56521739130435,69.82758620689656,70.6896551724138,28.448275862068964,12.931034482758621,32.758620689655174,71.55172413793103,66.08695652173913,32.758620689655174,73.27586206896552,27.82608695652174,71.55172413793103,68.10344827586206,33.91304347826087,64.34782608695652,44.827586206896555,41.73913043478261,71.55172413793103,74.56140350877193,26.956521739130434,21.92982456140351,12.068965517241379,67.82608695652173,78.26086956521739,69.56521739130434,30.17241379310345,13.91304347826087,28.448275862068964,33.62068965517241,31.57894736842105,23.47826086956522,25.43859649122807,28.695652173913043,34.48275862068966,33.04347826086956,28.448275862068964,35.65217391304348,29.310344827586206,72.41379310344827,29.82456140350877,76.52173913043478,68.10344827586206,29.310344827586206,38.793103448275865,62.93103448275862,69.82758620689656,14.912280701754385,41.73913043478261,28.695652173913043,41.73913043478261,32.758620689655174,42.10526315789474,68.69565217391305,33.62068965517241,30.17241379310345,100.0,33.91304347826087,29.310344827586206,43.96551724137931,68.96551724137932,40.869565217391305,65.51724137931035,39.473684210526315,68.96551724137932,68.69565217391305,26.956521739130434,28.695652173913043,68.96551724137932,32.17391304347826,33.62068965517241,38.26086956521739,69.82758620689656,31.896551724137932,33.04347826086956,42.608695652173914,29.565217391304348,25.43859649122807,52.58620689655172,73.27586206896552,29.565217391304348,68.96551724137932],[87.09677419354838,39.285714285714285,27.659574468085108,33.04347826086956,85.1063829787234,33.04347826086956,55.913978494623656,84.94623655913979,20.43010752688172,42.5531914893617,32.17391304347826,39.130434782608695,53.06122448979592,37.234042553191486,29.464285714285715,31.896551724137932,68.81720430107526,42.15686274509804,27.102803738317757,32.17391304347826,39.63963963963964,38.23529411764706,47.31182795698925,50.51546391752577,33.65384615384615,33.68421052631579,26.724137931034484,39.130434782608695,31.896551724137932,36.8421052631579,44.791666666666664,33.333333333333336,91.39784946236558,26.85185185185185,32.758620689655174,34.48275862068966,45.54455445544554,35.13513513513514,31.03448275862069,33.62068965517241,65.26315789473684,12.631578947368421,84.94623655913979,34.48275862068966,34.21052631578947,84.94623655913979,31.896551724137932,30.555555555555557,34.78260869565217,29.565217391304348,37.89473684210526,40.20618556701031,37.61467889908257,44.21052631578947,34.48275862068966,34.78260869565217,51.578947368421055,34.04255319148936,21.50537634408602,32.758620689655174,34.48275862068966,33.04347826086956,44.03669724770642,18.47826086956522,59.5959595959596,84.94623655913979,36.36363636363637,29.78723404255319,21.49532710280374,30.275229357798164,45.0,62.88659793814433,25.925925925925927,44.791666666666664,63.44086021505376,32.758620689655174,39.603960396039604,31.896551724137932,29.565217391304348,63.44086021505376,36.283185840707965,38.541666666666664,31.896551724137932,4.464285714285714,40.95238095238095,32.075471698113205,40.38461538461539,43.26923076923077,20.535714285714285,32.758620689655174,64.35643564356435,14.736842105263158,33.91304347826087,100.0,45.26315789473684,36.8421052631579,32.17391304347826,41.964285714285715,36.89320388349515,20.353982300884955,33.04347826086956,32.758620689655174,64.21052631578948,50.0,29.310344827586206,36.0,84.94623655913979,41.34615384615385,31.03448275862069,46.236559139784944,95.65217391304348,41.0,46.236559139784944,42.10526315789474,39.130434782608695,32.758620689655174,39.04761904761905,35.65217391304348],[43.1578947368421,33.035714285714285,24.210526315789473,28.695652173913043,43.75,26.956521739130434,30.526315789473685,42.10526315789474,18.94736842105263,40.0,27.82608695652174,29.473684210526315,40.0,31.25,21.73913043478261,28.448275862068964,40.0,33.65384615384615,26.16822429906542,27.82608695652174,33.333333333333336,39.21568627450981,36.8421052631579,32.0,26.666666666666668,32.63157894736842,24.137931034482758,31.304347826086957,28.448275862068964,31.57894736842105,26.53061224489796,30.70175438596491,43.1578947368421,26.85185185185185,31.03448275862069,30.17241379310345,28.846153846153847,34.234234234234236,28.448275862068964,33.62068965517241,38.144329896907216,12.631578947368421,43.1578947368421,30.17241379310345,33.333333333333336,43.1578947368421,31.03448275862069,21.62162162162162,33.04347826086956,31.304347826086957,33.333333333333336,36.08247422680412,33.027522935779814,37.89473684210526,30.17241379310345,32.758620689655174,33.673469387755105,28.42105263157895,16.842105263157894,30.17241379310345,31.03448275862069,29.310344827586206,28.82882882882883,11.578947368421053,40.59405940594059,42.10526315789474,31.372549019607842,31.57894736842105,19.444444444444443,23.214285714285715,34.31372549019608,41.0,25.0,39.583333333333336,33.68421052631579,31.896551724137932,30.392156862745097,31.896551724137932,31.304347826086957,33.68421052631579,35.08771929824562,34.375,28.448275862068964,3.4782608695652173,35.23809523809524,22.429906542056074,38.46153846153846,33.0188679245283,18.26086956521739,28.448275862068964,36.89320388349515,11.578947368421053,29.310344827586206,45.26315789473684,100.0,34.21052631578947,28.695652173913043,39.285714285714285,36.89320388349515,17.24137931034483,26.956521739130434,31.03448275862069,31.632653061224488,30.693069306930692,30.17241379310345,28.155339805825243,42.10526315789474,36.53846153846154,28.448275862068964,31.57894736842105,44.21052631578947,37.0,33.333333333333336,31.95876288659794,31.304347826086957,30.17241379310345,30.8411214953271,34.78260869565217],[36.8421052631579,50.0,21.05263157894737,47.82608695652174,35.96491228070175,46.95652173913044,29.82456140350877,36.8421052631579,16.666666666666668,39.473684210526315,46.95652173913044,29.82456140350877,30.70175438596491,30.70175438596491,31.03448275862069,43.96551724137931,36.8421052631579,33.333333333333336,32.45614035087719,46.95652173913044,51.75438596491228,52.63157894736842,25.43859649122807,29.82456140350877,29.82456140350877,35.96491228070175,35.3448275862069,49.56521739130435,45.689655172413794,34.21052631578947,35.96491228070175,49.12280701754386,38.59649122807018,30.70175438596491,44.827586206896555,43.96551724137931,30.70175438596491,56.14035087719298,45.689655172413794,46.55172413793103,34.21052631578947,16.666666666666668,34.21052631578947,43.96551724137931,46.95652173913044,34.21052631578947,49.13793103448276,31.57894736842105,43.47826086956522,47.82608695652174,33.333333333333336,42.98245614035088,54.3859649122807,52.63157894736842,43.96551724137931,42.241379310344826,28.94736842105263,31.57894736842105,14.035087719298245,46.55172413793103,46.55172413793103,43.96551724137931,35.96491228070175,12.280701754385966,34.21052631578947,36.8421052631579,36.8421052631579,24.56140350877193,25.43859649122807,30.70175438596491,36.8421052631579,34.21052631578947,30.70175438596491,45.6140350877193,35.96491228070175,49.13793103448276,28.07017543859649,45.689655172413794,47.82608695652174,35.96491228070175,64.03508771929825,41.228070175438596,46.55172413793103,9.565217391304348,52.63157894736842,28.94736842105263,53.50877192982456,44.73684210526316,27.82608695652174,45.689655172413794,39.473684210526315,20.17543859649123,43.96551724137931,36.8421052631579,34.21052631578947,100.0,47.82608695652174,57.01754385964912,45.6140350877193,26.724137931034484,46.95652173913044,44.827586206896555,35.08771929824562,30.70175438596491,45.689655172413794,33.333333333333336,36.8421052631579,51.75438596491228,45.689655172413794,35.08771929824562,35.08771929824562,51.75438596491228,29.82456140350877,31.57894736842105,49.56521739130435,48.275862068965516,32.45614035087719,46.95652173913044],[32.17391304347826,58.26086956521739,21.73913043478261,94.78260869565217,33.04347826086956,96.52173913043478,20.869565217391305,32.17391304347826,13.043478260869565,62.608695652173914,96.52173913043478,31.304347826086957,27.82608695652174,31.304347826086957,28.448275862068964,67.24137931034483,31.304347826086957,31.304347826086957,27.82608695652174,96.52173913043478,41.73913043478261,40.0,21.73913043478261,28.695652173913043,24.347826086956523,33.91304347826087,56.03448275862069,60.869565217391305,89.65517241379311,30.434782608695652,25.217391304347824,72.17391304347827,33.91304347826087,27.82608695652174,69.82758620689656,74.13793103448276,25.217391304347824,46.95652173913044,88.79310344827586,72.41379310344827,28.695652173913043,11.304347826086957,31.304347826086957,74.13793103448276,73.04347826086956,31.304347826086957,73.27586206896552,26.956521739130434,72.17391304347827,82.6086956521739,30.434782608695652,66.95652173913044,45.21739130434783,43.47826086956522,74.13793103448276,70.6896551724138,26.08695652173913,22.608695652173914,9.565217391304348,68.10344827586206,72.41379310344827,72.41379310344827,30.434782608695652,11.304347826086957,28.695652173913043,32.17391304347826,33.91304347826087,20.0,25.217391304347824,31.304347826086957,30.434782608695652,33.91304347826087,26.956521739130434,35.65217391304348,31.304347826086957,83.62068965517241,28.695652173913043,75.0,82.6086956521739,28.695652173913043,40.0,75.65217391304348,90.51724137931035,26.956521739130434,44.34782608695652,26.956521739130434,42.608695652173914,33.04347826086956,55.65217391304348,68.96551724137932,36.52173913043478,43.47826086956522,68.96551724137932,32.17391304347826,28.695652173913043,47.82608695652174,100.0,41.73913043478261,70.43478260869566,39.6551724137931,96.52173913043478,69.82758620689656,28.695652173913043,27.82608695652174,74.13793103448276,31.304347826086957,32.17391304347826,39.130434782608695,88.79310344827586,29.565217391304348,31.304347826086957,41.73913043478261,28.695652173913043,22.608695652173914,60.869565217391305,74.13793103448276,33.91304347826087,72.17391304347827],[42.857142857142854,45.535714285714285,21.428571428571427,41.73913043478261,44.642857142857146,40.869565217391305,32.142857142857146,41.07142857142857,11.607142857142858,43.24324324324324,40.869565217391305,27.678571428571427,33.92857142857143,30.357142857142858,33.62068965517241,46.08695652173913,39.285714285714285,37.5,34.82142857142857,40.869565217391305,44.14414414414414,55.85585585585586,26.785714285714285,29.464285714285715,28.82882882882883,33.92857142857143,31.304347826086957,46.08695652173913,42.241379310344826,33.92857142857143,38.392857142857146,42.98245614035088,42.857142857142854,35.13513513513514,44.34782608695652,39.6551724137931,25.892857142857142,54.95495495495496,42.241379310344826,44.827586206896555,41.07142857142857,16.071428571428573,43.75,41.37931034482759,45.6140350877193,43.75,42.241379310344826,35.714285714285715,42.608695652173914,40.869565217391305,32.142857142857146,44.14414414414414,53.57142857142857,54.054054054054056,41.37931034482759,42.608695652173914,28.571428571428573,29.72972972972973,14.285714285714286,43.47826086956522,44.34782608695652,41.37931034482759,37.5,15.178571428571429,36.607142857142854,41.07142857142857,32.432432432432435,20.535714285714285,27.92792792792793,33.6283185840708,36.607142857142854,38.392857142857146,34.82142857142857,41.44144144144144,37.5,43.10344827586207,29.72972972972973,42.608695652173914,40.869565217391305,37.5,67.54385964912281,41.964285714285715,42.241379310344826,6.140350877192983,42.34234234234234,33.035714285714285,55.85585585585586,39.285714285714285,24.56140350877193,42.608695652173914,39.285714285714285,16.964285714285715,40.869565217391305,41.964285714285715,39.285714285714285,57.01754385964912,41.73913043478261,100.0,45.535714285714285,22.608695652173914,40.869565217391305,44.34782608695652,33.92857142857143,29.464285714285715,41.37931034482759,35.714285714285715,41.07142857142857,51.351351351351354,42.241379310344826,33.035714285714285,41.07142857142857,51.351351351351354,28.571428571428573,30.63063063063063,46.08695652173913,42.241379310344826,34.234234234234236,47.82608695652174],[37.86407766990291,58.035714285714285,25.24271844660194,71.30434782608695,38.83495145631068,70.43478260869566,26.21359223300971,37.86407766990291,16.50485436893204,71.84466019417475,70.43478260869566,33.00970873786408,35.922330097087375,33.980582524271846,29.565217391304348,68.10344827586206,37.86407766990291,36.53846153846154,32.71028037383178,72.17391304347827,45.04504504504504,43.689320388349515,28.155339805825243,32.03883495145631,31.428571428571427,38.83495145631068,51.724137931034484,54.78260869565217,68.96551724137932,34.95145631067961,28.155339805825243,74.56140350877193,39.80582524271845,31.48148148148148,67.24137931034483,68.96551724137932,28.846153846153847,50.450450450450454,68.96551724137932,71.55172413793103,35.922330097087375,17.475728155339805,36.89320388349515,71.55172413793103,74.78260869565217,36.89320388349515,73.27586206896552,31.53153153153153,70.43478260869566,71.30434782608695,35.922330097087375,75.72815533980582,49.54128440366973,48.54368932038835,71.55172413793103,68.96551724137932,30.097087378640776,24.271844660194176,14.563106796116505,67.24137931034483,70.6896551724138,67.24137931034483,31.53153153153153,15.533980582524272,35.922330097087375,37.86407766990291,33.00970873786408,25.24271844660194,25.0,30.97345132743363,35.922330097087375,39.80582524271845,31.48148148148148,40.77669902912621,35.922330097087375,75.0,32.03883495145631,70.6896551724138,71.30434782608695,35.922330097087375,41.228070175438596,73.7864077669903,70.6896551724138,13.91304347826087,48.57142857142857,33.64485981308411,44.76190476190476,37.735849056603776,39.130434782608695,66.37931034482759,41.74757281553398,38.83495145631068,65.51724137931035,36.89320388349515,36.89320388349515,45.6140350877193,70.43478260869566,45.535714285714285,100.0,34.48275862068966,70.43478260869566,67.24137931034483,34.95145631067961,31.067961165048544,68.96551724137932,33.980582524271846,37.86407766990291,46.15384615384615,68.96551724137932,34.95145631067961,36.89320388349515,50.48543689320388,33.00970873786408,30.097087378640776,54.78260869565217,73.27586206896552,37.38317757009346,73.91304347826087],[19.29824561403509,32.758620689655174,14.814814814814815,38.793103448275865,20.17543859649123,39.6551724137931,10.526315789473685,19.29824561403509,0.0,28.94736842105263,39.6551724137931,19.81981981981982,17.54385964912281,17.54385964912281,16.8141592920354,40.0,21.92982456140351,19.29824561403509,16.071428571428573,40.51724137931034,29.20353982300885,21.73913043478261,12.280701754385966,18.75,17.59259259259259,17.24137931034483,30.434782608695652,35.3448275862069,39.6551724137931,17.24137931034483,15.789473684210526,35.3448275862069,20.17543859649123,16.071428571428573,49.56521739130435,41.37931034482759,18.75,27.82608695652174,38.793103448275865,42.241379310344826,17.54385964912281,0.0,19.29824561403509,40.51724137931034,41.73913043478261,19.29824561403509,40.51724137931034,15.929203539823009,34.48275862068966,35.3448275862069,17.391304347826086,33.04347826086956,29.565217391304348,21.73913043478261,40.51724137931034,35.96491228070175,18.91891891891892,17.54385964912281,0.0,58.26086956521739,40.869565217391305,38.26086956521739,16.666666666666668,0.0,20.17543859649123,19.29824561403509,32.18390804597701,12.389380530973451,20.0,15.929203539823009,21.92982456140351,20.353982300884955,15.178571428571429,23.893805309734514,19.29824561403509,39.6551724137931,19.444444444444443,45.21739130434783,35.3448275862069,18.42105263157895,21.73913043478261,31.03448275862069,39.6551724137931,27.536231884057973,28.31858407079646,16.071428571428573,24.347826086956523,18.42105263157895,68.1159420289855,53.91304347826087,22.80701754385965,0.8620689655172413,39.473684210526315,20.353982300884955,17.24137931034483,26.724137931034484,39.6551724137931,22.608695652173914,34.48275862068966,100.0,39.6551724137931,49.56521739130435,20.353982300884955,17.857142857142858,39.6551724137931,15.929203539823009,19.29824561403509,22.608695652173914,38.793103448275865,14.912280701754385,20.353982300884955,22.608695652173914,19.642857142857142,14.678899082568808,35.3448275862069,41.37931034482759,20.353982300884955,41.37931034482759],[33.04347826086956,56.52173913043478,22.608695652173914,96.52173913043478,33.91304347826087,100.0,20.869565217391305,33.04347826086956,13.91304347826087,62.608695652173914,98.26086956521739,31.304347826086957,27.82608695652174,31.304347826086957,27.586206896551722,66.37931034482759,31.304347826086957,31.304347826086957,27.82608695652174,98.26086956521739,41.73913043478261,39.130434782608695,21.73913043478261,28.695652173913043,24.347826086956523,33.04347826086956,56.89655172413793,59.130434782608695,87.93103448275862,30.434782608695652,26.08695652173913,70.43478260869566,34.78260869565217,27.82608695652174,68.10344827586206,72.41379310344827,26.08695652173913,47.82608695652174,87.06896551724138,69.82758620689656,29.565217391304348,11.304347826086957,32.17391304347826,72.41379310344827,72.17391304347827,32.17391304347826,71.55172413793103,27.82608695652174,72.17391304347827,83.47826086956522,30.434782608695652,65.21739130434783,45.21739130434783,42.608695652173914,72.41379310344827,70.6896551724138,26.956521739130434,21.73913043478261,10.434782608695652,67.24137931034483,72.41379310344827,72.41379310344827,31.304347826086957,12.173913043478262,28.695652173913043,33.04347826086956,33.91304347826087,20.0,25.217391304347824,30.434782608695652,30.434782608695652,33.91304347826087,26.956521739130434,35.65217391304348,31.304347826086957,83.62068965517241,28.695652173913043,73.27586206896552,83.47826086956522,28.695652173913043,39.130434782608695,74.78260869565217,88.79310344827586,27.82608695652174,45.21739130434783,27.82608695652174,41.73913043478261,32.17391304347826,55.65217391304348,68.10344827586206,37.391304347826086,45.21739130434783,68.96551724137932,33.04347826086956,26.956521739130434,46.95652173913044,96.52173913043478,40.869565217391305,70.43478260869566,39.6551724137931,100.0,68.10344827586206,29.565217391304348,27.82608695652174,71.55172413793103,30.434782608695652,33.04347826086956,38.26086956521739,87.06896551724138,30.434782608695652,32.17391304347826,42.608695652173914,28.695652173913043,22.608695652173914,59.130434782608695,72.41379310344827,33.04347826086956,71.30434782608695],[34.48275862068966,59.48275862068966,20.689655172413794,68.10344827586206,35.3448275862069,68.10344827586206,25.862068965517242,34.48275862068966,15.517241379310345,63.47826086956522,67.24137931034483,32.758620689655174,32.758620689655174,33.62068965517241,31.896551724137932,75.65217391304348,36.206896551724135,33.62068965517241,31.03448275862069,68.96551724137932,43.47826086956522,40.0,25.862068965517242,31.03448275862069,26.956521739130434,34.48275862068966,53.04347826086956,62.06896551724138,67.24137931034483,31.03448275862069,29.310344827586206,68.10344827586206,35.3448275862069,30.434782608695652,100.0,73.27586206896552,30.17241379310345,46.95652173913044,66.37931034482759,81.03448275862068,33.62068965517241,14.655172413793103,32.758620689655174,74.13793103448276,78.26086956521739,32.758620689655174,74.13793103448276,30.17241379310345,67.24137931034483,63.793103448275865,30.17241379310345,68.69565217391305,47.41379310344828,44.34782608695652,74.13793103448276,71.30434782608695,29.310344827586206,23.47826086956522,12.068965517241379,86.95652173913044,72.17391304347827,68.96551724137932,34.48275862068966,15.517241379310345,34.48275862068966,34.48275862068966,31.304347826086957,25.0,26.08695652173913,32.758620689655174,34.48275862068966,35.3448275862069,29.310344827586206,39.130434782608695,33.62068965517241,68.96551724137932,33.91304347826087,81.73913043478261,63.793103448275865,31.896551724137932,40.51724137931034,58.62068965517241,68.10344827586206,15.652173913043478,42.608695652173914,30.17241379310345,42.608695652173914,38.793103448275865,42.608695652173914,85.21739130434783,37.06896551724138,28.448275862068964,68.69565217391305,32.758620689655174,31.03448275862069,44.827586206896555,69.82758620689656,44.34782608695652,67.24137931034483,49.56521739130435,68.10344827586206,100.0,31.03448275862069,30.17241379310345,75.0,31.896551724137932,34.48275862068966,40.869565217391305,66.37931034482759,32.758620689655174,32.758620689655174,42.608695652173914,31.896551724137932,26.956521739130434,62.06896551724138,74.13793103448276,33.04347826086956,78.44827586206897],[59.375,35.714285714285715,22.68041237113402,30.434782608695652,58.333333333333336,29.565217391304348,48.958333333333336,57.291666666666664,21.875,34.02061855670103,29.565217391304348,35.78947368421053,44.89795918367347,31.25,26.785714285714285,29.310344827586206,54.166666666666664,37.254901960784316,23.364485981308412,30.434782608695652,31.53153153153153,33.333333333333336,41.666666666666664,46.391752577319586,29.807692307692307,25.510204081632654,19.82758620689655,36.52173913043478,29.310344827586206,36.734693877551024,45.833333333333336,29.82456140350877,59.375,22.22222222222222,31.03448275862069,30.17241379310345,42.57425742574257,35.13513513513514,28.448275862068964,30.17241379310345,56.25,12.244897959183673,58.333333333333336,30.17241379310345,32.45614035087719,58.333333333333336,28.448275862068964,28.703703703703702,29.565217391304348,27.82608695652174,31.95876288659794,35.714285714285715,34.862385321100916,36.734693877551024,30.17241379310345,29.565217391304348,45.26315789473684,31.95876288659794,16.666666666666668,31.896551724137932,28.448275862068964,28.695652173913043,38.53211009174312,16.842105263157894,49.494949494949495,57.291666666666664,28.282828282828284,22.68041237113402,15.88785046728972,27.522935779816514,41.0,54.63917525773196,21.296296296296298,36.734693877551024,73.95833333333333,31.03448275862069,37.62376237623762,28.448275862068964,27.82608695652174,73.95833333333333,33.6283185840708,35.714285714285715,31.03448275862069,3.5714285714285716,33.333333333333336,28.30188679245283,32.69230769230769,44.23076923076923,18.75,31.896551724137932,69.3069306930693,14.285714285714286,26.956521739130434,64.21052631578948,31.632653061224488,35.08771929824562,28.695652173913043,33.92857142857143,34.95145631067961,20.353982300884955,29.565217391304348,31.03448275862069,100.0,46.93877551020408,27.586206896551722,32.0,57.291666666666664,39.42307692307692,28.448275862068964,38.541666666666664,61.05263157894737,41.0,42.10526315789474,38.541666666666664,36.52173913043478,29.310344827586206,33.333333333333336,31.304347826086957],[46.464646464646464,28.571428571428573,20.2020202020202,28.695652173913043,47.474747474747474,27.82608695652174,39.39393939393939,47.474747474747474,17.171717171717173,35.0,27.82608695652174,34.02061855670103,43.43434343434343,33.333333333333336,30.357142857142858,27.586206896551722,49.494949494949495,40.19607843137255,25.233644859813083,27.82608695652174,29.72972972972973,27.45098039215686,43.43434343434343,94.84536082474227,30.097087378640776,25.742574257425744,22.413793103448278,28.695652173913043,25.862068965517242,29.702970297029704,36.36363636363637,28.07017543859649,46.464646464646464,25.0,30.17241379310345,29.310344827586206,75.0,29.72972972972973,25.0,27.586206896551722,48.484848484848484,9.900990099009901,46.464646464646464,30.17241379310345,29.82456140350877,46.464646464646464,28.448275862068964,31.48148148148148,30.434782608695652,27.82608695652174,29.0,33.663366336633665,29.357798165137616,29.702970297029704,30.17241379310345,30.434782608695652,81.44329896907216,31.0,13.131313131313131,30.17241379310345,28.448275862068964,31.304347826086957,50.45871559633027,18.367346938775512,50.505050505050505,47.474747474747474,26.53061224489796,26.262626262626263,20.754716981132077,31.192660550458715,47.0,52.04081632653061,21.296296296296298,34.65346534653465,48.484848484848484,28.448275862068964,49.0,27.586206896551722,27.82608695652174,48.484848484848484,30.088495575221238,29.702970297029704,25.862068965517242,1.8018018018018018,30.476190476190474,30.476190476190474,26.923076923076923,35.57692307692308,16.216216216216218,30.17241379310345,47.524752475247524,13.861386138613861,28.695652173913043,50.0,30.693069306930692,30.70175438596491,27.82608695652174,29.464285714285715,31.067961165048544,17.857142857142858,27.82608695652174,30.17241379310345,46.93877551020408,100.0,25.862068965517242,36.0,47.474747474747474,31.73076923076923,25.0,34.343434343434346,45.91836734693877,34.65346534653465,72.16494845360825,35.714285714285715,28.695652173913043,28.448275862068964,30.476190476190474,27.82608695652174],[30.17241379310345,58.62068965517241,19.82758620689655,72.41379310344827,31.03448275862069,71.55172413793103,20.689655172413794,30.17241379310345,14.655172413793103,62.06896551724138,71.55172413793103,31.03448275862069,27.586206896551722,32.758620689655174,29.310344827586206,70.6896551724138,30.17241379310345,33.62068965517241,27.586206896551722,72.41379310344827,43.10344827586207,41.37931034482759,24.137931034482758,26.724137931034484,25.862068965517242,34.48275862068966,51.724137931034484,59.48275862068966,70.6896551724138,32.758620689655174,25.862068965517242,71.55172413793103,31.896551724137932,27.586206896551722,75.0,78.44827586206897,24.137931034482758,47.41379310344828,70.6896551724138,78.44827586206897,30.17241379310345,12.068965517241379,29.310344827586206,79.3103448275862,78.44827586206897,29.310344827586206,73.27586206896552,27.586206896551722,64.65517241379311,68.96551724137932,31.896551724137932,67.24137931034483,45.689655172413794,44.827586206896555,79.3103448275862,68.96551724137932,25.0,23.275862068965516,11.206896551724139,73.27586206896552,69.82758620689656,64.65517241379311,29.310344827586206,12.068965517241379,29.310344827586206,30.17241379310345,29.310344827586206,21.551724137931036,24.137931034482758,31.03448275862069,31.896551724137932,34.48275862068966,26.724137931034484,34.48275862068966,30.17241379310345,73.27586206896552,27.586206896551722,80.17241379310344,68.96551724137932,29.310344827586206,41.37931034482759,62.06896551724138,71.55172413793103,17.24137931034483,42.241379310344826,25.0,43.96551724137931,34.48275862068966,43.10344827586207,74.13793103448276,36.206896551724135,31.03448275862069,68.96551724137932,29.310344827586206,30.17241379310345,45.689655172413794,74.13793103448276,41.37931034482759,68.96551724137932,39.6551724137931,71.55172413793103,75.0,27.586206896551722,25.862068965517242,100.0,31.896551724137932,30.17241379310345,39.6551724137931,70.6896551724138,31.896551724137932,29.310344827586206,44.827586206896555,27.586206896551722,23.275862068965516,59.48275862068966,74.13793103448276,30.17241379310345,75.86206896551724],[32.67326732673267,31.25,23.529411764705884,31.304347826086957,34.65346534653465,30.434782608695652,29.702970297029704,34.65346534653465,17.821782178217823,34.31372549019608,30.434782608695652,36.0,39.603960396039604,33.663366336633665,43.75,30.17241379310345,37.62376237623762,41.1764705882353,39.25233644859813,30.434782608695652,29.72972972972973,35.922330097087375,33.663366336633665,36.0,34.61538461538461,28.155339805825243,23.275862068965516,31.304347826086957,29.310344827586206,32.03883495145631,33.663366336633665,34.21052631578947,34.65346534653465,37.03703703703704,31.896551724137932,34.48275862068966,33.663366336633665,36.93693693693694,29.310344827586206,29.310344827586206,38.613861386138616,14.563106796116505,33.663366336633665,32.758620689655174,32.17391304347826,33.663366336633665,32.758620689655174,43.51851851851852,31.304347826086957,32.17391304347826,32.35294117647059,36.89320388349515,33.027522935779814,36.89320388349515,32.758620689655174,31.304347826086957,36.0,29.41176470588235,19.801980198019802,33.62068965517241,31.896551724137932,33.04347826086956,33.944954128440365,25.0,34.65346534653465,34.65346534653465,26.0,21.568627450980394,28.037383177570092,43.63636363636363,36.633663366336634,39.0,35.18518518518518,32.03883495145631,35.64356435643565,32.758620689655174,31.372549019607842,31.896551724137932,32.17391304347826,33.663366336633665,32.743362831858406,33.980582524271846,31.03448275862069,2.6785714285714284,30.476190476190474,40.56603773584906,36.19047619047619,36.53846153846154,15.178571428571429,32.758620689655174,36.633663366336634,17.475728155339805,32.17391304347826,36.0,28.155339805825243,33.333333333333336,31.304347826086957,35.714285714285715,33.980582524271846,15.929203539823009,30.434782608695652,31.896551724137932,32.0,36.0,31.896551724137932,100.0,34.65346534653465,35.57692307692308,29.310344827586206,34.65346534653465,34.0,33.00970873786408,34.0,31.683168316831683,31.304347826086957,33.62068965517241,37.142857142857146,31.304347826086957],[94.56521739130434,37.5,24.46808510638298,33.04347826086956,85.1063829787234,33.04347826086956,54.34782608695652,98.91304347826087,22.82608695652174,44.21052631578947,32.17391304347826,36.55913978494624,50.0,37.234042553191486,27.43362831858407,32.758620689655174,61.29032258064516,41.1764705882353,29.906542056074766,32.17391304347826,41.44144144144144,38.23529411764706,50.0,47.95918367346939,36.19047619047619,35.1063829787234,26.724137931034484,36.52173913043478,31.03448275862069,36.8421052631579,42.708333333333336,34.21052631578947,88.04347826086956,30.555555555555557,34.48275862068966,34.48275862068966,43.13725490196079,36.93693693693694,30.17241379310345,35.3448275862069,63.1578947368421,17.02127659574468,92.3913043478261,34.48275862068966,35.96491228070175,92.3913043478261,32.758620689655174,28.440366972477065,36.52173913043478,33.04347826086956,35.416666666666664,42.2680412371134,39.44954128440367,46.808510638297875,34.48275862068966,36.206896551724135,50.0,30.851063829787233,19.565217391304348,33.62068965517241,35.3448275862069,35.3448275862069,41.28440366972477,17.391304347826086,55.55555555555556,98.91304347826087,33.0,28.72340425531915,24.074074074074073,28.181818181818183,48.0,59.183673469387756,29.62962962962963,43.75,63.04347826086956,34.48275862068966,35.294117647058826,32.758620689655174,33.04347826086956,60.869565217391305,36.283185840707965,38.541666666666664,31.896551724137932,2.6548672566371683,42.857142857142854,29.906542056074766,37.5,46.15384615384615,19.469026548672566,33.62068965517241,57.42574257425743,15.957446808510639,33.62068965517241,84.94623655913979,42.10526315789474,36.8421052631579,32.17391304347826,41.07142857142857,37.86407766990291,19.29824561403509,33.04347826086956,34.48275862068966,57.291666666666664,47.474747474747474,30.17241379310345,34.65346534653465,100.0,37.5,30.17241379310345,46.73913043478261,83.87096774193549,42.0,45.744680851063826,37.5,36.52173913043478,33.62068965517241,38.095238095238095,36.52173913043478],[39.42307692307692,44.642857142857146,21.153846153846153,39.130434782608695,39.42307692307692,38.26086956521739,32.69230769230769,37.5,10.576923076923077,41.74757281553398,38.26086956521739,31.73076923076923,38.46153846153846,34.61538461538461,27.82608695652174,40.0,38.46153846153846,33.65384615384615,37.38317757009346,39.130434782608695,43.63636363636363,67.96116504854369,28.846153846153847,32.69230769230769,27.884615384615383,34.61538461538461,29.565217391304348,46.08695652173913,40.51724137931034,38.46153846153846,35.57692307692308,39.473684210526315,41.34615384615385,37.38317757009346,40.869565217391305,37.06896551724138,30.76923076923077,52.72727272727273,40.51724137931034,42.241379310344826,38.46153846153846,19.23076923076923,36.53846153846154,37.93103448275862,43.85964912280702,36.53846153846154,38.793103448275865,27.92792792792793,38.26086956521739,40.869565217391305,33.65384615384615,41.74757281553398,47.706422018348626,67.96116504854369,37.93103448275862,40.0,33.65384615384615,28.155339805825243,18.26923076923077,40.869565217391305,40.0,36.206896551724135,31.53153153153153,12.5,40.38461538461539,37.5,35.922330097087375,25.96153846153846,25.233644859813083,29.20353982300885,37.5,44.23076923076923,31.48148148148148,41.74757281553398,40.38461538461539,42.241379310344826,36.89320388349515,41.73913043478261,40.869565217391305,41.34615384615385,56.14035087719298,43.26923076923077,39.6551724137931,6.140350877192983,45.19230769230769,30.8411214953271,68.26923076923077,41.509433962264154,23.68421052631579,39.130434782608695,41.34615384615385,17.307692307692307,38.26086956521739,41.34615384615385,36.53846153846154,51.75438596491228,39.130434782608695,51.351351351351354,46.15384615384615,22.608695652173914,38.26086956521739,40.869565217391305,39.42307692307692,31.73076923076923,39.6551724137931,35.57692307692308,37.5,100.0,40.51724137931034,44.23076923076923,40.38461538461539,66.99029126213593,32.69230769230769,33.00970873786408,46.08695652173913,38.793103448275865,35.84905660377358,43.47826086956522],[30.17241379310345,56.89655172413793,21.551724137931036,87.06896551724138,31.03448275862069,87.06896551724138,21.551724137931036,30.17241379310345,12.068965517241379,57.758620689655174,87.06896551724138,30.17241379310345,25.862068965517242,30.17241379310345,27.586206896551722,66.37931034482759,28.448275862068964,30.17241379310345,28.448275862068964,88.79310344827586,38.793103448275865,39.6551724137931,20.689655172413794,25.862068965517242,23.275862068965516,35.3448275862069,57.758620689655174,59.48275862068966,99.13793103448276,31.03448275862069,23.275862068965516,68.96551724137932,31.896551724137932,28.448275862068964,66.37931034482759,69.82758620689656,24.137931034482758,48.275862068965516,100.0,72.41379310344827,26.724137931034484,12.068965517241379,30.17241379310345,70.6896551724138,68.96551724137932,30.17241379310345,70.6896551724138,27.586206896551722,68.96551724137932,80.17241379310344,31.03448275862069,62.06896551724138,45.689655172413794,42.241379310344826,70.6896551724138,68.10344827586206,24.137931034482758,24.137931034482758,11.206896551724139,64.65517241379311,71.55172413793103,73.27586206896552,28.448275862068964,12.931034482758621,25.862068965517242,30.17241379310345,30.17241379310345,19.82758620689655,25.0,30.17241379310345,31.03448275862069,31.03448275862069,27.586206896551722,32.758620689655174,29.310344827586206,82.75862068965517,27.586206896551722,72.41379310344827,80.17241379310344,27.586206896551722,39.6551724137931,78.44827586206897,96.55172413793103,25.0,41.37931034482759,29.310344827586206,43.10344827586207,31.03448275862069,52.58620689655172,67.24137931034483,34.48275862068966,38.793103448275865,69.82758620689656,31.03448275862069,28.448275862068964,45.689655172413794,88.79310344827586,42.241379310344826,68.96551724137932,38.793103448275865,87.06896551724138,66.37931034482759,28.448275862068964,25.0,70.6896551724138,29.310344827586206,30.17241379310345,40.51724137931034,100.0,30.17241379310345,30.17241379310345,43.96551724137931,25.0,22.413793103448278,59.48275862068966,71.55172413793103,31.03448275862069,68.96551724137932],[48.35164835164835,33.035714285714285,26.08695652173913,30.434782608695652,45.744680851063826,30.434782608695652,42.22222222222222,47.252747252747255,21.11111111111111,40.0,29.565217391304348,35.483870967741936,45.91836734693877,38.297872340425535,26.548672566371682,30.17241379310345,46.236559139784944,38.23529411764706,29.906542056074766,29.565217391304348,35.13513513513514,38.23529411764706,40.21739130434783,35.714285714285715,28.571428571428573,33.69565217391305,24.137931034482758,33.04347826086956,29.310344827586206,41.05263157894737,40.625,33.333333333333336,47.82608695652174,29.62962962962963,32.758620689655174,29.310344827586206,33.333333333333336,33.333333333333336,30.17241379310345,30.17241379310345,45.26315789473684,13.043478260869565,46.15384615384615,30.17241379310345,32.45614035087719,46.15384615384615,31.896551724137932,27.522935779816514,32.17391304347826,32.17391304347826,36.458333333333336,36.08247422680412,34.862385321100916,45.65217391304348,30.17241379310345,32.758620689655174,40.625,30.851063829787233,23.333333333333332,31.896551724137932,31.896551724137932,30.17241379310345,38.53211009174312,18.88888888888889,44.44444444444444,47.252747252747255,33.0,32.608695652173914,20.37037037037037,28.181818181818183,39.0,46.93877551020408,23.14814814814815,43.75,44.56521739130435,32.758620689655174,32.35294117647059,30.17241379310345,32.17391304347826,46.15384615384615,35.39823008849557,37.5,30.17241379310345,2.6548672566371683,37.142857142857146,28.037383177570092,38.46153846153846,42.30769230769231,15.044247787610619,31.896551724137932,42.57425742574257,18.47826086956522,31.896551724137932,46.236559139784944,31.57894736842105,35.08771929824562,29.565217391304348,33.035714285714285,34.95145631067961,14.912280701754385,30.434782608695652,32.758620689655174,38.541666666666664,34.343434343434346,31.896551724137932,34.65346534653465,46.73913043478261,44.23076923076923,30.17241379310345,100.0,45.16129032258065,38.0,37.234042553191486,30.208333333333332,33.04347826086956,31.896551724137932,32.38095238095238,31.304347826086957],[87.09677419354838,38.392857142857146,25.53191489361702,32.17391304347826,82.97872340425532,32.17391304347826,53.763440860215056,83.87096774193549,20.43010752688172,42.5531914893617,31.304347826086957,36.95652173913044,51.02040816326531,35.1063829787234,27.678571428571427,31.896551724137932,64.51612903225806,41.1764705882353,28.037383177570092,31.304347826086957,36.93693693693694,37.254901960784316,47.31182795698925,46.391752577319586,34.61538461538461,30.526315789473685,25.862068965517242,38.26086956521739,31.03448275862069,34.73684210526316,43.75,32.45614035087719,92.47311827956989,27.77777777777778,32.758620689655174,34.48275862068966,43.56435643564357,32.432432432432435,30.17241379310345,33.62068965517241,63.1578947368421,13.68421052631579,83.87096774193549,34.48275862068966,34.21052631578947,83.87096774193549,31.896551724137932,28.703703703703702,33.91304347826087,28.695652173913043,35.78947368421053,39.175257731958766,34.862385321100916,43.1578947368421,34.48275862068966,34.78260869565217,47.36842105263158,31.914893617021278,21.50537634408602,32.758620689655174,34.48275862068966,32.17391304347826,41.28440366972477,16.304347826086957,56.56565656565657,83.87096774193549,33.333333333333336,28.72340425531915,22.429906542056074,28.440366972477065,44.0,59.79381443298969,26.85185185185185,41.666666666666664,62.365591397849464,31.896551724137932,36.633663366336634,31.896551724137932,28.695652173913043,62.365591397849464,35.39823008849557,37.5,31.03448275862069,4.464285714285714,38.095238095238095,30.18867924528302,39.42307692307692,43.26923076923077,20.535714285714285,32.758620689655174,62.37623762376238,13.68421052631579,33.04347826086956,95.65217391304348,44.21052631578947,35.08771929824562,31.304347826086957,41.07142857142857,36.89320388349515,20.353982300884955,32.17391304347826,32.758620689655174,61.05263157894737,45.91836734693877,29.310344827586206,34.0,83.87096774193549,40.38461538461539,30.17241379310345,45.16129032258065,100.0,40.0,47.31182795698925,41.05263157894737,38.26086956521739,32.758620689655174,36.19047619047619,35.65217391304348],[43.0,46.42857142857143,21.0,43.47826086956522,43.0,42.608695652173914,31.0,42.0,12.0,47.474747474747474,42.608695652173914,32.0,32.0,36.0,26.08695652173913,44.34782608695652,41.0,30.76923076923077,35.51401869158879,43.47826086956522,40.0,65.34653465346534,26.0,35.0,26.923076923076923,34.0,32.17391304347826,46.95652173913044,43.96551724137931,39.0,35.0,42.10526315789474,43.0,33.64485981308411,42.608695652173914,39.6551724137931,31.73076923076923,51.81818181818182,43.96551724137931,43.96551724137931,38.0,19.0,41.0,40.51724137931034,46.902654867256636,41.0,41.37931034482759,27.92792792792793,39.130434782608695,42.608695652173914,35.0,47.474747474747474,48.62385321100918,70.70707070707071,40.51724137931034,42.608695652173914,35.0,26.262626262626263,19.0,41.73913043478261,41.73913043478261,37.93103448275862,30.63063063063063,14.0,39.603960396039604,42.0,33.663366336633665,24.0,27.102803738317757,27.678571428571427,38.23529411764706,40.0,33.333333333333336,43.43434343434343,41.0,45.689655172413794,35.64356435643565,43.47826086956522,42.608695652173914,40.0,53.50877192982456,51.0,43.96551724137931,5.2631578947368425,43.26923076923077,28.97196261682243,63.10679611650485,42.45283018867924,24.56140350877193,40.869565217391305,42.71844660194175,23.0,42.608695652173914,41.0,37.0,51.75438596491228,41.73913043478261,51.351351351351354,50.48543689320388,22.608695652173914,42.608695652173914,42.608695652173914,41.0,34.65346534653465,44.827586206896555,33.00970873786408,42.0,66.99029126213593,43.96551724137931,38.0,40.0,100.0,35.0,30.303030303030305,46.95652173913044,42.241379310344826,30.18867924528302,46.08695652173913],[46.808510638297875,28.571428571428573,19.148936170212767,29.565217391304348,47.87234042553192,28.695652173913043,39.361702127659576,45.744680851063826,17.02127659574468,37.89473684210526,28.695652173913043,35.869565217391305,41.83673469387755,35.1063829787234,28.571428571428573,28.448275862068964,47.87234042553192,37.254901960784316,25.233644859813083,28.695652173913043,27.92792792792793,28.431372549019606,42.5531914893617,73.95833333333333,30.097087378640776,22.916666666666668,22.413793103448278,31.304347826086957,25.862068965517242,32.291666666666664,36.458333333333336,29.82456140350877,46.808510638297875,25.925925925925927,31.896551724137932,30.17241379310345,70.0,29.72972972972973,25.0,29.310344827586206,47.36842105263158,10.416666666666666,43.61702127659574,31.03448275862069,31.57894736842105,43.61702127659574,30.17241379310345,29.62962962962963,30.434782608695652,28.695652173913043,31.57894736842105,36.08247422680412,26.605504587155963,33.333333333333336,31.03448275862069,31.304347826086957,75.53191489361703,31.57894736842105,12.76595744680851,31.896551724137932,30.17241379310345,30.434782608695652,50.45871559633027,16.129032258064516,47.474747474747474,45.744680851063826,24.489795918367346,26.595744680851062,21.69811320754717,31.192660550458715,44.0,51.54639175257732,22.22222222222222,34.375,48.93617021276596,30.17241379310345,50.0,29.310344827586206,28.695652173913043,50.0,30.088495575221238,31.25,26.724137931034484,2.7027027027027026,28.571428571428573,27.61904761904762,26.923076923076923,37.5,18.01801801801802,31.896551724137932,45.54455445544554,13.541666666666666,29.565217391304348,46.236559139784944,33.333333333333336,29.82456140350877,28.695652173913043,28.571428571428573,33.00970873786408,19.642857142857142,28.695652173913043,31.896551724137932,42.10526315789474,72.16494845360825,27.586206896551722,34.0,45.744680851063826,32.69230769230769,25.0,37.234042553191486,47.31182795698925,35.0,100.0,32.97872340425532,31.304347826086957,30.17241379310345,28.571428571428573,29.565217391304348],[39.583333333333336,29.464285714285715,25.0,23.47826086956522,39.583333333333336,22.608695652173914,32.291666666666664,37.5,14.583333333333334,32.63157894736842,22.608695652173914,31.182795698924732,37.37373737373738,27.083333333333332,26.548672566371682,23.47826086956522,35.416666666666664,34.95145631067961,28.97196261682243,22.608695652173914,26.363636363636363,31.683168316831683,34.375,36.08247422680412,51.515151515151516,23.711340206185568,21.73913043478261,26.956521739130434,22.413793103448278,27.835051546391753,35.05154639175258,25.43859649122807,40.625,27.102803738317757,26.956521739130434,25.862068965517242,32.67326732673267,28.181818181818183,22.413793103448278,25.0,42.708333333333336,13.402061855670103,38.541666666666664,25.0,25.663716814159294,38.541666666666664,25.0,26.605504587155963,27.82608695652174,24.347826086956523,30.208333333333332,29.166666666666668,26.605504587155963,34.375,25.0,28.07017543859649,36.170212765957444,29.473684210526315,15.625,26.956521739130434,25.217391304347824,23.47826086956522,25.454545454545453,12.631578947368421,36.0,37.5,27.36842105263158,28.72340425531915,24.50980392156863,26.363636363636363,38.613861386138616,36.734693877551024,26.85185185185185,32.291666666666664,41.666666666666664,24.137931034482758,28.125,26.956521739130434,24.347826086956523,42.708333333333336,27.43362831858407,26.804123711340207,22.413793103448278,2.7777777777777777,28.846153846153847,29.12621359223301,31.067961165048544,30.476190476190474,13.88888888888889,27.82608695652174,41.1764705882353,11.34020618556701,25.43859649122807,42.10526315789474,31.95876288659794,31.57894736842105,22.608695652173914,30.63063063063063,30.097087378640776,14.678899082568808,22.608695652173914,26.956521739130434,38.541666666666664,35.714285714285715,23.275862068965516,31.683168316831683,37.5,33.00970873786408,22.413793103448278,30.208333333333332,41.05263157894737,30.303030303030305,32.97872340425532,100.0,26.956521739130434,25.862068965517242,28.571428571428573,24.347826086956523],[39.130434782608695,80.0,20.869565217391305,59.130434782608695,40.0,59.130434782608695,27.82608695652174,36.52173913043478,14.782608695652174,47.82608695652174,58.26086956521739,33.04347826086956,33.04347826086956,33.04347826086956,31.03448275862069,57.758620689655174,38.26086956521739,33.91304347826087,30.434782608695652,60.0,45.21739130434783,40.869565217391305,26.956521739130434,29.565217391304348,26.08695652173913,33.91304347826087,42.241379310344826,100.0,60.3448275862069,33.91304347826087,29.565217391304348,55.65217391304348,40.869565217391305,31.304347826086957,62.06896551724138,53.44827586206897,31.304347826086957,48.69565217391305,59.48275862068966,61.206896551724135,37.391304347826086,13.91304347826087,37.391304347826086,55.172413793103445,62.608695652173914,37.391304347826086,54.310344827586206,29.565217391304348,54.78260869565217,54.78260869565217,32.17391304347826,53.91304347826087,51.30434782608695,44.34782608695652,55.172413793103445,54.310344827586206,28.695652173913043,29.565217391304348,13.043478260869565,60.3448275862069,60.3448275862069,54.310344827586206,34.78260869565217,12.173913043478262,35.65217391304348,36.52173913043478,33.04347826086956,20.0,26.08695652173913,32.17391304347826,35.65217391304348,40.0,28.695652173913043,40.869565217391305,35.65217391304348,61.206896551724135,33.91304347826087,59.48275862068966,54.78260869565217,34.78260869565217,46.08695652173913,52.17391304347826,60.3448275862069,14.782608695652174,44.34782608695652,26.956521739130434,45.21739130434783,38.26086956521739,38.26086956521739,58.62068965517241,42.608695652173914,22.608695652173914,52.58620689655172,39.130434782608695,31.304347826086957,49.56521739130435,60.869565217391305,46.08695652173913,54.78260869565217,35.3448275862069,59.130434782608695,62.06896551724138,36.52173913043478,28.695652173913043,59.48275862068966,31.304347826086957,36.52173913043478,46.08695652173913,59.48275862068966,33.04347826086956,38.26086956521739,46.95652173913044,31.304347826086957,26.956521739130434,100.0,54.310344827586206,33.91304347826087,62.608695652173914],[33.62068965517241,54.310344827586206,20.689655172413794,73.27586206896552,34.48275862068966,72.41379310344827,23.275862068965516,33.62068965517241,14.655172413793103,65.51724137931035,72.41379310344827,31.896551724137932,30.17241379310345,34.48275862068966,31.03448275862069,72.41379310344827,33.62068965517241,31.03448275862069,31.03448275862069,74.13793103448276,43.96551724137931,37.06896551724138,25.0,29.310344827586206,25.862068965517242,34.48275862068966,57.758620689655174,54.310344827586206,71.55172413793103,31.03448275862069,25.862068965517242,85.34482758620689,35.3448275862069,29.310344827586206,74.13793103448276,76.72413793103448,27.586206896551722,47.41379310344828,71.55172413793103,73.27586206896552,30.17241379310345,14.655172413793103,32.758620689655174,76.72413793103448,72.41379310344827,32.758620689655174,95.6896551724138,30.17241379310345,71.55172413793103,71.55172413793103,32.758620689655174,65.51724137931035,45.689655172413794,41.37931034482759,76.72413793103448,74.13793103448276,29.310344827586206,20.689655172413794,12.931034482758621,73.27586206896552,76.72413793103448,74.13793103448276,32.758620689655174,12.931034482758621,32.758620689655174,33.62068965517241,31.03448275862069,24.137931034482758,25.0,31.896551724137932,32.758620689655174,31.896551724137932,30.17241379310345,37.06896551724138,31.896551724137932,77.58620689655173,30.17241379310345,80.17241379310344,71.55172413793103,31.03448275862069,38.793103448275865,62.06896551724138,73.27586206896552,18.103448275862068,45.689655172413794,30.17241379310345,40.51724137931034,34.48275862068966,45.689655172413794,75.0,35.3448275862069,31.03448275862069,73.27586206896552,32.758620689655174,30.17241379310345,48.275862068965516,74.13793103448276,42.241379310344826,73.27586206896552,41.37931034482759,72.41379310344827,74.13793103448276,29.310344827586206,28.448275862068964,74.13793103448276,33.62068965517241,33.62068965517241,38.793103448275865,71.55172413793103,31.896551724137932,32.758620689655174,42.241379310344826,30.17241379310345,25.862068965517242,54.310344827586206,100.0,34.48275862068966,70.6896551724138],[38.095238095238095,32.142857142857146,19.626168224299064,33.04347826086956,38.095238095238095,33.04347826086956,31.428571428571427,38.095238095238095,11.428571428571429,30.18867924528302,33.04347826086956,30.476190476190474,37.142857142857146,33.333333333333336,38.59649122807018,30.434782608695652,40.0,33.333333333333336,26.16822429906542,32.17391304347826,30.90909090909091,33.0188679245283,32.38095238095238,31.428571428571427,29.245283018867923,29.906542056074766,26.08695652173913,33.91304347826087,31.03448275862069,29.906542056074766,32.38095238095238,32.45614035087719,39.04761904761905,26.16822429906542,33.04347826086956,33.62068965517241,27.61904761904762,34.54545454545455,31.03448275862069,32.758620689655174,42.857142857142854,10.280373831775702,37.142857142857146,31.896551724137932,32.45614035087719,37.142857142857146,32.758620689655174,38.53211009174312,30.434782608695652,31.304347826086957,29.906542056074766,33.9622641509434,33.944954128440365,34.905660377358494,31.896551724137932,29.565217391304348,32.38095238095238,29.245283018867923,20.0,33.91304347826087,30.434782608695652,30.17241379310345,31.192660550458715,17.142857142857142,37.142857142857146,38.095238095238095,27.884615384615383,24.299065420560748,20.560747663551403,39.63963963963964,33.333333333333336,44.76190476190476,25.925925925925927,32.075471698113205,40.0,33.62068965517241,31.132075471698112,33.91304347826087,31.304347826086957,41.904761904761905,30.088495575221238,33.64485981308411,31.03448275862069,5.357142857142857,31.132075471698112,33.64485981308411,37.735849056603776,33.333333333333336,19.642857142857142,33.91304347826087,40.0,14.018691588785046,29.565217391304348,39.04761904761905,30.8411214953271,32.45614035087719,33.91304347826087,34.234234234234236,37.38317757009346,20.353982300884955,33.04347826086956,33.04347826086956,33.333333333333336,30.476190476190474,30.17241379310345,37.142857142857146,38.095238095238095,35.84905660377358,31.03448275862069,32.38095238095238,36.19047619047619,30.18867924528302,28.571428571428573,28.571428571428573,33.91304347826087,34.48275862068966,100.0,33.04347826086956],[36.52173913043478,57.391304347826086,20.869565217391305,72.17391304347827,37.391304347826086,71.30434782608695,23.47826086956522,36.52173913043478,15.652173913043478,67.82608695652173,71.30434782608695,32.17391304347826,31.304347826086957,33.91304347826087,29.310344827586206,69.82758620689656,35.65217391304348,34.78260869565217,31.304347826086957,73.04347826086956,47.82608695652174,43.47826086956522,26.08695652173913,28.695652173913043,25.217391304347824,37.391304347826086,52.58620689655172,62.608695652173914,69.82758620689656,33.04347826086956,26.956521739130434,70.43478260869566,38.26086956521739,30.434782608695652,78.44827586206897,75.86206896551724,27.82608695652174,52.17391304347826,68.96551724137932,84.48275862068965,33.04347826086956,14.782608695652174,34.78260869565217,77.58620689655173,84.34782608695652,34.78260869565217,71.55172413793103,29.565217391304348,70.43478260869566,67.82608695652173,33.04347826086956,73.04347826086956,50.43478260869565,46.08695652173913,77.58620689655173,73.27586206896552,26.956521739130434,23.47826086956522,12.173913043478262,76.72413793103448,74.13793103448276,68.10344827586206,32.17391304347826,13.91304347826087,33.04347826086956,36.52173913043478,31.304347826086957,23.47826086956522,25.217391304347824,31.304347826086957,32.17391304347826,39.130434782608695,30.434782608695652,38.26086956521739,33.04347826086956,69.82758620689656,31.304347826086957,76.72413793103448,67.82608695652173,32.17391304347826,45.21739130434783,65.21739130434783,72.41379310344827,16.52173913043478,44.34782608695652,28.695652173913043,45.21739130434783,37.391304347826086,44.34782608695652,75.0,37.391304347826086,30.434782608695652,68.96551724137932,35.65217391304348,34.78260869565217,46.95652173913044,72.17391304347827,47.82608695652174,73.91304347826087,41.37931034482759,71.30434782608695,78.44827586206897,31.304347826086957,27.82608695652174,75.86206896551724,31.304347826086957,36.52173913043478,43.47826086956522,68.96551724137932,31.304347826086957,35.65217391304348,46.08695652173913,29.565217391304348,24.347826086956523,62.608695652173914,70.6896551724138,33.04347826086956,100.0]],\"x\":[1,2,3,4,5,6,7,8,9,10,11,12,13,14,15,16,17,18,19,20,21,22,23,24,25,26,27,28,29,30,31,32,33,34,35,36,37,38,39,40,41,42,43,44,45,46,47,48,49,50,51,52,53,54,55,56,57,58,59,60,61,62,63,64,65,66,67,68,69,70,71,72,73,74,75,76,77,78,79,80,81,82,83,84,85,86,87,88,89,90,91,92,93,94,95,96,97,98,99,100,101,102,103,104,105,106,107,108,109,110,111,112,113,114,115,116,117,118]}], {\"yaxis\":{\"linecolor\":\"rgba(0, 0, 0, 1.000)\",\"autorange\":\"reversed\",\"type\":\"-\",\"titlefont\":{\"size\":15,\"color\":\"rgba(0, 0, 0, 1.000)\",\"family\":\"Helvetica\"},\"tickcolor\":\"rgba(0, 0, 0, 1.000)\",\"title\":\"\",\"showgrid\":true,\"zeroline\":false,\"tickfont\":{\"size\":11,\"color\":\"rgba(0, 0, 0, 1.000)\",\"family\":\"Helvetica\"}},\"plot_bgcolor\":\"rgba(255, 255, 255, 1.000)\",\"showlegend\":true,\"legend\":{\"bgcolor\":\"rgba(255, 255, 255, 1.000)\",\"font\":{\"size\":11,\"color\":\"rgb(0, 0, 0)\",\"family\":\"Helvetica\"},\"bordercolor\":\"rgba(0, 0, 0, 1.000)\"},\"titlefont\":{\"size\":15,\"color\":\"rgba(0, 0, 0, 1.000)\",\"family\":\"Helvetica\"},\"paper_bgcolor\":\"rgba(255, 255, 255, 1.000)\",\"xaxis\":{\"linecolor\":\"rgba(0, 0, 0, 1.000)\",\"type\":\"-\",\"titlefont\":{\"size\":15,\"color\":\"rgba(0, 0, 0, 1.000)\",\"family\":\"Helvetica\"},\"tickcolor\":\"rgba(0, 0, 0, 1.000)\",\"title\":\"\",\"showgrid\":true,\"zeroline\":false,\"tickfont\":{\"size\":11,\"color\":\"rgba(0, 0, 0, 1.000)\",\"family\":\"Helvetica\"}},\"title\":\"\",\"margin\":{\"r\":8,\"l\":35,\"b\":30,\"t\":20}});\n",
       "  </script>\n"
      ]
     },
     "execution_count": 51,
     "metadata": {},
     "output_type": "execute_result"
    }
   ],
   "source": [
    "heatmap(pid, yflip=true)"
   ]
  },
  {
   "cell_type": "code",
   "execution_count": 52,
   "metadata": {
    "collapsed": false
   },
   "outputs": [
    {
     "data": {
      "text/html": [
       "<script src=\"/home/diego/.julia/v0.4/Plots/deps/plotly-latest.min.js\"></script>  <div id=\"981d8b89-e55b-42d4-bffa-54eff97f96de\" style=\"width:600px;height:300px;\"></div>\n",
       "  <script>\n",
       "    PLOT = document.getElementById('981d8b89-e55b-42d4-bffa-54eff97f96de');\n",
       "    Plotly.plot(PLOT, [{\"nbinsx\":30,\"name\":\"y1\",\"type\":\"histogram\",\"line\":{\"width\":1,\"dash\":\"solid\",\"color\":\"rgba(0, 154, 250, 1.000)\",\"shape\":\"linear\"},\"x\":[39.285714285714285,25.806451612903224,33.04347826086956,89.36170212765957,33.04347826086956,57.142857142857146,95.6043956043956,21.978021978021978,44.21052631578947,32.17391304347826,37.634408602150536,52.04081632653061,38.297872340425535,27.43362831858407,32.758620689655174,63.44086021505376,42.15686274509804,28.037383177570092,32.17391304347826,41.44144144144144,38.23529411764706,50.0,46.93877551020408,35.23809523809524,33.333333333333336,26.724137931034484,39.130434782608695,31.03448275862069,36.8421052631579,44.791666666666664,34.21052631578947,92.3913043478261,28.703703703703702,34.48275862068966,34.48275862068966,43.13725490196079,35.13513513513514,30.17241379310345,35.3448275862069,66.3157894736842,15.053763440860216,93.4065934065934,34.48275862068966,35.96491228070175,93.4065934065934,32.758620689655174,28.440366972477065,36.52173913043478,31.304347826086957,36.458333333333336,42.2680412371134,38.53211009174312,47.31182795698925,34.48275862068966,36.206896551724135,47.916666666666664,31.914893617021278,20.87912087912088,33.62068965517241,35.3448275862069,33.62068965517241,40.36697247706422,17.582417582417584,57.57575757575758,95.6043956043956,33.0,30.107526881720432,22.22222222222222,28.181818181818183,47.0,59.183673469387756,27.77777777777778,43.75,61.95652173913044,34.48275862068966,37.254901960784316,32.758620689655174,31.304347826086957,63.73626373626374,38.05309734513274,38.541666666666664,31.896551724137932,2.6548672566371683,42.857142857142854,30.8411214953271,38.46153846153846,45.19230769230769,19.469026548672566,33.62068965517241,61.386138613861384,16.129032258064516,33.62068965517241,87.09677419354838,43.1578947368421,36.8421052631579,32.17391304347826,42.857142857142854,37.86407766990291,19.29824561403509,33.04347826086956,34.48275862068966,59.375,46.464646464646464,30.17241379310345,32.67326732673267,94.56521739130434,39.42307692307692,30.17241379310345,48.35164835164835,87.09677419354838,43.0,46.808510638297875,39.583333333333336,39.130434782608695,33.62068965517241,38.095238095238095,36.52173913043478,19.642857142857142,56.52173913043478,40.17857142857143,56.52173913043478,28.571428571428573,37.5,15.178571428571429,50.0,55.65217391304348,32.142857142857146,33.92857142857143,31.25,31.03448275862069,56.89655172413793,39.285714285714285,31.25,32.142857142857146,57.391304347826086,47.32142857142857,39.285714285714285,28.571428571428573,28.571428571428573,26.785714285714285,36.607142857142854,40.51724137931034,80.0,56.89655172413793,35.714285714285715,29.464285714285715,56.14035087719298,41.07142857142857,33.035714285714285,59.48275862068966,50.86206896551724,29.464285714285715,49.107142857142854,56.89655172413793,56.89655172413793,36.607142857142854,14.285714285714286,38.392857142857146,52.58620689655172,56.52173913043478,38.392857142857146,54.310344827586206,31.25,54.78260869565217,54.78260869565217,35.714285714285715,55.357142857142854,52.67857142857143,43.75,52.58620689655172,53.44827586206897,27.678571428571427,26.785714285714285,12.5,57.758620689655174,56.03448275862069,53.44827586206897,34.82142857142857,12.5,36.607142857142854,37.5,32.142857142857146,19.642857142857142,25.892857142857142,30.088495575221238,36.607142857142854,37.5,31.25,39.285714285714285,35.714285714285715,61.206896551724135,30.357142857142858,59.48275862068966,54.78260869565217,33.92857142857143,46.49122807017544,53.57142857142857,56.89655172413793,11.304347826086957,46.42857142857143,28.571428571428573,43.75,36.607142857142854,33.91304347826087,56.89655172413793,41.964285714285715,25.0,52.58620689655172,39.285714285714285,33.035714285714285,50.0,58.26086956521739,45.535714285714285,58.035714285714285,32.758620689655174,56.52173913043478,59.48275862068966,35.714285714285715,28.571428571428573,58.62068965517241,31.25,37.5,44.642857142857146,56.89655172413793,33.035714285714285,38.392857142857146,46.42857142857143,28.571428571428573,29.464285714285715,80.0,54.310344827586206,32.142857142857146,57.391304347826086,22.608695652173914,26.041666666666668,22.608695652173914,23.333333333333332,24.731182795698924,12.222222222222221,25.53191489361702,22.608695652173914,20.652173913043477,30.0,19.791666666666668,20.17543859649123,19.82758620689655,27.36842105263158,24.03846153846154,15.88785046728972,22.608695652173914,18.91891891891892,17.647058823529413,26.595744680851062,21.428571428571427,21.21212121212121,20.0,19.82758620689655,20.869565217391305,22.413793103448278,17.894736842105264,16.3265306122449,21.05263157894737,26.595744680851062,15.74074074074074,20.689655172413794,20.689655172413794,19.607843137254903,21.62162162162162,21.551724137931036,20.689655172413794,28.8659793814433,8.88888888888889,25.806451612903224,20.689655172413794,22.80701754385965,25.806451612903224,19.82758620689655,21.818181818181817,22.608695652173914,19.130434782608695,20.0,25.77319587628866,22.93577981651376,23.91304347826087,20.689655172413794,20.869565217391305,23.157894736842106,19.35483870967742,11.11111111111111,22.413793103448278,20.689655172413794,20.869565217391305,23.423423423423422,11.235955056179776,25.742574257425744,24.731182795698924,23.404255319148938,22.988505747126435,18.0,20.72072072072072,21.568627450980394,24.242424242424242,17.59259259259259,26.041666666666668,26.595744680851062,23.275862068965516,26.041666666666668,20.689655172413794,19.130434782608695,26.881720430107528,25.43859649122807,27.083333333333332,22.413793103448278,2.803738317757009,20.952380952380953,26.21359223300971,21.153846153846153,15.09433962264151,14.018691588785046,21.551724137931036,26.21359223300971,12.222222222222221,21.73913043478261,27.659574468085108,24.210526315789473,21.05263157894737,21.73913043478261,21.428571428571427,25.24271844660194,14.814814814814815,22.608695652173914,20.689655172413794,22.68041237113402,20.2020202020202,19.82758620689655,23.529411764705884,24.46808510638298,21.153846153846153,21.551724137931036,26.08695652173913,25.53191489361702,21.0,19.148936170212767,25.0,20.869565217391305,20.689655172413794,19.626168224299064,20.869565217391305,33.91304347826087,96.52173913043478,21.73913043478261,33.04347826086956,13.91304347826087,63.47826086956522,96.52173913043478,32.17391304347826,28.695652173913043,32.17391304347826,28.448275862068964,67.24137931034483,32.17391304347826,31.304347826086957,28.695652173913043,96.52173913043478,39.130434782608695,40.0,22.608695652173914,29.565217391304348,25.217391304347824,33.04347826086956,56.89655172413793,59.130434782608695,87.93103448275862,31.304347826086957,25.217391304347824,72.17391304347827,34.78260869565217,28.695652173913043,68.10344827586206,73.27586206896552,26.08695652173913,47.82608695652174,87.06896551724138,70.6896551724138,29.565217391304348,12.173913043478262,32.17391304347826,73.27586206896552,73.04347826086956,32.17391304347826,72.41379310344827,28.695652173913043,73.04347826086956,83.47826086956522,31.304347826086957,66.08695652173913,45.21739130434783,43.47826086956522,73.27586206896552,71.55172413793103,26.956521739130434,21.73913043478261,11.304347826086957,67.24137931034483,72.41379310344827,73.27586206896552,31.304347826086957,13.043478260869565,29.565217391304348,33.04347826086956,33.91304347826087,20.0,25.217391304347824,31.304347826086957,31.304347826086957,34.78260869565217,27.82608695652174,35.65217391304348,32.17391304347826,84.48275862068965,29.565217391304348,73.27586206896552,83.47826086956522,29.565217391304348,40.0,75.65217391304348,88.79310344827586,26.956521739130434,42.608695652173914,28.695652173913043,42.608695652173914,33.04347826086956,54.78260869565217,68.10344827586206,37.391304347826086,44.34782608695652,69.82758620689656,33.04347826086956,28.695652173913043,47.82608695652174,94.78260869565217,41.73913043478261,71.30434782608695,38.793103448275865,96.52173913043478,68.10344827586206,30.434782608695652,28.695652173913043,72.41379310344827,31.304347826086957,33.04347826086956,39.130434782608695,87.06896551724138,30.434782608695652,32.17391304347826,43.47826086956522,29.565217391304348,23.47826086956522,59.130434782608695,73.27586206896552,33.04347826086956,72.17391304347827,33.91304347826087,52.12765957446808,85.1063829787234,19.148936170212767,43.75,33.04347826086956,38.297872340425535,53.06122448979592,37.234042553191486,29.20353982300885,33.62068965517241,62.765957446808514,42.15686274509804,26.16822429906542,33.04347826086956,40.54054054054054,38.23529411764706,48.93617021276596,47.95918367346939,33.333333333333336,34.375,27.586206896551722,40.0,31.896551724137932,36.458333333333336,43.75,35.96491228070175,88.29787234042553,26.85185185185185,35.3448275862069,36.206896551724135,44.11764705882353,36.03603603603604,31.03448275862069,36.206896551724135,65.26315789473684,12.5,84.04255319148936,36.206896551724135,36.8421052631579,84.04255319148936,33.62068965517241,30.275229357798164,36.52173913043478,32.17391304347826,36.458333333333336,43.29896907216495,39.44954128440367,44.791666666666664,36.206896551724135,36.206896551724135,47.916666666666664,32.291666666666664,19.148936170212767,34.48275862068966,37.06896551724138,33.62068965517241,43.11926605504587,18.085106382978722,57.57575757575758,85.1063829787234,33.0,28.125,19.444444444444443,30.0,48.0,59.183673469387756,25.0,44.791666666666664,57.4468085106383,35.3448275862069,38.23529411764706,33.62068965517241,32.17391304347826,58.51063829787234,37.16814159292036,39.583333333333336,32.758620689655174,3.5398230088495577,41.904761904761905,32.71028037383178,37.5,42.30769230769231,20.353982300884955,34.48275862068966,62.37623762376238,15.625,35.3448275862069,85.1063829787234,43.75,35.96491228070175,33.04347826086956,44.642857142857146,38.83495145631068,20.17543859649123,33.91304347826087,35.3448275862069,58.333333333333336,47.474747474747474,31.03448275862069,34.65346534653465,85.1063829787234,39.42307692307692,31.03448275862069,45.744680851063826,82.97872340425532,43.0,47.87234042553192,39.583333333333336,40.0,34.48275862068966,38.095238095238095,37.391304347826086,20.869565217391305,33.04347826086956,13.91304347826087,62.608695652173914,98.26086956521739,31.304347826086957,27.82608695652174,31.304347826086957,27.586206896551722,66.37931034482759,31.304347826086957,31.304347826086957,27.82608695652174,98.26086956521739,41.73913043478261,39.130434782608695,21.73913043478261,28.695652173913043,24.347826086956523,33.04347826086956,56.89655172413793,59.130434782608695,87.93103448275862,30.434782608695652,26.08695652173913,70.43478260869566,34.78260869565217,27.82608695652174,68.10344827586206,72.41379310344827,26.08695652173913,47.82608695652174,87.06896551724138,69.82758620689656,29.565217391304348,11.304347826086957,32.17391304347826,72.41379310344827,72.17391304347827,32.17391304347826,71.55172413793103,27.82608695652174,72.17391304347827,83.47826086956522,30.434782608695652,65.21739130434783,45.21739130434783,42.608695652173914,72.41379310344827,70.6896551724138,26.956521739130434,21.73913043478261,10.434782608695652,67.24137931034483,72.41379310344827,72.41379310344827,31.304347826086957,12.173913043478262,28.695652173913043,33.04347826086956,33.91304347826087,20.0,25.217391304347824,30.434782608695652,30.434782608695652,33.91304347826087,26.956521739130434,35.65217391304348,31.304347826086957,83.62068965517241,28.695652173913043,73.27586206896552,83.47826086956522,28.695652173913043,39.130434782608695,74.78260869565217,88.79310344827586,27.82608695652174,45.21739130434783,27.82608695652174,41.73913043478261,32.17391304347826,55.65217391304348,68.10344827586206,37.391304347826086,45.21739130434783,68.96551724137932,33.04347826086956,26.956521739130434,46.95652173913044,96.52173913043478,40.869565217391305,70.43478260869566,39.6551724137931,100.0,68.10344827586206,29.565217391304348,27.82608695652174,71.55172413793103,30.434782608695652,33.04347826086956,38.26086956521739,87.06896551724138,30.434782608695652,32.17391304347826,42.608695652173914,28.695652173913043,22.608695652173914,59.130434782608695,72.41379310344827,33.04347826086956,71.30434782608695,54.94505494505494,28.767123287671232,27.36842105263158,20.869565217391305,34.40860215053763,44.89795918367347,35.1063829787234,23.008849557522122,25.0,48.38709677419355,35.294117647058826,19.626168224299064,20.869565217391305,25.225225225225227,25.49019607843137,42.391304347826086,39.795918367346935,26.666666666666668,30.76923076923077,17.54385964912281,27.82608695652174,21.551724137931036,31.57894736842105,44.791666666666664,23.68421052631579,56.52173913043478,20.37037037037037,25.862068965517242,23.275862068965516,38.23529411764706,28.82882882882883,21.551724137931036,22.413793103448278,55.78947368421053,17.333333333333332,53.84615384615385,23.275862068965516,24.56140350877193,53.84615384615385,23.275862068965516,23.853211009174313,23.47826086956522,20.869565217391305,31.25,28.8659793814433,28.440366972477065,34.78260869565217,23.275862068965516,22.413793103448278,40.625,29.78723404255319,26.027397260273972,25.862068965517242,23.275862068965516,23.275862068965516,40.36697247706422,21.91780821917808,44.44444444444444,54.94505494505494,20.0,33.333333333333336,13.88888888888889,24.545454545454547,38.0,47.95918367346939,18.51851851851852,29.166666666666668,55.43478260869565,23.275862068965516,31.372549019607842,22.413793103448278,20.869565217391305,53.84615384615385,30.088495575221238,26.041666666666668,21.551724137931036,0.0,25.714285714285715,25.233644859813083,27.884615384615383,39.42307692307692,9.734513274336283,25.0,47.524752475247524,17.333333333333332,22.413793103448278,55.913978494623656,30.526315789473685,29.82456140350877,20.869565217391305,32.142857142857146,26.21359223300971,10.526315789473685,20.869565217391305,25.862068965517242,48.958333333333336,39.39393939393939,20.689655172413794,29.702970297029704,54.34782608695652,32.69230769230769,21.551724137931036,42.22222222222222,53.763440860215056,31.0,39.361702127659576,32.291666666666664,27.82608695652174,23.275862068965516,31.428571428571427,23.47826086956522,23.076923076923077,44.21052631578947,32.17391304347826,36.55913978494624,50.0,37.234042553191486,27.43362831858407,32.758620689655174,61.29032258064516,41.1764705882353,29.906542056074766,32.17391304347826,41.44144144144144,38.23529411764706,50.0,47.95918367346939,36.19047619047619,35.483870967741936,26.724137931034484,36.52173913043478,31.03448275862069,35.78947368421053,42.708333333333336,34.21052631578947,88.04347826086956,30.555555555555557,34.48275862068966,34.48275862068966,43.13725490196079,36.93693693693694,30.17241379310345,35.3448275862069,63.1578947368421,17.204301075268816,93.4065934065934,34.48275862068966,35.96491228070175,93.4065934065934,32.758620689655174,28.440366972477065,36.52173913043478,33.04347826086956,35.416666666666664,42.2680412371134,39.44954128440367,47.31182795698925,34.48275862068966,36.206896551724135,50.0,30.851063829787233,19.78021978021978,33.62068965517241,35.3448275862069,35.3448275862069,41.28440366972477,17.582417582417584,55.55555555555556,100.0,33.0,29.032258064516128,24.074074074074073,28.181818181818183,48.0,58.16326530612245,29.62962962962963,43.75,61.95652173913044,34.48275862068966,35.294117647058826,32.758620689655174,33.04347826086956,61.53846153846154,36.283185840707965,38.541666666666664,31.896551724137932,2.6548672566371683,42.857142857142854,29.906542056074766,37.5,46.15384615384615,19.469026548672566,33.62068965517241,57.42574257425743,16.129032258064516,33.62068965517241,84.94623655913979,42.10526315789474,36.8421052631579,32.17391304347826,41.07142857142857,37.86407766990291,19.29824561403509,33.04347826086956,34.48275862068966,57.291666666666664,47.474747474747474,30.17241379310345,34.65346534653465,98.91304347826087,37.5,30.17241379310345,47.252747252747255,83.87096774193549,42.0,45.744680851063826,37.5,36.52173913043478,33.62068965517241,38.095238095238095,36.52173913043478,16.842105263157894,13.043478260869565,18.27956989247312,19.387755102040817,19.148936170212767,11.504424778761061,12.931034482758621,20.43010752688172,15.686274509803921,10.280373831775702,13.91304347826087,13.513513513513514,11.764705882352942,22.82608695652174,17.346938775510203,16.19047619047619,15.384615384615385,8.771929824561404,14.782608695652174,12.068965517241379,14.736842105263158,19.791666666666668,15.178571428571429,20.652173913043477,10.185185185185185,15.517241379310345,14.655172413793103,20.58823529411765,12.612612612612613,12.068965517241379,13.793103448275861,20.0,19.23076923076923,19.78021978021978,14.655172413793103,14.912280701754385,19.78021978021978,14.655172413793103,12.844036697247706,13.91304347826087,17.391304347826086,14.583333333333334,18.556701030927837,12.844036697247706,13.043478260869565,14.655172413793103,13.793103448275861,18.75,13.829787234042554,24.0,15.517241379310345,13.793103448275861,13.793103448275861,20.18348623853211,26.0,19.19191919191919,23.076923076923077,8.0,17.28395061728395,7.407407407407407,12.727272727272727,21.0,19.387755102040817,10.185185185185185,16.666666666666668,20.652173913043477,13.793103448275861,9.803921568627452,13.793103448275861,17.391304347826086,20.87912087912088,15.044247787610619,16.666666666666668,13.793103448275861,0.0,14.285714285714286,13.08411214953271,10.576923076923077,18.26923076923077,0.8849557522123894,15.517241379310345,20.792079207920793,30.76923076923077,11.206896551724139,20.43010752688172,18.94736842105263,16.666666666666668,13.043478260869565,11.607142857142858,16.50485436893204,0.0,13.91304347826087,15.517241379310345,21.875,17.171717171717173,14.655172413793103,17.821782178217823,22.82608695652174,10.576923076923077,12.068965517241379,21.11111111111111,20.43010752688172,12.0,17.02127659574468,14.583333333333334,14.782608695652174,14.655172413793103,11.428571428571429,15.652173913043478,62.608695652173914,37.234042553191486,37.0,38.541666666666664,26.31578947368421,61.73913043478261,41.05263157894737,35.57692307692308,31.77570093457944,63.47826086956522,40.90909090909091,43.56435643564357,32.63157894736842,36.36363636363637,28.155339805825243,40.0,50.43478260869565,47.82608695652174,58.62068965517241,38.94736842105263,28.571428571428573,64.03508771929825,44.21052631578947,30.8411214953271,63.47826086956522,62.06896551724138,33.00970873786408,45.45454545454545,57.758620689655174,65.51724137931035,37.11340206185567,16.842105263157894,43.1578947368421,64.65517241379311,65.48672566371681,43.1578947368421,66.37931034482759,27.272727272727273,71.30434782608695,60.869565217391305,41.05263157894737,76.04166666666667,44.03669724770642,53.191489361702125,64.65517241379311,80.70175438596492,35.05154639175258,25.806451612903224,13.68421052631579,60.0,67.82608695652173,65.21739130434783,33.333333333333336,17.02127659574468,38.613861386138616,44.21052631578947,36.0,28.72340425531915,25.471698113207548,27.92792792792793,34.31372549019608,39.39393939393939,29.62962962962963,44.21052631578947,38.94736842105263,61.206896551724135,37.0,63.47826086956522,60.869565217391305,36.8421052631579,37.719298245614034,72.91666666666667,60.3448275862069,6.1946902654867255,42.30769230769231,29.245283018867923,43.689320388349515,34.905660377358494,34.51327433628319,60.869565217391305,35.922330097087375,38.94736842105263,65.78947368421052,42.5531914893617,40.0,39.473684210526315,62.608695652173914,43.24324324324324,71.84466019417475,28.94736842105263,62.608695652173914,63.47826086956522,34.02061855670103,35.0,62.06896551724138,34.31372549019608,44.21052631578947,41.74757281553398,57.758620689655174,40.0,42.5531914893617,47.474747474747474,37.89473684210526,32.63157894736842,47.82608695652174,65.51724137931035,30.18867924528302,67.82608695652173,30.434782608695652,27.82608695652174,30.434782608695652,27.586206896551722,66.37931034482759,31.304347826086957,30.434782608695652,27.82608695652174,98.26086956521739,40.869565217391305,39.130434782608695,21.73913043478261,28.695652173913043,24.347826086956523,33.04347826086956,56.89655172413793,58.26086956521739,87.93103448275862,30.434782608695652,25.217391304347824,70.43478260869566,33.91304347826087,27.82608695652174,67.24137931034483,72.41379310344827,24.347826086956523,47.82608695652174,87.06896551724138,69.82758620689656,28.695652173913043,11.304347826086957,31.304347826086957,72.41379310344827,72.17391304347827,31.304347826086957,71.55172413793103,27.82608695652174,72.17391304347827,83.47826086956522,30.434782608695652,65.21739130434783,45.21739130434783,42.608695652173914,72.41379310344827,70.6896551724138,26.08695652173913,21.73913043478261,10.434782608695652,66.37931034482759,72.41379310344827,72.41379310344827,30.434782608695652,12.173913043478262,28.695652173913043,32.17391304347826,33.91304347826087,20.0,25.217391304347824,30.434782608695652,29.565217391304348,33.91304347826087,26.956521739130434,35.65217391304348,31.304347826086957,83.62068965517241,28.695652173913043,72.41379310344827,83.47826086956522,28.695652173913043,39.130434782608695,74.78260869565217,88.79310344827586,27.82608695652174,44.34782608695652,27.82608695652174,41.73913043478261,32.17391304347826,56.52173913043478,67.24137931034483,36.52173913043478,44.34782608695652,68.96551724137932,32.17391304347826,27.82608695652174,46.95652173913044,96.52173913043478,40.869565217391305,70.43478260869566,39.6551724137931,98.26086956521739,67.24137931034483,29.565217391304348,27.82608695652174,71.55172413793103,30.434782608695652,32.17391304347826,38.26086956521739,87.06896551724138,29.565217391304348,31.304347826086957,42.608695652173914,28.695652173913043,22.608695652173914,58.26086956521739,72.41379310344827,33.04347826086956,71.30434782608695,34.69387755102041,61.702127659574465,31.25,31.896551724137932,32.25806451612903,31.372549019607842,28.037383177570092,31.304347826086957,29.72972972972973,30.392156862745097,32.25806451612903,35.416666666666664,28.431372549019606,27.36842105263158,22.413793103448278,33.04347826086956,30.17241379310345,50.526315789473685,35.416666666666664,31.57894736842105,37.634408602150536,29.62962962962963,32.758620689655174,31.896551724137932,35.0,26.126126126126128,30.17241379310345,31.896551724137932,37.89473684210526,9.473684210526315,36.55913978494624,31.03448275862069,31.57894736842105,36.55913978494624,31.896551724137932,32.407407407407405,31.304347826086957,31.304347826086957,53.68421052631579,38.144329896907216,30.275229357798164,32.63157894736842,31.03448275862069,30.434782608695652,38.70967741935484,28.72340425531915,13.978494623655914,31.896551724137932,32.758620689655174,31.304347826086957,29.357798165137616,17.391304347826086,31.31313131313131,36.55913978494624,27.835051546391753,20.652173913043477,24.761904761904763,33.027522935779814,40.0,43.29896907216495,25.925925925925927,34.375,35.483870967741936,32.758620689655174,37.37373737373738,33.62068965517241,31.304347826086957,34.40860215053763,28.31858407079646,36.458333333333336,30.17241379310345,3.6363636363636362,32.38095238095238,31.73076923076923,30.76923076923077,35.57692307692308,18.181818181818183,32.758620689655174,32.67326732673267,17.894736842105264,31.304347826086957,39.130434782608695,29.473684210526315,29.82456140350877,31.304347826086957,27.678571428571427,33.00970873786408,19.81981981981982,31.304347826086957,32.758620689655174,35.78947368421053,34.02061855670103,31.03448275862069,36.0,36.55913978494624,31.73076923076923,30.17241379310345,35.483870967741936,36.95652173913044,32.0,35.869565217391305,31.182795698924732,33.04347826086956,31.896551724137932,30.476190476190474,32.17391304347826,32.6530612244898,30.088495575221238,30.17241379310345,53.06122448979592,41.1764705882353,24.299065420560748,27.82608695652174,29.72972972972973,32.35294117647059,44.89795918367347,43.87755102040816,32.38095238095238,28.0,24.137931034482758,33.04347826086956,26.724137931034484,33.0,44.89795918367347,31.57894736842105,52.04081632653061,25.0,32.758620689655174,31.03448275862069,40.19607843137255,31.53153153153153,25.862068965517242,30.17241379310345,57.142857142857146,13.0,51.02040816326531,31.896551724137932,32.45614035087719,51.02040816326531,30.17241379310345,31.192660550458715,33.04347826086956,27.82608695652174,33.0,37.0,32.11009174311926,35.0,31.896551724137932,32.758620689655174,43.87755102040816,33.0,18.367346938775512,32.758620689655174,32.758620689655174,30.17241379310345,39.44954128440367,17.346938775510203,51.515151515151516,50.0,27.0,34.0,17.59259259259259,31.818181818181817,43.0,55.10204081632653,22.22222222222222,36.0,47.95918367346939,31.896551724137932,38.23529411764706,28.448275862068964,27.82608695652174,47.95918367346939,30.97345132743363,31.0,27.586206896551722,2.6548672566371683,30.476190476190474,33.64485981308411,33.65384615384615,35.57692307692308,15.929203539823009,33.62068965517241,53.46534653465346,14.0,28.448275862068964,53.06122448979592,40.0,30.70175438596491,27.82608695652174,33.92857142857143,35.922330097087375,17.54385964912281,27.82608695652174,32.758620689655174,44.89795918367347,43.43434343434343,27.586206896551722,39.603960396039604,50.0,38.46153846153846,25.862068965517242,45.91836734693877,51.02040816326531,32.0,41.83673469387755,37.37373737373738,33.04347826086956,30.17241379310345,37.142857142857146,31.304347826086957,32.743362831858406,31.896551724137932,36.170212765957444,34.31372549019608,28.97196261682243,31.304347826086957,28.82882882882883,31.372549019607842,34.04255319148936,34.69387755102041,23.80952380952381,32.291666666666664,26.724137931034484,33.04347826086956,30.17241379310345,46.875,37.5,33.333333333333336,37.234042553191486,30.555555555555557,33.62068965517241,31.896551724137932,34.31372549019608,31.53153153153153,30.17241379310345,33.62068965517241,35.78947368421053,10.416666666666666,37.234042553191486,31.896551724137932,32.45614035087719,37.234042553191486,34.48275862068966,33.944954128440365,33.91304347826087,32.17391304347826,48.958333333333336,40.20618556701031,33.944954128440365,35.416666666666664,31.896551724137932,31.896551724137932,37.5,27.083333333333332,17.02127659574468,31.896551724137932,33.62068965517241,32.758620689655174,30.275229357798164,18.085106382978722,35.35353535353536,37.234042553191486,30.0,19.791666666666668,23.14814814814815,33.63636363636363,39.0,41.83673469387755,26.85185185185185,38.541666666666664,35.1063829787234,31.896551724137932,33.333333333333336,33.62068965517241,32.17391304347826,35.1063829787234,29.20353982300885,36.458333333333336,30.17241379310345,4.424778761061947,29.523809523809526,31.77570093457944,33.65384615384615,36.53846153846154,18.58407079646018,33.62068965517241,30.693069306930692,17.708333333333332,33.62068965517241,37.234042553191486,31.25,30.70175438596491,31.304347826086957,30.357142857142858,33.980582524271846,17.54385964912281,31.304347826086957,33.62068965517241,31.25,33.333333333333336,32.758620689655174,33.663366336633665,37.234042553191486,34.61538461538461,30.17241379310345,38.297872340425535,35.1063829787234,36.0,35.1063829787234,27.083333333333332,33.04347826086956,34.48275862068966,33.333333333333336,33.91304347826087,30.17241379310345,30.088495575221238,29.20353982300885,28.448275862068964,27.586206896551722,27.586206896551722,25.217391304347824,27.43362831858407,30.357142857142858,27.82608695652174,26.08695652173913,25.862068965517242,31.03448275862069,27.586206896551722,24.347826086956523,27.43362831858407,30.17241379310345,29.20353982300885,28.448275862068964,31.896551724137932,30.17241379310345,31.25,35.3448275862069,27.586206896551722,28.448275862068964,34.51327433628319,10.434782608695652,28.31858407079646,29.310344827586206,29.310344827586206,28.31858407079646,30.17241379310345,86.72566371681415,29.310344827586206,26.724137931034484,23.68421052631579,28.695652173913043,34.48275862068966,29.565217391304348,29.310344827586206,27.82608695652174,29.464285714285715,20.17543859649123,13.274336283185841,31.896551724137932,28.448275862068964,29.565217391304348,34.21052631578947,39.285714285714285,27.43362831858407,27.43362831858407,20.535714285714285,15.789473684210526,20.0,83.1858407079646,31.858407079646017,31.25,25.0,29.565217391304348,29.20353982300885,31.896551724137932,27.19298245614035,31.03448275862069,26.724137931034484,29.20353982300885,33.91304347826087,26.956521739130434,27.586206896551722,5.3097345132743365,25.862068965517242,47.82608695652174,27.586206896551722,27.19298245614035,15.929203539823009,31.896551724137932,32.743362831858406,12.173913043478262,28.695652173913043,29.464285714285715,21.73913043478261,31.03448275862069,28.448275862068964,33.62068965517241,29.565217391304348,16.8141592920354,27.586206896551722,31.896551724137932,26.785714285714285,30.357142857142858,29.310344827586206,43.75,27.43362831858407,27.82608695652174,27.586206896551722,26.548672566371682,27.678571428571427,26.08695652173913,28.571428571428573,26.548672566371682,31.03448275862069,31.03448275862069,38.59649122807018,29.310344827586206,34.48275862068966,31.03448275862069,30.17241379310345,68.10344827586206,42.608695652173914,40.0,22.413793103448278,29.310344827586206,26.08695652173913,31.896551724137932,51.30434782608695,57.758620689655174,66.37931034482759,34.48275862068966,29.310344827586206,68.10344827586206,34.48275862068966,29.565217391304348,75.65217391304348,68.96551724137932,25.862068965517242,45.21739130434783,66.37931034482759,68.10344827586206,31.03448275862069,14.655172413793103,31.03448275862069,70.6896551724138,72.17391304347827,31.03448275862069,72.41379310344827,31.03448275862069,65.51724137931035,63.793103448275865,31.896551724137932,64.34782608695652,47.41379310344828,43.47826086956522,70.6896551724138,70.43478260869566,26.724137931034484,21.73913043478261,12.931034482758621,72.17391304347827,71.30434782608695,67.24137931034483,31.896551724137932,14.655172413793103,31.896551724137932,32.758620689655174,26.956521739130434,20.689655172413794,25.217391304347824,29.310344827586206,31.03448275862069,33.62068965517241,28.448275862068964,33.91304347826087,31.896551724137932,73.27586206896552,30.434782608695652,71.30434782608695,63.793103448275865,31.03448275862069,39.6551724137931,57.758620689655174,67.24137931034483,15.652173913043478,39.130434782608695,29.310344827586206,42.608695652173914,35.3448275862069,41.73913043478261,71.30434782608695,31.896551724137932,28.448275862068964,67.82608695652173,31.896551724137932,28.448275862068964,43.96551724137931,67.24137931034483,46.08695652173913,68.10344827586206,40.0,66.37931034482759,75.65217391304348,29.310344827586206,27.586206896551722,70.6896551724138,30.17241379310345,32.758620689655174,40.0,66.37931034482759,30.17241379310345,31.896551724137932,44.34782608695652,28.448275862068964,23.47826086956522,57.758620689655174,72.41379310344827,30.434782608695652,69.82758620689656,46.07843137254902,28.97196261682243,31.304347826086957,35.13513513513514,37.254901960784316,51.61290322580645,51.02040816326531,31.428571428571427,30.526315789473685,25.862068965517242,38.26086956521739,29.310344827586206,36.8421052631579,42.708333333333336,33.333333333333336,65.59139784946237,28.703703703703702,36.206896551724135,31.896551724137932,47.05882352941177,38.73873873873874,28.448275862068964,32.758620689655174,63.1578947368421,13.68421052631579,62.365591397849464,32.758620689655174,35.08771929824562,62.365591397849464,33.62068965517241,31.192660550458715,33.91304347826087,30.434782608695652,35.416666666666664,40.20618556701031,41.28440366972477,40.0,32.758620689655174,33.62068965517241,52.083333333333336,37.89473684210526,17.204301075268816,37.06896551724138,31.896551724137932,32.758620689655174,46.788990825688074,18.27956989247312,74.74747474747475,61.29032258064516,32.0,28.42105263157895,23.14814814814815,30.90909090909091,46.0,59.183673469387756,27.77777777777778,42.708333333333336,61.29032258064516,32.758620689655174,41.1764705882353,31.896551724137932,30.434782608695652,60.215053763440864,37.16814159292036,37.5,31.03448275862069,3.5398230088495577,36.19047619047619,30.8411214953271,37.5,41.34615384615385,19.469026548672566,37.06896551724138,55.445544554455445,14.736842105263158,31.03448275862069,68.81720430107526,40.0,36.8421052631579,31.304347826086957,39.285714285714285,37.86407766990291,21.92982456140351,31.304347826086957,36.206896551724135,54.166666666666664,49.494949494949495,30.17241379310345,37.62376237623762,61.29032258064516,38.46153846153846,28.448275862068964,46.236559139784944,64.51612903225806,41.0,47.87234042553192,35.416666666666664,38.26086956521739,33.62068965517241,40.0,35.65217391304348,25.233644859813083,30.434782608695652,35.13513513513514,32.69230769230769,36.27450980392157,40.19607843137255,35.23809523809524,30.76923076923077,25.862068965517242,33.91304347826087,29.310344827586206,30.76923076923077,40.19607843137255,32.45614035087719,43.13725490196079,25.925925925925927,33.62068965517241,33.62068965517241,38.23529411764706,36.93693693693694,30.17241379310345,32.758620689655174,47.05882352941177,10.576923076923077,42.15686274509804,32.758620689655174,36.52173913043478,42.15686274509804,31.896551724137932,29.357798165137616,31.304347826086957,34.78260869565217,30.76923076923077,38.46153846153846,36.69724770642202,31.73076923076923,32.758620689655174,31.896551724137932,40.19607843137255,30.76923076923077,15.686274509803921,35.3448275862069,30.17241379310345,31.03448275862069,39.44954128440367,14.705882352941176,43.13725490196079,41.1764705882353,33.333333333333336,23.076923076923077,19.444444444444443,29.72972972972973,35.294117647058826,49.01960784313726,25.0,40.38461538461539,41.1764705882353,30.17241379310345,29.807692307692307,32.758620689655174,34.78260869565217,40.19607843137255,34.51327433628319,33.65384615384615,30.17241379310345,4.424778761061947,36.19047619047619,30.8411214953271,33.333333333333336,44.23076923076923,19.469026548672566,33.62068965517241,41.1764705882353,13.461538461538462,29.310344827586206,42.15686274509804,33.65384615384615,33.333333333333336,31.304347826086957,37.5,36.53846153846154,19.29824561403509,31.304347826086957,33.62068965517241,37.254901960784316,40.19607843137255,33.62068965517241,41.1764705882353,41.1764705882353,33.65384615384615,30.17241379310345,38.23529411764706,41.1764705882353,30.76923076923077,37.254901960784316,34.95145631067961,33.91304347826087,31.03448275862069,33.333333333333336,34.78260869565217,27.82608695652174,24.324324324324323,36.44859813084112,25.233644859813083,26.16822429906542,28.97196261682243,24.299065420560748,22.413793103448278,30.434782608695652,28.448275862068964,29.906542056074766,22.429906542056074,30.70175438596491,28.97196261682243,83.01886792452831,31.03448275862069,27.586206896551722,25.233644859813083,33.333333333333336,28.448275862068964,31.03448275862069,29.906542056074766,38.83495145631068,28.97196261682243,28.448275862068964,29.565217391304348,28.97196261682243,30.17241379310345,29.72972972972973,30.434782608695652,30.434782608695652,27.102803738317757,31.77570093457944,32.11009174311926,35.51401869158879,28.448275862068964,29.310344827586206,27.102803738317757,26.16822429906542,14.018691588785046,29.310344827586206,30.17241379310345,31.03448275862069,28.82882882882883,12.149532710280374,33.64485981308411,29.906542056074766,23.300970873786408,17.757009345794394,61.53846153846154,28.31858407079646,32.71028037383178,26.16822429906542,82.6923076923077,28.037383177570092,26.16822429906542,28.448275862068964,28.037383177570092,29.310344827586206,30.434782608695652,25.233644859813083,32.45614035087719,29.906542056074766,28.448275862068964,4.504504504504505,24.299065420560748,30.8411214953271,36.44859813084112,29.906542056074766,17.117117117117118,29.310344827586206,26.16822429906542,12.149532710280374,28.448275862068964,27.102803738317757,26.16822429906542,32.45614035087719,27.82608695652174,34.82142857142857,32.71028037383178,16.071428571428573,27.82608695652174,31.03448275862069,23.364485981308412,25.233644859813083,27.586206896551722,39.25233644859813,29.906542056074766,37.38317757009346,28.448275862068964,29.906542056074766,28.037383177570092,35.51401869158879,25.233644859813083,28.97196261682243,30.434782608695652,31.03448275862069,26.16822429906542,31.304347826086957,41.73913043478261,39.130434782608695,21.73913043478261,28.695652173913043,24.347826086956523,33.04347826086956,56.03448275862069,60.0,89.65517241379311,30.434782608695652,25.217391304347824,72.17391304347827,33.91304347826087,27.82608695652174,68.96551724137932,73.27586206896552,25.217391304347824,48.69565217391305,88.79310344827586,71.55172413793103,28.695652173913043,11.304347826086957,31.304347826086957,73.27586206896552,73.91304347826087,31.304347826086957,73.27586206896552,27.82608695652174,73.91304347826087,85.21739130434783,30.434782608695652,66.08695652173913,46.08695652173913,42.608695652173914,73.27586206896552,72.41379310344827,26.08695652173913,21.73913043478261,10.434782608695652,68.10344827586206,74.13793103448276,74.13793103448276,30.434782608695652,12.173913043478262,28.695652173913043,32.17391304347826,33.04347826086956,20.0,25.217391304347824,30.434782608695652,30.434782608695652,33.91304347826087,26.956521739130434,35.65217391304348,31.304347826086957,85.34482758620689,28.695652173913043,74.13793103448276,85.21739130434783,28.695652173913043,39.130434782608695,75.65217391304348,90.51724137931035,28.695652173913043,45.21739130434783,28.695652173913043,41.73913043478261,32.17391304347826,57.391304347826086,68.96551724137932,36.52173913043478,45.21739130434783,69.82758620689656,32.17391304347826,27.82608695652174,46.95652173913044,96.52173913043478,40.869565217391305,72.17391304347827,40.51724137931034,98.26086956521739,68.96551724137932,30.434782608695652,27.82608695652174,72.41379310344827,30.434782608695652,32.17391304347826,39.130434782608695,88.79310344827586,29.565217391304348,31.304347826086957,43.47826086956522,28.695652173913043,22.608695652173914,60.0,74.13793103448276,32.17391304347826,73.04347826086956,40.0,26.126126126126128,30.63063063063063,26.605504587155963,39.63963963963964,34.78260869565217,45.21739130434783,38.793103448275865,31.53153153153153,31.53153153153153,43.85964912280702,40.54054054054054,26.605504587155963,43.47826086956522,46.55172413793103,27.92792792792793,54.54545454545455,38.793103448275865,44.827586206896555,35.13513513513514,9.00900900900901,40.54054054054054,47.41379310344828,44.73684210526316,40.54054054054054,43.10344827586207,28.82882882882883,43.47826086956522,44.34782608695652,30.63063063063063,41.81818181818182,51.351351351351354,42.72727272727273,47.41379310344828,43.47826086956522,31.53153153153153,26.363636363636363,13.513513513513514,45.21739130434783,43.47826086956522,39.6551724137931,34.234234234234236,11.711711711711711,31.53153153153153,41.44144144144144,49.074074074074076,24.324324324324323,21.296296296296298,27.43362831858407,34.234234234234236,36.93693693693694,24.324324324324323,62.96296296296296,32.432432432432435,45.689655172413794,25.68807339449541,46.08695652173913,44.34782608695652,32.432432432432435,48.24561403508772,37.83783783783784,39.6551724137931,7.142857142857143,87.03703703703704,28.82882882882883,39.09090909090909,36.03603603603604,27.678571428571427,43.47826086956522,36.03603603603604,16.216216216216218,43.47826086956522,39.63963963963964,33.333333333333336,51.75438596491228,41.73913043478261,44.14414414414414,45.04504504504504,29.20353982300885,41.73913043478261,43.47826086956522,31.53153153153153,29.72972972972973,43.10344827586207,29.72972972972973,41.44144144144144,43.63636363636363,38.793103448275865,35.13513513513514,36.93693693693694,40.0,27.92792792792793,26.363636363636363,45.21739130434783,43.96551724137931,30.90909090909091,47.82608695652174,26.470588235294116,28.431372549019606,27.884615384615383,39.21568627450981,28.695652173913043,40.869565217391305,39.6551724137931,42.15686274509804,32.35294117647059,37.719298245614034,39.21568627450981,36.44859813084112,40.0,37.06896551724138,25.0,50.0,39.6551724137931,42.241379310344826,31.372549019607842,17.647058823529413,35.294117647058826,37.93103448275862,43.36283185840708,35.294117647058826,37.06896551724138,25.225225225225227,38.26086956521739,43.47826086956522,36.27450980392157,42.57425742574257,44.03669724770642,70.29702970297029,37.93103448275862,40.0,28.431372549019606,29.702970297029704,16.666666666666668,39.130434782608695,38.26086956521739,36.206896551724135,27.027027027027028,11.764705882352942,38.23529411764706,38.23529411764706,35.64356435643565,23.529411764705884,28.037383177570092,26.785714285714285,31.372549019607842,39.21568627450981,34.25925925925926,41.584158415841586,34.31372549019608,41.37931034482759,29.702970297029704,40.869565217391305,43.47826086956522,35.294117647058826,51.75438596491228,44.11764705882353,39.6551724137931,5.2631578947368425,42.30769230769231,26.16822429906542,92.23300970873787,40.56603773584906,23.68421052631579,38.26086956521739,36.89320388349515,18.627450980392158,39.130434782608695,38.23529411764706,39.21568627450981,52.63157894736842,40.0,55.85585585585586,43.689320388349515,21.73913043478261,39.130434782608695,40.0,33.333333333333336,27.45098039215686,41.37931034482759,35.922330097087375,38.23529411764706,67.96116504854369,39.6551724137931,38.23529411764706,37.254901960784316,65.34653465346534,28.431372549019606,31.683168316831683,40.869565217391305,37.06896551724138,33.0188679245283,43.47826086956522,44.89795918367347,28.571428571428573,24.46808510638298,18.96551724137931,26.956521739130434,21.551724137931036,29.473684210526315,33.333333333333336,25.43859649122807,46.73913043478261,25.0,25.862068965517242,25.0,38.23529411764706,27.92792792792793,20.689655172413794,25.0,52.63157894736842,10.638297872340425,50.0,25.0,27.19298245614035,50.0,25.0,28.440366972477065,26.956521739130434,24.347826086956523,31.25,30.927835051546392,30.275229357798164,27.659574468085108,25.0,26.724137931034484,42.708333333333336,27.659574468085108,15.217391304347826,26.724137931034484,25.0,25.862068965517242,40.36697247706422,15.217391304347826,48.484848484848484,50.0,21.0,28.72340425531915,16.666666666666668,28.181818181818183,37.0,46.93877551020408,22.22222222222222,32.291666666666664,50.0,24.137931034482758,35.294117647058826,24.137931034482758,24.347826086956523,50.0,25.663716814159294,26.041666666666668,21.551724137931036,2.6548672566371683,26.666666666666668,24.299065420560748,25.0,30.76923076923077,12.389380530973451,25.862068965517242,38.613861386138616,11.702127659574469,22.413793103448278,47.31182795698925,36.8421052631579,25.43859649122807,21.73913043478261,26.785714285714285,28.155339805825243,12.280701754385966,21.73913043478261,25.862068965517242,41.666666666666664,43.43434343434343,24.137931034482758,33.663366336633665,50.0,28.846153846153847,20.689655172413794,40.21739130434783,47.31182795698925,26.0,42.5531914893617,34.375,26.956521739130434,25.0,32.38095238095238,26.08695652173913,30.097087378640776,27.0,23.275862068965516,29.565217391304348,26.724137931034484,31.0,36.734693877551024,28.94736842105263,46.93877551020408,25.925925925925927,31.03448275862069,30.17241379310345,72.0,30.63063063063063,25.862068965517242,28.448275862068964,50.0,10.0,46.93877551020408,31.03448275862069,30.70175438596491,46.93877551020408,29.310344827586206,31.48148148148148,31.304347826086957,28.695652173913043,30.303030303030305,35.0,30.275229357798164,31.0,31.03448275862069,31.304347826086957,84.375,31.31313131313131,13.26530612244898,31.03448275862069,29.310344827586206,32.17391304347826,52.293577981651374,18.556701030927837,51.515151515151516,47.95918367346939,27.551020408163264,25.510204081632654,21.69811320754717,31.192660550458715,47.0,52.577319587628864,22.22222222222222,36.0,48.97959183673469,29.310344827586206,51.0,28.448275862068964,28.695652173913043,48.97959183673469,30.97345132743363,31.0,26.724137931034484,1.8018018018018018,31.428571428571427,31.428571428571427,27.884615384615383,36.53846153846154,17.117117117117118,31.03448275862069,47.524752475247524,14.0,29.565217391304348,50.51546391752577,32.0,29.82456140350877,28.695652173913043,29.464285714285715,32.03883495145631,18.75,28.695652173913043,31.03448275862069,46.391752577319586,94.84536082474227,26.724137931034484,36.0,47.95918367346939,32.69230769230769,25.862068965517242,35.714285714285715,46.391752577319586,35.0,73.95833333333333,36.08247422680412,29.565217391304348,29.310344827586206,31.428571428571427,28.695652173913043,19.047619047619047,21.73913043478261,26.08695652173913,23.275862068965516,28.571428571428573,30.476190476190474,25.43859649122807,36.19047619047619,29.245283018867923,26.956521739130434,25.862068965517242,31.067961165048544,30.0,23.275862068965516,23.275862068965516,37.142857142857146,13.333333333333334,32.38095238095238,25.0,26.31578947368421,32.38095238095238,25.862068965517242,29.09090909090909,26.08695652173913,26.08695652173913,29.807692307692307,25.96153846153846,27.522935779816514,27.884615384615383,25.0,26.31578947368421,31.372549019607842,24.271844660194176,10.476190476190476,27.82608695652174,23.47826086956522,26.08695652173913,24.324324324324323,11.538461538461538,34.285714285714285,36.19047619047619,23.711340206185568,20.58823529411765,29.0,27.678571428571427,35.23809523809524,37.5,27.77777777777778,25.24271844660194,32.38095238095238,25.862068965517242,25.77319587628866,26.08695652173913,26.08695652173913,31.428571428571427,27.19298245614035,26.666666666666668,25.0,4.672897196261682,29.12621359223301,28.155339805825243,25.96153846153846,33.0188679245283,15.88785046728972,27.82608695652174,38.095238095238095,10.476190476190476,25.43859649122807,33.65384615384615,26.666666666666668,29.82456140350877,24.347826086956523,28.82882882882883,31.428571428571427,17.59259259259259,24.347826086956523,26.956521739130434,29.807692307692307,30.097087378640776,25.862068965517242,34.61538461538461,36.19047619047619,27.884615384615383,23.275862068965516,28.571428571428573,34.61538461538461,26.923076923076923,30.097087378640776,51.515151515151516,26.08695652173913,25.862068965517242,29.245283018867923,25.217391304347824,27.586206896551722,33.91304347826087,35.3448275862069,33.68421052631579,26.53061224489796,35.08771929824562,32.97872340425532,25.0,34.48275862068966,35.3448275862069,21.153846153846153,41.44144144144144,35.3448275862069,37.93103448275862,29.896907216494846,15.384615384615385,34.40860215053763,35.3448275862069,35.96491228070175,34.40860215053763,34.48275862068966,26.126126126126128,33.04347826086956,36.52173913043478,33.333333333333336,42.2680412371134,38.53211009174312,43.47826086956522,35.3448275862069,32.758620689655174,25.510204081632654,24.46808510638298,17.94871794871795,33.62068965517241,35.3448275862069,34.48275862068966,25.225225225225227,19.23076923076923,28.712871287128714,35.483870967741936,31.372549019607842,27.160493827160494,17.59259259259259,26.785714285714285,26.470588235294116,33.0,23.14814814814815,41.666666666666664,29.78723404255319,35.3448275862069,21.568627450980394,35.3448275862069,36.52173913043478,32.25806451612903,33.333333333333336,42.708333333333336,35.3448275862069,0.0,39.04761904761905,22.429906542056074,39.42307692307692,25.471698113207548,18.26086956521739,33.62068965517241,29.12621359223301,23.076923076923077,32.758620689655174,33.68421052631579,32.63157894736842,35.96491228070175,33.91304347826087,33.92857142857143,38.83495145631068,17.24137931034483,33.04347826086956,34.48275862068966,25.510204081632654,25.742574257425744,34.48275862068966,28.155339805825243,35.1063829787234,34.61538461538461,35.3448275862069,33.69565217391305,30.526315789473685,34.0,22.916666666666668,23.711340206185568,33.91304347826087,34.48275862068966,29.906542056074766,37.391304347826086,42.241379310344826,57.758620689655174,20.689655172413794,19.82758620689655,55.172413793103445,27.586206896551722,22.608695652173914,53.04347826086956,53.44827586206897,21.551724137931036,40.0,57.758620689655174,55.172413793103445,23.275862068965516,11.403508771929825,25.862068965517242,56.03448275862069,49.56521739130435,25.862068965517242,56.89655172413793,25.0,59.48275862068966,52.58620689655172,26.724137931034484,48.69565217391305,34.48275862068966,30.434782608695652,56.03448275862069,59.130434782608695,22.413793103448278,15.652173913043478,11.403508771929825,52.17391304347826,60.869565217391305,57.758620689655174,24.137931034482758,10.526315789473685,23.275862068965516,26.724137931034484,25.217391304347824,21.551724137931036,19.130434782608695,25.0,25.862068965517242,26.724137931034484,22.413793103448278,27.82608695652174,23.275862068965516,56.89655172413793,25.217391304347824,59.130434782608695,52.58620689655172,22.413793103448278,28.448275862068964,50.0,58.62068965517241,15.044247787610619,34.78260869565217,23.275862068965516,30.434782608695652,23.275862068965516,33.91304347826087,53.91304347826087,25.862068965517242,24.56140350877193,72.17391304347827,26.724137931034484,24.137931034482758,35.3448275862069,56.03448275862069,31.304347826086957,51.724137931034484,30.434782608695652,56.89655172413793,53.04347826086956,19.82758620689655,22.413793103448278,51.724137931034484,23.275862068965516,26.724137931034484,29.565217391304348,57.758620689655174,24.137931034482758,25.862068965517242,32.17391304347826,22.413793103448278,21.73913043478261,42.241379310344826,57.758620689655174,26.08695652173913,52.58620689655172,60.3448275862069,33.91304347826087,29.565217391304348,55.65217391304348,40.869565217391305,31.304347826086957,62.06896551724138,53.44827586206897,31.304347826086957,48.69565217391305,59.48275862068966,61.206896551724135,37.391304347826086,13.91304347826087,37.391304347826086,55.172413793103445,62.608695652173914,37.391304347826086,54.310344827586206,29.565217391304348,54.78260869565217,54.78260869565217,32.17391304347826,53.91304347826087,51.30434782608695,44.34782608695652,55.172413793103445,54.310344827586206,28.695652173913043,29.565217391304348,13.043478260869565,60.3448275862069,60.3448275862069,54.310344827586206,34.78260869565217,12.173913043478262,35.65217391304348,36.52173913043478,33.04347826086956,20.0,26.08695652173913,32.17391304347826,35.65217391304348,40.0,28.695652173913043,40.869565217391305,35.65217391304348,61.206896551724135,33.91304347826087,59.48275862068966,54.78260869565217,34.78260869565217,46.08695652173913,52.17391304347826,60.3448275862069,14.782608695652174,44.34782608695652,26.956521739130434,45.21739130434783,38.26086956521739,38.26086956521739,58.62068965517241,42.608695652173914,22.608695652173914,52.58620689655172,39.130434782608695,31.304347826086957,49.56521739130435,60.869565217391305,46.08695652173913,54.78260869565217,35.3448275862069,59.130434782608695,62.06896551724138,36.52173913043478,28.695652173913043,59.48275862068966,31.304347826086957,36.52173913043478,46.08695652173913,59.48275862068966,33.04347826086956,38.26086956521739,46.95652173913044,31.304347826086957,26.956521739130434,100.0,54.310344827586206,33.91304347826087,62.608695652173914,30.17241379310345,23.275862068965516,68.96551724137932,32.758620689655174,28.448275862068964,67.24137931034483,70.6896551724138,25.0,48.275862068965516,99.13793103448276,73.27586206896552,27.586206896551722,12.068965517241379,31.03448275862069,71.55172413793103,69.82758620689656,31.03448275862069,70.6896551724138,27.586206896551722,69.82758620689656,80.17241379310344,30.17241379310345,62.93103448275862,45.689655172413794,42.241379310344826,71.55172413793103,68.96551724137932,25.0,24.137931034482758,11.206896551724139,65.51724137931035,72.41379310344827,74.13793103448276,29.310344827586206,12.931034482758621,26.724137931034484,31.03448275862069,31.03448275862069,19.82758620689655,25.0,30.17241379310345,31.03448275862069,31.896551724137932,27.586206896551722,33.62068965517241,30.17241379310345,82.75862068965517,28.448275862068964,72.41379310344827,80.17241379310344,28.448275862068964,39.6551724137931,79.3103448275862,97.41379310344827,25.0,41.37931034482759,29.310344827586206,43.10344827586207,30.17241379310345,53.44827586206897,68.10344827586206,35.3448275862069,38.793103448275865,69.82758620689656,31.896551724137932,28.448275862068964,45.689655172413794,89.65517241379311,42.241379310344826,68.96551724137932,39.6551724137931,87.93103448275862,67.24137931034483,29.310344827586206,25.862068965517242,70.6896551724138,29.310344827586206,31.03448275862069,40.51724137931034,99.13793103448276,29.310344827586206,31.03448275862069,43.96551724137931,25.862068965517242,22.413793103448278,60.3448275862069,71.55172413793103,31.03448275862069,69.82758620689656,36.734693877551024,32.45614035087719,36.8421052631579,29.62962962962963,31.03448275862069,30.17241379310345,27.884615384615383,36.03603603603604,31.03448275862069,31.896551724137932,35.05154639175258,15.789473684210526,34.73684210526316,31.03448275862069,32.45614035087719,34.73684210526316,31.03448275862069,25.225225225225227,31.304347826086957,33.04347826086956,76.04166666666667,40.20618556701031,34.862385321100916,38.94736842105263,31.03448275862069,31.896551724137932,33.673469387755105,30.526315789473685,16.842105263157894,30.17241379310345,32.758620689655174,29.310344827586206,26.126126126126128,15.789473684210526,33.663366336633665,35.78947368421053,28.431372549019606,22.105263157894736,25.0,26.785714285714285,32.35294117647059,37.0,29.62962962962963,35.416666666666664,37.89473684210526,32.758620689655174,34.31372549019608,31.896551724137932,33.04347826086956,36.8421052631579,31.57894736842105,37.5,31.03448275862069,3.4782608695652173,32.38095238095238,25.233644859813083,41.34615384615385,37.735849056603776,19.130434782608695,31.03448275862069,33.980582524271846,14.736842105263158,30.17241379310345,36.8421052631579,31.57894736842105,34.21052631578947,30.434782608695652,33.92857142857143,34.95145631067961,17.24137931034483,30.434782608695652,31.03448275862069,36.734693877551024,29.702970297029704,32.758620689655174,32.03883495145631,36.8421052631579,38.46153846153846,31.03448275862069,41.05263157894737,34.73684210526316,39.0,32.291666666666664,27.835051546391753,33.91304347826087,31.03448275862069,29.906542056074766,33.04347826086956,26.31578947368421,46.875,22.22222222222222,29.310344827586206,25.0,36.27450980392157,32.432432432432435,23.275862068965516,25.0,47.916666666666664,8.16326530612245,42.708333333333336,25.0,26.31578947368421,42.708333333333336,25.862068965517242,28.440366972477065,25.217391304347824,24.347826086956523,30.612244897959183,30.612244897959183,31.192660550458715,35.714285714285715,25.0,24.137931034482758,40.625,31.632653061224488,14.583333333333334,29.310344827586206,25.0,23.275862068965516,36.69724770642202,14.583333333333334,41.41414141414141,42.708333333333336,25.0,27.551020408163264,19.444444444444443,26.363636363636363,48.0,42.857142857142854,20.37037037037037,35.714285714285715,48.958333333333336,25.862068965517242,27.45098039215686,26.724137931034484,24.347826086956523,46.875,32.743362831858406,28.571428571428573,24.137931034482758,2.6548672566371683,33.333333333333336,28.97196261682243,32.69230769230769,44.23076923076923,15.929203539823009,30.17241379310345,45.54455445544554,11.224489795918368,24.137931034482758,44.791666666666664,26.53061224489796,35.96491228070175,25.217391304347824,38.392857142857146,28.155339805825243,15.789473684210526,26.08695652173913,29.310344827586206,45.833333333333336,36.36363636363637,25.862068965517242,33.663366336633665,42.708333333333336,35.57692307692308,23.275862068965516,40.625,43.75,35.0,36.458333333333336,35.05154639175258,29.565217391304348,25.862068965517242,32.38095238095238,26.956521739130434,35.96491228070175,28.94736842105263,68.10344827586206,72.41379310344827,27.19298245614035,48.24561403508772,68.96551724137932,70.6896551724138,31.57894736842105,16.071428571428573,33.333333333333336,73.27586206896552,71.30434782608695,33.333333333333336,87.93103448275862,29.82456140350877,70.43478260869566,70.43478260869566,33.333333333333336,68.42105263157895,46.49122807017544,42.10526315789474,73.27586206896552,68.96551724137932,28.94736842105263,21.92982456140351,12.5,66.37931034482759,74.13793103448276,68.10344827586206,32.45614035087719,14.285714285714286,31.57894736842105,34.21052631578947,31.57894736842105,23.68421052631579,24.56140350877193,31.57894736842105,33.333333333333336,33.333333333333336,30.70175438596491,38.59649122807018,31.57894736842105,75.0,29.82456140350877,75.86206896551724,70.43478260869566,31.57894736842105,39.473684210526315,62.280701754385966,71.55172413793103,17.699115044247787,42.98245614035088,29.82456140350877,40.35087719298246,35.08771929824562,43.47826086956522,68.10344827586206,36.8421052631579,32.142857142857146,71.55172413793103,33.333333333333336,30.70175438596491,49.12280701754386,72.17391304347827,42.98245614035088,74.56140350877193,35.3448275862069,70.43478260869566,68.10344827586206,29.82456140350877,28.07017543859649,71.55172413793103,34.21052631578947,34.21052631578947,39.473684210526315,68.96551724137932,33.333333333333336,32.45614035087719,42.10526315789474,29.82456140350877,25.43859649122807,55.65217391304348,85.34482758620689,32.45614035087719,70.43478260869566,28.703703703703702,35.3448275862069,36.206896551724135,44.11764705882353,36.03603603603604,31.896551724137932,36.206896551724135,65.26315789473684,14.893617021276595,85.8695652173913,36.206896551724135,36.8421052631579,85.8695652173913,34.48275862068966,30.275229357798164,36.52173913043478,32.17391304347826,36.458333333333336,43.29896907216495,38.53211009174312,46.808510638297875,36.206896551724135,36.206896551724135,46.875,34.04255319148936,21.73913043478261,35.3448275862069,36.206896551724135,33.62068965517241,43.11926605504587,18.47826086956522,56.56565656565657,88.04347826086956,35.0,29.78723404255319,22.22222222222222,30.0,47.0,59.183673469387756,27.77777777777778,45.833333333333336,61.95652173913044,35.3448275862069,36.27450980392157,34.48275862068966,32.17391304347826,63.04347826086956,38.05309734513274,40.625,33.62068965517241,4.424778761061947,41.904761904761905,30.8411214953271,39.42307692307692,46.15384615384615,20.353982300884955,35.3448275862069,65.34653465346534,17.02127659574468,35.3448275862069,91.39784946236558,43.1578947368421,38.59649122807018,33.91304347826087,42.857142857142854,39.80582524271845,20.17543859649123,34.78260869565217,35.3448275862069,59.375,46.464646464646464,31.896551724137932,34.65346534653465,88.04347826086956,41.34615384615385,31.896551724137932,47.82608695652174,92.47311827956989,43.0,46.808510638297875,40.625,40.869565217391305,35.3448275862069,39.04761904761905,38.26086956521739,30.434782608695652,28.448275862068964,24.074074074074073,31.818181818181817,28.448275862068964,29.310344827586206,29.62962962962963,32.075471698113205,28.703703703703702,28.448275862068964,28.94736842105263,28.703703703703702,28.448275862068964,30.63063063063063,28.695652173913043,31.304347826086957,25.925925925925927,30.8411214953271,33.027522935779814,34.57943925233645,28.448275862068964,28.695652173913043,27.77777777777778,27.102803738317757,12.962962962962964,28.695652173913043,29.565217391304348,30.17241379310345,30.63063063063063,12.037037037037036,33.333333333333336,30.555555555555557,23.076923076923077,18.51851851851852,61.53846153846154,29.20353982300885,35.18518518518518,27.77777777777778,75.47169811320755,29.245283018867923,25.0,29.310344827586206,28.30188679245283,30.434782608695652,31.304347826086957,24.074074074074073,33.333333333333336,29.62962962962963,28.448275862068964,4.504504504504505,26.41509433962264,31.48148148148148,36.44859813084112,28.703703703703702,17.117117117117118,28.695652173913043,25.925925925925927,12.037037037037036,28.695652173913043,26.85185185185185,26.85185185185185,30.70175438596491,27.82608695652174,35.13513513513514,31.48148148148148,16.071428571428573,27.82608695652174,30.434782608695652,22.22222222222222,25.0,27.586206896551722,37.03703703703704,30.555555555555557,37.38317757009346,28.448275862068964,29.62962962962963,27.77777777777778,33.64485981308411,25.925925925925927,27.102803738317757,31.304347826086957,29.310344827586206,26.16822429906542,30.434782608695652,73.27586206896552,30.17241379310345,46.95652173913044,66.37931034482759,81.03448275862068,33.62068965517241,14.655172413793103,32.758620689655174,74.13793103448276,78.26086956521739,32.758620689655174,74.13793103448276,30.17241379310345,67.24137931034483,63.793103448275865,30.17241379310345,68.69565217391305,47.41379310344828,44.34782608695652,74.13793103448276,71.30434782608695,29.310344827586206,23.47826086956522,12.068965517241379,86.95652173913044,72.17391304347827,68.96551724137932,34.48275862068966,15.517241379310345,34.48275862068966,34.48275862068966,31.304347826086957,25.0,26.08695652173913,32.758620689655174,34.48275862068966,35.3448275862069,29.310344827586206,39.130434782608695,33.62068965517241,68.96551724137932,33.91304347826087,81.73913043478261,63.793103448275865,31.896551724137932,40.51724137931034,58.62068965517241,68.10344827586206,15.652173913043478,42.608695652173914,30.17241379310345,42.608695652173914,38.793103448275865,42.608695652173914,85.21739130434783,37.06896551724138,28.448275862068964,68.69565217391305,32.758620689655174,31.03448275862069,44.827586206896555,69.82758620689656,44.34782608695652,67.24137931034483,49.56521739130435,68.10344827586206,100.0,31.03448275862069,30.17241379310345,75.0,31.896551724137932,34.48275862068966,40.869565217391305,66.37931034482759,32.758620689655174,32.758620689655174,42.608695652173914,31.896551724137932,26.956521739130434,62.06896551724138,74.13793103448276,33.04347826086956,78.44827586206897,27.586206896551722,44.827586206896555,69.82758620689656,79.3103448275862,31.03448275862069,12.931034482758621,33.62068965517241,94.82758620689656,75.86206896551724,33.62068965517241,75.0,27.586206896551722,67.24137931034483,68.96551724137932,30.17241379310345,67.24137931034483,43.96551724137931,41.37931034482759,94.82758620689656,70.6896551724138,27.586206896551722,21.551724137931036,12.068965517241379,73.27586206896552,73.27586206896552,68.96551724137932,31.896551724137932,12.931034482758621,30.17241379310345,34.48275862068966,29.310344827586206,21.551724137931036,23.275862068965516,31.896551724137932,33.62068965517241,33.62068965517241,26.724137931034484,36.206896551724135,31.03448275862069,71.55172413793103,28.448275862068964,81.03448275862068,68.96551724137932,31.03448275862069,39.6551724137931,62.06896551724138,71.55172413793103,18.96551724137931,43.96551724137931,28.448275862068964,39.6551724137931,32.758620689655174,45.689655172413794,73.27586206896552,38.793103448275865,30.17241379310345,68.96551724137932,34.48275862068966,30.17241379310345,43.96551724137931,74.13793103448276,39.6551724137931,68.96551724137932,41.37931034482759,72.41379310344827,73.27586206896552,30.17241379310345,29.310344827586206,78.44827586206897,34.48275862068966,34.48275862068966,37.06896551724138,69.82758620689656,29.310344827586206,34.48275862068966,39.6551724137931,30.17241379310345,25.862068965517242,53.44827586206897,76.72413793103448,33.62068965517241,75.86206896551724,29.72972972972973,24.137931034482758,27.586206896551722,46.07843137254902,9.615384615384615,42.15686274509804,28.448275862068964,28.695652173913043,42.15686274509804,27.586206896551722,30.555555555555557,30.434782608695652,25.217391304347824,27.184466019417474,30.76923076923077,26.605504587155963,28.846153846153847,28.448275862068964,30.434782608695652,74.0,29.12621359223301,9.803921568627452,30.17241379310345,29.310344827586206,31.304347826086957,51.37614678899082,17.821782178217823,48.03921568627451,43.13725490196079,23.0,23.529411764705884,20.754716981132077,30.90909090909091,49.01960784313726,46.53465346534654,21.296296296296298,30.76923076923077,44.11764705882353,26.724137931034484,47.05882352941177,25.862068965517242,25.217391304347824,44.11764705882353,30.088495575221238,27.884615384615383,25.0,1.8018018018018018,28.571428571428573,28.571428571428573,24.761904761904763,37.5,16.216216216216218,29.310344827586206,47.05882352941177,10.576923076923077,28.695652173913043,45.54455445544554,28.846153846153847,30.70175438596491,25.217391304347824,25.892857142857142,28.846153846153847,18.75,26.08695652173913,30.17241379310345,42.57425742574257,75.0,24.137931034482758,33.663366336633665,43.13725490196079,30.76923076923077,24.137931034482758,33.333333333333336,43.56435643564357,31.73076923076923,70.0,32.67326732673267,31.304347826086957,27.586206896551722,27.61904761904762,27.82608695652174,48.275862068965516,50.0,36.93693693693694,15.315315315315315,36.03603603603604,46.55172413793103,51.75438596491228,36.03603603603604,47.41379310344828,36.03603603603604,48.69565217391305,48.69565217391305,35.13513513513514,46.36363636363637,67.56756756756756,53.63636363636363,46.55172413793103,50.43478260869565,30.63063063063063,28.181818181818183,12.612612612612613,47.82608695652174,50.43478260869565,45.689655172413794,35.13513513513514,15.315315315315315,36.03603603603604,36.93693693693694,36.36363636363637,21.62162162162162,26.363636363636363,36.283185840707965,34.234234234234236,38.73873873873874,31.53153153153153,47.27272727272727,36.93693693693694,53.44827586206897,30.0,48.69565217391305,48.69565217391305,36.93693693693694,55.26315789473684,45.945945945945944,49.13793103448276,9.649122807017545,53.63636363636363,32.432432432432435,50.0,38.73873873873874,30.70175438596491,46.08695652173913,38.73873873873874,19.81981981981982,49.56521739130435,35.13513513513514,34.234234234234236,56.14035087719298,46.95652173913044,54.95495495495496,50.450450450450454,27.82608695652174,47.82608695652174,46.95652173913044,35.13513513513514,29.72972972972973,47.41379310344828,36.93693693693694,36.93693693693694,52.72727272727273,48.275862068965516,33.333333333333336,32.432432432432435,51.81818181818182,29.72972972972973,28.181818181818183,48.69565217391305,47.41379310344828,34.54545454545455,52.17391304347826,72.41379310344827,26.724137931034484,12.068965517241379,30.17241379310345,70.6896551724138,68.96551724137932,30.17241379310345,70.6896551724138,27.586206896551722,68.96551724137932,80.17241379310344,31.03448275862069,62.06896551724138,45.689655172413794,42.241379310344826,70.6896551724138,68.10344827586206,24.137931034482758,24.137931034482758,11.206896551724139,64.65517241379311,71.55172413793103,73.27586206896552,28.448275862068964,12.931034482758621,25.862068965517242,30.17241379310345,30.17241379310345,19.82758620689655,25.0,30.17241379310345,31.03448275862069,31.03448275862069,27.586206896551722,32.758620689655174,29.310344827586206,82.75862068965517,27.586206896551722,72.41379310344827,80.17241379310344,27.586206896551722,39.6551724137931,78.44827586206897,96.55172413793103,25.0,41.37931034482759,29.310344827586206,43.10344827586207,31.03448275862069,52.58620689655172,67.24137931034483,34.48275862068966,38.793103448275865,69.82758620689656,31.03448275862069,28.448275862068964,45.689655172413794,88.79310344827586,42.241379310344826,68.96551724137932,38.793103448275865,87.06896551724138,66.37931034482759,28.448275862068964,25.0,70.6896551724138,29.310344827586206,30.17241379310345,40.51724137931034,100.0,30.17241379310345,30.17241379310345,43.96551724137931,25.0,22.413793103448278,59.48275862068966,71.55172413793103,31.03448275862069,68.96551724137932,32.758620689655174,15.517241379310345,34.48275862068966,81.89655172413794,81.89655172413794,34.48275862068966,74.13793103448276,26.724137931034484,72.41379310344827,66.37931034482759,32.758620689655174,70.6896551724138,49.13793103448276,44.827586206896555,81.89655172413794,73.27586206896552,26.724137931034484,24.137931034482758,12.068965517241379,75.86206896551724,74.13793103448276,70.6896551724138,31.896551724137932,13.793103448275861,31.896551724137932,35.3448275862069,30.17241379310345,23.275862068965516,25.862068965517242,31.03448275862069,31.03448275862069,36.206896551724135,30.17241379310345,37.93103448275862,31.896551724137932,72.41379310344827,31.896551724137932,82.75862068965517,66.37931034482759,31.896551724137932,43.10344827586207,62.93103448275862,73.27586206896552,16.379310344827587,43.10344827586207,27.586206896551722,44.827586206896555,35.3448275862069,43.96551724137931,77.58620689655173,35.3448275862069,29.310344827586206,70.6896551724138,33.62068965517241,33.62068965517241,46.55172413793103,72.41379310344827,44.827586206896555,71.55172413793103,42.241379310344826,69.82758620689656,81.03448275862068,30.17241379310345,27.586206896551722,78.44827586206897,29.310344827586206,35.3448275862069,42.241379310344826,72.41379310344827,30.17241379310345,33.62068965517241,43.96551724137931,29.310344827586206,25.0,61.206896551724135,73.27586206896552,32.758620689655174,84.48275862068965,14.43298969072165,62.10526315789474,31.03448275862069,34.21052631578947,62.10526315789474,30.17241379310345,35.77981651376147,31.304347826086957,26.956521739130434,38.144329896907216,39.175257731958766,38.53211009174312,40.20618556701031,31.03448275862069,31.03448275862069,52.083333333333336,36.08247422680412,18.94736842105263,33.62068965517241,29.310344827586206,29.310344827586206,46.788990825688074,18.94736842105263,56.56565656565657,63.1578947368421,31.0,27.835051546391753,22.22222222222222,32.72727272727273,46.0,62.244897959183675,26.85185185185185,41.23711340206186,62.10526315789474,30.17241379310345,41.1764705882353,29.310344827586206,26.956521739130434,64.21052631578948,37.16814159292036,34.02061855670103,28.448275862068964,1.7699115044247788,36.19047619047619,33.64485981308411,32.69230769230769,38.46153846153846,15.929203539823009,34.48275862068966,62.37623762376238,15.463917525773196,28.448275862068964,65.26315789473684,38.144329896907216,34.21052631578947,28.695652173913043,41.07142857142857,35.922330097087375,17.54385964912281,29.565217391304348,33.62068965517241,56.25,48.484848484848484,30.17241379310345,38.613861386138616,63.1578947368421,38.46153846153846,26.724137931034484,45.26315789473684,63.1578947368421,38.0,47.36842105263158,42.708333333333336,37.391304347826086,30.17241379310345,42.857142857142854,33.04347826086956,16.129032258064516,13.793103448275861,14.035087719298245,16.129032258064516,14.655172413793103,10.81081081081081,14.782608695652174,13.043478260869565,12.5,16.49484536082474,13.761467889908257,20.652173913043477,13.793103448275861,13.793103448275861,12.244897959183673,10.638297872340425,28.0,13.793103448275861,14.655172413793103,15.517241379310345,12.612612612612613,23.076923076923077,13.861386138613861,17.204301075268816,5.1020408163265305,11.11111111111111,22.115384615384617,11.607142857142858,10.784313725490197,12.0,41.34615384615385,11.458333333333334,13.829787234042554,12.931034482758621,12.745098039215685,12.931034482758621,13.043478260869565,13.978494623655914,15.789473684210526,14.583333333333334,12.068965517241379,0.0,8.571428571428571,11.214953271028037,17.307692307692307,14.150943396226415,0.0,13.793103448275861,11.650485436893204,25.0,12.931034482758621,12.631578947368421,12.631578947368421,16.666666666666668,11.304347826086957,16.071428571428573,17.475728155339805,0.0,11.304347826086957,14.655172413793103,12.244897959183673,9.900990099009901,12.068965517241379,14.563106796116505,17.02127659574468,19.23076923076923,12.068965517241379,13.043478260869565,13.68421052631579,19.0,10.416666666666666,13.402061855670103,13.91304347826087,14.655172413793103,10.280373831775702,14.782608695652174,33.62068965517241,34.21052631578947,100.0,31.896551724137932,29.357798165137616,35.65217391304348,30.434782608695652,34.375,40.20618556701031,38.53211009174312,44.086021505376344,33.62068965517241,35.3448275862069,48.958333333333336,32.97872340425532,18.681318681318682,31.896551724137932,35.3448275862069,33.62068965517241,42.20183486238532,18.681318681318682,55.55555555555556,93.4065934065934,32.0,26.881720430107528,22.22222222222222,29.09090909090909,46.0,55.10204081632653,28.703703703703702,42.708333333333336,61.95652173913044,33.62068965517241,36.27450980392157,31.896551724137932,30.434782608695652,61.53846153846154,35.39823008849557,37.5,31.03448275862069,2.6548672566371683,41.904761904761905,31.77570093457944,36.53846153846154,43.26923076923077,19.469026548672566,32.758620689655174,56.43564356435643,15.053763440860216,32.758620689655174,84.94623655913979,43.1578947368421,34.21052631578947,31.304347826086957,43.75,36.89320388349515,19.29824561403509,32.17391304347826,32.758620689655174,58.333333333333336,46.464646464646464,29.310344827586206,33.663366336633665,92.3913043478261,36.53846153846154,30.17241379310345,46.15384615384615,83.87096774193549,41.0,43.61702127659574,38.541666666666664,37.391304347826086,32.758620689655174,37.142857142857146,34.78260869565217,76.72413793103448,33.62068965517241,75.0,26.724137931034484,70.6896551724138,68.96551724137932,31.896551724137932,69.82758620689656,44.827586206896555,42.241379310344826,100.0,73.27586206896552,28.448275862068964,22.413793103448278,12.068965517241379,73.27586206896552,75.86206896551724,71.55172413793103,32.758620689655174,12.931034482758621,31.03448275862069,34.48275862068966,29.310344827586206,22.413793103448278,23.275862068965516,31.03448275862069,33.62068965517241,33.62068965517241,27.586206896551722,36.206896551724135,31.03448275862069,73.27586206896552,29.310344827586206,81.03448275862068,68.96551724137932,31.03448275862069,43.10344827586207,63.793103448275865,72.41379310344827,17.24137931034483,43.96551724137931,28.448275862068964,40.51724137931034,32.758620689655174,44.827586206896555,73.27586206896552,38.793103448275865,31.03448275862069,71.55172413793103,34.48275862068966,30.17241379310345,43.96551724137931,74.13793103448276,41.37931034482759,71.55172413793103,40.51724137931034,72.41379310344827,74.13793103448276,30.17241379310345,30.17241379310345,79.3103448275862,32.758620689655174,34.48275862068966,37.93103448275862,70.6896551724138,30.17241379310345,34.48275862068966,40.51724137931034,31.03448275862069,25.0,55.172413793103445,76.72413793103448,31.896551724137932,77.58620689655173,34.21052631578947,72.41379310344827,27.82608695652174,68.69565217391305,67.82608695652173,33.333333333333336,73.45132743362832,49.56521739130435,47.78761061946903,76.72413793103448,70.43478260869566,28.94736842105263,23.893805309734514,12.280701754385966,77.3913043478261,73.04347826086956,65.51724137931035,32.17391304347826,13.157894736842104,33.333333333333336,35.96491228070175,30.97345132743363,23.68421052631579,23.68421052631579,30.70175438596491,31.57894736842105,37.719298245614034,28.695652173913043,38.93805309734513,34.21052631578947,72.41379310344827,32.743362831858406,76.52173913043478,67.82608695652173,33.333333333333336,43.47826086956522,63.1578947368421,70.6896551724138,18.42105263157895,43.85964912280702,26.956521739130434,46.017699115044245,38.26086956521739,45.6140350877193,73.91304347826087,37.391304347826086,29.82456140350877,66.08695652173913,34.21052631578947,33.333333333333336,46.95652173913044,73.04347826086956,45.6140350877193,74.78260869565217,41.73913043478261,72.17391304347827,78.26086956521739,32.45614035087719,29.82456140350877,78.44827586206897,32.17391304347826,35.96491228070175,43.85964912280702,68.96551724137932,32.45614035087719,34.21052631578947,46.902654867256636,31.57894736842105,25.663716814159294,62.608695652173914,72.41379310344827,32.45614035087719,84.34782608695652,31.896551724137932,29.357798165137616,35.65217391304348,30.434782608695652,34.375,40.20618556701031,38.53211009174312,44.086021505376344,33.62068965517241,35.3448275862069,48.958333333333336,32.97872340425532,18.681318681318682,31.896551724137932,35.3448275862069,33.62068965517241,42.20183486238532,18.681318681318682,55.55555555555556,93.4065934065934,32.0,26.881720430107528,22.22222222222222,29.09090909090909,46.0,55.10204081632653,28.703703703703702,42.708333333333336,61.95652173913044,33.62068965517241,36.27450980392157,31.896551724137932,30.434782608695652,61.53846153846154,35.39823008849557,37.5,31.03448275862069,2.6548672566371683,41.904761904761905,31.77570093457944,36.53846153846154,43.26923076923077,19.469026548672566,32.758620689655174,56.43564356435643,15.053763440860216,32.758620689655174,84.94623655913979,43.1578947368421,34.21052631578947,31.304347826086957,43.75,36.89320388349515,19.29824561403509,32.17391304347826,32.758620689655174,58.333333333333336,46.464646464646464,29.310344827586206,33.663366336633665,92.3913043478261,36.53846153846154,30.17241379310345,46.15384615384615,83.87096774193549,41.0,43.61702127659574,38.541666666666664,37.391304347826086,32.758620689655174,37.142857142857146,34.78260869565217,29.310344827586206,73.27586206896552,70.6896551724138,32.758620689655174,64.65517241379311,45.689655172413794,40.51724137931034,75.0,75.0,29.310344827586206,20.689655172413794,12.068965517241379,71.55172413793103,76.72413793103448,73.27586206896552,31.03448275862069,13.793103448275861,32.758620689655174,32.758620689655174,30.17241379310345,24.137931034482758,24.137931034482758,31.03448275862069,31.896551724137932,31.896551724137932,29.310344827586206,37.06896551724138,31.03448275862069,76.72413793103448,30.17241379310345,79.3103448275862,70.6896551724138,30.17241379310345,38.793103448275865,61.206896551724135,72.41379310344827,18.103448275862068,43.96551724137931,29.310344827586206,39.6551724137931,35.3448275862069,45.689655172413794,73.27586206896552,33.62068965517241,30.17241379310345,73.27586206896552,31.896551724137932,31.03448275862069,49.13793103448276,73.27586206896552,42.241379310344826,73.27586206896552,40.51724137931034,71.55172413793103,74.13793103448276,28.448275862068964,28.448275862068964,73.27586206896552,32.758620689655174,32.758620689655174,38.793103448275865,70.6896551724138,31.896551724137932,31.896551724137932,41.37931034482759,30.17241379310345,25.0,54.310344827586206,95.6896551724138,32.758620689655174,71.55172413793103,28.695652173913043,27.82608695652174,24.545454545454547,28.82882882882883,36.03603603603604,29.72972972972973,26.724137931034484,26.956521739130434,30.555555555555557,20.0,14.678899082568808,30.17241379310345,27.586206896551722,28.695652173913043,35.77981651376147,41.666666666666664,29.357798165137616,28.440366972477065,22.22222222222222,16.363636363636363,22.727272727272727,83.63636363636364,33.027522935779814,32.407407407407405,26.126126126126128,31.53153153153153,30.275229357798164,31.896551724137932,28.181818181818183,29.310344827586206,27.82608695652174,30.275229357798164,33.6283185840708,28.82882882882883,27.586206896551722,4.464285714285714,27.92792792792793,51.81818181818182,27.92792792792793,28.440366972477065,15.178571428571429,31.03448275862069,32.11009174311926,13.513513513513514,27.82608695652174,30.555555555555557,21.62162162162162,31.57894736842105,26.956521739130434,35.714285714285715,31.53153153153153,15.929203539823009,27.82608695652174,30.17241379310345,28.703703703703702,31.48148148148148,27.586206896551722,43.51851851851852,28.440366972477065,27.92792792792793,27.586206896551722,27.522935779816514,28.703703703703702,27.92792792792793,29.62962962962963,26.605504587155963,29.565217391304348,30.17241379310345,38.53211009174312,29.565217391304348,68.69565217391305,33.91304347826087,62.608695652173914,46.95652173913044,40.0,70.6896551724138,85.34482758620689,29.565217391304348,21.73913043478261,11.304347826086957,64.65517241379311,75.86206896551724,80.17241379310344,33.04347826086956,14.782608695652174,33.91304347826087,36.52173913043478,31.304347826086957,23.47826086956522,25.217391304347824,30.434782608695652,31.304347826086957,34.78260869565217,28.695652173913043,36.52173913043478,32.17391304347826,73.27586206896552,33.04347826086956,67.24137931034483,68.69565217391305,29.565217391304348,38.26086956521739,63.47826086956522,71.55172413793103,15.652173913043478,44.34782608695652,29.565217391304348,40.0,32.17391304347826,41.73913043478261,66.37931034482759,33.04347826086956,34.78260869565217,71.55172413793103,34.78260869565217,33.04347826086956,43.47826086956522,72.17391304347827,42.608695652173914,70.43478260869566,34.48275862068966,72.17391304347827,67.24137931034483,29.565217391304348,30.434782608695652,64.65517241379311,31.304347826086957,36.52173913043478,38.26086956521739,68.96551724137932,32.17391304347826,33.91304347826087,39.130434782608695,30.434782608695652,27.82608695652174,54.78260869565217,71.55172413793103,30.434782608695652,70.43478260869566,31.304347826086957,64.34782608695652,46.08695652173913,43.47826086956522,68.96551724137932,68.96551724137932,26.956521739130434,23.47826086956522,11.304347826086957,62.93103448275862,72.41379310344827,74.13793103448276,30.434782608695652,13.043478260869565,27.82608695652174,33.04347826086956,33.91304347826087,19.130434782608695,24.347826086956523,29.565217391304348,33.04347826086956,34.78260869565217,27.82608695652174,39.130434782608695,27.82608695652174,81.03448275862068,26.956521739130434,71.55172413793103,100.0,26.956521739130434,40.0,68.69565217391305,81.03448275862068,23.47826086956522,46.95652173913044,28.695652173913043,43.47826086956522,35.65217391304348,50.43478260869565,64.65517241379311,35.65217391304348,37.391304347826086,68.10344827586206,29.565217391304348,31.304347826086957,47.82608695652174,82.6086956521739,40.869565217391305,71.30434782608695,35.3448275862069,83.47826086956522,63.793103448275865,27.82608695652174,27.82608695652174,68.96551724137932,32.17391304347826,33.04347826086956,40.869565217391305,80.17241379310344,32.17391304347826,28.695652173913043,42.608695652173914,28.695652173913043,24.347826086956523,54.78260869565217,71.55172413793103,31.304347826086957,67.82608695652173,40.20618556701031,33.944954128440365,35.416666666666664,31.896551724137932,33.91304347826087,32.98969072164948,32.63157894736842,16.666666666666668,30.17241379310345,33.62068965517241,31.304347826086957,29.72972972972973,14.736842105263158,32.67326732673267,35.416666666666664,29.702970297029704,24.210526315789473,22.429906542056074,26.126126126126128,30.392156862745097,37.37373737373738,28.703703703703702,34.375,35.416666666666664,31.896551724137932,34.65346534653465,31.896551724137932,31.304347826086957,36.458333333333336,30.70175438596491,36.458333333333336,30.17241379310345,4.385964912280702,30.476190476190474,24.528301886792452,36.53846153846154,34.905660377358494,19.29824561403509,31.896551724137932,33.00970873786408,14.583333333333334,33.91304347826087,37.89473684210526,33.333333333333336,33.333333333333336,30.434782608695652,32.142857142857146,35.922330097087375,17.391304347826086,30.434782608695652,30.17241379310345,31.95876288659794,29.0,31.896551724137932,32.35294117647059,35.416666666666664,33.65384615384615,31.03448275862069,36.458333333333336,35.78947368421053,35.0,31.57894736842105,30.208333333333332,32.17391304347826,32.758620689655174,29.906542056074766,33.04347826086956,46.788990825688074,52.083333333333336,69.82758620689656,64.34782608695652,33.673469387755105,28.125,14.43298969072165,66.08695652173913,68.69565217391305,63.793103448275865,34.234234234234236,16.49484536082474,35.64356435643565,42.2680412371134,33.663366336633665,26.804123711340207,25.233644859813083,31.25,35.294117647058826,40.0,30.555555555555557,43.75,38.144329896907216,64.65517241379311,35.64356435643565,68.69565217391305,64.34782608695652,37.11340206185567,38.59649122807018,74.22680412371135,65.51724137931035,11.403508771929825,42.30769230769231,29.906542056074766,43.689320388349515,37.735849056603776,38.59649122807018,66.08695652173913,40.77669902912621,35.05154639175258,64.34782608695652,40.20618556701031,36.08247422680412,42.98245614035088,66.95652173913044,44.14414414414414,75.72815533980582,33.04347826086956,65.21739130434783,68.69565217391305,35.714285714285715,33.663366336633665,67.24137931034483,36.89320388349515,42.2680412371134,41.74757281553398,62.06896551724138,36.08247422680412,39.175257731958766,47.474747474747474,36.08247422680412,29.166666666666668,53.91304347826087,65.51724137931035,33.9622641509434,73.04347826086956,46.788990825688074,44.827586206896555,45.689655172413794,28.440366972477065,26.605504587155963,13.88888888888889,48.275862068965516,47.41379310344828,43.10344827586207,33.333333333333336,15.596330275229358,36.69724770642202,39.44954128440367,35.18518518518518,20.18348623853211,25.68807339449541,33.6283185840708,34.862385321100916,38.53211009174312,31.192660550458715,44.03669724770642,35.77981651376147,50.86206896551724,30.275229357798164,48.275862068965516,46.08695652173913,33.944954128440365,55.26315789473684,45.87155963302752,47.41379310344828,7.894736842105263,49.54128440366973,31.192660550458715,45.87155963302752,38.53211009174312,28.07017543859649,46.55172413793103,37.61467889908257,20.18348623853211,44.827586206896555,37.61467889908257,33.027522935779814,54.3859649122807,45.21739130434783,53.57142857142857,49.54128440366973,29.565217391304348,45.21739130434783,47.41379310344828,34.862385321100916,29.357798165137616,45.689655172413794,33.027522935779814,39.44954128440367,47.706422018348626,45.689655172413794,34.862385321100916,34.862385321100916,48.62385321100918,26.605504587155963,26.605504587155963,51.30434782608695,45.689655172413794,33.944954128440365,50.43478260869565,42.241379310344826,43.47826086956522,31.632653061224488,29.032258064516128,19.565217391304348,44.34782608695652,42.608695652173914,38.793103448275865,29.72972972972973,17.391304347826086,37.62376237623762,47.31182795698925,37.62376237623762,29.347826086956523,26.16822429906542,31.25,36.27450980392157,43.0,31.48148148148148,50.526315789473685,42.5531914893617,45.689655172413794,34.65346534653465,44.34782608695652,43.47826086956522,43.01075268817204,56.14035087719298,52.083333333333336,42.241379310344826,3.508771929824561,44.23076923076923,28.97196261682243,68.93203883495146,42.45283018867924,22.80701754385965,42.608695652173914,40.77669902912621,26.08695652173913,41.73913043478261,44.21052631578947,37.89473684210526,52.63157894736842,43.47826086956522,54.054054054054056,48.54368932038835,21.73913043478261,42.608695652173914,44.34782608695652,36.734693877551024,29.702970297029704,44.827586206896555,36.89320388349515,46.808510638297875,67.96116504854369,42.241379310344826,45.65217391304348,43.1578947368421,70.70707070707071,33.333333333333336,34.375,44.34782608695652,41.37931034482759,34.905660377358494,46.08695652173913,73.27586206896552,28.448275862068964,22.413793103448278,12.068965517241379,73.27586206896552,75.86206896551724,71.55172413793103,32.758620689655174,12.931034482758621,31.03448275862069,34.48275862068966,29.310344827586206,22.413793103448278,23.275862068965516,31.03448275862069,33.62068965517241,33.62068965517241,27.586206896551722,36.206896551724135,31.03448275862069,73.27586206896552,29.310344827586206,81.03448275862068,68.96551724137932,31.03448275862069,43.10344827586207,63.793103448275865,72.41379310344827,17.24137931034483,43.96551724137931,28.448275862068964,40.51724137931034,32.758620689655174,44.827586206896555,73.27586206896552,38.793103448275865,31.03448275862069,71.55172413793103,34.48275862068966,30.17241379310345,43.96551724137931,74.13793103448276,41.37931034482759,71.55172413793103,40.51724137931034,72.41379310344827,74.13793103448276,30.17241379310345,30.17241379310345,79.3103448275862,32.758620689655174,34.48275862068966,37.93103448275862,70.6896551724138,30.17241379310345,34.48275862068966,40.51724137931034,31.03448275862069,25.0,55.172413793103445,76.72413793103448,31.896551724137932,77.58620689655173,29.565217391304348,21.05263157894737,11.206896551724139,66.95652173913044,79.1304347826087,78.26086956521739,32.758620689655174,13.91304347826087,33.62068965517241,36.206896551724135,31.57894736842105,23.47826086956522,24.56140350877193,29.565217391304348,30.17241379310345,34.78260869565217,27.586206896551722,36.52173913043478,31.896551724137932,73.27586206896552,32.45614035087719,71.30434782608695,68.96551724137932,30.17241379310345,37.93103448275862,60.3448275862069,70.6896551724138,15.789473684210526,43.47826086956522,28.695652173913043,40.869565217391305,32.758620689655174,43.85964912280702,67.82608695652173,32.758620689655174,31.896551724137932,74.56140350877193,34.78260869565217,32.758620689655174,42.241379310344826,70.6896551724138,42.608695652173914,68.96551724137932,35.96491228070175,70.6896551724138,71.30434782608695,29.565217391304348,30.434782608695652,68.96551724137932,31.304347826086957,36.206896551724135,40.0,68.10344827586206,32.758620689655174,34.78260869565217,42.608695652173914,31.304347826086957,28.07017543859649,54.310344827586206,74.13793103448276,29.565217391304348,73.27586206896552,31.95876288659794,15.625,29.310344827586206,28.448275862068964,30.434782608695652,55.96330275229358,17.894736842105264,52.525252525252526,50.0,28.8659793814433,27.36842105263158,21.904761904761905,30.275229357798164,45.0,53.608247422680414,24.074074074074073,37.755102040816325,50.0,28.448275862068964,52.525252525252526,26.724137931034484,26.956521739130434,48.958333333333336,30.088495575221238,29.591836734693878,25.0,1.8181818181818181,32.38095238095238,30.76923076923077,27.884615384615383,37.5,17.272727272727273,29.310344827586206,46.53465346534654,11.224489795918368,26.956521739130434,51.578947368421055,33.673469387755105,28.94736842105263,26.08695652173913,28.571428571428573,30.097087378640776,18.91891891891892,26.956521739130434,29.310344827586206,45.26315789473684,81.44329896907216,25.0,36.0,50.0,33.65384615384615,24.137931034482758,40.625,47.36842105263158,35.0,75.53191489361703,36.170212765957444,28.695652173913043,29.310344827586206,32.38095238095238,26.956521739130434,8.51063829787234,24.347826086956523,21.73913043478261,22.608695652173914,30.63063063063063,9.67741935483871,32.67326732673267,30.851063829787233,24.0,20.43010752688172,23.58490566037736,23.423423423423422,37.254901960784316,34.343434343434346,23.14814814814815,31.57894736842105,34.04255319148936,22.413793103448278,25.0,22.608695652173914,23.47826086956522,35.1063829787234,24.56140350877193,27.083333333333332,22.413793103448278,3.5398230088495577,26.923076923076923,27.358490566037737,29.12621359223301,30.18867924528302,15.929203539823009,24.347826086956523,31.067961165048544,7.446808510638298,21.92982456140351,34.04255319148936,28.42105263157895,31.57894736842105,22.608695652173914,29.72972972972973,24.271844660194176,17.54385964912281,21.73913043478261,23.47826086956522,31.95876288659794,31.0,23.275862068965516,29.41176470588235,30.851063829787233,28.155339805825243,24.137931034482758,30.851063829787233,31.914893617021278,26.262626262626263,31.57894736842105,29.473684210526315,29.565217391304348,20.689655172413794,29.245283018867923,23.47826086956522,12.068965517241379,12.068965517241379,10.344827586206897,15.596330275229358,32.0,16.161616161616163,19.78021978021978,9.090909090909092,19.753086419753085,4.62962962962963,13.636363636363637,13.0,18.367346938775512,12.962962962962964,15.625,23.91304347826087,12.068965517241379,11.764705882352942,12.068965517241379,11.304347826086957,25.274725274725274,15.929203539823009,13.541666666666666,11.206896551724139,0.0,14.285714285714286,14.018691588785046,18.26923076923077,14.423076923076923,0.0,12.068965517241379,19.801980198019802,23.076923076923077,12.068965517241379,21.50537634408602,16.842105263157894,14.035087719298245,9.565217391304348,14.285714285714286,14.563106796116505,0.0,10.434782608695652,12.068965517241379,16.666666666666668,13.131313131313131,11.206896551724139,19.801980198019802,19.565217391304348,18.26923076923077,11.206896551724139,23.333333333333332,21.50537634408602,19.0,12.76595744680851,15.625,13.043478260869565,12.931034482758621,20.0,12.173913043478262,72.17391304347827,66.37931034482759,32.758620689655174,13.793103448275861,34.48275862068966,33.62068965517241,31.304347826086957,25.862068965517242,24.347826086956523,31.896551724137932,34.48275862068966,37.06896551724138,28.448275862068964,38.26086956521739,34.48275862068966,68.10344827586206,33.91304347826087,80.0,62.93103448275862,32.758620689655174,42.241379310344826,58.62068965517241,66.37931034482759,16.52173913043478,43.47826086956522,28.448275862068964,41.73913043478261,37.93103448275862,40.869565217391305,92.17391304347827,38.793103448275865,28.448275862068964,67.82608695652173,32.758620689655174,30.17241379310345,46.55172413793103,68.10344827586206,43.47826086956522,67.24137931034483,58.26086956521739,67.24137931034483,86.95652173913044,31.896551724137932,30.17241379310345,73.27586206896552,33.62068965517241,33.62068965517241,40.869565217391305,64.65517241379311,31.896551724137932,32.758620689655174,41.73913043478261,31.896551724137932,26.956521739130434,60.3448275862069,73.27586206896552,33.91304347826087,76.72413793103448,78.44827586206897,32.758620689655174,12.931034482758621,31.896551724137932,35.3448275862069,30.434782608695652,22.413793103448278,25.217391304347824,27.586206896551722,31.03448275862069,33.62068965517241,29.310344827586206,36.52173913043478,31.03448275862069,75.0,32.17391304347826,75.65217391304348,72.41379310344827,30.17241379310345,39.6551724137931,62.06896551724138,73.27586206896552,18.26086956521739,41.73913043478261,28.448275862068964,41.73913043478261,32.758620689655174,46.08695652173913,73.04347826086956,34.48275862068966,30.17241379310345,78.26086956521739,34.48275862068966,31.03448275862069,46.55172413793103,72.41379310344827,44.34782608695652,70.6896551724138,40.869565217391305,72.41379310344827,72.17391304347827,28.448275862068964,28.448275862068964,69.82758620689656,31.896551724137932,35.3448275862069,40.0,71.55172413793103,31.896551724137932,34.48275862068966,41.73913043478261,30.17241379310345,25.217391304347824,60.3448275862069,76.72413793103448,30.434782608695652,74.13793103448276,34.48275862068966,13.043478260869565,31.896551724137932,35.3448275862069,30.434782608695652,20.869565217391305,25.217391304347824,30.434782608695652,31.03448275862069,33.04347826086956,29.310344827586206,35.3448275862069,30.17241379310345,72.41379310344827,33.04347826086956,68.96551724137932,74.13793103448276,28.448275862068964,37.06896551724138,64.65517241379311,74.13793103448276,16.52173913043478,42.241379310344826,30.434782608695652,37.93103448275862,31.896551724137932,44.34782608695652,68.96551724137932,31.896551724137932,32.758620689655174,69.56521739130434,33.04347826086956,29.310344827586206,43.96551724137931,72.41379310344827,41.37931034482759,67.24137931034483,38.26086956521739,72.41379310344827,68.96551724137932,28.695652173913043,31.304347826086957,64.65517241379311,33.04347826086956,35.3448275862069,36.206896551724135,73.27586206896552,30.17241379310345,32.17391304347826,37.93103448275862,30.434782608695652,23.47826086956522,54.310344827586206,74.13793103448276,30.17241379310345,68.10344827586206,18.34862385321101,44.95412844036697,41.28440366972477,25.68807339449541,21.62162162162162,24.324324324324323,36.93693693693694,41.28440366972477,43.11926605504587,27.027027027027028,32.432432432432435,44.03669724770642,32.758620689655174,44.14414414414414,32.758620689655174,30.434782608695652,44.03669724770642,35.39823008849557,28.82882882882883,29.310344827586206,3.5398230088495577,33.333333333333336,28.82882882882883,28.82882882882883,35.77981651376147,16.8141592920354,32.758620689655174,43.11926605504587,14.414414414414415,30.17241379310345,44.03669724770642,28.82882882882883,35.96491228070175,30.434782608695652,37.5,31.53153153153153,16.666666666666668,31.304347826086957,34.48275862068966,38.53211009174312,50.45871559633027,29.310344827586206,33.944954128440365,41.28440366972477,31.53153153153153,28.448275862068964,38.53211009174312,41.28440366972477,30.63063063063063,50.45871559633027,25.454545454545453,34.78260869565217,32.758620689655174,31.192660550458715,32.17391304347826,16.161616161616163,17.582417582417584,7.070707070707071,13.75,6.542056074766355,39.44954128440367,11.0,18.556701030927837,11.11111111111111,15.625,18.47826086956522,13.793103448275861,12.871287128712872,13.793103448275861,13.043478260869565,18.681318681318682,13.274336283185841,15.625,12.931034482758621,0.0,11.428571428571429,27.358490566037737,12.5,15.384615384615385,0.0,14.655172413793103,16.831683168316832,26.923076923076923,13.91304347826087,18.47826086956522,11.578947368421053,12.280701754385966,11.304347826086957,15.178571428571429,15.533980582524272,0.0,12.173913043478262,15.517241379310345,16.842105263157894,18.367346938775512,12.068965517241379,25.0,17.391304347826086,12.5,12.931034482758621,18.88888888888889,16.304347826086957,14.0,16.129032258064516,12.631578947368421,12.173913043478262,12.931034482758621,17.142857142857142,13.91304347826087,55.55555555555556,31.0,31.683168316831683,25.925925925925927,29.09090909090909,43.0,59.5959595959596,29.62962962962963,39.603960396039604,55.55555555555556,31.03448275862069,42.15686274509804,30.17241379310345,27.82608695652174,54.54545454545455,35.39823008849557,32.67326732673267,28.448275862068964,2.6548672566371683,32.38095238095238,30.8411214953271,38.46153846153846,40.38461538461539,17.699115044247787,35.3448275862069,50.495049504950494,12.871287128712872,28.448275862068964,59.5959595959596,40.59405940594059,34.21052631578947,28.695652173913043,36.607142857142854,35.922330097087375,20.17543859649123,28.695652173913043,34.48275862068966,49.494949494949495,50.505050505050505,29.310344827586206,34.65346534653465,55.55555555555556,40.38461538461539,25.862068965517242,44.44444444444444,56.56565656565657,39.603960396039604,47.474747474747474,36.0,35.65217391304348,32.758620689655174,37.142857142857146,33.04347826086956,33.0,29.032258064516128,24.074074074074073,28.181818181818183,48.0,58.16326530612245,29.62962962962963,43.75,61.95652173913044,34.48275862068966,35.294117647058826,32.758620689655174,33.04347826086956,61.53846153846154,36.283185840707965,38.541666666666664,31.896551724137932,2.6548672566371683,42.857142857142854,29.906542056074766,37.5,46.15384615384615,19.469026548672566,33.62068965517241,57.42574257425743,16.129032258064516,33.62068965517241,84.94623655913979,42.10526315789474,36.8421052631579,32.17391304347826,41.07142857142857,37.86407766990291,19.29824561403509,33.04347826086956,34.48275862068966,57.291666666666664,47.474747474747474,30.17241379310345,34.65346534653465,98.91304347826087,37.5,30.17241379310345,47.252747252747255,83.87096774193549,42.0,45.744680851063826,37.5,36.52173913043478,33.62068965517241,38.095238095238095,36.52173913043478,20.2020202020202,28.048780487804876,21.10091743119266,29.0,34.343434343434346,21.153846153846153,67.67676767676768,32.0,31.03448275862069,27.659574468085108,30.434782608695652,33.91304347826087,33.0,35.39823008849557,35.294117647058826,31.896551724137932,8.13953488372093,52.94117647058823,24.271844660194176,33.980582524271846,29.807692307692307,32.55813953488372,31.304347826086957,34.65346534653465,10.784313725490197,31.57894736842105,36.36363636363637,31.372549019607842,36.8421052631579,33.91304347826087,32.432432432432435,33.00970873786408,32.18390804597701,33.91304347826087,31.304347826086957,28.282828282828284,26.53061224489796,29.310344827586206,26.0,33.0,35.922330097087375,30.17241379310345,33.0,33.333333333333336,33.663366336633665,24.489795918367346,27.36842105263158,33.04347826086956,31.03448275862069,27.884615384615383,31.304347826086957,15.238095238095237,17.117117117117118,22.54901960784314,31.31313131313131,17.59259259259259,29.166666666666668,29.78723404255319,22.413793103448278,25.252525252525253,22.413793103448278,19.130434782608695,30.107526881720432,23.68421052631579,25.0,20.689655172413794,0.0,24.761904761904763,20.192307692307693,24.03846153846154,24.528301886792452,10.714285714285714,25.0,26.21359223300971,13.580246913580247,23.47826086956522,29.78723404255319,31.57894736842105,24.56140350877193,20.0,20.535714285714285,25.24271844660194,12.389380530973451,20.0,25.0,22.68041237113402,26.262626262626263,21.551724137931036,21.568627450980394,28.72340425531915,25.96153846153846,19.82758620689655,32.608695652173914,28.72340425531915,24.0,26.595744680851062,28.72340425531915,20.0,24.137931034482758,24.299065420560748,23.47826086956522,21.428571428571427,27.77777777777778,19.626168224299064,70.1923076923077,22.857142857142858,18.51851851851852,25.0,25.0,25.217391304347824,24.347826086956523,17.59259259259259,25.43859649122807,25.925925925925927,25.0,3.3707865168539324,22.857142857142858,25.96153846153846,28.037383177570092,21.296296296296298,20.224719101123597,24.347826086956523,21.296296296296298,10.185185185185185,25.43859649122807,21.49532710280374,19.444444444444443,25.43859649122807,25.217391304347824,27.92792792792793,25.0,20.0,25.217391304347824,26.08695652173913,15.88785046728972,20.754716981132077,24.137931034482758,28.037383177570092,24.074074074074073,25.233644859813083,25.0,20.37037037037037,22.429906542056074,27.102803738317757,21.69811320754717,24.50980392156863,26.08695652173913,25.0,20.560747663551403,25.217391304347824,31.818181818181817,33.944954128440365,24.778761061946902,30.357142857142858,30.0,32.758620689655174,29.72972972972973,32.758620689655174,29.565217391304348,30.0,33.6283185840708,29.464285714285715,30.17241379310345,7.142857142857143,26.548672566371682,50.0,28.571428571428573,28.82882882882883,17.857142857142858,31.896551724137932,31.53153153153153,13.392857142857142,28.695652173913043,30.275229357798164,23.214285714285715,30.70175438596491,31.304347826086957,33.6283185840708,30.97345132743363,15.929203539823009,30.434782608695652,32.758620689655174,27.522935779816514,31.192660550458715,31.03448275862069,43.63636363636363,28.181818181818183,29.20353982300885,30.17241379310345,28.181818181818183,28.440366972477065,27.678571428571427,31.192660550458715,26.363636363636363,32.17391304347826,31.896551724137932,39.63963963963964,31.304347826086957,42.0,29.62962962962963,37.254901960784316,42.0,31.896551724137932,34.31372549019608,35.3448275862069,33.04347826086956,44.0,36.283185840707965,34.31372549019608,31.03448275862069,5.3097345132743365,36.19047619047619,31.77570093457944,31.73076923076923,40.38461538461539,21.238938053097346,35.3448275862069,47.524752475247524,10.784313725490197,34.48275862068966,45.0,34.31372549019608,36.8421052631579,30.434782608695652,36.607142857142854,35.922330097087375,21.92982456140351,30.434782608695652,34.48275862068966,41.0,47.0,31.896551724137932,36.633663366336634,48.0,37.5,31.03448275862069,39.0,44.0,38.23529411764706,44.0,38.613861386138616,35.65217391304348,32.758620689655174,33.333333333333336,32.17391304347826,22.22222222222222,42.0,59.183673469387756,36.206896551724135,45.54455445544554,32.758620689655174,34.78260869565217,58.16326530612245,34.51327433628319,38.0,33.62068965517241,5.357142857142857,39.04761904761905,33.0188679245283,40.38461538461539,46.15384615384615,20.535714285714285,37.06896551724138,59.40594059405941,16.0,33.04347826086956,62.88659793814433,41.0,34.21052631578947,33.91304347826087,38.392857142857146,39.80582524271845,20.353982300884955,33.91304347826087,35.3448275862069,54.63917525773196,52.04081632653061,34.48275862068966,39.0,59.183673469387756,44.23076923076923,31.03448275862069,46.93877551020408,59.79381443298969,40.0,51.54639175257732,36.734693877551024,40.0,31.896551724137932,44.76190476190476,39.130434782608695,25.0,24.074074074074073,27.586206896551722,25.0,28.448275862068964,27.82608695652174,23.14814814814815,32.45614035087719,28.703703703703702,27.586206896551722,2.7027027027027026,24.074074074074073,27.77777777777778,34.25925925925926,25.925925925925927,16.216216216216218,28.448275862068964,25.925925925925927,12.037037037037036,28.448275862068964,25.925925925925927,25.0,30.70175438596491,26.956521739130434,34.82142857142857,31.48148148148148,15.178571428571429,26.956521739130434,29.310344827586206,21.296296296296298,21.296296296296298,26.724137931034484,35.18518518518518,29.62962962962963,31.48148148148148,27.586206896551722,23.14814814814815,26.85185185185185,33.333333333333336,22.22222222222222,26.85185185185185,28.695652173913043,30.17241379310345,25.925925925925927,30.434782608695652,40.625,37.06896551724138,31.0,36.52173913043478,39.130434782608695,42.708333333333336,43.85964912280702,41.666666666666664,34.48275862068966,5.357142857142857,66.66666666666667,30.8411214953271,39.80582524271845,40.56603773584906,24.107142857142858,38.26086956521739,40.77669902912621,15.625,35.65217391304348,44.791666666666664,39.583333333333336,45.6140350877193,35.65217391304348,41.44144144144144,40.77669902912621,23.893805309734514,35.65217391304348,39.130434782608695,36.734693877551024,34.65346534653465,34.48275862068966,32.03883495145631,43.75,41.74757281553398,32.758620689655174,43.75,41.666666666666664,43.43434343434343,34.375,32.291666666666664,40.869565217391305,37.06896551724138,32.075471698113205,38.26086956521739,31.03448275862069,38.23529411764706,30.17241379310345,27.82608695652174,91.30434782608695,36.283185840707965,38.541666666666664,31.896551724137932,2.6548672566371683,34.285714285714285,28.037383177570092,35.57692307692308,40.38461538461539,18.58407079646018,35.3448275862069,67.32673267326733,15.957446808510639,29.310344827586206,63.44086021505376,33.68421052631579,35.96491228070175,31.304347826086957,37.5,35.922330097087375,19.29824561403509,31.304347826086957,33.62068965517241,73.95833333333333,48.484848484848484,30.17241379310345,35.64356435643565,63.04347826086956,40.38461538461539,29.310344827586206,44.56521739130435,62.365591397849464,41.0,48.93617021276596,41.666666666666664,35.65217391304348,31.896551724137932,40.0,33.04347826086956,31.03448275862069,75.86206896551724,81.03448275862068,30.17241379310345,42.241379310344826,69.82758620689656,83.62068965517241,23.275862068965516,48.275862068965516,31.03448275862069,44.827586206896555,35.3448275862069,49.13793103448276,68.10344827586206,37.06896551724138,37.93103448275862,72.41379310344827,32.758620689655174,31.896551724137932,49.13793103448276,83.62068965517241,43.10344827586207,75.0,39.6551724137931,83.62068965517241,68.96551724137932,31.03448275862069,28.448275862068964,73.27586206896552,32.758620689655174,34.48275862068966,42.241379310344826,82.75862068965517,32.758620689655174,31.896551724137932,45.689655172413794,30.17241379310345,24.137931034482758,61.206896551724135,77.58620689655173,33.62068965517241,69.82758620689656,29.565217391304348,26.956521739130434,39.21568627450981,30.70175438596491,32.35294117647059,28.448275862068964,1.8691588785046729,27.184466019417474,28.155339805825243,31.067961165048544,33.9622641509434,17.757009345794394,33.04347826086956,39.80582524271845,13.72549019607843,29.82456140350877,39.603960396039604,30.392156862745097,28.07017543859649,28.695652173913043,29.72972972972973,32.03883495145631,19.444444444444443,28.695652173913043,33.91304347826087,37.62376237623762,49.0,27.586206896551722,31.372549019607842,35.294117647058826,36.89320388349515,27.586206896551722,32.35294117647059,36.633663366336634,35.64356435643565,50.0,28.125,33.91304347826087,30.17241379310345,31.132075471698112,31.304347826086957,71.55172413793103,30.17241379310345,40.51724137931034,62.06896551724138,72.41379310344827,20.0,45.21739130434783,28.448275862068964,44.34782608695652,35.3448275862069,46.08695652173913,79.1304347826087,35.3448275862069,30.17241379310345,76.52173913043478,31.896551724137932,31.896551724137932,45.689655172413794,75.0,42.608695652173914,70.6896551724138,45.21739130434783,73.27586206896552,81.73913043478261,28.448275862068964,27.586206896551722,80.17241379310344,31.896551724137932,32.758620689655174,41.73913043478261,72.41379310344827,30.17241379310345,31.896551724137932,43.47826086956522,29.310344827586206,26.956521739130434,59.48275862068966,80.17241379310344,33.91304347826087,76.72413793103448,26.956521739130434,40.0,68.69565217391305,81.03448275862068,23.47826086956522,46.95652173913044,28.695652173913043,43.47826086956522,35.65217391304348,50.43478260869565,64.65517241379311,35.65217391304348,37.391304347826086,68.10344827586206,29.565217391304348,31.304347826086957,47.82608695652174,82.6086956521739,40.869565217391305,71.30434782608695,35.3448275862069,83.47826086956522,63.793103448275865,27.82608695652174,27.82608695652174,68.96551724137932,32.17391304347826,33.04347826086956,40.869565217391305,80.17241379310344,32.17391304347826,28.695652173913043,42.608695652173914,28.695652173913043,24.347826086956523,54.78260869565217,71.55172413793103,31.304347826086957,67.82608695652173,36.283185840707965,35.416666666666664,29.310344827586206,2.6548672566371683,34.285714285714285,28.037383177570092,36.53846153846154,39.42307692307692,17.699115044247787,33.62068965517241,69.3069306930693,13.978494623655914,29.310344827586206,63.44086021505376,33.68421052631579,35.96491228070175,28.695652173913043,37.5,35.922330097087375,18.42105263157895,28.695652173913043,31.896551724137932,73.95833333333333,48.484848484848484,29.310344827586206,33.663366336633665,60.869565217391305,41.34615384615385,27.586206896551722,46.15384615384615,62.365591397849464,40.0,50.0,42.708333333333336,34.78260869565217,31.03448275862069,41.904761904761905,32.17391304347826,39.473684210526315,39.6551724137931,5.2631578947368425,44.73684210526316,28.94736842105263,51.75438596491228,38.05309734513274,22.80701754385965,40.51724137931034,38.93805309734513,16.666666666666668,38.793103448275865,36.283185840707965,35.08771929824562,64.03508771929825,40.0,67.54385964912281,41.228070175438596,21.73913043478261,39.130434782608695,40.51724137931034,33.6283185840708,30.088495575221238,41.37931034482759,32.743362831858406,36.283185840707965,56.14035087719298,39.6551724137931,35.39823008849557,35.39823008849557,53.50877192982456,30.088495575221238,27.43362831858407,46.08695652173913,38.793103448275865,30.088495575221238,45.21739130434783,80.17241379310344,8.695652173913043,42.857142857142854,29.906542056074766,45.19230769230769,34.905660377358494,37.391304347826086,60.3448275862069,38.83495145631068,48.958333333333336,62.93103448275862,38.541666666666664,34.375,41.228070175438596,75.65217391304348,41.964285714285715,73.7864077669903,31.03448275862069,74.78260869565217,58.62068965517241,35.714285714285715,29.702970297029704,62.06896551724138,33.980582524271846,38.541666666666664,43.26923076923077,78.44827586206897,37.5,37.5,51.0,31.25,26.804123711340207,52.17391304347826,62.06896551724138,33.64485981308411,65.21739130434783,25.0,42.241379310344826,28.448275862068964,42.241379310344826,31.03448275862069,53.44827586206897,68.96551724137932,37.06896551724138,39.6551724137931,69.82758620689656,31.896551724137932,28.448275862068964,46.55172413793103,90.51724137931035,42.241379310344826,70.6896551724138,39.6551724137931,88.79310344827586,68.10344827586206,31.03448275862069,25.862068965517242,71.55172413793103,31.03448275862069,31.896551724137932,39.6551724137931,96.55172413793103,30.17241379310345,31.03448275862069,43.96551724137931,26.724137931034484,22.413793103448278,60.3448275862069,73.27586206896552,31.03448275862069,72.41379310344827,8.035714285714286,4.504504504504505,7.017543859649122,4.424778761061947,50.0,16.52173913043478,6.1946902654867255,0.0,14.912280701754385,4.464285714285714,3.4782608695652173,9.565217391304348,26.956521739130434,6.140350877192983,13.91304347826087,27.536231884057973,27.82608695652174,15.652173913043478,3.5714285714285716,1.8018018018018018,17.24137931034483,2.6785714285714284,2.6548672566371683,6.140350877192983,25.0,2.6548672566371683,4.464285714285714,5.2631578947368425,2.7027027027027026,2.7777777777777777,14.782608695652174,18.103448275862068,5.357142857142857,16.52173913043478,28.97196261682243,41.34615384615385,37.735849056603776,28.571428571428573,42.608695652173914,39.04761904761905,20.0,41.73913043478261,40.95238095238095,35.23809523809524,52.63157894736842,44.34782608695652,42.34234234234234,48.57142857142857,28.31858407079646,45.21739130434783,42.608695652173914,33.333333333333336,30.476190476190474,42.241379310344826,30.476190476190474,42.857142857142854,45.19230769230769,41.37931034482759,37.142857142857146,38.095238095238095,43.26923076923077,28.571428571428573,28.846153846153847,44.34782608695652,45.689655172413794,31.132075471698112,44.34782608695652,28.037383177570092,28.037383177570092,17.117117117117118,28.448275862068964,31.77570093457944,14.018691588785046,28.695652173913043,32.075471698113205,22.429906542056074,28.94736842105263,26.956521739130434,33.035714285714285,33.64485981308411,16.071428571428573,27.82608695652174,30.17241379310345,28.30188679245283,30.476190476190474,25.0,40.56603773584906,29.906542056074766,30.8411214953271,29.310344827586206,28.037383177570092,30.18867924528302,28.97196261682243,27.61904761904762,29.12621359223301,26.956521739130434,30.17241379310345,33.64485981308411,28.695652173913043,39.62264150943396,26.31578947368421,40.869565217391305,38.095238095238095,18.26923076923077,41.73913043478261,40.38461538461539,38.46153846153846,53.50877192982456,42.608695652173914,55.85585585585586,44.76190476190476,24.347826086956523,41.73913043478261,42.608695652173914,32.69230769230769,26.923076923076923,43.96551724137931,36.19047619047619,37.5,68.26923076923077,43.10344827586207,38.46153846153846,39.42307692307692,63.10679611650485,26.923076923076923,31.067961165048544,45.21739130434783,40.51724137931034,37.735849056603776,45.21739130434783,18.58407079646018,37.06896551724138,41.34615384615385,15.09433962264151,32.758620689655174,43.26923076923077,33.0188679245283,44.73684210526316,33.04347826086956,39.285714285714285,37.735849056603776,18.42105263157895,32.17391304347826,38.793103448275865,44.23076923076923,35.57692307692308,34.48275862068966,36.53846153846154,46.15384615384615,41.509433962264154,31.03448275862069,42.30769230769231,43.26923076923077,42.45283018867924,37.5,30.476190476190474,38.26086956521739,34.48275862068966,33.333333333333336,37.391304347826086,41.73913043478261,22.123893805309734,2.608695652173913,42.10526315789474,20.535714285714285,18.26086956521739,27.82608695652174,55.65217391304348,24.56140350877193,39.130434782608695,68.1159420289855,55.65217391304348,42.608695652173914,18.75,16.216216216216218,43.10344827586207,15.178571428571429,19.469026548672566,23.68421052631579,52.58620689655172,15.044247787610619,20.535714285714285,24.56140350877193,18.01801801801802,13.88888888888889,38.26086956521739,45.689655172413794,19.642857142857142,44.34782608695652,39.6551724137931,29.310344827586206,68.69565217391305,32.758620689655174,28.448275862068964,45.689655172413794,68.96551724137932,42.608695652173914,66.37931034482759,53.91304347826087,68.10344827586206,85.21739130434783,31.896551724137932,30.17241379310345,74.13793103448276,32.758620689655174,33.62068965517241,39.130434782608695,67.24137931034483,31.896551724137932,32.758620689655174,40.869565217391305,31.896551724137932,27.82608695652174,58.62068965517241,75.0,33.91304347826087,75.0,16.50485436893204,33.62068965517241,64.35643564356435,36.89320388349515,39.473684210526315,36.52173913043478,39.285714285714285,41.74757281553398,22.80701754385965,37.391304347826086,37.06896551724138,69.3069306930693,47.524752475247524,36.206896551724135,36.633663366336634,57.42574257425743,41.34615384615385,34.48275862068966,42.57425742574257,62.37623762376238,42.71844660194175,45.54455445544554,41.1764705882353,42.608695652173914,35.3448275862069,40.0,37.391304347826086,30.17241379310345,14.736842105263158,11.578947368421053,20.17543859649123,43.47826086956522,16.964285714285715,38.83495145631068,0.8620689655172413,45.21739130434783,28.448275862068964,14.285714285714286,13.861386138613861,31.03448275862069,17.475728155339805,15.957446808510639,17.307692307692307,38.793103448275865,18.47826086956522,13.68421052631579,23.0,13.541666666666666,11.34020618556701,22.608695652173914,31.03448275862069,14.018691588785046,30.434782608695652,33.91304347826087,29.310344827586206,43.96551724137931,68.96551724137932,40.869565217391305,65.51724137931035,39.473684210526315,68.96551724137932,68.69565217391305,26.956521739130434,28.695652173913043,68.96551724137932,32.17391304347826,33.62068965517241,38.26086956521739,69.82758620689656,31.896551724137932,33.04347826086956,42.608695652173914,29.565217391304348,25.43859649122807,52.58620689655172,73.27586206896552,29.565217391304348,68.96551724137932,45.26315789473684,36.8421052631579,32.17391304347826,41.964285714285715,36.89320388349515,20.353982300884955,33.04347826086956,32.758620689655174,64.21052631578948,50.0,29.310344827586206,36.0,84.94623655913979,41.34615384615385,31.03448275862069,46.236559139784944,95.65217391304348,41.0,46.236559139784944,42.10526315789474,39.130434782608695,32.758620689655174,39.04761904761905,35.65217391304348,34.21052631578947,28.695652173913043,39.285714285714285,36.89320388349515,17.24137931034483,26.956521739130434,31.03448275862069,31.632653061224488,30.693069306930692,30.17241379310345,28.155339805825243,42.10526315789474,36.53846153846154,28.448275862068964,31.57894736842105,44.21052631578947,37.0,33.333333333333336,31.95876288659794,31.304347826086957,30.17241379310345,30.8411214953271,34.78260869565217,47.82608695652174,57.01754385964912,45.6140350877193,26.724137931034484,46.95652173913044,44.827586206896555,35.08771929824562,30.70175438596491,45.689655172413794,33.333333333333336,36.8421052631579,51.75438596491228,45.689655172413794,35.08771929824562,35.08771929824562,51.75438596491228,29.82456140350877,31.57894736842105,49.56521739130435,48.275862068965516,32.45614035087719,46.95652173913044,41.73913043478261,70.43478260869566,39.6551724137931,96.52173913043478,69.82758620689656,28.695652173913043,27.82608695652174,74.13793103448276,31.304347826086957,32.17391304347826,39.130434782608695,88.79310344827586,29.565217391304348,31.304347826086957,41.73913043478261,28.695652173913043,22.608695652173914,60.869565217391305,74.13793103448276,33.91304347826087,72.17391304347827,45.535714285714285,22.608695652173914,40.869565217391305,44.34782608695652,33.92857142857143,29.464285714285715,41.37931034482759,35.714285714285715,41.07142857142857,51.351351351351354,42.241379310344826,33.035714285714285,41.07142857142857,51.351351351351354,28.571428571428573,30.63063063063063,46.08695652173913,42.241379310344826,34.234234234234236,47.82608695652174,34.48275862068966,70.43478260869566,67.24137931034483,34.95145631067961,31.067961165048544,68.96551724137932,33.980582524271846,37.86407766990291,46.15384615384615,68.96551724137932,34.95145631067961,36.89320388349515,50.48543689320388,33.00970873786408,30.097087378640776,54.78260869565217,73.27586206896552,37.38317757009346,73.91304347826087,39.6551724137931,49.56521739130435,20.353982300884955,17.857142857142858,39.6551724137931,15.929203539823009,19.29824561403509,22.608695652173914,38.793103448275865,14.912280701754385,20.353982300884955,22.608695652173914,19.642857142857142,14.678899082568808,35.3448275862069,41.37931034482759,20.353982300884955,41.37931034482759,68.10344827586206,29.565217391304348,27.82608695652174,71.55172413793103,30.434782608695652,33.04347826086956,38.26086956521739,87.06896551724138,30.434782608695652,32.17391304347826,42.608695652173914,28.695652173913043,22.608695652173914,59.130434782608695,72.41379310344827,33.04347826086956,71.30434782608695,31.03448275862069,30.17241379310345,75.0,31.896551724137932,34.48275862068966,40.869565217391305,66.37931034482759,32.758620689655174,32.758620689655174,42.608695652173914,31.896551724137932,26.956521739130434,62.06896551724138,74.13793103448276,33.04347826086956,78.44827586206897,46.93877551020408,27.586206896551722,32.0,57.291666666666664,39.42307692307692,28.448275862068964,38.541666666666664,61.05263157894737,41.0,42.10526315789474,38.541666666666664,36.52173913043478,29.310344827586206,33.333333333333336,31.304347826086957,25.862068965517242,36.0,47.474747474747474,31.73076923076923,25.0,34.343434343434346,45.91836734693877,34.65346534653465,72.16494845360825,35.714285714285715,28.695652173913043,28.448275862068964,30.476190476190474,27.82608695652174,31.896551724137932,30.17241379310345,39.6551724137931,70.6896551724138,31.896551724137932,29.310344827586206,44.827586206896555,27.586206896551722,23.275862068965516,59.48275862068966,74.13793103448276,30.17241379310345,75.86206896551724,34.65346534653465,35.57692307692308,29.310344827586206,34.65346534653465,34.0,33.00970873786408,34.0,31.683168316831683,31.304347826086957,33.62068965517241,37.142857142857146,31.304347826086957,37.5,30.17241379310345,46.73913043478261,83.87096774193549,42.0,45.744680851063826,37.5,36.52173913043478,33.62068965517241,38.095238095238095,36.52173913043478,40.51724137931034,44.23076923076923,40.38461538461539,66.99029126213593,32.69230769230769,33.00970873786408,46.08695652173913,38.793103448275865,35.84905660377358,43.47826086956522,30.17241379310345,30.17241379310345,43.96551724137931,25.0,22.413793103448278,59.48275862068966,71.55172413793103,31.03448275862069,68.96551724137932,45.16129032258065,38.0,37.234042553191486,30.208333333333332,33.04347826086956,31.896551724137932,32.38095238095238,31.304347826086957,40.0,47.31182795698925,41.05263157894737,38.26086956521739,32.758620689655174,36.19047619047619,35.65217391304348,35.0,30.303030303030305,46.95652173913044,42.241379310344826,30.18867924528302,46.08695652173913,32.97872340425532,31.304347826086957,30.17241379310345,28.571428571428573,29.565217391304348,26.956521739130434,25.862068965517242,28.571428571428573,24.347826086956523,54.310344827586206,33.91304347826087,62.608695652173914,34.48275862068966,70.6896551724138,33.04347826086956]}], {\"yaxis\":{\"linecolor\":\"rgba(0, 0, 0, 1.000)\",\"type\":\"-\",\"titlefont\":{\"size\":15,\"color\":\"rgba(0, 0, 0, 1.000)\",\"family\":\"Helvetica\"},\"tickcolor\":\"rgba(0, 0, 0, 1.000)\",\"title\":\"\",\"showgrid\":true,\"zeroline\":false,\"tickfont\":{\"size\":11,\"color\":\"rgba(0, 0, 0, 1.000)\",\"family\":\"Helvetica\"}},\"plot_bgcolor\":\"rgba(255, 255, 255, 1.000)\",\"showlegend\":true,\"legend\":{\"bgcolor\":\"rgba(255, 255, 255, 1.000)\",\"font\":{\"size\":11,\"color\":\"rgb(0, 0, 0)\",\"family\":\"Helvetica\"},\"bordercolor\":\"rgba(0, 0, 0, 1.000)\"},\"titlefont\":{\"size\":15,\"color\":\"rgba(0, 0, 0, 1.000)\",\"family\":\"Helvetica\"},\"paper_bgcolor\":\"rgba(255, 255, 255, 1.000)\",\"xaxis\":{\"linecolor\":\"rgba(0, 0, 0, 1.000)\",\"type\":\"-\",\"titlefont\":{\"size\":15,\"color\":\"rgba(0, 0, 0, 1.000)\",\"family\":\"Helvetica\"},\"tickcolor\":\"rgba(0, 0, 0, 1.000)\",\"title\":\"Percentage of identity\",\"showgrid\":true,\"zeroline\":false,\"tickfont\":{\"size\":11,\"color\":\"rgba(0, 0, 0, 1.000)\",\"family\":\"Helvetica\"}},\"title\":\"\",\"margin\":{\"r\":8,\"l\":35,\"b\":30,\"t\":20}});\n",
       "  </script>\n"
      ]
     },
     "execution_count": 52,
     "metadata": {},
     "output_type": "execute_result"
    }
   ],
   "source": [
    "histogram(pidtable[:,3], xlabel =\"Percentage of identity\")"
   ]
  },
  {
   "cell_type": "markdown",
   "metadata": {},
   "source": [
    "<a href=\"#\"><i class=\"fa fa-arrow-up\"></i></a>\n",
    "\n",
    "## Sequence clustering  "
   ]
  },
  {
   "cell_type": "markdown",
   "metadata": {},
   "source": [
    "The `MSA` module allows to clusterize sequences in a MSA. The `hobohmI` function takes as input a MSA followed by an identity threshold value, and returns a `SequenceCluster` type with the result of a [Hobohm I<span class=\"fa fa-external-link\" aria-hidden=\"true\"></span>](#http://www.ncbi.nlm.nih.gov/pmc/articles/PMC2142204/) sequence clustering. The Hobohm I algorithm will add a sequence to an existing cluster, if the percentage of identity is equal or greater than the threshold.  \n",
    "The `SequenceCluster` is sub-type of `ClusteringResult` from the [Clustering.jl<span class=\"fa fa-external-link\" aria-hidden=\"true\"></span>](#http://clusteringjl.readthedocs.org/en/latest/index.html) package. One advantage of use a sub-type of `ClusteringResult`is that you are able to use any method defined on `Clustering.jl` like `varinfo` (Variation of Information) for example. Also, you can use any clustering algorithm included in *Clustering.jl*, and convert its result to an `SequenceCluster` object to use them with MIToS.  \n",
    "`MSA` defines the functions `nclusters` to get the resulting number of clusters, `counts` to get the number of sequences on each cluster and `assignments` to get the cluster number of each sequence. The most important method is `getweight`, which returns the weight of each sequence. This method is used in the `Information` module of MIToS to reduce redundancy.  "
   ]
  },
  {
   "cell_type": "markdown",
   "metadata": {},
   "source": [
    "<a href=\"#\"><i class=\"fa fa-arrow-up\"></i></a>\n",
    "\n",
    "#### Example: Reducing redundancy of a MSA\n",
    "\n",
    "MSAs can suffer from an unnatural sequence redundancy and a high number of protein fragments. In this example, we will use a sequence clustering to make a non-redundant set of representative sequences using the function `hobohmI` to perform a clustering with the Hobohm I algorithm at 62% identity.  "
   ]
  },
  {
   "cell_type": "code",
   "execution_count": 53,
   "metadata": {
    "collapsed": false
   },
   "outputs": [
    {
     "name": "stderr",
     "output_type": "stream",
     "text": [
      "  % Total    % Received % Xferd  Average Speed   Time    Time     Time  Current\n",
      "                                 Dload  Upload   Total   Spent    Left  Speed\n",
      "100 31151  100 31151    0     0  39179      0 --:--:-- --:--:-- --:--:-- 39183\n"
     ]
    },
    {
     "name": "stdout",
     "output_type": "stream",
     "text": [
      "This MSA has 118 sequences...\n"
     ]
    }
   ],
   "source": [
    "msa = read(\"http://pfam.xfam.org/family/PF09776/alignment/full\", Stockholm)\n",
    "\n",
    "println(\"This MSA has \", nsequences(msa), \" sequences...\")"
   ]
  },
  {
   "cell_type": "code",
   "execution_count": 54,
   "metadata": {
    "collapsed": false
   },
   "outputs": [
    {
     "data": {
      "text/plain": [
       "MIToS.MSA.SequenceClusters([13,3,1,38,1,1,1,1,1,3  …  1,1,1,2,1,1,1,1,1,1],[1,2,3,4,1,4,5,1,6,4  …  4,44,1,14,16,45,2,4,46,4],[0.0769231,0.333333,1.0,0.0263158,0.0769231,0.0263158,1.0,0.0769231,1.0,0.0263158  …  0.0263158,1.0,0.0769231,0.2,0.2,1.0,0.333333,0.0263158,1.0,0.0263158])"
      ]
     },
     "execution_count": 54,
     "metadata": {},
     "output_type": "execute_result"
    }
   ],
   "source": [
    "clusters = hobohmI(msa, 62)"
   ]
  },
  {
   "cell_type": "code",
   "execution_count": 55,
   "metadata": {
    "collapsed": false
   },
   "outputs": [
    {
     "name": "stdout",
     "output_type": "stream",
     "text": [
      "...but has only 46 sequence clusters after a clustering at 62% identity.\n"
     ]
    }
   ],
   "source": [
    "println(\"...but has only \", nclusters(clusters), \" sequence clusters after a clustering at 62% identity.\")"
   ]
  },
  {
   "cell_type": "markdown",
   "metadata": {},
   "source": [
    "We are going to use the [DataFrames<span class=\"fa fa-external-link\" aria-hidden=\"true\"></span>](#http://dataframesjl.readthedocs.org/en/latest/) package to easily select the sequence with highest coverage of each cluster."
   ]
  },
  {
   "cell_type": "code",
   "execution_count": 56,
   "metadata": {
    "collapsed": false
   },
   "outputs": [
    {
     "data": {
      "text/html": [
       "<table class=\"data-frame\"><tr><th></th><th>seqnum</th><th>seqname</th><th>cluster</th><th>coverage</th></tr><tr><th>1</th><td>1</td><td>B3M1P4_DROAN/2-106</td><td>1</td><td>0.7844827586206896</td></tr><tr><th>2</th><td>2</td><td>F6TE40_MONDO/1-115</td><td>2</td><td>0.9655172413793104</td></tr><tr><th>3</th><td>3</td><td>E4XN03_OIKDI/34-146</td><td>3</td><td>0.7068965517241379</td></tr><tr><th>4</th><td>4</td><td>G1RVK4_NOMLE/46-161</td><td>4</td><td>0.9913793103448276</td></tr><tr><th>5</th><td>5</td><td>B4NHY3_DROWI/2-106</td><td>1</td><td>0.8103448275862069</td></tr><tr><th>6</th><td>6</td><td>G3SD22_GORGO/10-125</td><td>4</td><td>0.9913793103448276</td></tr><tr><th>7</th><td>7</td><td>G6CRH5_DANPL/1-73</td><td>5</td><td>0.6293103448275862</td></tr><tr><th>8</th><td>8</td><td>RM55_DROME/2-106</td><td>1</td><td>0.7844827586206896</td></tr><tr><th>9</th><td>9</td><td>K1RC04_CRAGI/1-50</td><td>6</td><td>0.43103448275862066</td></tr><tr><th>10</th><td>10</td><td>G5C999_HETGA/5-102</td><td>4</td><td>0.8017241379310345</td></tr><tr><th>11</th><td>11</td><td>H2Q197_PANTR/46-161</td><td>4</td><td>0.9913793103448276</td></tr><tr><th>12</th><td>12</td><td>G7Y6C1_CLOSI/30-139</td><td>7</td><td>0.7758620689655172</td></tr><tr><th>13</th><td>13</td><td>E0VEI6_PEDHC/4-112</td><td>8</td><td>0.8448275862068966</td></tr><tr><th>14</th><td>14</td><td>G4LYQ5_SCHMA/4-108</td><td>9</td><td>0.8103448275862069</td></tr><tr><th>15</th><td>15</td><td>Q9TYJ8_CAEEL/5-117</td><td>10</td><td>0.9655172413793104</td></tr><tr><th>&vellip;</th><td>&vellip;</td><td>&vellip;</td><td>&vellip;</td><td>&vellip;</td></tr></table>"
      ],
      "text/plain": [
       "118x4 DataFrames.DataFrame\n",
       "| Row | seqnum | seqname                  | cluster |\n",
       "|-----|--------|--------------------------|---------|\n",
       "| 1   | 1      | \"B3M1P4_DROAN/2-106\"     | 1       |\n",
       "| 2   | 2      | \"F6TE40_MONDO/1-115\"     | 2       |\n",
       "| 3   | 3      | \"E4XN03_OIKDI/34-146\"    | 3       |\n",
       "| 4   | 4      | \"G1RVK4_NOMLE/46-161\"    | 4       |\n",
       "⋮\n",
       "| 114 | 114    | \"H2YZU3_CIOSA/20-124\"    | 45      |\n",
       "| 115 | 115    | \"G3WPK1_SARHA/11-126\"    | 2       |\n",
       "| 116 | 116    | \"RM55_MOUSE/9-124\"       | 4       |\n",
       "| 117 | 117    | \"A0A077ZGK7_TRITR/1-108\" | 46      |\n",
       "| 118 | 118    | \"M3XPJ7_MUSPF/10-125\"    | 4       |\n",
       "\n",
       "| Row | coverage |\n",
       "|-----|----------|\n",
       "| 1   | 0.784483 |\n",
       "| 2   | 0.965517 |\n",
       "| 3   | 0.706897 |\n",
       "| 4   | 0.991379 |\n",
       "⋮\n",
       "| 114 | 0.775862 |\n",
       "| 115 | 0.991379 |\n",
       "| 116 | 1.0      |\n",
       "| 117 | 0.896552 |\n",
       "| 118 | 0.991379 |"
      ]
     },
     "execution_count": 56,
     "metadata": {},
     "output_type": "execute_result"
    }
   ],
   "source": [
    "using DataFrames\n",
    "\n",
    "df = DataFrame( seqnum = 1:nsequences(msa),\n",
    "                seqname = collect(names(msa)), \n",
    "                cluster = assignments(clusters), # the cluster number/index of each sequence\n",
    "                coverage = coverage(msa))"
   ]
  },
  {
   "cell_type": "markdown",
   "metadata": {},
   "source": [
    "It is possible to use this `DataFrame` and `Plots` to plot the sequence coverage of the MSA and also an histogram of the number of sequences in each cluster:  "
   ]
  },
  {
   "cell_type": "code",
   "execution_count": 61,
   "metadata": {
    "collapsed": false
   },
   "outputs": [
    {
     "data": {
      "text/html": [
       "<script src=\"/home/diego/.julia/v0.4/Plots/deps/plotly-latest.min.js\"></script><div style=\"width:600px;height:300px;\"><div style=\"clear:both;\">  <div id=\"61266ef4-704c-49e3-aeb3-32e3c8cc5719\" style=\"float:left; width:600.0px; height:150.0px;\"></div>\n",
       "  <script>\n",
       "    PLOT = document.getElementById('61266ef4-704c-49e3-aeb3-32e3c8cc5719');\n",
       "    Plotly.plot(PLOT, [{\"y\":[0.7844827586206896,0.9655172413793104,0.7068965517241379,0.9913793103448276,0.8103448275862069,0.9913793103448276,0.6293103448275862,0.7844827586206896,0.43103448275862066,0.8017241379310345,0.9913793103448276,0.7758620689655172,0.8448275862068966,0.8103448275862069,0.9655172413793104,0.9913793103448276,0.8017241379310345,0.8793103448275862,0.8879310344827587,0.9913793103448276,0.9310344827586207,0.8706896551724138,0.7931034482758621,0.8275862068965517,0.8362068965517241,0.6724137931034483,0.9741379310344828,0.9913793103448276,1.0,0.8189655172413793,0.8275862068965517,0.9655172413793104,0.7931034482758621,0.896551724137931,0.9913793103448276,1.0,0.8620689655172413,0.9482758620689655,1.0,1.0,0.8189655172413793,0.3879310344827586,0.7844827586206896,1.0,0.9741379310344828,0.7844827586206896,1.0,0.9310344827586207,0.9913793103448276,0.9913793103448276,0.8189655172413793,0.8275862068965517,0.9310344827586207,0.7844827586206896,1.0,0.9827586206896551,0.8017241379310345,0.7931034482758621,0.4051724137931034,0.9913793103448276,0.9913793103448276,0.9913793103448276,0.9396551724137931,0.4224137931034483,0.853448275862069,0.7844827586206896,0.6293103448275862,0.6724137931034483,0.7068965517241379,0.9396551724137931,0.8620689655172413,0.8362068965517241,0.896551724137931,0.8017241379310345,0.7931034482758621,1.0,0.8103448275862069,0.9913793103448276,0.9913793103448276,0.7844827586206896,0.9741379310344828,0.8275862068965517,1.0,0.28448275862068967,0.8793103448275862,0.8879310344827587,0.8879310344827587,0.896551724137931,0.5689655172413793,0.9913793103448276,0.8706896551724138,0.4482758620689655,0.9827586206896551,0.7931034482758621,0.8189655172413793,0.9827586206896551,0.9913793103448276,0.9568965517241379,0.8879310344827587,0.5948275862068966,0.9913793103448276,0.9913793103448276,0.8189655172413793,0.8362068965517241,1.0,0.8620689655172413,0.7931034482758621,0.8879310344827587,1.0,0.7758620689655172,0.7931034482758621,0.853448275862069,0.7931034482758621,0.7758620689655172,0.9913793103448276,1.0,0.896551724137931,0.9913793103448276],\"name\":\"y1\",\"type\":\"scatter\",\"x\":[1,2,3,4,1,4,5,1,6,4,4,7,8,9,10,4,1,11,12,4,13,14,15,16,17,18,19,2,4,20,21,4,1,12,4,4,16,22,4,4,1,23,1,4,4,1,4,10,4,4,20,4,22,14,4,4,16,24,25,4,4,4,26,27,28,1,29,30,31,10,32,33,12,13,34,4,35,4,4,1,36,4,4,37,13,38,14,39,40,4,34,41,4,1,42,36,4,36,4,40,4,4,34,16,4,43,1,14,4,44,1,14,16,45,2,4,46,4],\"mode\":\"markers\",\"marker\":{\"symbol\":\"none\",\"opacity\":null,\"line\":{\"width\":1,\"color\":\"rgba(0, 0, 0, 1.000)\"},\"size\":12,\"color\":\"rgba(0, 154, 250, 1.000)\"}}], {\"yaxis\":{\"linecolor\":\"rgba(0, 0, 0, 1.000)\",\"type\":\"-\",\"titlefont\":{\"size\":15,\"color\":\"rgba(0, 0, 0, 1.000)\",\"family\":\"Helvetica\"},\"tickcolor\":\"rgba(0, 0, 0, 1.000)\",\"title\":\"\",\"showgrid\":true,\"zeroline\":false,\"tickfont\":{\"size\":11,\"color\":\"rgba(0, 0, 0, 1.000)\",\"family\":\"Helvetica\"}},\"plot_bgcolor\":\"rgba(255, 255, 255, 1.000)\",\"showlegend\":true,\"legend\":{\"bgcolor\":\"rgba(255, 255, 255, 1.000)\",\"font\":{\"size\":11,\"color\":\"rgb(0, 0, 0)\",\"family\":\"Helvetica\"},\"bordercolor\":\"rgba(0, 0, 0, 1.000)\"},\"titlefont\":{\"size\":15,\"color\":\"rgba(0, 0, 0, 1.000)\",\"family\":\"Helvetica\"},\"paper_bgcolor\":\"rgba(255, 255, 255, 1.000)\",\"xaxis\":{\"linecolor\":\"rgba(0, 0, 0, 1.000)\",\"range\":[0,47],\"type\":\"-\",\"titlefont\":{\"size\":15,\"color\":\"rgba(0, 0, 0, 1.000)\",\"family\":\"Helvetica\"},\"tickcolor\":\"rgba(0, 0, 0, 1.000)\",\"title\":\"\",\"showgrid\":true,\"zeroline\":false,\"tickfont\":{\"size\":11,\"color\":\"rgba(0, 0, 0, 1.000)\",\"family\":\"Helvetica\"}},\"title\":\"\",\"margin\":{\"r\":8,\"l\":35,\"b\":30,\"t\":20}});\n",
       "  </script>\n",
       "</div><div style=\"clear:both;\">  <div id=\"b94a95c4-a0f1-4055-8c3f-faa2bdcbb3a2\" style=\"float:left; width:600.0px; height:150.0px;\"></div>\n",
       "  <script>\n",
       "    PLOT = document.getElementById('b94a95c4-a0f1-4055-8c3f-faa2bdcbb3a2');\n",
       "    Plotly.plot(PLOT, [{\"nbinsx\":30,\"name\":\"y1\",\"type\":\"histogram\",\"line\":{\"width\":1,\"dash\":\"solid\",\"color\":\"rgba(0, 154, 250, 1.000)\",\"shape\":\"linear\"},\"x\":[1,2,3,4,1,4,5,1,6,4,4,7,8,9,10,4,1,11,12,4,13,14,15,16,17,18,19,2,4,20,21,4,1,12,4,4,16,22,4,4,1,23,1,4,4,1,4,10,4,4,20,4,22,14,4,4,16,24,25,4,4,4,26,27,28,1,29,30,31,10,32,33,12,13,34,4,35,4,4,1,36,4,4,37,13,38,14,39,40,4,34,41,4,1,42,36,4,36,4,40,4,4,34,16,4,43,1,14,4,44,1,14,16,45,2,4,46,4]}], {\"yaxis\":{\"linecolor\":\"rgba(0, 0, 0, 1.000)\",\"type\":\"-\",\"titlefont\":{\"size\":15,\"color\":\"rgba(0, 0, 0, 1.000)\",\"family\":\"Helvetica\"},\"tickcolor\":\"rgba(0, 0, 0, 1.000)\",\"title\":\"nseq\",\"showgrid\":true,\"zeroline\":false,\"tickfont\":{\"size\":11,\"color\":\"rgba(0, 0, 0, 1.000)\",\"family\":\"Helvetica\"}},\"plot_bgcolor\":\"rgba(255, 255, 255, 1.000)\",\"showlegend\":true,\"legend\":{\"bgcolor\":\"rgba(255, 255, 255, 1.000)\",\"font\":{\"size\":11,\"color\":\"rgb(0, 0, 0)\",\"family\":\"Helvetica\"},\"bordercolor\":\"rgba(0, 0, 0, 1.000)\"},\"titlefont\":{\"size\":15,\"color\":\"rgba(0, 0, 0, 1.000)\",\"family\":\"Helvetica\"},\"paper_bgcolor\":\"rgba(255, 255, 255, 1.000)\",\"xaxis\":{\"linecolor\":\"rgba(0, 0, 0, 1.000)\",\"range\":[0,47],\"type\":\"-\",\"titlefont\":{\"size\":15,\"color\":\"rgba(0, 0, 0, 1.000)\",\"family\":\"Helvetica\"},\"tickcolor\":\"rgba(0, 0, 0, 1.000)\",\"title\":\"\",\"showgrid\":true,\"zeroline\":false,\"tickfont\":{\"size\":11,\"color\":\"rgba(0, 0, 0, 1.000)\",\"family\":\"Helvetica\"}},\"title\":\"\",\"margin\":{\"r\":8,\"l\":35,\"b\":30,\"t\":20}});\n",
       "  </script>\n",
       "</div></div>"
      ]
     },
     "execution_count": 61,
     "metadata": {},
     "output_type": "execute_result"
    }
   ],
   "source": [
    "h = histogram(df[:cluster], ylabel=\"nseq\")\n",
    "p = plot(x=df[:cluster], y=df[:coverage], linetype=:scatter)\n",
    "subplot(p, h, nc=1, xlim=(0, nclusters(clusters)+1 ))"
   ]
  },
  {
   "cell_type": "markdown",
   "metadata": {},
   "source": [
    "We use the *Split-Apply-Combine* strategy, though the `by` function of the `DataFrames` package, to select the sequence of highest coverage for each cluster.  "
   ]
  },
  {
   "cell_type": "code",
   "execution_count": 62,
   "metadata": {
    "collapsed": false
   },
   "outputs": [
    {
     "data": {
      "text/html": [
       "<table class=\"data-frame\"><tr><th></th><th>cluster</th><th>seqnum</th><th>seqname</th><th>cluster_1</th><th>coverage</th></tr><tr><th>1</th><td>1</td><td>41</td><td>H9JKD3_BOMMO/6-113</td><td>1</td><td>0.8189655172413793</td></tr><tr><th>2</th><td>2</td><td>28</td><td>G3WPK0_SARHA/10-125</td><td>2</td><td>0.9913793103448276</td></tr><tr><th>3</th><td>3</td><td>3</td><td>E4XN03_OIKDI/34-146</td><td>3</td><td>0.7068965517241379</td></tr><tr><th>4</th><td>4</td><td>29</td><td>G7NXC9_MACFA/10-125</td><td>4</td><td>1.0</td></tr><tr><th>5</th><td>5</td><td>7</td><td>G6CRH5_DANPL/1-73</td><td>5</td><td>0.6293103448275862</td></tr><tr><th>6</th><td>6</td><td>9</td><td>K1RC04_CRAGI/1-50</td><td>6</td><td>0.43103448275862066</td></tr><tr><th>7</th><td>7</td><td>12</td><td>G7Y6C1_CLOSI/30-139</td><td>7</td><td>0.7758620689655172</td></tr><tr><th>8</th><td>8</td><td>13</td><td>E0VEI6_PEDHC/4-112</td><td>8</td><td>0.8448275862068966</td></tr><tr><th>9</th><td>9</td><td>14</td><td>G4LYQ5_SCHMA/4-108</td><td>9</td><td>0.8103448275862069</td></tr><tr><th>10</th><td>10</td><td>15</td><td>Q9TYJ8_CAEEL/5-117</td><td>10</td><td>0.9655172413793104</td></tr><tr><th>11</th><td>11</td><td>18</td><td>W4XCA5_STRPU/9-121</td><td>11</td><td>0.8793103448275862</td></tr><tr><th>12</th><td>12</td><td>34</td><td>A0A044VAC1_ONCVO/26-140</td><td>12</td><td>0.896551724137931</td></tr><tr><th>13</th><td>13</td><td>21</td><td>R4GFM4_CHICK/13-125</td><td>13</td><td>0.9310344827586207</td></tr><tr><th>14</th><td>14</td><td>87</td><td>A0A087Y3U8_POEFO/26-139</td><td>14</td><td>0.8879310344827587</td></tr><tr><th>15</th><td>15</td><td>23</td><td>C4WSU2_ACYPI/2-101</td><td>15</td><td>0.7931034482758621</td></tr><tr><th>&vellip;</th><td>&vellip;</td><td>&vellip;</td><td>&vellip;</td><td>&vellip;</td><td>&vellip;</td></tr></table>"
      ],
      "text/plain": [
       "46x5 DataFrames.DataFrame\n",
       "| Row | cluster | seqnum | seqname                  |\n",
       "|-----|---------|--------|--------------------------|\n",
       "| 1   | 1       | 41     | \"H9JKD3_BOMMO/6-113\"     |\n",
       "| 2   | 2       | 28     | \"G3WPK0_SARHA/10-125\"    |\n",
       "| 3   | 3       | 3      | \"E4XN03_OIKDI/34-146\"    |\n",
       "| 4   | 4       | 29     | \"G7NXC9_MACFA/10-125\"    |\n",
       "⋮\n",
       "| 42  | 42      | 95     | \"A7RNQ0_NEMVE/28-143\"    |\n",
       "| 43  | 43      | 106    | \"A0A0B2V267_TOXCA/8-120\" |\n",
       "| 44  | 44      | 110    | \"T1FXF3_HELRO/1-90\"      |\n",
       "| 45  | 45      | 114    | \"H2YZU3_CIOSA/20-124\"    |\n",
       "| 46  | 46      | 117    | \"A0A077ZGK7_TRITR/1-108\" |\n",
       "\n",
       "| Row | cluster_1 | coverage |\n",
       "|-----|-----------|----------|\n",
       "| 1   | 1         | 0.818966 |\n",
       "| 2   | 2         | 0.991379 |\n",
       "| 3   | 3         | 0.706897 |\n",
       "| 4   | 4         | 1.0      |\n",
       "⋮\n",
       "| 42  | 42        | 0.818966 |\n",
       "| 43  | 43        | 0.862069 |\n",
       "| 44  | 44        | 0.775862 |\n",
       "| 45  | 45        | 0.775862 |\n",
       "| 46  | 46        | 0.896552 |"
      ]
     },
     "execution_count": 62,
     "metadata": {},
     "output_type": "execute_result"
    }
   ],
   "source": [
    "maxcoverage = by(df, :cluster, cl -> cl[ findmax(cl[:coverage])[2] ,:])"
   ]
  },
  {
   "cell_type": "code",
   "execution_count": 68,
   "metadata": {
    "collapsed": false
   },
   "outputs": [
    {
     "data": {
      "text/html": [
       "<script src=\"/home/diego/.julia/v0.4/Plots/deps/plotly-latest.min.js\"></script><div style=\"width:600px;height:300px;\"><div style=\"clear:both;\">  <div id=\"78a3638f-4b9b-4455-ae73-b67c57ad5bd6\" style=\"float:left; width:600.0px; height:150.0px;\"></div>\n",
       "  <script>\n",
       "    PLOT = document.getElementById('78a3638f-4b9b-4455-ae73-b67c57ad5bd6');\n",
       "    Plotly.plot(PLOT, [{\"y\":[0.8189655172413793,0.9913793103448276,0.7068965517241379,1.0,0.6293103448275862,0.43103448275862066,0.7758620689655172,0.8448275862068966,0.8103448275862069,0.9655172413793104,0.8793103448275862,0.896551724137931,0.9310344827586207,0.8879310344827587,0.7931034482758621,0.8620689655172413,0.8362068965517241,0.6724137931034483,0.9741379310344828,0.8189655172413793,0.8275862068965517,0.9482758620689655,0.3879310344827586,0.7931034482758621,0.4051724137931034,0.9396551724137931,0.4224137931034483,0.853448275862069,0.6293103448275862,0.6724137931034483,0.7068965517241379,0.8620689655172413,0.8362068965517241,0.8706896551724138,0.8103448275862069,0.9827586206896551,0.28448275862068967,0.8879310344827587,0.896551724137931,0.5948275862068966,0.4482758620689655,0.8189655172413793,0.8620689655172413,0.7758620689655172,0.7758620689655172,0.896551724137931],\"name\":\"y1\",\"type\":\"scatter\",\"x\":[1,2,3,4,5,6,7,8,9,10,11,12,13,14,15,16,17,18,19,20,21,22,23,24,25,26,27,28,29,30,31,32,33,34,35,36,37,38,39,40,41,42,43,44,45,46],\"mode\":\"markers\",\"marker\":{\"symbol\":\"none\",\"opacity\":null,\"line\":{\"width\":1,\"color\":\"rgba(0, 0, 0, 1.000)\"},\"size\":12,\"color\":\"rgba(0, 154, 250, 1.000)\"}}], {\"yaxis\":{\"linecolor\":\"rgba(0, 0, 0, 1.000)\",\"type\":\"-\",\"titlefont\":{\"size\":15,\"color\":\"rgba(0, 0, 0, 1.000)\",\"family\":\"Helvetica\"},\"tickcolor\":\"rgba(0, 0, 0, 1.000)\",\"title\":\"\",\"showgrid\":true,\"zeroline\":false,\"tickfont\":{\"size\":11,\"color\":\"rgba(0, 0, 0, 1.000)\",\"family\":\"Helvetica\"}},\"plot_bgcolor\":\"rgba(255, 255, 255, 1.000)\",\"showlegend\":true,\"legend\":{\"bgcolor\":\"rgba(255, 255, 255, 1.000)\",\"font\":{\"size\":11,\"color\":\"rgb(0, 0, 0)\",\"family\":\"Helvetica\"},\"bordercolor\":\"rgba(0, 0, 0, 1.000)\"},\"titlefont\":{\"size\":15,\"color\":\"rgba(0, 0, 0, 1.000)\",\"family\":\"Helvetica\"},\"paper_bgcolor\":\"rgba(255, 255, 255, 1.000)\",\"xaxis\":{\"linecolor\":\"rgba(0, 0, 0, 1.000)\",\"range\":[0,47],\"type\":\"-\",\"titlefont\":{\"size\":15,\"color\":\"rgba(0, 0, 0, 1.000)\",\"family\":\"Helvetica\"},\"tickcolor\":\"rgba(0, 0, 0, 1.000)\",\"title\":\"\",\"showgrid\":true,\"zeroline\":false,\"tickfont\":{\"size\":11,\"color\":\"rgba(0, 0, 0, 1.000)\",\"family\":\"Helvetica\"}},\"title\":\"\",\"margin\":{\"r\":8,\"l\":35,\"b\":30,\"t\":20}});\n",
       "  </script>\n",
       "</div><div style=\"clear:both;\">  <div id=\"de778e78-3101-4498-b268-3be694dd1143\" style=\"float:left; width:600.0px; height:150.0px;\"></div>\n",
       "  <script>\n",
       "    PLOT = document.getElementById('de778e78-3101-4498-b268-3be694dd1143');\n",
       "    Plotly.plot(PLOT, [{\"nbinsx\":30,\"name\":\"y1\",\"type\":\"histogram\",\"line\":{\"width\":1,\"dash\":\"solid\",\"color\":\"rgba(0, 154, 250, 1.000)\",\"shape\":\"linear\"},\"x\":[1,2,3,4,5,6,7,8,9,10,11,12,13,14,15,16,17,18,19,20,21,22,23,24,25,26,27,28,29,30,31,32,33,34,35,36,37,38,39,40,41,42,43,44,45,46]}], {\"yaxis\":{\"linecolor\":\"rgba(0, 0, 0, 1.000)\",\"type\":\"-\",\"titlefont\":{\"size\":15,\"color\":\"rgba(0, 0, 0, 1.000)\",\"family\":\"Helvetica\"},\"tickcolor\":\"rgba(0, 0, 0, 1.000)\",\"title\":\"nseq\",\"showgrid\":true,\"zeroline\":false,\"tickfont\":{\"size\":11,\"color\":\"rgba(0, 0, 0, 1.000)\",\"family\":\"Helvetica\"}},\"plot_bgcolor\":\"rgba(255, 255, 255, 1.000)\",\"showlegend\":true,\"legend\":{\"bgcolor\":\"rgba(255, 255, 255, 1.000)\",\"font\":{\"size\":11,\"color\":\"rgb(0, 0, 0)\",\"family\":\"Helvetica\"},\"bordercolor\":\"rgba(0, 0, 0, 1.000)\"},\"titlefont\":{\"size\":15,\"color\":\"rgba(0, 0, 0, 1.000)\",\"family\":\"Helvetica\"},\"paper_bgcolor\":\"rgba(255, 255, 255, 1.000)\",\"xaxis\":{\"linecolor\":\"rgba(0, 0, 0, 1.000)\",\"range\":[0,47],\"type\":\"-\",\"titlefont\":{\"size\":15,\"color\":\"rgba(0, 0, 0, 1.000)\",\"family\":\"Helvetica\"},\"tickcolor\":\"rgba(0, 0, 0, 1.000)\",\"title\":\"\",\"showgrid\":true,\"zeroline\":false,\"tickfont\":{\"size\":11,\"color\":\"rgba(0, 0, 0, 1.000)\",\"family\":\"Helvetica\"}},\"title\":\"\",\"margin\":{\"r\":8,\"l\":35,\"b\":30,\"t\":20}});\n",
       "  </script>\n",
       "</div></div>"
      ]
     },
     "execution_count": 68,
     "metadata": {},
     "output_type": "execute_result"
    }
   ],
   "source": [
    "p = plot(x=maxcoverage[:cluster], y=maxcoverage[:coverage], linetype=:scatter)\n",
    "h = histogram(maxcoverage[:cluster], ylabel=\"nseq\")\n",
    "subplot(p, h, nc=1, xlim=(0, nclusters(clusters)+1 ))"
   ]
  },
  {
   "cell_type": "markdown",
   "metadata": {},
   "source": [
    "We can easily generate a mask using list comprehension, to select only the representative sequences of the MSA (deleting the rest of the sequences with `filtersequences!`)."
   ]
  },
  {
   "cell_type": "code",
   "execution_count": 66,
   "metadata": {
    "collapsed": false
   },
   "outputs": [
    {
     "data": {
      "text/plain": [
       "118-element Array{Bool,1}:\n",
       " false\n",
       " false\n",
       "  true\n",
       " false\n",
       " false\n",
       "     ⋮\n",
       "  true\n",
       " false\n",
       " false\n",
       "  true\n",
       " false"
      ]
     },
     "execution_count": 66,
     "metadata": {},
     "output_type": "execute_result"
    }
   ],
   "source": [
    "cluster_references = Bool[ seqnum in maxcoverage[:seqnum] for seqnum in 1:nsequences(msa) ]"
   ]
  },
  {
   "cell_type": "code",
   "execution_count": 67,
   "metadata": {
    "collapsed": false
   },
   "outputs": [
    {
     "data": {
      "text/plain": [
       "46x116 MIToS.MSA.AnnotatedMultipleSequenceAlignment:\n",
       " -  -  -  -  -  -  -  -  -  …  D  -  -  -  -  -  -  -  -\n",
       " -  -  -  -  -  -  -  -  -     K  K  Y  L  K  Y  L  K  K\n",
       " -  -  -  -  -  -  -  -  -     R  K  Y  L  K  Y  I  K  K\n",
       " -  -  -  -  -  -  -  -  -     S  A  Y  E  F  L  -  -  -\n",
       " -  -  -  -  -  -  -  -  -     N  K  Y  L  N  L  L  K  K\n",
       " ⋮              ⋮           ⋱           ⋮              ⋮\n",
       " L  L  W  Q  C  G  M  T  R     -  -  -  -  -  -  -  -  -\n",
       " -  -  -  -  -  -  -  -  -     D  R  Y  A  Q  L  W  K  -\n",
       " -  -  -  -  -  -  -  -  -     N  K  Y  S  Y  L  W  K  K\n",
       " -  -  -  -  -  -  -  -  -     L  K  Y  L  -  -  -  -  -\n",
       " -  -  -  -  -  -  -  -  -  …  K  N  Y  A  F  L  W  K  K"
      ]
     },
     "execution_count": 67,
     "metadata": {},
     "output_type": "execute_result"
    }
   ],
   "source": [
    "filtersequences!(msa, cluster_references)"
   ]
  },
  {
   "cell_type": "markdown",
   "metadata": {},
   "source": [
    "<a href=\"#\"><i class=\"fa fa-arrow-up\"></i></a>"
   ]
  }
 ],
 "metadata": {
  "kernelspec": {
   "display_name": "Julia 0.4.2",
   "language": "julia",
   "name": "julia-0.4"
  },
  "language_info": {
   "file_extension": ".jl",
   "mimetype": "application/julia",
   "name": "julia",
   "version": "0.4.2"
  }
 },
 "nbformat": 4,
 "nbformat_minor": 0
}
