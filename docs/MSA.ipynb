{
 "cells": [
  {
   "cell_type": "markdown",
   "metadata": {},
   "source": [
    "# MSA"
   ]
  },
  {
   "cell_type": "markdown",
   "metadata": {
    "collapsed": false
   },
   "source": [
    "The MSA module of MIToS has utilities for working with Multiple Sequence Alignments of protein Sequences (MSA).\n",
    "\n",
    "## Features\n",
    "\n",
    "- [Read and write MSAs](#Reading-and-writing-MSA-files.) in `Stockholm`, `FASTA` or `Raw` format\n",
    "- Handle MSA annotations\n",
    "- Edit the MSA, e.g. delete columns or sequences, change sequence order, shuffling...\n",
    "- Keep track of positions and annotations after modifications on the MSA\n",
    "- Describe a MSA, e.g. mean percent identity, sequence coverage, gap percentage..."
   ]
  },
  {
   "cell_type": "code",
   "execution_count": 5,
   "metadata": {
    "collapsed": false
   },
   "outputs": [],
   "source": [
    "using MIToS.MSA"
   ]
  },
  {
   "cell_type": "markdown",
   "metadata": {},
   "source": [
    "## Reading and writing MSA files."
   ]
  },
  {
   "cell_type": "markdown",
   "metadata": {},
   "source": [
    "The main function for reading files in MIToS is `read` and it is defined in the `Utils` module. This function takes a filename/path and lot of arguments, opens the file and uses the arguments to call the `parse` function. `read` decides how to open the file, using the prefixes and suffixes of the file name, while `parse` does the actual parsing of the file. You can `read` **gzipped files** if they have the `.gz` extension and also **files of the web**.  \n",
    "The second argument of `read` and `parse` is the file `Format`. The supported MSA formats at the moment are `Stockholm`, `FASTA` and `Raw`.  \n",
    "For example, reading in Julia the full Stockholm MSA of the family PF07388 using the Pfam RESTful interface will be:"
   ]
  },
  {
   "cell_type": "code",
   "execution_count": 10,
   "metadata": {
    "collapsed": false
   },
   "outputs": [
    {
     "name": "stderr",
     "output_type": "stream",
     "text": [
      "  % Total    % Received % Xferd  Average Speed   Time    Time     Time  Current\n",
      "                                 Dload  Upload   Total   Spent    Left  Speed\n",
      "100  4168  100  4168    0     0   7883      0 --:--:-- --:--:-- --:--:--  7893\n"
     ]
    },
    {
     "data": {
      "text/plain": [
       "4x458 MIToS.MSA.AnnotatedMultipleSequenceAlignment:\n",
       " -  -  -  -  -  -  -  -  -  -  -  -  -  …  -  -  -  -  -  -  -  -  -  -  -  -\n",
       " M  L  K  K  I  K  K  A  L  F  Q  P  K     -  -  -  -  -  -  -  -  -  -  -  -\n",
       " -  -  K  K  L  S  G  L  M  Q  D  I  K     D  F  Q  K  Y  R  I  K  Y  L  Q  L\n",
       " -  -  -  -  -  -  -  -  -  -  -  -  -     -  -  -  -  -  -  -  -  -  -  -  -"
      ]
     },
     "execution_count": 10,
     "metadata": {},
     "output_type": "execute_result"
    }
   ],
   "source": [
    "msa = read(\"http://pfam.xfam.org/family/PF07388/alignment/full\", Stockholm)"
   ]
  },
  {
   "cell_type": "markdown",
   "metadata": {},
   "source": [
    "The third (and optional) argument of `read` and `parse` is the output MSA type:  \n",
    "  \n",
    "<p>\n",
    "    <dl>\n",
    "    \n",
    "        <dt><code>Matrix{Residue}</code></dt>\n",
    "        <dd>It is the default output format for a <code>Raw</code> file.</dd>\n",
    "        \n",
    "        <dt><code>MultipleSequenceAlignment</code></dt>\n",
    "        <dd>It contains the sequence names/identifiers.</dd>\n",
    "        \n",
    "        <dt><code>AnnotatedMultipleSequenceAlignment</code></dt>\n",
    "        <dd>The richest MSA format of MIToS and the default for <code>FASTA</code> and <code>Stockholm</code> files. It includes sequences names and MSA annotations.</dd>\n",
    "       \n",
    "    </dl>\n",
    "</p>\n"
   ]
  },
  {
   "cell_type": "code",
   "execution_count": 18,
   "metadata": {
    "collapsed": false
   },
   "outputs": [
    {
     "name": "stderr",
     "output_type": "stream",
     "text": [
      "  % Total    % Received % Xferd  Average Speed   Time    Time     Time  Current\n",
      "                                 Dload  Upload   Total   Spent    Left  Speed\n",
      "100  4168  100  4168    0     0   7389      0 --:--:-- --:--:-- --:--:--  7390\n"
     ]
    },
    {
     "data": {
      "text/plain": [
       "4x458 Array{MIToS.MSA.Residue,2}:\n",
       " -  -  -  -  -  -  -  -  -  -  -  -  -  …  -  -  -  -  -  -  -  -  -  -  -  -\n",
       " M  L  K  K  I  K  K  A  L  F  Q  P  K     -  -  -  -  -  -  -  -  -  -  -  -\n",
       " -  -  K  K  L  S  G  L  M  Q  D  I  K     D  F  Q  K  Y  R  I  K  Y  L  Q  L\n",
       " -  -  -  -  -  -  -  -  -  -  -  -  -     -  -  -  -  -  -  -  -  -  -  -  -"
      ]
     },
     "execution_count": 18,
     "metadata": {},
     "output_type": "execute_result"
    }
   ],
   "source": [
    "msa = read(\"http://pfam.xfam.org/family/PF07388/alignment/full\", Stockholm, Matrix{Residue})"
   ]
  },
  {
   "cell_type": "markdown",
   "metadata": {},
   "source": [
    "Given that `read` call `parse`, you should look into the documentation of the last one to know the available keyword arguments. The optional keyword arguments using in MSA IO are:\n",
    "\n",
    "<p>\n",
    "<dl>\n",
    "\n",
    "<dt><code>generatemapping</code></dt>\n",
    "<dd>\n",
    "If <code>checkalphabet</code> is <code>true</code> (default to <code>false</code>), sequence and columns mapping are generated and saved in the MSA annotations. <span class=\"text-warning\">The default is <code>false</code> to not overwrite mappings by mistake when you read an annotated MSA file saved with MIToS.</span>\n",
    "</dd>\n",
    "\n",
    "<dt><code>useidcoordinates</code></dt>\n",
    "<dd>\n",
    "If <code>useidcoordinates</code> is <code>true</code> (default to <code>false</code>), MIToS uses the coordinates in the sequence names of the form <i>seqname/start-end</i> to generate sequence mappings. This is safe and useful with fresh downloaded Pfam MSAs. <span class=\"text-warning\">Please be careful if you are reading a MSA saved with MIToS. MIToS deletes unaligned insert columns, therefore the sequences would be disrupted if there were insert columns.</span>\n",
    "</dd>\n",
    "\n",
    "<dt><code>checkalphabet</code></dt>\n",
    "<dd>\n",
    "The <code>parse</code> function converts each character in the sequence strings to a MIToS <code>Residue</code>. Lowercase characters and degenerated or non standard residues are converted to gaps. If <code>checkalphabet</code> is <code>true</code> (<code>false</code> by default), <code>read</code> deletes all the sequences with non-standard residues. The 20 natural residues are A, R, N, D, C, Q, E, G, H, I, L, K, M, F, P, S, T, W, Y and V.\n",
    "</dd>\n",
    "\n",
    "<dt><code>deletefullgaps</code></dt>\n",
    "<dd>\n",
    "Given that lowercase characters and dots are converted to gaps, unaligned insert columns in a MSA derived from a HMM profile are converted into full gap columns. <code>deletefullgaps</code> is <code>true</code> by default, deleting full gaps columns and therefore insert columns.\n",
    "</dd>\n",
    "\n",
    "</dl>\n",
    "</p>\n",
    "\n",
    "<div class=\"panel panel-warning\">\n",
    "<div class=\"panel-heading\">\n",
    "\t\t<strong>If you are deriving scores from gaps...</strong>\n",
    "\t</div>\n",
    "\t<div class=\"panel-body\">\n",
    "\t\tIf you are using MIToS to derive information scores from gaps, you will want to set <code>checkalphabet</code> to <code>true</code>. This prevents counting non standard residues as gaps.\n",
    "\t</div>\n",
    "</div>"
   ]
  },
  {
   "cell_type": "code",
   "execution_count": null,
   "metadata": {
    "collapsed": true
   },
   "outputs": [],
   "source": []
  },
  {
   "cell_type": "code",
   "execution_count": null,
   "metadata": {
    "collapsed": true
   },
   "outputs": [],
   "source": []
  },
  {
   "cell_type": "code",
   "execution_count": null,
   "metadata": {
    "collapsed": true
   },
   "outputs": [],
   "source": []
  },
  {
   "cell_type": "code",
   "execution_count": 4,
   "metadata": {
    "collapsed": false
   },
   "outputs": [
    {
     "data": {
      "text/latex": [
       "\\paragraph{res\"...\"}\n",
       "The MIToS macro \\texttt{@res_str} takes a string and returns a \\texttt{Vector} of \\texttt{Residues} (sequence).\n",
       "\\begin{verbatim}\n",
       "\n",
       "julia> res\"MIToS\"\n",
       "5-element Array{MIToS.MSA.Residue,1}:\n",
       " M\n",
       " I\n",
       " T\n",
       " -\n",
       " S\n",
       "\n",
       "\\end{verbatim}\n"
      ],
      "text/markdown": [
       "#### res\"...\"\n",
       "\n",
       "The MIToS macro `@res_str` takes a string and returns a `Vector` of `Residues` (sequence).\n",
       "\n",
       "```julia\n",
       "\n",
       "julia> res\"MIToS\"\n",
       "5-element Array{MIToS.MSA.Residue,1}:\n",
       " M\n",
       " I\n",
       " T\n",
       " -\n",
       " S\n",
       "\n",
       "```\n"
      ],
      "text/plain": [
       "#### res\"...\"\n",
       "\n",
       "The MIToS macro `@res_str` takes a string and returns a `Vector` of `Residues` (sequence).\n",
       "\n",
       "```julia\n",
       "\n",
       "julia> res\"MIToS\"\n",
       "5-element Array{MIToS.MSA.Residue,1}:\n",
       " M\n",
       " I\n",
       " T\n",
       " -\n",
       " S\n",
       "\n",
       "```\n"
      ]
     },
     "execution_count": 4,
     "metadata": {},
     "output_type": "execute_result"
    }
   ],
   "source": [
    "?MIToS.MSA.@res_str"
   ]
  },
  {
   "cell_type": "code",
   "execution_count": null,
   "metadata": {
    "collapsed": true
   },
   "outputs": [],
   "source": []
  },
  {
   "cell_type": "markdown",
   "metadata": {},
   "source": [
    "<div class=\"panel panel-info\">\n",
    "    <div class=\"panel-heading\">\n",
    "        <strong>Julia help mode</strong>\n",
    "    </div>\n",
    "    <div class=\"panel-body\">\n",
    "        <p>If you type <code>?</code> at the beginning of the Julia REPL line, you will enter in the Julia help mode. In this mode, Julia prints the help or <strong>documentation</strong> of the entered element. This is a nice way of getting information about MIToS functions, types, etc. from Julia.</p>\n",
    "    </div>\n",
    "</div>"
   ]
  },
  {
   "cell_type": "markdown",
   "metadata": {},
   "source": [
    "# Multiple Sequence Alignments"
   ]
  },
  {
   "cell_type": "code",
   "execution_count": 5,
   "metadata": {
    "collapsed": false
   },
   "outputs": [
    {
     "name": "stderr",
     "output_type": "stream",
     "text": [
      "  % Total    % Received % Xferd  Average Speed   Time    Time     Time  Current\n",
      "                                 Dload  Upload   Total   Spent    Left  Speed\n",
      "  0     0    0     0    0     0      0      0 --:--:--  0:00:02 --:--:--     0"
     ]
    },
    {
     "data": {
      "text/plain": [
       "\"PF09645.stockholm.gz\""
      ]
     },
     "execution_count": 5,
     "metadata": {},
     "output_type": "execute_result"
    },
    {
     "name": "stderr",
     "output_type": "stream",
     "text": [
      "\r",
      "100   647  100   647    0     0    280      0  0:00:02  0:00:02 --:--:--   280\n"
     ]
    }
   ],
   "source": [
    "msa_file = MIToS.Pfam.downloadpfam(\"PF09645\")"
   ]
  },
  {
   "cell_type": "code",
   "execution_count": 6,
   "metadata": {
    "collapsed": false
   },
   "outputs": [
    {
     "data": {
      "text/latex": [
       "\\subsubsection{AbstractMultipleSequenceAlignment}\n",
       "The most basic implementation of a MIToS MSA is a \\texttt{Matrix} of \\texttt{Residue}s.\n"
      ],
      "text/markdown": [
       "### AbstractMultipleSequenceAlignment\n",
       "\n",
       "The most basic implementation of a MIToS MSA is a `Matrix` of `Residue`s.\n"
      ],
      "text/plain": [
       "### AbstractMultipleSequenceAlignment\n",
       "\n",
       "The most basic implementation of a MIToS MSA is a `Matrix` of `Residue`s.\n"
      ]
     },
     "execution_count": 6,
     "metadata": {},
     "output_type": "execute_result"
    }
   ],
   "source": [
    "?MIToS.MSA.AbstractMultipleSequenceAlignment"
   ]
  },
  {
   "cell_type": "code",
   "execution_count": 7,
   "metadata": {
    "collapsed": false
   },
   "outputs": [
    {
     "data": {
      "text/plain": [
       "2x110 Array{MIToS.MSA.Residue,2}:\n",
       " -  -  -  -  -  -  -  V  A  Q  Q  L  F  …  -  -  -  -  -  -  -  -  -  -  -  -\n",
       " Q  T  L  N  S  Y  K  M  A  E  I  M  Y     E  Q  T  D  Q  G  F  I  K  A  K  Q"
      ]
     },
     "execution_count": 7,
     "metadata": {},
     "output_type": "execute_result"
    }
   ],
   "source": [
    "msa = read(msa_file, Stockholm, Matrix{Residue})"
   ]
  },
  {
   "cell_type": "code",
   "execution_count": 8,
   "metadata": {
    "collapsed": false
   },
   "outputs": [
    {
     "data": {
      "text/latex": [
       "\\subsubsection{MultipleSequenceAlignment}\n",
       "This MSA type include the \\texttt{Matrix} of \\texttt{Residue}s and the sequence names. To allow fast indexing of MSAs using \\textbf{sequence identifiers}, they are saved as an \\texttt{IndexedArray}.\n"
      ],
      "text/markdown": [
       "### MultipleSequenceAlignment\n",
       "\n",
       "This MSA type include the `Matrix` of `Residue`s and the sequence names. To allow fast indexing of MSAs using **sequence identifiers**, they are saved as an `IndexedArray`.\n"
      ],
      "text/plain": [
       "### MultipleSequenceAlignment\n",
       "\n",
       "This MSA type include the `Matrix` of `Residue`s and the sequence names. To allow fast indexing of MSAs using **sequence identifiers**, they are saved as an `IndexedArray`.\n"
      ]
     },
     "execution_count": 8,
     "metadata": {},
     "output_type": "execute_result"
    }
   ],
   "source": [
    "?MIToS.MSA.MultipleSequenceAlignment"
   ]
  },
  {
   "cell_type": "code",
   "execution_count": null,
   "metadata": {
    "collapsed": false
   },
   "outputs": [],
   "source": [
    "msa = read(msa_file, Stockholm, MultipleSequenceAlignment)"
   ]
  },
  {
   "cell_type": "code",
   "execution_count": null,
   "metadata": {
    "collapsed": false
   },
   "outputs": [],
   "source": [
    "msa.id"
   ]
  },
  {
   "cell_type": "code",
   "execution_count": null,
   "metadata": {
    "collapsed": false
   },
   "outputs": [],
   "source": [
    "msa[\"F112_SSV1/3-112\"]"
   ]
  },
  {
   "cell_type": "markdown",
   "metadata": {},
   "source": [
    "Similar to this, MIToS defines an `AnnotatedMultipleSequenceAlignment` that also includes annotations."
   ]
  },
  {
   "cell_type": "code",
   "execution_count": null,
   "metadata": {
    "collapsed": false
   },
   "outputs": [],
   "source": [
    "fieldnames(AnnotatedMultipleSequenceAlignment)"
   ]
  },
  {
   "cell_type": "code",
   "execution_count": null,
   "metadata": {
    "collapsed": false
   },
   "outputs": [],
   "source": [
    "msa = read(msa_file, Stockholm, AnnotatedMultipleSequenceAlignment, generatemapping=true, useidcoordinates=true)"
   ]
  },
  {
   "cell_type": "code",
   "execution_count": null,
   "metadata": {
    "collapsed": false
   },
   "outputs": [],
   "source": [
    "msa.annotations"
   ]
  },
  {
   "cell_type": "markdown",
   "metadata": {},
   "source": [
    "## MSA annotations"
   ]
  },
  {
   "cell_type": "code",
   "execution_count": null,
   "metadata": {
    "collapsed": false
   },
   "outputs": [],
   "source": [
    "?MIToS.MSA.Annotations"
   ]
  },
  {
   "cell_type": "code",
   "execution_count": null,
   "metadata": {
    "collapsed": false
   },
   "outputs": [],
   "source": [
    "fieldnames(Annotations)"
   ]
  },
  {
   "cell_type": "markdown",
   "metadata": {},
   "source": [
    "MIToS uses MSA annotations to keep track of:  \n",
    "- **Modifications** of the MSA (`MIToS_...`) as deletion of sequences or columns.  \n",
    "- Positions numbers in the original MSA file (**column mapping:** `ColMap`)  \n",
    "- Position of the residues in the sequence (**sequence mapping:** `SeqMap`)  "
   ]
  },
  {
   "cell_type": "code",
   "execution_count": null,
   "metadata": {
    "collapsed": false
   },
   "outputs": [],
   "source": [
    "printmodifications(msa)"
   ]
  },
  {
   "cell_type": "code",
   "execution_count": null,
   "metadata": {
    "collapsed": false
   },
   "outputs": [],
   "source": [
    "getcolumnmapping(msa)"
   ]
  },
  {
   "cell_type": "code",
   "execution_count": null,
   "metadata": {
    "collapsed": false
   },
   "outputs": [],
   "source": [
    "getsequencemapping(msa,\"F112_SSV1/3-112\")"
   ]
  },
  {
   "cell_type": "code",
   "execution_count": null,
   "metadata": {
    "collapsed": true
   },
   "outputs": [],
   "source": []
  }
 ],
 "metadata": {
  "kernelspec": {
   "display_name": "Julia 0.4.1",
   "language": "julia",
   "name": "julia-0.4"
  },
  "language_info": {
   "file_extension": ".jl",
   "mimetype": "application/julia",
   "name": "julia",
   "version": "0.4.1"
  }
 },
 "nbformat": 4,
 "nbformat_minor": 0
}
