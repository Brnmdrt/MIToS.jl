{
 "cells": [
  {
   "cell_type": "markdown",
   "metadata": {},
   "source": [
    "# MSA"
   ]
  },
  {
   "cell_type": "code",
   "execution_count": 1,
   "metadata": {
    "collapsed": false
   },
   "outputs": [
    {
     "name": "stderr",
     "output_type": "stream",
     "text": [
      "INFO: Recompiling stale cache file /home/dzea/.julia/lib/v0.4/MIToS.ji for module MIToS.\n"
     ]
    }
   ],
   "source": [
    "using MIToS.Utils.Docs"
   ]
  },
  {
   "cell_type": "code",
   "execution_count": 2,
   "metadata": {
    "collapsed": false
   },
   "outputs": [
    {
     "data": {
      "text/latex": [
       "\\subsection{MIToS.MSA}\n"
      ],
      "text/markdown": [
       "## MIToS.MSA\n"
      ],
      "text/plain": [
       "## MIToS.MSA\n"
      ]
     },
     "metadata": {},
     "output_type": "display_data"
    },
    {
     "data": {
      "text/latex": [
       "The MSA module of MIToS has utilities for working with Multiple Sequence Alignments of protein Sequences (MSA).\n",
       "\\textbf{Features}\n",
       "\\begin{itemize}\n",
       "\\item Read and write MSAs in \\texttt{Stockholm}, \\texttt{FASTA} or \\texttt{Raw} format\n",
       "\\item Handle MSA annotations\n",
       "\\item Edit the MSA, e.g. delete columns or sequences, change sequence order, shuffling...\n",
       "\\item Keep track of positions and annotations after modifications on the MSA\n",
       "\\item Describe a MSA, e.g. mean percent identity, sequence coverage, gap percentage...\n",
       "\\end{itemize}\n",
       "\\begin{verbatim}\n",
       "\n",
       "using MIToS.MSA\n",
       "\\end{verbatim}\n"
      ],
      "text/markdown": [
       "The MSA module of MIToS has utilities for working with Multiple Sequence Alignments of protein Sequences (MSA).\n",
       "\n",
       "**Features**\n",
       "\n",
       "  * Read and write MSAs in `Stockholm`, `FASTA` or `Raw` format\n",
       "  * Handle MSA annotations\n",
       "  * Edit the MSA, e.g. delete columns or sequences, change sequence order, shuffling...\n",
       "  * Keep track of positions and annotations after modifications on the MSA\n",
       "  * Describe a MSA, e.g. mean percent identity, sequence coverage, gap percentage...\n",
       "\n",
       "```julia\n",
       "\n",
       "using MIToS.MSA\n",
       "```\n"
      ],
      "text/plain": [
       "The MSA module of MIToS has utilities for working with Multiple Sequence Alignments of protein Sequences (MSA).\n",
       "\n",
       "**Features**\n",
       "\n",
       "  * Read and write MSAs in `Stockholm`, `FASTA` or `Raw` format\n",
       "  * Handle MSA annotations\n",
       "  * Edit the MSA, e.g. delete columns or sequences, change sequence order, shuffling...\n",
       "  * Keep track of positions and annotations after modifications on the MSA\n",
       "  * Describe a MSA, e.g. mean percent identity, sequence coverage, gap percentage...\n",
       "\n",
       "```julia\n",
       "\n",
       "using MIToS.MSA\n",
       "```\n"
      ]
     },
     "metadata": {},
     "output_type": "display_data"
    }
   ],
   "source": [
    "@moduledoc MIToS.MSA"
   ]
  },
  {
   "cell_type": "code",
   "execution_count": 3,
   "metadata": {
    "collapsed": false
   },
   "outputs": [],
   "source": [
    "using MIToS.MSA"
   ]
  },
  {
   "cell_type": "code",
   "execution_count": 4,
   "metadata": {
    "collapsed": false
   },
   "outputs": [
    {
     "data": {
      "text/latex": [
       "\\subsubsection{Residue}\n"
      ],
      "text/markdown": [
       "### Residue\n"
      ],
      "text/plain": [
       "### Residue\n"
      ]
     },
     "metadata": {},
     "output_type": "display_data"
    },
    {
     "data": {
      "text/latex": [
       "\\textbf{Summary:}\n",
       "\\begin{verbatim}\n",
       "immutable MIToS.MSA.Residue <: Any\n",
       "\\end{verbatim}\n"
      ],
      "text/markdown": [
       "**Summary:**\n",
       "\n",
       "```julia\n",
       "immutable MIToS.MSA.Residue <: Any\n",
       "```\n"
      ],
      "text/plain": [
       "**Summary:**\n",
       "\n",
       "```julia\n",
       "immutable MIToS.MSA.Residue <: Any\n",
       "```\n"
      ]
     },
     "metadata": {},
     "output_type": "display_data"
    },
    {
     "data": {
      "text/latex": [
       "Most of the \\textbf{MIToS} design is created around the \\texttt{Residue} bitstype. It represents the 20 natural amino acids and a GAP value to represent insertion, deletion but also missing data: ambiguous residues and non natural amino acids. Each residue is encoded as an integer number, this allows fast indexing operation using Residues of probability or frequency matrices.\n",
       "\\textbf{Residue creation and conversion}\n",
       "Creation and \\texttt{convert}ion of \\texttt{Residue}s should be treated carefully. \\texttt{Residue} is encoded as an 8 bits type similar to \\texttt{Int8}, to get faster indexing using \\texttt{Int(x::Residue)}. In this way, \\texttt{Int}, \\texttt{Int8} and other signed integers returns the integer value encoded by the residue. Conversions to and from \\texttt{Char}s and \\texttt{Uint8} are different, to use the \\texttt{Char}acter representation in IO operations.\n",
       "\\begin{verbatim}\n",
       "\n",
       "julia> alanine = Residue('A')\n",
       "A\n",
       "\n",
       "julia> Int(alanine)\n",
       "1\n",
       "\n",
       "julia> Char(alanine)\n",
       "'A'\n",
       "\n",
       "julia> UInt8(alanine) # 0x41 == 65 == 'A'\n",
       "0x41\n",
       "\n",
       "julia> for residue in res\"ARNDCQEGHILKMFPSTWYV-\"\n",
       "           println(residue, \" \", Int(residue))\n",
       "       end\n",
       "A 1\n",
       "R 2\n",
       "N 3\n",
       "D 4\n",
       "C 5\n",
       "Q 6\n",
       "E 7\n",
       "G 8\n",
       "H 9\n",
       "I 10\n",
       "L 11\n",
       "K 12\n",
       "M 13\n",
       "F 14\n",
       "P 15\n",
       "S 16\n",
       "T 17\n",
       "W 18\n",
       "Y 19\n",
       "V 20\n",
       "- 21\n",
       "\n",
       "\\end{verbatim}\n"
      ],
      "text/markdown": [
       "Most of the **MIToS** design is created around the `Residue` bitstype. It represents the 20 natural amino acids and a GAP value to represent insertion, deletion but also missing data: ambiguous residues and non natural amino acids. Each residue is encoded as an integer number, this allows fast indexing operation using Residues of probability or frequency matrices.\n",
       "\n",
       "**Residue creation and conversion**\n",
       "\n",
       "Creation and `convert`ion of `Residue`s should be treated carefully. `Residue` is encoded as an 8 bits type similar to `Int8`, to get faster indexing using `Int(x::Residue)`. In this way, `Int`, `Int8` and other signed integers returns the integer value encoded by the residue. Conversions to and from `Char`s and `Uint8` are different, to use the `Char`acter representation in IO operations.\n",
       "\n",
       "```julia\n",
       "\n",
       "julia> alanine = Residue('A')\n",
       "A\n",
       "\n",
       "julia> Int(alanine)\n",
       "1\n",
       "\n",
       "julia> Char(alanine)\n",
       "'A'\n",
       "\n",
       "julia> UInt8(alanine) # 0x41 == 65 == 'A'\n",
       "0x41\n",
       "\n",
       "julia> for residue in res\"ARNDCQEGHILKMFPSTWYV-\"\n",
       "           println(residue, \" \", Int(residue))\n",
       "       end\n",
       "A 1\n",
       "R 2\n",
       "N 3\n",
       "D 4\n",
       "C 5\n",
       "Q 6\n",
       "E 7\n",
       "G 8\n",
       "H 9\n",
       "I 10\n",
       "L 11\n",
       "K 12\n",
       "M 13\n",
       "F 14\n",
       "P 15\n",
       "S 16\n",
       "T 17\n",
       "W 18\n",
       "Y 19\n",
       "V 20\n",
       "- 21\n",
       "\n",
       "```\n"
      ],
      "text/plain": [
       "Most of the **MIToS** design is created around the `Residue` bitstype. It represents the 20 natural amino acids and a GAP value to represent insertion, deletion but also missing data: ambiguous residues and non natural amino acids. Each residue is encoded as an integer number, this allows fast indexing operation using Residues of probability or frequency matrices.\n",
       "\n",
       "**Residue creation and conversion**\n",
       "\n",
       "Creation and `convert`ion of `Residue`s should be treated carefully. `Residue` is encoded as an 8 bits type similar to `Int8`, to get faster indexing using `Int(x::Residue)`. In this way, `Int`, `Int8` and other signed integers returns the integer value encoded by the residue. Conversions to and from `Char`s and `Uint8` are different, to use the `Char`acter representation in IO operations.\n",
       "\n",
       "```julia\n",
       "\n",
       "julia> alanine = Residue('A')\n",
       "A\n",
       "\n",
       "julia> Int(alanine)\n",
       "1\n",
       "\n",
       "julia> Char(alanine)\n",
       "'A'\n",
       "\n",
       "julia> UInt8(alanine) # 0x41 == 65 == 'A'\n",
       "0x41\n",
       "\n",
       "julia> for residue in res\"ARNDCQEGHILKMFPSTWYV-\"\n",
       "           println(residue, \" \", Int(residue))\n",
       "       end\n",
       "A 1\n",
       "R 2\n",
       "N 3\n",
       "D 4\n",
       "C 5\n",
       "Q 6\n",
       "E 7\n",
       "G 8\n",
       "H 9\n",
       "I 10\n",
       "L 11\n",
       "K 12\n",
       "M 13\n",
       "F 14\n",
       "P 15\n",
       "S 16\n",
       "T 17\n",
       "W 18\n",
       "Y 19\n",
       "V 20\n",
       "- 21\n",
       "\n",
       "```\n"
      ]
     },
     "metadata": {},
     "output_type": "display_data"
    },
    {
     "name": "stderr",
     "output_type": "stream",
     "text": [
      "WARNING: both StatsBase and Base export \"histrange\"; uses of it in module DataArrays must be qualified\n",
      "WARNING: both StatsBase and Base export \"midpoints\"; uses of it in module DataArrays must be qualified\n",
      "WARNING: both DataArrays and StatsBase export \"autocor\"; uses of it in module DataFrames must be qualified\n",
      "WARNING: both DataArrays and StatsBase export \"histrange\"; uses of it in module DataFrames must be qualified\n",
      "WARNING: both DataArrays and StatsBase export \"inverse_rle\"; uses of it in module DataFrames must be qualified\n",
      "WARNING: both DataArrays and StatsBase export \"midpoints\"; uses of it in module DataFrames must be qualified\n",
      "WARNING: both DataArrays and StatsBase export \"rle\"; uses of it in module DataFrames must be qualified\n"
     ]
    }
   ],
   "source": [
    "@typedoc MIToS.MSA.Residue"
   ]
  },
  {
   "cell_type": "code",
   "execution_count": 5,
   "metadata": {
    "collapsed": false
   },
   "outputs": [
    {
     "data": {
      "text/latex": [
       "\\paragraph{@res\\_str}\n"
      ],
      "text/markdown": [
       "#### @res_str\n"
      ],
      "text/plain": [
       "#### @res_str\n"
      ]
     },
     "metadata": {},
     "output_type": "display_data"
    },
    {
     "data": {
      "text/latex": [
       "Macros of the form \\texttt{@name_str} are applied to string as prefixes: \\texttt{name\"...\"}. In particular, the MIToS macro \\texttt{@res_str} takes a string and returns a \\texttt{Vector} of \\texttt{Residues} (sequence).\n",
       "\\begin{verbatim}\n",
       "\n",
       "julia> res\"MYSEQ\"\n",
       "5-element Array{MIToS.MSA.Residue,1}:\n",
       " M\n",
       " Y\n",
       " S\n",
       " E\n",
       " Q\n",
       "\n",
       "\\end{verbatim}\n"
      ],
      "text/markdown": [
       "Macros of the form `@name_str` are applied to string as prefixes: `name\"...\"`. In particular, the MIToS macro `@res_str` takes a string and returns a `Vector` of `Residues` (sequence).\n",
       "\n",
       "```julia\n",
       "\n",
       "julia> res\"MYSEQ\"\n",
       "5-element Array{MIToS.MSA.Residue,1}:\n",
       " M\n",
       " Y\n",
       " S\n",
       " E\n",
       " Q\n",
       "\n",
       "```\n"
      ],
      "text/plain": [
       "Macros of the form `@name_str` are applied to string as prefixes: `name\"...\"`. In particular, the MIToS macro `@res_str` takes a string and returns a `Vector` of `Residues` (sequence).\n",
       "\n",
       "```julia\n",
       "\n",
       "julia> res\"MYSEQ\"\n",
       "5-element Array{MIToS.MSA.Residue,1}:\n",
       " M\n",
       " Y\n",
       " S\n",
       " E\n",
       " Q\n",
       "\n",
       "```\n"
      ]
     },
     "metadata": {},
     "output_type": "display_data"
    }
   ],
   "source": [
    "@functiondoc MIToS.MSA.@res_str"
   ]
  },
  {
   "cell_type": "markdown",
   "metadata": {},
   "source": [
    "# Multiple Sequence Alignments"
   ]
  },
  {
   "cell_type": "code",
   "execution_count": 6,
   "metadata": {
    "collapsed": false
   },
   "outputs": [
    {
     "name": "stderr",
     "output_type": "stream",
     "text": [
      "  % Total    % Received % Xferd  Average Speed   Time    Time     Time  Current\n",
      "                                 Dload  Upload   Total   Spent    Left  Speed\n",
      "100   647  100   647    0     0   1014      0 --:--:-- --:--:-- --:--:--  1"
     ]
    },
    {
     "data": {
      "text/plain": [
       "\"PF09645.stockholm.gz\""
      ]
     },
     "execution_count": 6,
     "metadata": {},
     "output_type": "execute_result"
    }
   ],
   "source": [
    "msa_file = MIToS.Pfam.downloadpfam(\"PF09645\")"
   ]
  },
  {
   "cell_type": "markdown",
   "metadata": {},
   "source": [
    "The basic implementation of a Multiple Sequence Alignments is a `Matrix` of `Residue`s."
   ]
  },
  {
   "cell_type": "code",
   "execution_count": 7,
   "metadata": {
    "collapsed": false
   },
   "outputs": [
    {
     "data": {
      "text/plain": [
       "2x110 Array{MIToS.MSA.Residue,2}:\n",
       " -  -  -  -  -  -  -  V  A  Q  Q  L  F  …  -  -  -  -  -  -  -  -  -  -  -  -\n",
       " Q  T  L  N  S  Y  K  M  A  E  I  M  Y     E  Q  T  D  Q  G  F  I  K  A  K  Q"
      ]
     },
     "execution_count": 7,
     "metadata": {},
     "output_type": "execute_result"
    },
    {
     "name": "stderr",
     "output_type": "stream",
     "text": [
      "015\n"
     ]
    }
   ],
   "source": [
    "msa = read(msa_file, Stockholm, Matrix{Residue})"
   ]
  },
  {
   "cell_type": "markdown",
   "metadata": {},
   "source": [
    "The type `MultipleSequenceAlignment` also includes **sequence identifiers**."
   ]
  },
  {
   "cell_type": "code",
   "execution_count": 8,
   "metadata": {
    "collapsed": false
   },
   "outputs": [
    {
     "data": {
      "text/plain": [
       "2-element Array{Symbol,1}:\n",
       " :id \n",
       " :msa"
      ]
     },
     "execution_count": 8,
     "metadata": {},
     "output_type": "execute_result"
    }
   ],
   "source": [
    "fieldnames(MultipleSequenceAlignment)"
   ]
  },
  {
   "cell_type": "markdown",
   "metadata": {},
   "source": [
    "The sequence identifiers are saved as an `IndexedArray` of the [IndexedArrays package<span class=\"fa fa-external-link\" aria-hidden=\"true\"></span>](https://github.com/garrison/IndexedArrays.jl), this allows fast indexing of the MSA using the sequence names."
   ]
  },
  {
   "cell_type": "code",
   "execution_count": 9,
   "metadata": {
    "collapsed": false
   },
   "outputs": [
    {
     "data": {
      "text/plain": [
       "2x110 MIToS.MSA.MultipleSequenceAlignment:\n",
       " -  -  -  -  -  -  -  V  A  Q  Q  L  F  …  -  -  -  -  -  -  -  -  -  -  -  -\n",
       " Q  T  L  N  S  Y  K  M  A  E  I  M  Y     E  Q  T  D  Q  G  F  I  K  A  K  Q"
      ]
     },
     "execution_count": 9,
     "metadata": {},
     "output_type": "execute_result"
    }
   ],
   "source": [
    "msa = read(msa_file, Stockholm, MultipleSequenceAlignment)"
   ]
  },
  {
   "cell_type": "code",
   "execution_count": 10,
   "metadata": {
    "collapsed": false
   },
   "outputs": [
    {
     "data": {
      "text/plain": [
       "2-element IndexedArrays.IndexedArray{ASCIIString}:\n",
       " \"Y070_ATV/2-70\"  \n",
       " \"F112_SSV1/3-112\""
      ]
     },
     "execution_count": 10,
     "metadata": {},
     "output_type": "execute_result"
    }
   ],
   "source": [
    "msa.id"
   ]
  },
  {
   "cell_type": "code",
   "execution_count": 11,
   "metadata": {
    "collapsed": false
   },
   "outputs": [
    {
     "data": {
      "text/plain": [
       "110-element MIToS.MSA.AlignedSequence:\n",
       " Q\n",
       " T\n",
       " L\n",
       " N\n",
       " S\n",
       " Y\n",
       " K\n",
       " M\n",
       " A\n",
       " E\n",
       " I\n",
       " M\n",
       " Y\n",
       " ⋮\n",
       " E\n",
       " Q\n",
       " T\n",
       " D\n",
       " Q\n",
       " G\n",
       " F\n",
       " I\n",
       " K\n",
       " A\n",
       " K\n",
       " Q"
      ]
     },
     "execution_count": 11,
     "metadata": {},
     "output_type": "execute_result"
    }
   ],
   "source": [
    "msa[\"F112_SSV1/3-112\"]"
   ]
  },
  {
   "cell_type": "markdown",
   "metadata": {},
   "source": [
    "Similar to this, MIToS defines an `AnnotatedMultipleSequenceAlignment` that also includes annotations."
   ]
  },
  {
   "cell_type": "code",
   "execution_count": 12,
   "metadata": {
    "collapsed": false
   },
   "outputs": [
    {
     "data": {
      "text/plain": [
       "3-element Array{Symbol,1}:\n",
       " :id         \n",
       " :msa        \n",
       " :annotations"
      ]
     },
     "execution_count": 12,
     "metadata": {},
     "output_type": "execute_result"
    }
   ],
   "source": [
    "fieldnames(AnnotatedMultipleSequenceAlignment)"
   ]
  },
  {
   "cell_type": "code",
   "execution_count": 13,
   "metadata": {
    "collapsed": false
   },
   "outputs": [
    {
     "data": {
      "text/plain": [
       "2x110 MIToS.MSA.AnnotatedMultipleSequenceAlignment:\n",
       " -  -  -  -  -  -  -  V  A  Q  Q  L  F  …  -  -  -  -  -  -  -  -  -  -  -  -\n",
       " Q  T  L  N  S  Y  K  M  A  E  I  M  Y     E  Q  T  D  Q  G  F  I  K  A  K  Q"
      ]
     },
     "execution_count": 13,
     "metadata": {},
     "output_type": "execute_result"
    }
   ],
   "source": [
    "msa = read(msa_file, Stockholm, AnnotatedMultipleSequenceAlignment, generatemapping=true, useidcoordinates=true)"
   ]
  },
  {
   "cell_type": "code",
   "execution_count": 14,
   "metadata": {
    "collapsed": false
   },
   "outputs": [
    {
     "data": {
      "text/plain": [
       "#=GF ID   F-112\n",
       "#=GF AC   PF09645.7\n",
       "#=GF DE   F-112 protein\n",
       "#=GF AU   Coggill P\n",
       "#=GF SE   pdb_2cmx\n",
       "#=GF GA   22.40 22.40;\n",
       "#=GF TC   23.00 37.80;\n",
       "#=GF NC   19.60 22.30;\n",
       "#=GF BM   hmmbuild HMM.ann SEED.ann\n",
       "#=GF SM   hmmsearch -Z 11927849 -E 1000 --cpu 4 HMM pfamseq\n",
       "#=GF TP   Domain\n",
       "#=GF DR   INTERPRO; IPR018601;\n",
       "#=GF CC   F-112 protein is of 70-110 residues and is found in viruses. Its\n",
       "#=GF CC   winged-helix structure suggests a DNA-binding function.\n",
       "#=GF SQ   2\n",
       "#=GF NCol   119\n",
       "#=GF ColMap   6,7,8,9,10,11,12,13,14,15,16,17,18,19,20,21,22,23,24,25,26,27,28,29,30,31,32,33,34,35,36,37,38,39,40,41,42,43,44,45,46,47,48,49,50,51,52,53,54,55,56,57,58,59,60,61,62,63,64,65,66,67,68,69,70,71,72,73,74,75,76,77,78,79,80,81,82,83,84,85,86,87,88,89,90,91,92,93,94,95,96,97,98,99,100,101,102,103,104,105,106,107,108,109,110,111,112,113,114,115\n",
       "#=GF MIToS_2016-03-02T14:38:12   deletefullgaps!  :  Deletes 9 columns full of gaps (inserts generate full gap columns on MIToS because lowercase and dots are not allowed)\n",
       "#=GF MIToS_2016-03-02T14:38:12   filtercolumns! : 9 columns have been deleted.\n",
       "#=GS Y070_ATV/2-70\tAC Q3V4T1.1\n",
       "#=GS Y070_ATV/2-70\tSeqMap ,,,,,,,7,8,9,10,11,12,13,14,15,16,17,18,19,20,21,22,23,24,25,26,27,28,29,30,31,32,33,34,35,36,37,38,39,40,41,42,43,44,45,46,47,48,49,50,51,52,53,54,55,56,57,58,59,60,61,62,63,64,65,66,,,,,,,,,,,,,,,,,,,,,,,,,,,,,,,,,,,,,,,,,,,\n",
       "#=GS F112_SSV1/3-112\tSeqMap 3,4,5,6,7,8,9,10,11,12,13,14,15,16,17,18,19,20,21,22,23,24,25,26,27,28,29,30,31,32,33,34,35,36,37,38,39,40,41,42,43,44,45,46,47,48,49,50,51,52,53,54,55,56,57,58,59,60,61,62,63,64,65,66,67,68,69,70,71,72,73,74,75,76,77,78,79,80,81,82,83,84,85,86,87,88,89,90,91,92,93,94,95,96,97,98,99,100,101,102,103,104,105,106,107,108,109,110,111,112\n",
       "#=GS F112_SSV1/3-112\tAC P20220.1\n",
       "#=GS F112_SSV1/3-112\tDR PDB; 2VQC A; 4-73;\n",
       "#=GR F112_SSV1/3-112\tSS\tHHHHHHHHHHHHHHSEE-HHHHHHHH---HHHHHHHHHHHHHHHHH-TTTEEEEE-SS-EEEEE--XXXXXXXXXXXXXXXXXXXXXXXXXXXXXXXXXXXXXXXXXXXX\n",
       "#=GC seq_cons\t\t\t.......hAp.haphLccKtElThEDIlA.aplosssAYsI.psLKshCppH.sECps.h+sRKTsh...........................................\n",
       "#=GC SS_cons\t\t\tHHHHHHHHHHHHHHSEE-HHHHHHHH---HHHHHHHHHHHHHHHHH-TTTEEEEE-SS-EEEEE--XXXXXXXXXXXXXXXXXXXXXXXXXXXXXXXXXXXXXXXXXXXX\n"
      ]
     },
     "execution_count": 14,
     "metadata": {},
     "output_type": "execute_result"
    }
   ],
   "source": [
    "msa.annotations"
   ]
  },
  {
   "cell_type": "markdown",
   "metadata": {},
   "source": [
    "## MSA annotations"
   ]
  },
  {
   "cell_type": "code",
   "execution_count": 15,
   "metadata": {
    "collapsed": false
   },
   "outputs": [
    {
     "data": {
      "text/latex": [
       "The \\texttt{Annotations} type is basically a container for \\texttt{Dict}s with the annotations of a multiple sequence alignment. \\texttt{Annotations} was designed for storage of annotations of the \\textbf{Stockholm format}.\n"
      ],
      "text/markdown": [
       "The `Annotations` type is basically a container for `Dict`s with the annotations of a multiple sequence alignment. `Annotations` was designed for storage of annotations of the **Stockholm format**.\n"
      ],
      "text/plain": [
       "The `Annotations` type is basically a container for `Dict`s with the annotations of a multiple sequence alignment. `Annotations` was designed for storage of annotations of the **Stockholm format**.\n"
      ]
     },
     "execution_count": 15,
     "metadata": {},
     "output_type": "execute_result"
    }
   ],
   "source": [
    "?MIToS.MSA.Annotations"
   ]
  },
  {
   "cell_type": "code",
   "execution_count": 16,
   "metadata": {
    "collapsed": false
   },
   "outputs": [
    {
     "data": {
      "text/plain": [
       "4-element Array{Symbol,1}:\n",
       " :file     \n",
       " :sequences\n",
       " :columns  \n",
       " :residues "
      ]
     },
     "execution_count": 16,
     "metadata": {},
     "output_type": "execute_result"
    }
   ],
   "source": [
    "fieldnames(Annotations)"
   ]
  },
  {
   "cell_type": "markdown",
   "metadata": {},
   "source": [
    "MIToS uses MSA annotations to keep track of:  \n",
    "- **Modifications** of the MSA (`MIToS_...`) as deletion of sequences or columns.  \n",
    "- Positions numbers in the original MSA file (**column mapping:** `ColMap`)  \n",
    "- Position of the residues in the sequence (**sequence mapping:** `SeqMap`)  "
   ]
  },
  {
   "cell_type": "code",
   "execution_count": 17,
   "metadata": {
    "collapsed": false
   },
   "outputs": [
    {
     "name": "stdout",
     "output_type": "stream",
     "text": [
      "-------------------\n"
     ]
    }
   ],
   "source": [
    "printmodifications(msa)"
   ]
  },
  {
   "cell_type": "code",
   "execution_count": 18,
   "metadata": {
    "collapsed": false
   },
   "outputs": [
    {
     "data": {
      "text/plain": [
       "110-element Array{Int64,1}:\n",
       "   6\n",
       "   7\n",
       "   8\n",
       "   9\n",
       "  10\n",
       "  11\n",
       "  12\n",
       "  13\n",
       "  14\n",
       "  15\n",
       "  16\n",
       "  17\n",
       "  18\n",
       "   ⋮\n",
       " 104\n",
       " 105\n",
       " 106\n",
       " 107\n",
       " 108\n",
       " 109\n",
       " 110\n",
       " 111\n",
       " 112\n",
       " 113\n",
       " 114\n",
       " 115"
      ]
     },
     "execution_count": 18,
     "metadata": {},
     "output_type": "execute_result"
    }
   ],
   "source": [
    "getcolumnmapping(msa)"
   ]
  },
  {
   "cell_type": "code",
   "execution_count": 19,
   "metadata": {
    "collapsed": false
   },
   "outputs": [
    {
     "name": "stdout",
     "output_type": "stream",
     "text": [
      "2016-03-02T14:38:12\n",
      "\n",
      "deletefullgaps!  :  Deletes 9 columns full of gaps (inserts generate full gap columns on MIToS because lowercase and dots are not allowed)\n",
      "filtercolumns! : 9 columns have been deleted.\n"
     ]
    },
    {
     "data": {
      "text/plain": [
       "110-element Array{Int64,1}:\n",
       "   3\n",
       "   4\n",
       "   5\n",
       "   6\n",
       "   7\n",
       "   8\n",
       "   9\n",
       "  10\n",
       "  11\n",
       "  12\n",
       "  13\n",
       "  14\n",
       "  15\n",
       "   ⋮\n",
       " 101\n",
       " 102\n",
       " 103\n",
       " 104\n",
       " 105\n",
       " 106\n",
       " 107\n",
       " 108\n",
       " 109\n",
       " 110\n",
       " 111\n",
       " 112"
      ]
     },
     "execution_count": 19,
     "metadata": {},
     "output_type": "execute_result"
    }
   ],
   "source": [
    "getsequencemapping(msa,\"F112_SSV1/3-112\")"
   ]
  },
  {
   "cell_type": "code",
   "execution_count": null,
   "metadata": {
    "collapsed": true
   },
   "outputs": [],
   "source": []
  }
 ],
 "metadata": {
  "kernelspec": {
   "display_name": "Julia 0.4.2",
   "language": "julia",
   "name": "julia-0.4"
  },
  "language_info": {
   "file_extension": ".jl",
   "mimetype": "application/julia",
   "name": "julia",
   "version": "0.4.2"
  }
 },
 "nbformat": 4,
 "nbformat_minor": 0
}
