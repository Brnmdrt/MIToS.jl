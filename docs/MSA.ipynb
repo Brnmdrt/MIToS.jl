{
 "cells": [
  {
   "cell_type": "code",
   "execution_count": 1,
   "metadata": {
    "collapsed": false
   },
   "outputs": [
    {
     "name": "stderr",
     "output_type": "stream",
     "text": [
      "INFO: Recompiling stale cache file /home/diego/.julia/lib/v0.4/MIToS.ji for module MIToS.\n"
     ]
    }
   ],
   "source": [
    "using MIToS.Utils.Docs\n",
    "using MIToS.MSA"
   ]
  },
  {
   "cell_type": "code",
   "execution_count": 3,
   "metadata": {
    "collapsed": false
   },
   "outputs": [
    {
     "data": {
      "text/latex": [
       "Most of the \\textbf{MIToS} design is created around the \\texttt{Residue} bitstype. It represents the 20 natural amino acids and a GAP value to represent insertion, deletion but also missing data: ambiguous residues and non natural amino acids. Each residue is encoded as an integer number, this allows fast indexing operation using Residues of probability or frequency matrices.\n",
       "\\textbf{Residue creation and conversion}\n",
       "Creation and \\texttt{convert}ion of \\texttt{Residue}s should be treated carefully. \\texttt{Residue} is encoded as an 8 bits type similar to \\texttt{Int8}, to get faster indexing using \\texttt{Int(x::Residue)}. In this way, \\texttt{Int}, \\texttt{Int8} and other signed integers returns the integer value encoded by the residue. Conversions to and from \\texttt{Char}s and \\texttt{Uint8} are different, to use the \\texttt{Char}acter representation in IO operations.\n",
       "\\begin{verbatim}\n",
       "\n",
       "julia> alanine = Residue('A')\n",
       "A\n",
       "\n",
       "julia> Int(alanine)\n",
       "1\n",
       "\n",
       "julia> Char(alanine)\n",
       "'A'\n",
       "\n",
       "julia> UInt8(alanine) # 0x41 == 65 == 'A'\n",
       "0x41\n",
       "\n",
       "julia> for residue in res\"ARNDCQEGHILKMFPSTWYV-\"\n",
       "           println(residue, \" \", Int(residue))\n",
       "       end\n",
       "A 1\n",
       "R 2\n",
       "N 3\n",
       "D 4\n",
       "C 5\n",
       "Q 6\n",
       "E 7\n",
       "G 8\n",
       "H 9\n",
       "I 10\n",
       "L 11\n",
       "K 12\n",
       "M 13\n",
       "F 14\n",
       "P 15\n",
       "S 16\n",
       "T 17\n",
       "W 18\n",
       "Y 19\n",
       "V 20\n",
       "- 21\n",
       "\n",
       "\\end{verbatim}\n"
      ],
      "text/markdown": [
       "Most of the **MIToS** design is created around the `Residue` bitstype. It represents the 20 natural amino acids and a GAP value to represent insertion, deletion but also missing data: ambiguous residues and non natural amino acids. Each residue is encoded as an integer number, this allows fast indexing operation using Residues of probability or frequency matrices.\n",
       "\n",
       "**Residue creation and conversion**\n",
       "\n",
       "Creation and `convert`ion of `Residue`s should be treated carefully. `Residue` is encoded as an 8 bits type similar to `Int8`, to get faster indexing using `Int(x::Residue)`. In this way, `Int`, `Int8` and other signed integers returns the integer value encoded by the residue. Conversions to and from `Char`s and `Uint8` are different, to use the `Char`acter representation in IO operations.\n",
       "\n",
       "```julia\n",
       "\n",
       "julia> alanine = Residue('A')\n",
       "A\n",
       "\n",
       "julia> Int(alanine)\n",
       "1\n",
       "\n",
       "julia> Char(alanine)\n",
       "'A'\n",
       "\n",
       "julia> UInt8(alanine) # 0x41 == 65 == 'A'\n",
       "0x41\n",
       "\n",
       "julia> for residue in res\"ARNDCQEGHILKMFPSTWYV-\"\n",
       "           println(residue, \" \", Int(residue))\n",
       "       end\n",
       "A 1\n",
       "R 2\n",
       "N 3\n",
       "D 4\n",
       "C 5\n",
       "Q 6\n",
       "E 7\n",
       "G 8\n",
       "H 9\n",
       "I 10\n",
       "L 11\n",
       "K 12\n",
       "M 13\n",
       "F 14\n",
       "P 15\n",
       "S 16\n",
       "T 17\n",
       "W 18\n",
       "Y 19\n",
       "V 20\n",
       "- 21\n",
       "\n",
       "```\n"
      ],
      "text/plain": [
       "Most of the **MIToS** design is created around the `Residue` bitstype. It represents the 20 natural amino acids and a GAP value to represent insertion, deletion but also missing data: ambiguous residues and non natural amino acids. Each residue is encoded as an integer number, this allows fast indexing operation using Residues of probability or frequency matrices.\n",
       "\n",
       "**Residue creation and conversion**\n",
       "\n",
       "Creation and `convert`ion of `Residue`s should be treated carefully. `Residue` is encoded as an 8 bits type similar to `Int8`, to get faster indexing using `Int(x::Residue)`. In this way, `Int`, `Int8` and other signed integers returns the integer value encoded by the residue. Conversions to and from `Char`s and `Uint8` are different, to use the `Char`acter representation in IO operations.\n",
       "\n",
       "```julia\n",
       "\n",
       "julia> alanine = Residue('A')\n",
       "A\n",
       "\n",
       "julia> Int(alanine)\n",
       "1\n",
       "\n",
       "julia> Char(alanine)\n",
       "'A'\n",
       "\n",
       "julia> UInt8(alanine) # 0x41 == 65 == 'A'\n",
       "0x41\n",
       "\n",
       "julia> for residue in res\"ARNDCQEGHILKMFPSTWYV-\"\n",
       "           println(residue, \" \", Int(residue))\n",
       "       end\n",
       "A 1\n",
       "R 2\n",
       "N 3\n",
       "D 4\n",
       "C 5\n",
       "Q 6\n",
       "E 7\n",
       "G 8\n",
       "H 9\n",
       "I 10\n",
       "L 11\n",
       "K 12\n",
       "M 13\n",
       "F 14\n",
       "P 15\n",
       "S 16\n",
       "T 17\n",
       "W 18\n",
       "Y 19\n",
       "V 20\n",
       "- 21\n",
       "\n",
       "```\n"
      ]
     },
     "execution_count": 3,
     "metadata": {},
     "output_type": "execute_result"
    }
   ],
   "source": [
    "MIToS.Utils.Docs.@docs(MIToS.MSA.Residue)"
   ]
  },
  {
   "cell_type": "code",
   "execution_count": null,
   "metadata": {
    "collapsed": false
   },
   "outputs": [],
   "source": [
    "@moduledoc MIToS.MSA"
   ]
  },
  {
   "cell_type": "code",
   "execution_count": null,
   "metadata": {
    "collapsed": false
   },
   "outputs": [],
   "source": [
    "@macrodoc MIToS.MSA.@res_str"
   ]
  },
  {
   "cell_type": "markdown",
   "metadata": {},
   "source": [
    "# Multiple Sequence Alignments"
   ]
  },
  {
   "cell_type": "code",
   "execution_count": null,
   "metadata": {
    "collapsed": false
   },
   "outputs": [],
   "source": [
    "msa_file = MIToS.Pfam.downloadpfam(\"PF09645\")"
   ]
  },
  {
   "cell_type": "code",
   "execution_count": null,
   "metadata": {
    "collapsed": false
   },
   "outputs": [],
   "source": [
    "@typedoc MIToS.MSA.AbstractMultipleSequenceAlignment"
   ]
  },
  {
   "cell_type": "code",
   "execution_count": null,
   "metadata": {
    "collapsed": false
   },
   "outputs": [],
   "source": [
    "msa = read(msa_file, Stockholm, Matrix{Residue})"
   ]
  },
  {
   "cell_type": "code",
   "execution_count": null,
   "metadata": {
    "collapsed": false
   },
   "outputs": [],
   "source": [
    "@typedoc MIToS.MSA.MultipleSequenceAlignment"
   ]
  },
  {
   "cell_type": "code",
   "execution_count": null,
   "metadata": {
    "collapsed": false
   },
   "outputs": [],
   "source": [
    "Base.Docs.(MIToS.MSA.MultipleSequenceAlignment)"
   ]
  },
  {
   "cell_type": "code",
   "execution_count": null,
   "metadata": {
    "collapsed": false
   },
   "outputs": [],
   "source": [
    "msa = read(msa_file, Stockholm, MultipleSequenceAlignment)"
   ]
  },
  {
   "cell_type": "code",
   "execution_count": null,
   "metadata": {
    "collapsed": false
   },
   "outputs": [],
   "source": [
    "msa.id"
   ]
  },
  {
   "cell_type": "code",
   "execution_count": null,
   "metadata": {
    "collapsed": false
   },
   "outputs": [],
   "source": [
    "msa[\"F112_SSV1/3-112\"]"
   ]
  },
  {
   "cell_type": "markdown",
   "metadata": {},
   "source": [
    "Similar to this, MIToS defines an `AnnotatedMultipleSequenceAlignment` that also includes annotations."
   ]
  },
  {
   "cell_type": "code",
   "execution_count": null,
   "metadata": {
    "collapsed": false
   },
   "outputs": [],
   "source": [
    "fieldnames(AnnotatedMultipleSequenceAlignment)"
   ]
  },
  {
   "cell_type": "code",
   "execution_count": null,
   "metadata": {
    "collapsed": false
   },
   "outputs": [],
   "source": [
    "msa = read(msa_file, Stockholm, AnnotatedMultipleSequenceAlignment, generatemapping=true, useidcoordinates=true)"
   ]
  },
  {
   "cell_type": "code",
   "execution_count": null,
   "metadata": {
    "collapsed": false
   },
   "outputs": [],
   "source": [
    "msa.annotations"
   ]
  },
  {
   "cell_type": "markdown",
   "metadata": {},
   "source": [
    "## MSA annotations"
   ]
  },
  {
   "cell_type": "code",
   "execution_count": null,
   "metadata": {
    "collapsed": false
   },
   "outputs": [],
   "source": [
    "?MIToS.MSA.Annotations"
   ]
  },
  {
   "cell_type": "code",
   "execution_count": null,
   "metadata": {
    "collapsed": false
   },
   "outputs": [],
   "source": [
    "fieldnames(Annotations)"
   ]
  },
  {
   "cell_type": "markdown",
   "metadata": {},
   "source": [
    "MIToS uses MSA annotations to keep track of:  \n",
    "- **Modifications** of the MSA (`MIToS_...`) as deletion of sequences or columns.  \n",
    "- Positions numbers in the original MSA file (**column mapping:** `ColMap`)  \n",
    "- Position of the residues in the sequence (**sequence mapping:** `SeqMap`)  "
   ]
  },
  {
   "cell_type": "code",
   "execution_count": null,
   "metadata": {
    "collapsed": false
   },
   "outputs": [],
   "source": [
    "printmodifications(msa)"
   ]
  },
  {
   "cell_type": "code",
   "execution_count": null,
   "metadata": {
    "collapsed": false
   },
   "outputs": [],
   "source": [
    "getcolumnmapping(msa)"
   ]
  },
  {
   "cell_type": "code",
   "execution_count": null,
   "metadata": {
    "collapsed": false
   },
   "outputs": [],
   "source": [
    "getsequencemapping(msa,\"F112_SSV1/3-112\")"
   ]
  },
  {
   "cell_type": "code",
   "execution_count": null,
   "metadata": {
    "collapsed": true
   },
   "outputs": [],
   "source": []
  }
 ],
 "metadata": {
  "kernelspec": {
   "display_name": "Julia 0.4.1",
   "language": "julia",
   "name": "julia-0.4"
  },
  "language_info": {
   "file_extension": ".jl",
   "mimetype": "application/julia",
   "name": "julia",
   "version": "0.4.1"
  }
 },
 "nbformat": 4,
 "nbformat_minor": 0
}
