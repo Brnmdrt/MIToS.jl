{
 "cells": [
  {
   "cell_type": "markdown",
   "metadata": {},
   "source": [
    "# MSA"
   ]
  },
  {
   "cell_type": "markdown",
   "metadata": {},
   "source": [
    "The `MSA` module of MIToS has utilities for working with Multiple Sequence Alignments of protein Sequences (MSA)."
   ]
  },
  {
   "cell_type": "code",
   "execution_count": 28,
   "metadata": {
    "collapsed": false
   },
   "outputs": [],
   "source": [
    "using MIToS.MSA"
   ]
  },
  {
   "cell_type": "markdown",
   "metadata": {},
   "source": [
    "- [Residues](#Residues)\n",
    "- [Multiple Sequence Alignments](#Multiple-Sequence-Alignments)\n",
    "- [MSA annotations](#MSA-annotations)"
   ]
  },
  {
   "cell_type": "markdown",
   "metadata": {},
   "source": [
    "## Residues"
   ]
  },
  {
   "cell_type": "markdown",
   "metadata": {},
   "source": [
    "This module defines the `Residue` type. It represents the 20 natural amino acids and a `GAP` value to represent insertion, deletion but also missing data: ambiguous residues and non natural amino acids.  \n",
    "Each residue is encoded as an integer number, this allows fast indexing operation using `Residue`s of probability or frequency matrices.    "
   ]
  },
  {
   "cell_type": "code",
   "execution_count": 21,
   "metadata": {
    "collapsed": false
   },
   "outputs": [
    {
     "name": "stdout",
     "output_type": "stream",
     "text": [
      "A 1\n",
      "R 2\n",
      "N 3\n",
      "D 4\n",
      "C 5\n",
      "Q 6\n",
      "E 7\n",
      "G 8\n",
      "H 9\n",
      "I 10\n",
      "L 11\n",
      "K 12\n",
      "M 13\n",
      "F 14\n",
      "P 15\n",
      "S 16\n",
      "T 17\n",
      "W 18\n",
      "Y 19\n",
      "V 20\n",
      "- 21\n"
     ]
    }
   ],
   "source": [
    "for residue in res\"ARNDCQEGHILKMFPSTWYV-\"\n",
    "    println(residue, \" \", Int(residue))\n",
    "end"
   ]
  },
  {
   "cell_type": "markdown",
   "metadata": {},
   "source": [
    "Macros of the form `@name_str` are applied to string as prefixes: `name\"...\"`.  \n",
    "In particular, the MIToS macro `@res_str` takes a string and returns a `Vector` of `Residues` (sequence)."
   ]
  },
  {
   "cell_type": "code",
   "execution_count": 29,
   "metadata": {
    "collapsed": false
   },
   "outputs": [
    {
     "data": {
      "text/plain": [
       "true"
      ]
     },
     "execution_count": 29,
     "metadata": {},
     "output_type": "execute_result"
    }
   ],
   "source": [
    "@res_str(\"ARNDCQEGHILKMFPSTWYV-\") == res\"ARNDCQEGHILKMFPSTWYV-\""
   ]
  },
  {
   "cell_type": "markdown",
   "metadata": {},
   "source": [
    "## Multiple Sequence Alignments"
   ]
  },
  {
   "cell_type": "code",
   "execution_count": 62,
   "metadata": {
    "collapsed": false
   },
   "outputs": [
    {
     "name": "stderr",
     "output_type": "stream",
     "text": [
      "  % Total    % Received % Xferd  Average Speed   Time    Time     Time  Current\n",
      "                                 Dload  Upload   Total   Spent    Left  Speed\n",
      "100   647  100   647    0     0   1021      0 --:--:-- --:--:-- --:--:--  1022\n"
     ]
    },
    {
     "data": {
      "text/plain": [
       "\"PF09645.stockholm.gz\""
      ]
     },
     "execution_count": 62,
     "metadata": {},
     "output_type": "execute_result"
    }
   ],
   "source": [
    "msa_file = MIToS.Pfam.downloadpfam(\"PF09645\")"
   ]
  },
  {
   "cell_type": "markdown",
   "metadata": {},
   "source": [
    "The basic implementation of a Multiple Sequence Alignments is a `Matrix` of `Residue`s."
   ]
  },
  {
   "cell_type": "code",
   "execution_count": 63,
   "metadata": {
    "collapsed": false
   },
   "outputs": [
    {
     "data": {
      "text/plain": [
       "2x110 Array{MIToS.MSA.Residue,2}:\n",
       " -  -  -  -  -  -  -  V  A  Q  Q  L  F  …  -  -  -  -  -  -  -  -  -  -  -  -\n",
       " Q  T  L  N  S  Y  K  M  A  E  I  M  Y     E  Q  T  D  Q  G  F  I  K  A  K  Q"
      ]
     },
     "execution_count": 63,
     "metadata": {},
     "output_type": "execute_result"
    }
   ],
   "source": [
    "msa = read(msa_file, Stockholm, Matrix{Residue})"
   ]
  },
  {
   "cell_type": "markdown",
   "metadata": {},
   "source": [
    "The type `MultipleSequenceAlignment` also includes **sequence identifiers**."
   ]
  },
  {
   "cell_type": "code",
   "execution_count": 69,
   "metadata": {
    "collapsed": false
   },
   "outputs": [
    {
     "data": {
      "text/plain": [
       "2-element Array{Symbol,1}:\n",
       " :id \n",
       " :msa"
      ]
     },
     "execution_count": 69,
     "metadata": {},
     "output_type": "execute_result"
    }
   ],
   "source": [
    "fieldnames(MultipleSequenceAlignment)"
   ]
  },
  {
   "cell_type": "markdown",
   "metadata": {},
   "source": [
    "The sequence identifiers are saved as an `IndexedArray` of the [IndexedArrays package<span class=\"fa fa-external-link\" aria-hidden=\"true\"></span>](https://github.com/garrison/IndexedArrays.jl), this allows fast indexing of the MSA using the sequence names."
   ]
  },
  {
   "cell_type": "code",
   "execution_count": 70,
   "metadata": {
    "collapsed": false
   },
   "outputs": [
    {
     "data": {
      "text/plain": [
       "2x110 MIToS.MSA.MultipleSequenceAlignment:\n",
       " -  -  -  -  -  -  -  V  A  Q  Q  L  F  …  -  -  -  -  -  -  -  -  -  -  -  -\n",
       " Q  T  L  N  S  Y  K  M  A  E  I  M  Y     E  Q  T  D  Q  G  F  I  K  A  K  Q"
      ]
     },
     "execution_count": 70,
     "metadata": {},
     "output_type": "execute_result"
    }
   ],
   "source": [
    "msa = read(msa_file, Stockholm, MultipleSequenceAlignment)"
   ]
  },
  {
   "cell_type": "code",
   "execution_count": 71,
   "metadata": {
    "collapsed": false
   },
   "outputs": [
    {
     "data": {
      "text/plain": [
       "2-element IndexedArrays.IndexedArray{ASCIIString}:\n",
       " \"Y070_ATV/2-70\"  \n",
       " \"F112_SSV1/3-112\""
      ]
     },
     "execution_count": 71,
     "metadata": {},
     "output_type": "execute_result"
    }
   ],
   "source": [
    "msa.id"
   ]
  },
  {
   "cell_type": "code",
   "execution_count": 72,
   "metadata": {
    "collapsed": false
   },
   "outputs": [
    {
     "data": {
      "text/plain": [
       "110-element MIToS.MSA.AlignedSequence:\n",
       " Q\n",
       " T\n",
       " L\n",
       " N\n",
       " S\n",
       " Y\n",
       " K\n",
       " M\n",
       " A\n",
       " E\n",
       " I\n",
       " M\n",
       " Y\n",
       " ⋮\n",
       " E\n",
       " Q\n",
       " T\n",
       " D\n",
       " Q\n",
       " G\n",
       " F\n",
       " I\n",
       " K\n",
       " A\n",
       " K\n",
       " Q"
      ]
     },
     "execution_count": 72,
     "metadata": {},
     "output_type": "execute_result"
    }
   ],
   "source": [
    "msa[\"F112_SSV1/3-112\"]"
   ]
  },
  {
   "cell_type": "markdown",
   "metadata": {},
   "source": [
    "Similar to this, MIToS defines an `AnnotatedMultipleSequenceAlignment` that also includes annotations."
   ]
  },
  {
   "cell_type": "code",
   "execution_count": 75,
   "metadata": {
    "collapsed": false
   },
   "outputs": [
    {
     "data": {
      "text/plain": [
       "3-element Array{Symbol,1}:\n",
       " :id         \n",
       " :msa        \n",
       " :annotations"
      ]
     },
     "execution_count": 75,
     "metadata": {},
     "output_type": "execute_result"
    }
   ],
   "source": [
    "fieldnames(AnnotatedMultipleSequenceAlignment)"
   ]
  },
  {
   "cell_type": "code",
   "execution_count": 76,
   "metadata": {
    "collapsed": false
   },
   "outputs": [
    {
     "data": {
      "text/plain": [
       "2x110 MIToS.MSA.AnnotatedMultipleSequenceAlignment:\n",
       " -  -  -  -  -  -  -  V  A  Q  Q  L  F  …  -  -  -  -  -  -  -  -  -  -  -  -\n",
       " Q  T  L  N  S  Y  K  M  A  E  I  M  Y     E  Q  T  D  Q  G  F  I  K  A  K  Q"
      ]
     },
     "execution_count": 76,
     "metadata": {},
     "output_type": "execute_result"
    }
   ],
   "source": [
    "msa = read(msa_file, Stockholm, AnnotatedMultipleSequenceAlignment, generatemapping=true, useidcoordinates=true)"
   ]
  },
  {
   "cell_type": "code",
   "execution_count": 81,
   "metadata": {
    "collapsed": false
   },
   "outputs": [
    {
     "data": {
      "text/plain": [
       "#=GF ID   F-112\n",
       "#=GF AC   PF09645.7\n",
       "#=GF DE   F-112 protein\n",
       "#=GF AU   Coggill P\n",
       "#=GF SE   pdb_2cmx\n",
       "#=GF GA   22.40 22.40;\n",
       "#=GF TC   23.00 37.80;\n",
       "#=GF NC   19.60 22.30;\n",
       "#=GF BM   hmmbuild HMM.ann SEED.ann\n",
       "#=GF SM   hmmsearch -Z 11927849 -E 1000 --cpu 4 HMM pfamseq\n",
       "#=GF TP   Domain\n",
       "#=GF DR   INTERPRO; IPR018601;\n",
       "#=GF CC   F-112 protein is of 70-110 residues and is found in viruses. Its\n",
       "#=GF CC   winged-helix structure suggests a DNA-binding function.\n",
       "#=GF SQ   2\n",
       "#=GF NCol   119\n",
       "#=GF ColMap   6,7,8,9,10,11,12,13,14,15,16,17,18,19,20,21,22,23,24,25,26,27,28,29,30,31,32,33,34,35,36,37,38,39,40,41,42,43,44,45,46,47,48,49,50,51,52,53,54,55,56,57,58,59,60,61,62,63,64,65,66,67,68,69,70,71,72,73,74,75,76,77,78,79,80,81,82,83,84,85,86,87,88,89,90,91,92,93,94,95,96,97,98,99,100,101,102,103,104,105,106,107,108,109,110,111,112,113,114,115\n",
       "#=GF MIToS_2016-03-01T19:18:01   deletefullgaps!  :  Deletes 9 columns full of gaps (inserts generate full gap columns on MIToS because lowercase and dots are not allowed)\n",
       "#=GF MIToS_2016-03-01T19:18:01   filtercolumns! : 9 columns have been deleted.\n",
       "#=GS Y070_ATV/2-70\tAC Q3V4T1.1\n",
       "#=GS Y070_ATV/2-70\tSeqMap ,,,,,,,7,8,9,10,11,12,13,14,15,16,17,18,19,20,21,22,23,24,25,26,27,28,29,30,31,32,33,34,35,36,37,38,39,40,41,42,43,44,45,46,47,48,49,50,51,52,53,54,55,56,57,58,59,60,61,62,63,64,65,66,,,,,,,,,,,,,,,,,,,,,,,,,,,,,,,,,,,,,,,,,,,\n",
       "#=GS F112_SSV1/3-112\tSeqMap 3,4,5,6,7,8,9,10,11,12,13,14,15,16,17,18,19,20,21,22,23,24,25,26,27,28,29,30,31,32,33,34,35,36,37,38,39,40,41,42,43,44,45,46,47,48,49,50,51,52,53,54,55,56,57,58,59,60,61,62,63,64,65,66,67,68,69,70,71,72,73,74,75,76,77,78,79,80,81,82,83,84,85,86,87,88,89,90,91,92,93,94,95,96,97,98,99,100,101,102,103,104,105,106,107,108,109,110,111,112\n",
       "#=GS F112_SSV1/3-112\tAC P20220.1\n",
       "#=GS F112_SSV1/3-112\tDR PDB; 2VQC A; 4-73;\n",
       "#=GR F112_SSV1/3-112\tSS\tHHHHHHHHHHHHHHSEE-HHHHHHHH---HHHHHHHHHHHHHHHHH-TTTEEEEE-SS-EEEEE--XXXXXXXXXXXXXXXXXXXXXXXXXXXXXXXXXXXXXXXXXXXX\n",
       "#=GC seq_cons\t\t\t.......hAp.haphLccKtElThEDIlA.aplosssAYsI.psLKshCppH.sECps.h+sRKTsh...........................................\n",
       "#=GC SS_cons\t\t\tHHHHHHHHHHHHHHSEE-HHHHHHHH---HHHHHHHHHHHHHHHHH-TTTEEEEE-SS-EEEEE--XXXXXXXXXXXXXXXXXXXXXXXXXXXXXXXXXXXXXXXXXXXX\n"
      ]
     },
     "execution_count": 81,
     "metadata": {},
     "output_type": "execute_result"
    }
   ],
   "source": [
    "msa.annotations"
   ]
  },
  {
   "cell_type": "markdown",
   "metadata": {},
   "source": [
    "## MSA annotations"
   ]
  },
  {
   "cell_type": "code",
   "execution_count": 83,
   "metadata": {
    "collapsed": false
   },
   "outputs": [
    {
     "data": {
      "text/latex": [
       "The \\texttt{Annotations} type is basically a container for \\texttt{Dict}s with the annotations of a multiple sequence alignment. \\texttt{Annotations} was designed for storage of annotations of the \\textbf{Stockholm format}.\n"
      ],
      "text/markdown": [
       "The `Annotations` type is basically a container for `Dict`s with the annotations of a multiple sequence alignment. `Annotations` was designed for storage of annotations of the **Stockholm format**.\n"
      ],
      "text/plain": [
       "The `Annotations` type is basically a container for `Dict`s with the annotations of a multiple sequence alignment. `Annotations` was designed for storage of annotations of the **Stockholm format**.\n"
      ]
     },
     "execution_count": 83,
     "metadata": {},
     "output_type": "execute_result"
    }
   ],
   "source": [
    "?MIToS.MSA.Annotations"
   ]
  },
  {
   "cell_type": "code",
   "execution_count": 88,
   "metadata": {
    "collapsed": false
   },
   "outputs": [
    {
     "data": {
      "text/plain": [
       "4-element Array{Symbol,1}:\n",
       " :file     \n",
       " :sequences\n",
       " :columns  \n",
       " :residues "
      ]
     },
     "execution_count": 88,
     "metadata": {},
     "output_type": "execute_result"
    }
   ],
   "source": [
    "fieldnames(Annotations)"
   ]
  },
  {
   "cell_type": "markdown",
   "metadata": {},
   "source": [
    "MIToS uses MSA annotations to keep track of:  \n",
    "- **Modifications** of the MSA (`MIToS_...`) as deletion of sequences or columns.  \n",
    "- Positions numbers in the original MSA file (**column mapping:** `ColMap`)  \n",
    "- Position of the residues in the sequence (**sequence mapping:** `SeqMap`)  "
   ]
  },
  {
   "cell_type": "code",
   "execution_count": 85,
   "metadata": {
    "collapsed": false
   },
   "outputs": [
    {
     "name": "stdout",
     "output_type": "stream",
     "text": [
      "-------------------\n",
      "2016-03-01T19:18:01\n",
      "\n",
      "deletefullgaps!  :  Deletes 9 columns full of gaps (inserts generate full gap columns on MIToS because lowercase and dots are not allowed)\n",
      "filtercolumns! : 9 columns have been deleted.\n"
     ]
    }
   ],
   "source": [
    "printmodifications(msa)"
   ]
  },
  {
   "cell_type": "code",
   "execution_count": 86,
   "metadata": {
    "collapsed": false
   },
   "outputs": [
    {
     "data": {
      "text/plain": [
       "110-element Array{Int64,1}:\n",
       "   6\n",
       "   7\n",
       "   8\n",
       "   9\n",
       "  10\n",
       "  11\n",
       "  12\n",
       "  13\n",
       "  14\n",
       "  15\n",
       "  16\n",
       "  17\n",
       "  18\n",
       "   ⋮\n",
       " 104\n",
       " 105\n",
       " 106\n",
       " 107\n",
       " 108\n",
       " 109\n",
       " 110\n",
       " 111\n",
       " 112\n",
       " 113\n",
       " 114\n",
       " 115"
      ]
     },
     "execution_count": 86,
     "metadata": {},
     "output_type": "execute_result"
    }
   ],
   "source": [
    "getcolumnmapping(msa)"
   ]
  },
  {
   "cell_type": "code",
   "execution_count": 87,
   "metadata": {
    "collapsed": false
   },
   "outputs": [
    {
     "data": {
      "text/plain": [
       "110-element Array{Int64,1}:\n",
       "   3\n",
       "   4\n",
       "   5\n",
       "   6\n",
       "   7\n",
       "   8\n",
       "   9\n",
       "  10\n",
       "  11\n",
       "  12\n",
       "  13\n",
       "  14\n",
       "  15\n",
       "   ⋮\n",
       " 101\n",
       " 102\n",
       " 103\n",
       " 104\n",
       " 105\n",
       " 106\n",
       " 107\n",
       " 108\n",
       " 109\n",
       " 110\n",
       " 111\n",
       " 112"
      ]
     },
     "execution_count": 87,
     "metadata": {},
     "output_type": "execute_result"
    }
   ],
   "source": [
    "getsequencemapping(msa,\"F112_SSV1/3-112\")"
   ]
  },
  {
   "cell_type": "code",
   "execution_count": null,
   "metadata": {
    "collapsed": true
   },
   "outputs": [],
   "source": []
  }
 ],
 "metadata": {
  "kernelspec": {
   "display_name": "Julia 0.4.1",
   "language": "julia",
   "name": "julia-0.4"
  },
  "language_info": {
   "file_extension": ".jl",
   "mimetype": "application/julia",
   "name": "julia",
   "version": "0.4.1"
  }
 },
 "nbformat": 4,
 "nbformat_minor": 0
}
