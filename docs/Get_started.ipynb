{
 "cells": [
  {
   "cell_type": "markdown",
   "metadata": {
    "collapsed": true
   },
   "source": [
    "# Get started"
   ]
  },
  {
   "cell_type": "code",
   "execution_count": 4,
   "metadata": {
    "collapsed": false
   },
   "outputs": [],
   "source": [
    "using MIToS.Pfam"
   ]
  },
  {
   "cell_type": "code",
   "execution_count": 5,
   "metadata": {
    "collapsed": false
   },
   "outputs": [
    {
     "name": "stderr",
     "output_type": "stream",
     "text": [
      "  % Total    % Received % Xferd  Average Speed   Time    Time     Time  Current\n",
      "                                 Dload  Upload   Total   Spent    Left  Speed\n",
      "100  8417  100  8417    0     0   7516      0  0:00:01  0:00:01 --:--:--  7521\n"
     ]
    },
    {
     "data": {
      "text/plain": [
       "\"PF14972.stockholm.gz\""
      ]
     },
     "execution_count": 5,
     "metadata": {},
     "output_type": "execute_result"
    }
   ],
   "source": [
    "pfam_file = downloadpfam(\"PF14972\")"
   ]
  },
  {
   "cell_type": "code",
   "execution_count": 6,
   "metadata": {
    "collapsed": false
   },
   "outputs": [
    {
     "data": {
      "text/plain": [
       "122x161 MIToS.MSA.AnnotatedMultipleSequenceAlignment:\n",
       " D  C  Y  I  V  H  E  I  Y  N  G  E  N  …  L  V  Y  C  V  K  K  I  Y  E  L  Y\n",
       " D  C  Y  I  V  H  E  I  Y  S  G  E  N     -  -  -  -  -  -  -  -  -  -  -  -\n",
       " -  F  H  V  I  R  E  V  Y  D  S  S  N     A  A  L  C  A  W  Q  I  W  R  S  Y\n",
       " D  C  Y  I  V  H  E  I  Y  N  G  E  N     L  V  Y  C  V  K  K  I  Y  E  L  Y\n",
       " E  C  Y  I  V  H  E  I  Y  N  G  E  N     L  A  Y  C  V  K  K  I  Y  E  L  Y\n",
       " E  C  Y  I  V  H  E  I  Y  N  G  E  N  …  L  V  Y  C  V  K  K  I  Y  E  L  Y\n",
       " D  C  Y  I  V  H  E  I  Y  N  G  E  N     L  V  Y  C  V  K  K  I  Y  E  L  Y\n",
       " -  -  -  -  -  -  -  -  -  -  -  -  -     G  A  F  L  F  F  R  -  -  -  -  -\n",
       " D  C  Y  I  V  H  E  I  Y  S  G  E  N     L  V  Y  C  V  K  K  V  Y  E  L  Y\n",
       " -  -  -  -  -  -  -  -  -  -  -  -  -     A  I  F  C  I  W  R  L  Y  D  S  Y\n",
       " -  V  A  V  I  R  E  V  Y  D  G  S  N  …  A  A  L  C  V  Y  R  L  Y  A  -  -\n",
       " D  C  Y  I  V  H  E  I  Y  N  G  E  N     L  V  Y  C  V  K  K  V  Y  E  L  Y\n",
       " -  V  R  V  I  R  E  V  Y  E  G  E  N     A  S  V  C  V  W  T  I  Y  R  A  -\n",
       " ⋮              ⋮              ⋮        ⋱     ⋮              ⋮              ⋮\n",
       " -  V  A  I  I  R  E  V  Y  D  S  E  N  …  F  G  I  T  A  W  R  F  Y  Q  A  F\n",
       " D  C  Y  I  V  H  E  I  Y  N  G  E  N     L  V  Y  C  V  K  K  I  Y  E  L  Y\n",
       " N  C  Y  I  V  H  E  I  Y  N  G  E  N     L  A  Y  C  V  K  K  I  Y  E  L  Y\n",
       " D  T  V  I  I  R  E  I  Y  D  G  E  N     I  A  Y  C  T  W  R  L  T  Q  L  Y\n",
       " D  C  Y  I  V  H  E  I  Y  S  G  E  N     -  -  -  -  -  -  -  -  -  -  -  -\n",
       " D  C  Y  I  V  H  E  I  Y  N  G  E  N  …  L  V  Y  C  V  K  K  I  Y  E  L  Y\n",
       " N  C  Y  I  V  H  E  I  Y  N  G  E  S     L  A  Y  C  V  K  K  I  Y  E  L  Y\n",
       " -  F  H  V  I  R  E  V  Y  D  S  S  N     A  A  L  C  A  W  Q  I  W  R  S  Y\n",
       " D  C  Y  I  V  H  E  I  Y  N  G  E  N     L  V  Y  C  V  K  K  I  Y  E  L  Y\n",
       " D  C  Y  I  V  H  E  I  Y  N  G  E  N     L  A  Y  C  V  K  K  I  Y  E  L  Y\n",
       " K  C  Y  V  I  K  E  V  Y  E  N  G  S  …  L  S  Y  S  I  W  R  I  I  -  -  -\n",
       " -  -  S  V  I  R  E  V  Y  D  N  G  V     -  -  -  -  -  -  -  -  -  -  -  -"
      ]
     },
     "execution_count": 6,
     "metadata": {},
     "output_type": "execute_result"
    }
   ],
   "source": [
    "msa = read(pfam_file, Stockholm)"
   ]
  },
  {
   "cell_type": "code",
   "execution_count": 7,
   "metadata": {
    "collapsed": true
   },
   "outputs": [],
   "source": [
    "using MIToS.Information"
   ]
  },
  {
   "cell_type": "code",
   "execution_count": 8,
   "metadata": {
    "collapsed": false
   },
   "outputs": [
    {
     "data": {
      "text/plain": [
       "161x161 PairwiseListMatrices.PairwiseListMatrix{Float64,false}:\n",
       " NaN           -1.1073      -1.55333   …    0.137944     2.0201   \n",
       "  -1.1073     NaN            0.737285       2.81617      3.74909  \n",
       "  -1.55333      0.737285   NaN              0.810454     1.34935  \n",
       "   0.234395    -0.272676     1.1551         0.572815     0.624403 \n",
       "  -0.118648     0.859369     0.813511      -0.783605     0.478583 \n",
       "   0.608258     2.85108      2.44334   …   -0.0174216    0.328307 \n",
       "  -1.46949      1.36742     -0.309569      -0.508945     1.95752  \n",
       "   0.0552757    2.73286     -0.716545       2.64494      1.10063  \n",
       "  -0.518818     0.219396     1.50405       -1.56226     -0.0176776\n",
       "   0.767249    -0.144553     2.23226       -0.611284     1.10683  \n",
       "   0.274092     1.0029       2.88801   …    2.40886      0.786883 \n",
       "  -0.393601     1.36185      1.31551        0.810553     1.49346  \n",
       "  -0.860567    -0.0239273    0.676927      -1.01021      0.929408 \n",
       "   ⋮                                   ⋱                 ⋮        \n",
       "   1.2793       2.5785       4.28932        1.49635      0.193421 \n",
       "   2.75921      0.217404    -0.31639   …    2.25535      1.70306  \n",
       "   0.051676     0.323348     1.83689        1.85827      1.75438  \n",
       "   0.898991    -0.48437     -0.243283      -3.99756      2.55261  \n",
       "   0.099343    -1.41792     -0.785983       1.08526     -0.769511 \n",
       "  -0.638044    -3.66331      0.408619      -0.530802    -1.57721  \n",
       "   2.80658      0.605263     0.569651  …    2.94187      0.751105 \n",
       "   0.12764      1.28502      2.0586        -1.4942       0.375636 \n",
       "   1.02848      0.896329     1.97626       -2.1344      -1.81765  \n",
       "   0.598832     0.443217    -1.68242        4.17347      0.0568178\n",
       "   0.137944     2.81617      0.810454     NaN            0.67549  \n",
       "   2.0201       3.74909      1.34935   …    0.67549    NaN        "
      ]
     },
     "execution_count": 8,
     "metadata": {},
     "output_type": "execute_result"
    }
   ],
   "source": [
    "ZBLMIp, BLMIp = BLMI(msa)\n",
    "ZBLMIp"
   ]
  },
  {
   "cell_type": "code",
   "execution_count": 9,
   "metadata": {
    "collapsed": false
   },
   "outputs": [],
   "source": [
    ";BLMI.jl -f PF14972.stockholm.gz"
   ]
  },
  {
   "cell_type": "code",
   "execution_count": 10,
   "metadata": {
    "collapsed": false
   },
   "outputs": [
    {
     "name": "stdout",
     "output_type": "stream",
     "text": [
      "# MIToS 0.1.1+ BLMI.jl 2016-02-24T23:55:10\n",
      "# used arguments:\n",
      "# \tlist\t\tnothing\n",
      "# \tformat\t\tstockholm\n",
      "# \tthreshold\t\t0.62\n",
      "# \tapc\t\ttrue\n",
      "# \tmaxgap\t\t0.5\n",
      "# \tsamples\t\t50\n",
      "# \tfile\t\tPF14972.stockholm.gz\n",
      "# \tfixedgaps\t\ttrue\n",
      "# \tbeta\t\t8.512\n",
      "i,j,BLZMIp,BLMIp\n",
      "1,2,-1.2100260270931447,-.10773158935175786\n",
      "1,3,-1.3837948952351182,-.14636730384499808\n",
      "1,4,.22017193644035485,-.004889231952564216\n",
      "1,5,-.2638453541846073,-.03250207598779911\n",
      "1,6,.45509151098124,.041348234477362855\n",
      "1,7,-1.1663386768218118,-.14679683902400162\n",
      "1,8,-.13152746576830182,-.022688091751868172\n",
      "1,9,-.27933656501683457,-.05100794737701467\n"
     ]
    }
   ],
   "source": [
    ";head -20 PF14972.stockholm.BLMI.csv"
   ]
  },
  {
   "cell_type": "code",
   "execution_count": null,
   "metadata": {
    "collapsed": true
   },
   "outputs": [],
   "source": []
  }
 ],
 "metadata": {
  "kernelspec": {
   "display_name": "Julia 0.4.2",
   "language": "julia",
   "name": "julia-0.4"
  },
  "language_info": {
   "file_extension": ".jl",
   "mimetype": "application/julia",
   "name": "julia",
   "version": "0.4.2"
  }
 },
 "nbformat": 4,
 "nbformat_minor": 0
}
