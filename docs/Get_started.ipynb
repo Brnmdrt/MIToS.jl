{
 "cells": [
  {
   "cell_type": "markdown",
   "metadata": {
    "collapsed": true
   },
   "source": [
    "# Get started"
   ]
  },
  {
   "cell_type": "code",
   "execution_count": null,
   "metadata": {
    "collapsed": true
   },
   "outputs": [],
   "source": []
  },
  {
   "cell_type": "code",
   "execution_count": 6,
   "metadata": {
    "collapsed": false
   },
   "outputs": [],
   "source": [
    "using MIToS.Pfam"
   ]
  },
  {
   "cell_type": "code",
   "execution_count": 7,
   "metadata": {
    "collapsed": false
   },
   "outputs": [
    {
     "name": "stderr",
     "output_type": "stream",
     "text": [
      "  % Total    % Received % Xferd  Average Speed   Time    Time     Time  Current\n",
      "                                 Dload  Upload   Total   Spent    Left  Speed\n",
      "100  8417  100  8417    0     0   3438      0  0:00:02  0:00:02 --:--:--  3439\n"
     ]
    },
    {
     "data": {
      "text/plain": [
       "\"PF14972.stockholm.gz\""
      ]
     },
     "execution_count": 7,
     "metadata": {},
     "output_type": "execute_result"
    }
   ],
   "source": [
    "pfam_file = downloadpfam(\"PF14972\")"
   ]
  },
  {
   "cell_type": "code",
   "execution_count": 8,
   "metadata": {
    "collapsed": false
   },
   "outputs": [
    {
     "data": {
      "text/plain": [
       "122x161 MIToS.MSA.AnnotatedMultipleSequenceAlignment:\n",
       " D  C  Y  I  V  H  E  I  Y  N  G  E  N  …  L  V  Y  C  V  K  K  I  Y  E  L  Y\n",
       " D  C  Y  I  V  H  E  I  Y  S  G  E  N     -  -  -  -  -  -  -  -  -  -  -  -\n",
       " -  F  H  V  I  R  E  V  Y  D  S  S  N     A  A  L  C  A  W  Q  I  W  R  S  Y\n",
       " D  C  Y  I  V  H  E  I  Y  N  G  E  N     L  V  Y  C  V  K  K  I  Y  E  L  Y\n",
       " E  C  Y  I  V  H  E  I  Y  N  G  E  N     L  A  Y  C  V  K  K  I  Y  E  L  Y\n",
       " E  C  Y  I  V  H  E  I  Y  N  G  E  N  …  L  V  Y  C  V  K  K  I  Y  E  L  Y\n",
       " D  C  Y  I  V  H  E  I  Y  N  G  E  N     L  V  Y  C  V  K  K  I  Y  E  L  Y\n",
       " -  -  -  -  -  -  -  -  -  -  -  -  -     G  A  F  L  F  F  R  -  -  -  -  -\n",
       " D  C  Y  I  V  H  E  I  Y  S  G  E  N     L  V  Y  C  V  K  K  V  Y  E  L  Y\n",
       " -  -  -  -  -  -  -  -  -  -  -  -  -     A  I  F  C  I  W  R  L  Y  D  S  Y\n",
       " -  V  A  V  I  R  E  V  Y  D  G  S  N  …  A  A  L  C  V  Y  R  L  Y  A  -  -\n",
       " D  C  Y  I  V  H  E  I  Y  N  G  E  N     L  V  Y  C  V  K  K  V  Y  E  L  Y\n",
       " -  V  R  V  I  R  E  V  Y  E  G  E  N     A  S  V  C  V  W  T  I  Y  R  A  -\n",
       " ⋮              ⋮              ⋮        ⋱     ⋮              ⋮              ⋮\n",
       " -  V  A  I  I  R  E  V  Y  D  S  E  N  …  F  G  I  T  A  W  R  F  Y  Q  A  F\n",
       " D  C  Y  I  V  H  E  I  Y  N  G  E  N     L  V  Y  C  V  K  K  I  Y  E  L  Y\n",
       " N  C  Y  I  V  H  E  I  Y  N  G  E  N     L  A  Y  C  V  K  K  I  Y  E  L  Y\n",
       " D  T  V  I  I  R  E  I  Y  D  G  E  N     I  A  Y  C  T  W  R  L  T  Q  L  Y\n",
       " D  C  Y  I  V  H  E  I  Y  S  G  E  N     -  -  -  -  -  -  -  -  -  -  -  -\n",
       " D  C  Y  I  V  H  E  I  Y  N  G  E  N  …  L  V  Y  C  V  K  K  I  Y  E  L  Y\n",
       " N  C  Y  I  V  H  E  I  Y  N  G  E  S     L  A  Y  C  V  K  K  I  Y  E  L  Y\n",
       " -  F  H  V  I  R  E  V  Y  D  S  S  N     A  A  L  C  A  W  Q  I  W  R  S  Y\n",
       " D  C  Y  I  V  H  E  I  Y  N  G  E  N     L  V  Y  C  V  K  K  I  Y  E  L  Y\n",
       " D  C  Y  I  V  H  E  I  Y  N  G  E  N     L  A  Y  C  V  K  K  I  Y  E  L  Y\n",
       " K  C  Y  V  I  K  E  V  Y  E  N  G  S  …  L  S  Y  S  I  W  R  I  I  -  -  -\n",
       " -  -  S  V  I  R  E  V  Y  D  N  G  V     -  -  -  -  -  -  -  -  -  -  -  -"
      ]
     },
     "execution_count": 8,
     "metadata": {},
     "output_type": "execute_result"
    }
   ],
   "source": [
    "msa = read(pfam_file, Stockholm, generatemapping=true, useidcoordinates=true)"
   ]
  },
  {
   "cell_type": "code",
   "execution_count": 6,
   "metadata": {
    "collapsed": true
   },
   "outputs": [],
   "source": [
    "using MIToS.Information"
   ]
  },
  {
   "cell_type": "code",
   "execution_count": 10,
   "metadata": {
    "collapsed": false
   },
   "outputs": [
    {
     "data": {
      "text/plain": [
       "161x161 PairwiseListMatrices.PairwiseListMatrix{Float64,false}:\n",
       " NaN           -1.29122     -1.66785   …    0.132251     2.02612  \n",
       "  -1.29122    NaN            1.47728        2.474        3.79523  \n",
       "  -1.66785      1.47728    NaN              0.623556     1.82631  \n",
       "   0.0674845   -0.0623759    1.93285        0.899523     0.581992 \n",
       "  -0.376812     0.934479     0.634592      -1.13885      0.279632 \n",
       "   0.684704     2.98264      1.81955   …   -0.0739788    0.73234  \n",
       "  -1.34544      0.503596    -0.524144      -0.79172      1.82588  \n",
       "  -0.226086     2.80687     -0.900364       2.62836      1.45695  \n",
       "  -0.54173      0.234401     1.08843       -1.561        0.0433452\n",
       "   0.968484     0.063571     1.85008       -0.503429     1.16713  \n",
       "   0.463584     1.22354      2.61164   …    2.12157      0.680329 \n",
       "  -0.329598     1.80845      0.591467       1.10241      1.5943   \n",
       "  -1.14934      0.432217     0.830804      -0.82317      1.1032   \n",
       "   ⋮                                   ⋱                 ⋮        \n",
       "   1.13067      2.7235       3.85617        2.12673      0.578041 \n",
       "   3.1581       0.0685697   -0.281347  …    3.06332      1.51633  \n",
       "  -0.142613     0.121686     1.98305        2.89402      1.98865  \n",
       "   1.28831     -0.918511    -0.076395      -2.81344      3.00865  \n",
       "   0.286042    -2.00831     -0.866167       1.02732     -1.07604  \n",
       "  -1.20355     -3.00896      0.319562      -0.368572    -2.06635  \n",
       "   2.27799      0.264849     0.825863  …    2.85004      0.585556 \n",
       "   0.0101041    1.21063      2.33975       -1.64448      0.176703 \n",
       "   0.993292     0.950952     2.69038       -1.83903     -1.32146  \n",
       "   0.460361     0.508353    -1.55656        4.24252      0.301069 \n",
       "   0.132251     2.474        0.623556     NaN            0.641429 \n",
       "   2.02612      3.79523      1.82631   …    0.641429   NaN        "
      ]
     },
     "execution_count": 10,
     "metadata": {},
     "output_type": "execute_result"
    }
   ],
   "source": [
    "ZBLMIp, BLMIp = BLMI(msa)\n",
    "ZBLMIp"
   ]
  },
  {
   "cell_type": "code",
   "execution_count": 5,
   "metadata": {
    "collapsed": true
   },
   "outputs": [],
   "source": [
    "## ...scripts... shell console"
   ]
  },
  {
   "cell_type": "code",
   "execution_count": 3,
   "metadata": {
    "collapsed": false
   },
   "outputs": [],
   "source": [
    ";BLMI.jl -f PF14972.stockholm.gz"
   ]
  },
  {
   "cell_type": "code",
   "execution_count": 4,
   "metadata": {
    "collapsed": false
   },
   "outputs": [
    {
     "name": "stdout",
     "output_type": "stream",
     "text": [
      "# MIToS 0.1.1+ BLMI.jl 2016-02-25T17:12:59\n",
      "# used arguments:\n",
      "# \tlist\t\tnothing\n",
      "# \tformat\t\tstockholm\n",
      "# \tthreshold\t\t0.62\n",
      "# \tapc\t\ttrue\n",
      "# \tmaxgap\t\t0.5\n",
      "# \tsamples\t\t50\n",
      "# \tfile\t\tPF14972.stockholm.gz\n",
      "# \tfixedgaps\t\ttrue\n",
      "# \tbeta\t\t8.512\n",
      "i,j,ZBLMIp,BLMIp\n",
      "1,2,-.9023612321173217,-.10773158935175786\n",
      "1,3,-1.5918654403716554,-.14636730384499808\n",
      "1,4,.3077792235863418,-.004889231952564216\n",
      "1,5,.04262461989515617,-.03250207598779911\n",
      "1,6,.4782248634953405,.041348234477362855\n",
      "1,7,-1.3872513365405161,-.14679683902400162\n",
      "1,8,-.04217150462913026,-.022688091751868172\n",
      "1,9,-.06892448578914313,-.05100794737701467\n"
     ]
    }
   ],
   "source": [
    ";head -20 PF14972.stockholm.BLMI.csv"
   ]
  },
  {
   "cell_type": "code",
   "execution_count": null,
   "metadata": {
    "collapsed": true
   },
   "outputs": [],
   "source": [
    "# NOTA: ; shell mode "
   ]
  },
  {
   "cell_type": "code",
   "execution_count": 7,
   "metadata": {
    "collapsed": false
   },
   "outputs": [
    {
     "name": "stdout",
     "output_type": "stream",
     "text": [
      "usage: BLMI.jl [-f FILE] [-l LIST] [-t FORMAT] [-b BETA]\n",
      "               [-i THRESHOLD] [-g MAXGAP] [-p APC] [-s SAMPLES]\n",
      "               [-F FIXEDGAPS] [--version] [-h]\n",
      "\n",
      "Calculates and saves on *.BLMI.csv a Z score and a corrected MI/MIp\n",
      "using BLOSUM62 based pseudo frequencies and clustering of sequences\n",
      "using Hobohm I.\n",
      "\n",
      "optional arguments:\n",
      "  -f, --file FILE       Input MSA file\n",
      "  -l, --list LIST       File with a list of input MSA files\n",
      "  -t, --format FORMAT   Format of the MSA: stockholm, raw or fasta\n",
      "                        (default: \"stockholm\")\n",
      "  -b, --beta BETA       β for BLOSUM62 pseudo frequencies (type:\n",
      "                        Float64, default: 8.512)\n",
      "  -i, --threshold THRESHOLD\n",
      "                        Percent identity threshold for sequence\n",
      "                        clustering (Hobohm I) (type: Float64, default:\n",
      "                        0.62)\n",
      "  -g, --maxgap MAXGAP   Maximum fraction of gaps in positions included\n",
      "                        in calculation (type: Float64, default: 0.5)\n",
      "  -p, --apc APC         Use APC correction (MIp) (type: Bool, default:\n",
      "                        true)\n",
      "  -s, --samples SAMPLES\n",
      "                        Number of samples for Z-score (type: Int64,\n",
      "                        default: 50)\n",
      "  -F, --fixedgaps FIXEDGAPS\n",
      "                        Fix gaps positions for the random samples\n",
      "                        (type: Bool, default: true)\n",
      "  --version             show version information and exit\n",
      "  -h, --help            show this help message and exit\n",
      "\n",
      "\n",
      "MIToS 0.1.1+\n",
      "\n",
      "Bioinformatics Unit\n",
      "Leloir Institute Foundation\n",
      "Av. Patricias Argentinas 435, CP C1405BWE, Buenos Aires, Argentina\n",
      "\n"
     ]
    }
   ],
   "source": [
    ";BLMI.jl -h"
   ]
  },
  {
   "cell_type": "code",
   "execution_count": 8,
   "metadata": {
    "collapsed": false
   },
   "outputs": [
    {
     "name": "stdout",
     "output_type": "stream",
     "text": [
      "search: "
     ]
    },
    {
     "data": {
      "text/latex": [
       "This function takes a MSA or a file and a \\texttt{Format} as first arguments. Calculates a Z score and a corrected MI/MIp as described on \\textbf{Busjle et. al. 2009}\n",
       "Argument, type, default value and descriptions:\n",
       "\\begin{itemize}\n",
       "\\item lambda      Float64   0.05    Low count value\n",
       "\\item clustering  Bool      true    Sequence clustering (Hobohm I)\n",
       "\\item threshold   Float64   0.62    Percent identity threshold for clustering\n",
       "\\item maxgap      Float64   0.5     Maximum fraction of gaps in positions included in calculation\n",
       "\\item apc         Bool      true    Use APC correction (MIp)\n",
       "\\item usegap      Bool      false   Use gaps on statistics\n",
       "\\item samples     Int       100     Number of samples for Z-score\n",
       "\\item fixedgaps   Bool      true    Fix gaps positions for the random samples\n",
       "\\end{itemize}\n",
       "This function returns:\n",
       "\\begin{itemize}\n",
       "\\item Z score\n",
       "\\item MI or MIp\n",
       "\\end{itemize}\n"
      ],
      "text/markdown": [
       "This function takes a MSA or a file and a `Format` as first arguments. Calculates a Z score and a corrected MI/MIp as described on **Busjle et. al. 2009**\n",
       "\n",
       "Argument, type, default value and descriptions:\n",
       "\n",
       "  * lambda      Float64   0.05    Low count value\n",
       "  * clustering  Bool      true    Sequence clustering (Hobohm I)\n",
       "  * threshold   Float64   0.62    Percent identity threshold for clustering\n",
       "  * maxgap      Float64   0.5     Maximum fraction of gaps in positions included in calculation\n",
       "  * apc         Bool      true    Use APC correction (MIp)\n",
       "  * usegap      Bool      false   Use gaps on statistics\n",
       "  * samples     Int       100     Number of samples for Z-score\n",
       "  * fixedgaps   Bool      true    Fix gaps positions for the random samples\n",
       "\n",
       "This function returns:\n",
       "\n",
       "  * Z score\n",
       "  * MI or MIp\n"
      ],
      "text/plain": [
       "This function takes a MSA or a file and a `Format` as first arguments. Calculates a Z score and a corrected MI/MIp as described on **Busjle et. al. 2009**\n",
       "\n",
       "Argument, type, default value and descriptions:\n",
       "\n",
       "  * lambda      Float64   0.05    Low count value\n",
       "  * clustering  Bool      true    Sequence clustering (Hobohm I)\n",
       "  * threshold   Float64   0.62    Percent identity threshold for clustering\n",
       "  * maxgap      Float64   0.5     Maximum fraction of gaps in positions included in calculation\n",
       "  * apc         Bool      true    Use APC correction (MIp)\n",
       "  * usegap      Bool      false   Use gaps on statistics\n",
       "  * samples     Int       100     Number of samples for Z-score\n",
       "  * fixedgaps   Bool      true    Fix gaps positions for the random samples\n",
       "\n",
       "This function returns:\n",
       "\n",
       "  * Z score\n",
       "  * MI or MIp\n"
      ]
     },
     "execution_count": 8,
     "metadata": {},
     "output_type": "execute_result"
    },
    {
     "name": "stdout",
     "output_type": "stream",
     "text": [
      "buslje09\n",
      "\n"
     ]
    }
   ],
   "source": [
    "?buslje09"
   ]
  },
  {
   "cell_type": "code",
   "execution_count": null,
   "metadata": {
    "collapsed": true
   },
   "outputs": [],
   "source": []
  }
 ],
 "metadata": {
  "kernelspec": {
   "display_name": "Julia 0.4.1",
   "language": "julia",
   "name": "julia-0.4"
  },
  "language_info": {
   "file_extension": ".jl",
   "mimetype": "application/julia",
   "name": "julia",
   "version": "0.4.1"
  }
 },
 "nbformat": 4,
 "nbformat_minor": 0
}
