{
 "cells": [
  {
   "cell_type": "markdown",
   "metadata": {},
   "source": [
    "# SIFTS \n",
    "\n",
    "The `SIFTS` module of MIToS allows to obtain the residue-level mapping between databases stored in the SIFTS XML files. It makes easy to assign PDB residues to UniProt/Pfam positions.  \n",
    "Given the fact that pairwise alignments can lead to misleading association between residues in both sequences, SIFTS offers  more reliable association between sequence and structure residue numbers.\n",
    "\n",
    "\n",
    "## Features\n",
    "\n",
    "- Download and parse SIFTS XML files\n",
    "- Store residue-level mapping in Julia\n",
    "- Easy generation of `Dict`s between residues numbers\n"
   ]
  },
  {
   "cell_type": "code",
   "execution_count": 1,
   "metadata": {
    "collapsed": true
   },
   "outputs": [],
   "source": [
    "# Truncate IJulia outputs at:\n",
    "ENV[\"LINES\"]   = 15 \n",
    "ENV[\"COLUMNS\"] = 60;"
   ]
  },
  {
   "cell_type": "markdown",
   "metadata": {},
   "source": [
    "## Simplest residue-level mapping  "
   ]
  },
  {
   "cell_type": "code",
   "execution_count": 2,
   "metadata": {
    "collapsed": true
   },
   "outputs": [],
   "source": [
    "using MIToS.SIFTS"
   ]
  },
  {
   "cell_type": "markdown",
   "metadata": {},
   "source": [
    "This module export the function `siftsmapping` to generate a `Dict` between residue numbers. This function takes 5 positional arguments. 1) The name of the SIFTS XML file to parse, 2) the source database 3) the source protein/structure identifier, 4) the destiny database and 5) the destiny protein/structure identifier. Optionally it’s possible to indicate a particular PDB `chain` and if `missings` will be used.  "
   ]
  },
  {
   "cell_type": "markdown",
   "metadata": {},
   "source": [
    "Databases should be indicated using an available sub-type of `DataBase`. Keys and values types will be depend on the type of the residue number of that database.\n",
    "\n",
    "| Type\t\t\t| Database | Residue number type |\n",
    "|---------------|----------|---------------------|\n",
    "| `dbPDBe`\t\t| **PDBe** (Protein Data Bank in Europe) | `Int` | \n",
    "| `dbInterPro`\t| **InterPro** | `ASCIIString` |\n",
    "| `dbUniProt`\t| **UniProt** | `Int` |\n",
    "| `dbPfam`\t\t| **Pfam** (Protein families database) | `Int` |\n",
    "| `dbNCBI`\t\t| **NCBI** (National Center for Biotechnology Information) | `Int` |\n",
    "| `dbPDB`\t\t| **PDB** (Protein Data Bank) | `ASCIIString` |\n",
    "| `dbCATH`\t\t| **CATH** | `ASCIIString` |\n",
    "| `dbSCOP` \t\t| **SCOP** (Structural Classification of Proteins) | `ASCIIString` |"
   ]
  },
  {
   "cell_type": "markdown",
   "metadata": {},
   "source": [
    "To download the XML SIFTS file of a determined PDB use the `downloadsifts` function."
   ]
  },
  {
   "cell_type": "code",
   "execution_count": 5,
   "metadata": {
    "collapsed": false
   },
   "outputs": [
    {
     "name": "stderr",
     "output_type": "stream",
     "text": [
      "  % Total    % Received % Xferd  Average Speed   Time    Time     Time  Current\n",
      "                                 Dload  Upload   Total   Spent    Left  Speed\n",
      " 81 53644   81 43776    0     0   9652      0  0:00:05  0:00:04  0:00:01  9650"
     ]
    },
    {
     "data": {
      "text/plain": [
       "\"1ivo.xml.gz\""
      ]
     },
     "execution_count": 5,
     "metadata": {},
     "output_type": "execute_result"
    },
    {
     "name": "stderr",
     "output_type": "stream",
     "text": [
      "\r",
      "100 53644  100 53644    0     0  11826      0  0:00:04  0:00:04 --:--:-- 16143\n"
     ]
    }
   ],
   "source": [
    "siftsfile = downloadsifts(\"1IVO\")"
   ]
  },
  {
   "cell_type": "markdown",
   "metadata": {},
   "source": [
    "The following example, shows the residue number mapping between *Pfam* and *PDB*. *Pfam* uses *UniProt* coordinates and *PDB* uses their own residue numbers with insertion codes. Note that <span class=\"text-warning\">the `siftsmapping` function is case sensitive</span>, and that <span class=\"text-warning\">SIFTS stores PDB identifiers using lowercase characters</span>.  "
   ]
  },
  {
   "cell_type": "code",
   "execution_count": 26,
   "metadata": {
    "collapsed": false
   },
   "outputs": [
    {
     "data": {
      "text/plain": [
       "Dict{Int64,ASCIIString} with 162 entries:\n",
       "  329 => \"305\"\n",
       "  210 => \"186\"\n",
       "  288 => \"264\"\n",
       "  241 => \"217\"\n",
       "  267 => \"243\"\n",
       "  306 => \"282\"\n",
       "  275 => \"251\"\n",
       "  197 => \"173\"\n",
       "  215 => \"191\"\n",
       "  181 => \"157\"\n",
       "  ⋮   => ⋮"
      ]
     },
     "execution_count": 26,
     "metadata": {},
     "output_type": "execute_result"
    }
   ],
   "source": [
    "siftsmap = siftsmapping( siftsfile, \n",
    "                    dbPfam, \"PF00757\", \n",
    "                    dbPDB, \"1ivo\", # SIFTS stores PDB identifiers in lowercase\n",
    "                    chain=\"A\", # In this example we are only using the chain A of the PDB\n",
    "                    missings=false) # Residues without coordinates aren't used in the mapping"
   ]
  },
  {
   "cell_type": "markdown",
   "metadata": {},
   "source": [
    "<a href=\"#\"><i class=\"fa fa-arrow-up\"></i></a>\n",
    "\n",
    "## Storing residue-level mapping  "
   ]
  },
  {
   "cell_type": "markdown",
   "metadata": {},
   "source": [
    "If you need more than a dictionary mapping residues number between two databases, you could access all the residue-level cross references using the function `read` for a file of `SIFTSXML` `Format`. The `parse` function (and therefore the `read` function) for the `SIFTSXML` format, also takes the keyword arguments `chain` and `missings`. The `read`/`parse` function returns a `Vector` of `SIFTSResidue`s objects that stores the reference of that residue in each database.  "
   ]
  },
  {
   "cell_type": "code",
   "execution_count": 32,
   "metadata": {
    "collapsed": false
   },
   "outputs": [
    {
     "data": {
      "text/plain": [
       "SIFTSResidue\n",
       "  PDBe:\n",
       "    number: 301\n",
       "    name: LYS\n",
       "  UniProt:\n",
       "    id: P00533\n",
       "    number: 325\n",
       "    name: K\n",
       "  Pfam:\n",
       "    id: PF00757\n",
       "    number: 325\n",
       "    name: K\n",
       "  NCBI:\n",
       "    id: 9606\n",
       "    number: 325\n",
       "    name: K\n",
       "  PDB:\n",
       "    id: 1ivo\n",
       "    number: 301\n",
       "    name: LYS\n",
       "    chain: A\n",
       "  SCOP:\n",
       "    id: 76847\n",
       "    number: 301\n",
       "    name: LYS\n",
       "    chain: A\n",
       "  CATH:\n",
       "    id: 2.10.220.10\n",
       "    number: 301\n",
       "    name: LYS\n",
       "    chain: A\n",
       "    InterPro: [MIToS.SIFTS.dbInterPro(\"IPR009030\",\"325\",\"K\",\"SSF57184\")]\n"
      ]
     },
     "execution_count": 32,
     "metadata": {},
     "output_type": "execute_result"
    }
   ],
   "source": [
    "siftsresidues = read(siftsfile, SIFTSXML, chain=\"A\", missings=false) # Array{SIFTSResidue,1}\n",
    "\n",
    "residue_data = siftsresidues[300]"
   ]
  },
  {
   "cell_type": "code",
   "execution_count": 33,
   "metadata": {
    "collapsed": false
   },
   "outputs": [
    {
     "name": "stdout",
     "output_type": "stream",
     "text": [
      "MIToS.SIFTS.SIFTSResidue \n",
      "  PDBe: MIToS.SIFTS.dbPDBe \n",
      "    number: Int64 301\n",
      "    name: ASCIIString \"LYS\"\n",
      "  UniProt: Nullable{MIToS.SIFTS.dbUniProt} \n",
      "    isnull: Bool false\n",
      "    value: MIToS.SIFTS.dbUniProt \n",
      "      id: ASCIIString \"P00533\"\n",
      "      number: Int64 325\n",
      "      name: ASCIIString \"K\"\n",
      "  Pfam: Nullable{MIToS.SIFTS.dbPfam} \n",
      "    isnull: Bool false\n",
      "    value: MIToS.SIFTS.dbPfam \n",
      "      id: ASCIIString \"PF00757\"\n",
      "      number: Int64 325\n",
      "      name: ASCIIString \"K\"\n",
      "  NCBI: Nullable{MIToS.SIFTS.dbNCBI} \n",
      "    isnull: Bool false\n",
      "    value: MIToS.SIFTS.dbNCBI \n",
      "      id: ASCIIString \"9606\"\n",
      "      number: Int64 325\n",
      "      name: ASCIIString \"K\"\n",
      "  InterPro: Array(MIToS.SIFTS.dbInterPro,(1,)) [MIToS.SIFTS.dbInterPro(\"IPR009030\",\"325\",\"K\",\"SSF57184\")]\n",
      "  PDB: Nullable{MIToS.SIFTS.dbPDB} \n",
      "    isnull: Bool false\n",
      "    value: MIToS.SIFTS.dbPDB \n",
      "      id: ASCIIString \"1ivo\"\n",
      "      number: ASCIIString \"301\"\n",
      "      name: ASCIIString \"LYS\"\n",
      "      chain: ASCIIString \"A\"\n",
      "  SCOP: Nullable{MIToS.SIFTS.dbSCOP} \n",
      "    isnull: Bool false\n",
      "    value: MIToS.SIFTS.dbSCOP \n",
      "      id: ASCIIString \"76847\"\n",
      "      number: ASCIIString \"301\"\n",
      "      name: ASCIIString \"LYS\"\n",
      "      chain: ASCIIString \"A\"\n",
      "  CATH: Nullable{MIToS.SIFTS.dbCATH} \n",
      "    isnull: Bool false\n",
      "    value: MIToS.SIFTS.dbCATH \n",
      "      id: ASCIIString \"2.10.220.10\"\n",
      "      number: ASCIIString \"301\"\n",
      "      name: ASCIIString \"LYS\"\n",
      "      chain: ASCIIString \"A\"\n",
      "  missing: Bool false\n"
     ]
    }
   ],
   "source": [
    "dump(residue_data)"
   ]
  },
  {
   "cell_type": "code",
   "execution_count": null,
   "metadata": {
    "collapsed": true
   },
   "outputs": [],
   "source": []
  }
 ],
 "metadata": {
  "kernelspec": {
   "display_name": "Julia 0.4.1",
   "language": "julia",
   "name": "julia-0.4"
  },
  "language_info": {
   "file_extension": ".jl",
   "mimetype": "application/julia",
   "name": "julia",
   "version": "0.4.1"
  }
 },
 "nbformat": 4,
 "nbformat_minor": 0
}
