{
 "cells": [
  {
   "cell_type": "markdown",
   "metadata": {},
   "source": [
    "# Modules\n",
    "\n",
    "**MIToS** tools are separated on different modules, related to different tasks.\n",
    "\n",
    "<a  class=\"link\" \n",
    "    data-src=\"https://cdn.rawgit.com/diegozea/MIToS.jl/master/docs/compiled/MSA.html\" \n",
    "    href=\"#\">\n",
    "    <h3>MSA</h3>\n",
    "</a>  \n",
    "This module defines multiple functions and types for dealing with **MSAs** and their **annotations**. It also includes facilities for **sequence clustering**.  \n",
    "<a  class=\"link\" \n",
    "    data-src=\"https://cdn.rawgit.com/diegozea/MIToS.jl/master/docs/compiled/PDB.html\" \n",
    "    href=\"#\">\n",
    "    <h3>PDB</h3>\n",
    "</a>   \n",
    "This module defines types and methods to work with **protein structures** from PDB.  \n",
    "<a  class=\"link\" \n",
    "    data-src=\"https://cdn.rawgit.com/diegozea/MIToS.jl/master/docs/compiled/SIFTS.html\" \n",
    "    href=\"#\">\n",
    "    <h3>SIFTS</h3>\n",
    "</a>  \n",
    "This module allows access to **SIFTS residue-level mapping** of UniProt, Pfam and other databases with PDB entries.  \n",
    "<a  class=\"link\" \n",
    "    data-src=\"https://cdn.rawgit.com/diegozea/MIToS.jl/master/docs/compiled/Information.html\" \n",
    "    href=\"#\">\n",
    "    <h3>Information</h3>\n",
    "</a>  \n",
    "This module defines residue contingency tables and methods on them to estimate information measure from MSAs. It includes functions to estimate **corrected mutual information** (*ZMIp*, *ZBLMIp*) between MSA columns.  \n",
    "<a  class=\"link\" \n",
    "    data-src=\"https://cdn.rawgit.com/diegozea/MIToS.jl/master/docs/compiled/Pfam.html\" \n",
    "    href=\"#\">\n",
    "    <h3>Pfam</h3>\n",
    "</a>  \n",
    "This module use the previous modules to work with **Pfam MSAs**. It also has useful **parameter optimization** functions to be used with Pfam alignments.  \n",
    "  "
   ]
  },
  {
   "cell_type": "markdown",
   "metadata": {},
   "source": [
    "MIToS has also an **`Utils` module** with common utils functions and types used in this package."
   ]
  },
  {
   "cell_type": "code",
   "execution_count": null,
   "metadata": {
    "collapsed": true
   },
   "outputs": [],
   "source": []
  }
 ],
 "metadata": {
  "kernelspec": {
   "display_name": "Julia 0.4.1",
   "language": "julia",
   "name": "julia-0.4"
  },
  "language_info": {
   "file_extension": ".jl",
   "mimetype": "application/julia",
   "name": "julia",
   "version": "0.4.1"
  }
 },
 "nbformat": 4,
 "nbformat_minor": 0
}
