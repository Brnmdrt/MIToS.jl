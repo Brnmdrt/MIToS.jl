{
 "cells": [
  {
   "cell_type": "markdown",
   "metadata": {},
   "source": [
    "# Modules\n",
    "\n",
    "**MIToS** tools are separated on different modules, related to different tasks.\n",
    "\n",
    "## MSA\n",
    "This module defines multiple functions and types for dealing with **MSAs** and their **annotations**. It also includes facilities for **sequence clustering**.\n",
    "\n",
    "## PDB\n",
    "This module defines types and methods to work with **protein structures** from PDB.\n",
    "\n",
    "## SIFTS\n",
    "This module allows access to **SIFTS residue-level mapping** of UniProt, Pfam and other databases with PDB entries.\n",
    "\n",
    "## Information\n",
    "This module defines residue contingency tables and methods on them to estimate information measure from MSAs. It includes functions to estimate **corrected mutual information** (*ZMIp*, *ZBLMIp*) between MSA columns.\n",
    "\n",
    "## Pfam\n",
    "This module use the previous modules to work with **Pfam MSAs**. It also has useful **parameter optimization** functions to be used with Pfam alignments.\n",
    "\n",
    "## Utils\n",
    "MIToS has also an Utils module with common utils functions and types used in this package.\n"
   ]
  }
 ],
 "metadata": {
  "kernelspec": {
   "display_name": "Julia 0.4.1",
   "language": "julia",
   "name": "julia-0.4"
  },
  "language_info": {
   "file_extension": ".jl",
   "mimetype": "application/julia",
   "name": "julia",
   "version": "0.4.1"
  }
 },
 "nbformat": 4,
 "nbformat_minor": 0
}
