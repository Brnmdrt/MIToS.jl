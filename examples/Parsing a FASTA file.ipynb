{
 "metadata": {
  "language": "Julia",
  "name": "",
  "signature": "sha256:4bdfe9a646bc99ea18fc7c535751668fee33432ef6567dc46b9be32b122e05d7"
 },
 "nbformat": 3,
 "nbformat_minor": 0,
 "worksheets": [
  {
   "cells": [
    {
     "cell_type": "code",
     "collapsed": false,
     "input": [
      "using MIToS.MSA"
     ],
     "language": "python",
     "metadata": {},
     "outputs": [],
     "prompt_number": 1
    },
    {
     "cell_type": "code",
     "collapsed": false,
     "input": [
      "aln = readfasta(\"../test/data/Gaoetal2011.fasta\")"
     ],
     "language": "python",
     "metadata": {},
     "outputs": [
      {
       "ename": "LoadError",
       "evalue": "LoadError: BoundsError: attempt to access 1-element Array{SubString{ASCIIString},1}:\n \"SEQ1\"\n  at index [3]\nwhile loading In[2], in expression starting on line 1",
       "output_type": "pyerr",
       "traceback": [
        "LoadError: BoundsError: attempt to access 1-element Array{SubString{ASCIIString},1}:\n \"SEQ1\"\n  at index [3]\nwhile loading In[2], in expression starting on line 1",
        "",
        " in __to_msa_mapping at /home/dzea/.julia/v0.4/MIToS/src/MSA/Pfam.jl:149",
        " in readfasta at /home/dzea/.julia/v0.4/MIToS/src/MSA/FASTA.jl:44"
       ]
      }
     ],
     "prompt_number": 2
    },
    {
     "cell_type": "code",
     "collapsed": false,
     "input": [],
     "language": "python",
     "metadata": {},
     "outputs": []
    }
   ],
   "metadata": {}
  }
 ]
}